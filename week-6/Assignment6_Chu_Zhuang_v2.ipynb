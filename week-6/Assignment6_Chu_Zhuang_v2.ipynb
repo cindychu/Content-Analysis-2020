{
 "cells": [
  {
   "cell_type": "markdown",
   "metadata": {},
   "source": [
    "# Week 6 - Discovering Patterns: Clusters & Topics\n",
    "\n",
    "By Chu Zhuang"
   ]
  },
  {
   "cell_type": "code",
   "execution_count": 1,
   "metadata": {},
   "outputs": [],
   "source": [
    "#Special module written for this class\n",
    "#This provides access to data and to helper functions from previous weeks\n",
    "#Make sure you update it before starting this notebook\n",
    "import lucem_illud_2020 #pip install -U git+git://github.com/Computational-Content-Analysis-2020/lucem_illud_2020.git\n",
    "\n",
    "\n",
    "#All these packages need to be installed from pip\n",
    "#These are all for the cluster detection\n",
    "import sklearn\n",
    "import sklearn.feature_extraction.text\n",
    "import sklearn.pipeline\n",
    "import sklearn.preprocessing\n",
    "import sklearn.datasets\n",
    "import sklearn.cluster\n",
    "import sklearn.decomposition\n",
    "import sklearn.metrics\n",
    "\n",
    "import scipy #For hierarchical clustering and some visuals\n",
    "#import scipy.cluster.hierarchy\n",
    "import gensim#For topic modeling\n",
    "import requests #For downloading our datasets\n",
    "import numpy as np #for arrays\n",
    "import pandas #gives us DataFrames\n",
    "import pandas as pd\n",
    "import matplotlib.pyplot as plt #For graphics\n",
    "import matplotlib.cm #Still for graphics\n",
    "import seaborn as sns #Makes the graphics look nicer\n",
    "\n",
    "#This 'magic' command makes the plots work better\n",
    "#in the notebook, don't use it outside of a notebook.\n",
    "#Also you can ignore the warning, it\n",
    "%matplotlib inline\n",
    "\n",
    "import itertools\n",
    "import json"
   ]
  },
  {
   "cell_type": "markdown",
   "metadata": {},
   "source": [
    "## <span style=\"color:red\">*Pitch Your Project*</span>\n",
    "\n",
    "<span style=\"color:red\">In the three cells immediately following, describe **WHAT** you are planning to analyze for your final project (i.e., texts, contexts and the social game, world and actors you intend to learn about through your analysis) (<200 words), **WHY** you are going to do it (i.e., why would theory and/or the average person benefit from knowing the results of your investigation) (<200 words), and **HOW** you plan to investigate it (i.e., what are the approaches and operations you plan to perform, in sequence, to yield this insight) (<400 words).\n"
   ]
  },
  {
   "cell_type": "markdown",
   "metadata": {},
   "source": [
    "# ***What?*** \n",
    "\n",
    "For our final project (working with Sruti kanthan), we will analyze interpersonal conversation corpus from the Thank you Because project run by Xuan Zhao, Postdoc at Center for Decision Research, UChicago Booth. In the‘Thank you because’ project, Xuan proposed a new conversation technique-‘thank you because’, *which encourages people who have different perspectives to identify and acknowledge what they value or appreciate about hearing another’s point of view.* The main objective of this study is to examine the efficacy of this technique in communication about disagreement, whether expressing appreciation and affirmation could help people better understand each other's perspectives and facilitate agreement by behavior study.\n",
    "\n",
    "In the behavior study, two main conditions are designed: 1) ‘Thank you Because’ (named as ‘TYB’), one speaker (Person A) instructed to respond with gratitude and understanding towards Person B’s statement (e.g., “Thank you for sharing your opinion, because I think”) ; \n",
    "2) No because (‘NB’), conversely, the speaker (Person A) was told to respond to another by negating their opinions and poking holes in their argument. Subjective reports are measured at the end of each conversation (regarding 1) perceived common ground, 2) sense of feeling heard and 3) interpersonal relationship) to investigate the effect of ‘Thank you Because’--showing gratitude and understanding when discussing difference. \n",
    "\n",
    "For Content Analysis of this project,based on the transcriptions collected during these in-field behavior experiments, we aimed to examine the effectiveness of ‘Thank you because’ technique in communication about disagreement from the fine-grained linguistic level. We planned to examine 1) how linguistic features related with appreciation and affirmation, and other features broadly related with communication (for example, hedging, hesitation, positive or negative words), are varied in the Thank you because and No because technique conditions, and 2) how these linguistic features are associated with subjective measures of communication in each condition (perceived common ground, sense of feeling heard etc.); 3) at last if it is promising , we aim to predict communication outcome by these linguistic features based on machine learning and statistic modeling techniques. \n"
   ]
  },
  {
   "cell_type": "markdown",
   "metadata": {},
   "source": [
    "## ***Why?***\n",
    "\n",
    "Previous research has demonstrated that engaging with diverse viewpoints can create numerous benefits, including forming more accurate beliefs, creating better team performance. However, people often struggle to handle contradicting viewpoints constructively, which often leads to either argumentation and escalated conflicts, or disengagement and avoidance (Gerber, Huber, Doherty, & Dowling, 2012) and prevent people from reaping the benefits of diverse viewpoints and even threaten the prosperity of organizations and our society. \n",
    "\n",
    "To help people overcome such impulsive reactions, recent teaching in active listening has advocated for the practice of repeating the other person’s opinion using one’s own words to ensure accurate understanding before expressing one’s own argument. While intuitive and promising, the efficacy of this technique has received little empirical support. In light of this gap in the research, Xuan Zhao and colleagues developed a novel conversation technique—the “Thank You, Because…” approach, in hope of facilitating open conversation and creating an inclusive environment, where people feel valued and appreciated. Based on preliminary experiment results, compared to a “No, Because” approach, where participants poked holes in one another’s arguments, participants using the “Thank You, Because” approach self-reported perceiving the conversations to be more collaborative, feeling more heard and valued, hearing the other better, and perceiving more common ground after the conversations.\n",
    "\n",
    "To further validate this finding, we hope to examine the efficacy of ‘Thank you because’ technique from the fine-grained linguistic level and innovatively support behavior results with quantitative text-mining techniques which has been seldom applied in behavior conversation studies. "
   ]
  },
  {
   "cell_type": "markdown",
   "metadata": {},
   "source": [
    "## ***How?***\n",
    "\n",
    "We want to examine the effectiveness of the ‘Thank you because’ technique in facilitating mutual understanding and agreement at the granular (linguistic) level. In order to do this, we will first scope out linguistic features associated with expression of appreciation (e.g., ‘thank you’, ‘appreciate’) and affirmation (e.g., ‘yeah’, ‘I agree’, etc,). We will concurrently consider broad linguistic features* (such as hedging and hesitation) to further test the following questions:\n",
    "\n",
    "1) How do linguistic features and communication patterns vary between the ‘Thank you because’ and ‘No because’ conditions? *Here, we will describe the different distributions of linguistic features extracted above in these two conditions, and then use these distributions to calculate distance scores (e.g. KS or JS distance) for each condition. Then, we will run statistical analyses on the distance scores for each pair to further understand how the linguistic outcomes differ (by condition).\n",
    "\n",
    "2) How do these linguistic feature differences, by condition, relate with subjective measures of communication about disagreement? To answer this question, we will develop a linear regression model to inspect the linguistic features (predictors) of significant contribution to the prediction of subjective measures after conversation (perceived common ground, etc).\n",
    "\n",
    "3) Could these linguistic features predict the outcome of the conversation about disagreement? For this part, based on those significant features, we will build machine learning models to predict the subjective measures (or Q2 and Q3 could be examined together with various classification techniques).\n",
    "\n",
    "*For linguistic feature extraction, we will combine basic tokenization and normalization techniques with dependence parsing and bigrams to extract the relevant communication expressions (e.g ‘I agree’, ‘I mean’). We will also use the LIWC dictionary to detect positive and negative words in the conversation corpora. The most difficult part of feature extraction is how to neatly extract the expressions we care about (e.g. keep ‘you’, ‘I’, ‘like’ filtering words while filtering out ‘a’, ‘the’, ‘in’ words) with appropriate word normalization and cleaning functions.\n"
   ]
  },
  {
   "cell_type": "markdown",
   "metadata": {},
   "source": [
    "## <span style=\"color:red\">*Pitch Your Sample*</span>\n",
    "\n",
    "<span style=\"color:red\">In the cell immediately following, describe the rationale behind your proposed sample design for your final project. What is the social game, social work, or social actors you about whom you are seeking to make inferences? What are its virtues with respect to your research questions? What are its limitations? What are alternatives? What would be a reasonable path to \"scale up\" your sample for further analysis (i.e., high-profile publication) beyond this class? (<300 words).\n",
    "\n",
    "\n",
    "## ***Which (words)?***\n",
    "As outlined earlier, the corpus for this project consists of transcripts from a behavioral study that has a target sample size of 200 pairs; each pair is unacquainted, recruited in a public venue, and randomly assigned to their condition. While this is not a large-scale sample, 200 pairs is a robust sample size for a behavioral study. Additionally, the sample is representative of the target population, based on the assumption that people would have similar behavioral and communication patterns under experimental manipulation.\n",
    "\n",
    "We aim to infer whether participants in the ’Thank you, Because‘ condition use more appreciative, understanding language than their counterparts in the ’No, Because condition‘ (i.e., does this language better facilitate agreement?) For the purposes of this content analysis, \"sample\" will now refer to the transcripts of each participant pair's conversation, rather than the participants themselves. Based on this \"sample\", the transcription of 200 pairs conversation, we hope to infer to the normal daily communication and conversations about disagreement in general. \n",
    "\n",
    "* Sample merits: Because of coming from an experiment setting, this transcription dataset has clear condition set up ('Thank you Because' vs 'No Because') regarding with our research interest. and The data is also well labelled by topic, condition and subjective measurements (treated as human annotation), which facilitates analysis through supervised machine learning methods. \n",
    "\n",
    "* Limitations: All 200 transcripts may not be consolidated in time for our analysis (we may have to work with a subsample of thse documents, currently we have only around 30 transcripts).Also each conversation is relatively short, happened in 3 mins, and each transcription is about 500 words. \n",
    "\n",
    "* Alternatives: We have access to another dataset, which contains hundreds of transcripts that are very similar to the transcripts in the Thank you Because study in both scope and format. In this study, participant pairs are asked to discuss one of three topics (GMOs, college admissions, and drinking age), with congruent experimental manipulations.\n",
    "\n",
    "* Scale-up: To validate the findings of this project--predicting communication outcome and interpersonal relationship by linguistic features related with expressing affirmation and appreciation, we could transfer the current analysis into several other datasets, including the broader transcription dataset mentioned earlier, and even datasets from in-field online community, to further prove the generalibility of the current findings. "
   ]
  },
  {
   "cell_type": "markdown",
   "metadata": {},
   "source": [
    "## <span style=\"color:red\">*Exercise 1*</span>\n",
    "\n",
    "<span style=\"color:red\">Construct cells immediately below this that construct features and cluster your documents using K-means and a variety of cluster numbers. Interrogate the cluster contents in terms of both documents and features. Identify the \"optimal\" cluster number with Silhouette analysis. Plot clusters and features after reducing with PCA. What does this cluster structure reveal about the organization of documents in your corpora? "
   ]
  },
  {
   "cell_type": "markdown",
   "metadata": {},
   "source": [
    "## Prepare Corpora "
   ]
  },
  {
   "cell_type": "code",
   "execution_count": 2,
   "metadata": {},
   "outputs": [],
   "source": [
    "#load pre-organized corpora with topic labeling\n",
    "df_con2=pd.read_csv('com_corpora2.csv') "
   ]
  },
  {
   "cell_type": "code",
   "execution_count": 4,
   "metadata": {},
   "outputs": [
    {
     "data": {
      "text/html": [
       "<div>\n",
       "<style scoped>\n",
       "    .dataframe tbody tr th:only-of-type {\n",
       "        vertical-align: middle;\n",
       "    }\n",
       "\n",
       "    .dataframe tbody tr th {\n",
       "        vertical-align: top;\n",
       "    }\n",
       "\n",
       "    .dataframe thead th {\n",
       "        text-align: right;\n",
       "    }\n",
       "</style>\n",
       "<table border=\"1\" class=\"dataframe\">\n",
       "  <thead>\n",
       "    <tr style=\"text-align: right;\">\n",
       "      <th></th>\n",
       "      <th>Unnamed: 0</th>\n",
       "      <th>condition</th>\n",
       "      <th>pair_id</th>\n",
       "      <th>topic</th>\n",
       "      <th>conversation_txt</th>\n",
       "      <th>con_txt_A</th>\n",
       "      <th>con_txt_B</th>\n",
       "    </tr>\n",
       "  </thead>\n",
       "  <tbody>\n",
       "    <tr>\n",
       "      <th>0</th>\n",
       "      <td>0</td>\n",
       "      <td>NB</td>\n",
       "      <td>5</td>\n",
       "      <td>11</td>\n",
       "      <td>Okay, so uh, I guess they said we should start...</td>\n",
       "      <td>Okay, so uh, I guess they said we should start...</td>\n",
       "      <td>Yea, we should start Um, yeah. I actually didn...</td>\n",
       "    </tr>\n",
       "    <tr>\n",
       "      <th>1</th>\n",
       "      <td>1</td>\n",
       "      <td>TYB</td>\n",
       "      <td>6</td>\n",
       "      <td>11</td>\n",
       "      <td>So I don't really I think I said--yes, everyon...</td>\n",
       "      <td>So I don't really I think I said--yes, everyon...</td>\n",
       "      <td>I-I think put something that's below five.. Th...</td>\n",
       "    </tr>\n",
       "    <tr>\n",
       "      <th>2</th>\n",
       "      <td>2</td>\n",
       "      <td>NB</td>\n",
       "      <td>7</td>\n",
       "      <td>2</td>\n",
       "      <td>So I, when I read this question I thought abou...</td>\n",
       "      <td>So I, when I read this question I thought abou...</td>\n",
       "      <td>So, uh I-I actually uh read a lot about this t...</td>\n",
       "    </tr>\n",
       "    <tr>\n",
       "      <th>3</th>\n",
       "      <td>3</td>\n",
       "      <td>TYB</td>\n",
       "      <td>8</td>\n",
       "      <td>2</td>\n",
       "      <td>Okay so you--What's your opinion on this? I st...</td>\n",
       "      <td>Okay so you--What's your opinion on this? Oh w...</td>\n",
       "      <td>I strongly disagree with this I think you shou...</td>\n",
       "    </tr>\n",
       "    <tr>\n",
       "      <th>4</th>\n",
       "      <td>4</td>\n",
       "      <td>TYB</td>\n",
       "      <td>11</td>\n",
       "      <td>5</td>\n",
       "      <td>Experimenter  0:00   This is this is group num...</td>\n",
       "      <td>Experimenter  0:00   This is this is group num...</td>\n",
       "      <td>I like what you said about like the right to. ...</td>\n",
       "    </tr>\n",
       "  </tbody>\n",
       "</table>\n",
       "</div>"
      ],
      "text/plain": [
       "   Unnamed: 0 condition  pair_id  topic  \\\n",
       "0           0        NB        5     11   \n",
       "1           1       TYB        6     11   \n",
       "2           2        NB        7      2   \n",
       "3           3       TYB        8      2   \n",
       "4           4       TYB       11      5   \n",
       "\n",
       "                                    conversation_txt  \\\n",
       "0  Okay, so uh, I guess they said we should start...   \n",
       "1  So I don't really I think I said--yes, everyon...   \n",
       "2  So I, when I read this question I thought abou...   \n",
       "3  Okay so you--What's your opinion on this? I st...   \n",
       "4  Experimenter  0:00   This is this is group num...   \n",
       "\n",
       "                                           con_txt_A  \\\n",
       "0  Okay, so uh, I guess they said we should start...   \n",
       "1  So I don't really I think I said--yes, everyon...   \n",
       "2  So I, when I read this question I thought abou...   \n",
       "3  Okay so you--What's your opinion on this? Oh w...   \n",
       "4  Experimenter  0:00   This is this is group num...   \n",
       "\n",
       "                                           con_txt_B  \n",
       "0  Yea, we should start Um, yeah. I actually didn...  \n",
       "1  I-I think put something that's below five.. Th...  \n",
       "2  So, uh I-I actually uh read a lot about this t...  \n",
       "3  I strongly disagree with this I think you shou...  \n",
       "4  I like what you said about like the right to. ...  "
      ]
     },
     "execution_count": 4,
     "metadata": {},
     "output_type": "execute_result"
    }
   ],
   "source": [
    "df_con2.head()"
   ]
  },
  {
   "cell_type": "markdown",
   "metadata": {},
   "source": [
    "Transform the corpora into word count: document*word"
   ]
  },
  {
   "cell_type": "code",
   "execution_count": 5,
   "metadata": {},
   "outputs": [
    {
     "name": "stdout",
     "output_type": "stream",
     "text": [
      "(29, 1628)\n"
     ]
    }
   ],
   "source": [
    "#First it needs to be initialized\n",
    "conCountVectorizer = sklearn.feature_extraction.text.CountVectorizer()\n",
    "#Then trained\n",
    "conVects = conCountVectorizer.fit_transform(df_con2['conversation_txt'])\n",
    "print(conVects.shape)"
   ]
  },
  {
   "cell_type": "markdown",
   "metadata": {},
   "source": [
    "Take a look at the document*word matrix, also most of them are zeors:"
   ]
  },
  {
   "cell_type": "code",
   "execution_count": 6,
   "metadata": {},
   "outputs": [
    {
     "data": {
      "text/plain": [
       "array([[0, 0, 0, 0, 0, 0, 0, 0, 0, 0, 0, 0, 0, 0, 0, 0, 0, 0, 0, 0],\n",
       "       [0, 0, 1, 0, 0, 0, 0, 0, 0, 0, 0, 0, 0, 0, 0, 0, 0, 0, 0, 0],\n",
       "       [0, 0, 0, 0, 0, 0, 0, 0, 0, 0, 0, 0, 0, 0, 0, 0, 0, 0, 0, 0],\n",
       "       [0, 0, 0, 0, 0, 0, 0, 0, 0, 0, 0, 0, 0, 0, 0, 0, 0, 0, 0, 0],\n",
       "       [1, 0, 0, 0, 1, 1, 0, 0, 0, 0, 0, 0, 0, 0, 0, 0, 0, 0, 0, 0],\n",
       "       [0, 0, 0, 0, 0, 0, 0, 0, 3, 1, 0, 0, 0, 0, 0, 0, 0, 0, 0, 0],\n",
       "       [0, 0, 1, 0, 0, 0, 0, 0, 0, 0, 0, 0, 0, 0, 0, 0, 0, 0, 0, 0],\n",
       "       [0, 1, 0, 0, 0, 0, 0, 0, 0, 0, 0, 0, 0, 0, 0, 0, 0, 0, 0, 0],\n",
       "       [0, 0, 1, 0, 0, 0, 0, 0, 0, 0, 0, 0, 0, 0, 0, 0, 0, 0, 0, 0],\n",
       "       [0, 0, 0, 1, 0, 0, 0, 0, 0, 0, 0, 0, 1, 0, 0, 0, 0, 0, 0, 0],\n",
       "       [0, 0, 0, 0, 0, 0, 0, 4, 0, 1, 0, 0, 0, 0, 0, 0, 0, 0, 0, 0],\n",
       "       [0, 0, 0, 0, 0, 0, 0, 0, 0, 0, 0, 0, 0, 1, 0, 0, 0, 2, 0, 0]],\n",
       "      dtype=int64)"
      ]
     },
     "execution_count": 6,
     "metadata": {},
     "output_type": "execute_result"
    }
   ],
   "source": [
    "conVects[:12,:20].toarray()"
   ]
  },
  {
   "cell_type": "markdown",
   "metadata": {},
   "source": [
    "Try to use Vectorizer to lookup the indices of different words:\n",
    "\n",
    "* Actuallly there is no 'I', since the word has been filtered and normalized, which is not promising for our study that we want to keep those pronouns and filtering words. But for topic modeling and this homework, it will be fine."
   ]
  },
  {
   "cell_type": "code",
   "execution_count": 12,
   "metadata": {},
   "outputs": [],
   "source": [
    "conCountVectorizer.vocabulary_.get('I')"
   ]
  },
  {
   "cell_type": "code",
   "execution_count": 8,
   "metadata": {},
   "outputs": [
    {
     "data": {
      "text/plain": [
       "372"
      ]
     },
     "execution_count": 8,
     "metadata": {},
     "output_type": "execute_result"
    }
   ],
   "source": [
    "conCountVectorizer.vocabulary_.get('death')"
   ]
  },
  {
   "cell_type": "markdown",
   "metadata": {},
   "source": [
    "### TF-IDF\n",
    "\n",
    "Now try with frequency–inverse document frequency(tf-idf), a method for weighting document-distinguishing words, to futher clear the word vectors."
   ]
  },
  {
   "cell_type": "code",
   "execution_count": 9,
   "metadata": {},
   "outputs": [
    {
     "name": "stdout",
     "output_type": "stream",
     "text": [
      "(29, 1628)\n"
     ]
    }
   ],
   "source": [
    "#initialize\n",
    "conTFTransformer = sklearn.feature_extraction.text.TfidfTransformer().fit(conVects)\n",
    "#train\n",
    "conTF = conTFTransformer.transform(conVects)\n",
    "print(conTF.shape)"
   ]
  },
  {
   "cell_type": "markdown",
   "metadata": {},
   "source": [
    "This gives us the tf-idf for each word in each text, ranked by TF-IDF: the words of high TF-IDF are really unexpected, like 'given', 'aimed' and 'dress'."
   ]
  },
  {
   "cell_type": "code",
   "execution_count": 16,
   "metadata": {},
   "outputs": [
    {
     "data": {
      "text/plain": [
       "[('given', 0.6735352541226902),\n",
       " ('aimed', 0.6153378777307429),\n",
       " ('dress', 0.6113955193540364),\n",
       " ('deserve', 0.47667626663456825),\n",
       " ('sixth', 0.46494009938438846),\n",
       " ('perspective', 0.4642087424964997),\n",
       " ('minority', 0.3422051628735133),\n",
       " ('wow', 0.32169040877977456),\n",
       " ('so', 0.2763147276764879),\n",
       " ('hoopla', 0.2754569239292522),\n",
       " ('work', 0.27364801036303377),\n",
       " ('idea', 0.26579638400510314),\n",
       " ('shut', 0.2613624240616258),\n",
       " ('parenting', 0.25676911921615625),\n",
       " ('think', 0.25420954946236884),\n",
       " ('always', 0.25293425081955334),\n",
       " ('light', 0.2522228478659012),\n",
       " ('area', 0.24130897165911486),\n",
       " ('although', 0.23805576547722665),\n",
       " ('break', 0.23781781726772386),\n",
       " ('harm', 0.2332573899858039),\n",
       " ('liquor', 0.2321618134764965),\n",
       " ('pad', 0.22869212105392256),\n",
       " ('counseling', 0.221524579817694),\n",
       " ('generalized', 0.221524579817694),\n",
       " ('sometimes', 0.2206806822628427),\n",
       " ('necessary', 0.2206806822628427),\n",
       " ('us', 0.21901269614377877),\n",
       " ('read', 0.2159931920938418),\n",
       " ('abrupt', 0.2142472153157529)]"
      ]
     },
     "execution_count": 16,
     "metadata": {},
     "output_type": "execute_result"
    }
   ],
   "source": [
    "convec_dict=dict(list(zip(conCountVectorizer.vocabulary_.keys(), conTF.data)))\n",
    "#show the words of highest TF-IDF\n",
    "convec_dict0 = sorted(convec_dict.items(), key = lambda x : x[1], reverse = True)\n",
    "convec_dict0[:30]"
   ]
  },
  {
   "cell_type": "code",
   "execution_count": 18,
   "metadata": {},
   "outputs": [
    {
     "data": {
      "text/plain": [
       "[('impulsive', 0.010140906835948002),\n",
       " ('oncoming', 0.010227708301909888),\n",
       " ('prohibitively', 0.010934604851181461),\n",
       " ('chose', 0.011215989439576775),\n",
       " ('align', 0.011215989439576775),\n",
       " ('whenever', 0.011757606141423776),\n",
       " ('every', 0.011815138966920952),\n",
       " ('rude', 0.01200698173768836),\n",
       " ('animals', 0.012065448582955742),\n",
       " ('matters', 0.012428669472890444),\n",
       " ('hindrances', 0.012428669472890444),\n",
       " ('failed', 0.012520769269511465),\n",
       " ('meal', 0.012568797150933217),\n",
       " ('wonder', 0.01286997750884029),\n",
       " ('basic', 0.012960501331373052),\n",
       " ('okay', 0.013067714359662513),\n",
       " ('anyone', 0.013332821109157842),\n",
       " ('staring', 0.013332821109157842),\n",
       " ('busy', 0.01333667046729895),\n",
       " ('helpful', 0.013472623929871596),\n",
       " ('device', 0.013472623929871596),\n",
       " ('she', 0.013819410434088953),\n",
       " ('finished', 0.013819410434088953),\n",
       " ('dynamics', 0.01390127119729832),\n",
       " ('poison', 0.013903342277555325),\n",
       " ('decade', 0.013903342277555325),\n",
       " ('normalizing', 0.013989283368689638),\n",
       " ('guessing', 0.013989297022351365),\n",
       " ('values', 0.013989297022351365),\n",
       " ('women', 0.014332314372370402)]"
      ]
     },
     "execution_count": 18,
     "metadata": {},
     "output_type": "execute_result"
    }
   ],
   "source": [
    "#show the words of lowest TF-IDF\n",
    "convec_dict1 = sorted(convec_dict.items(), key = lambda x : x[1], reverse = False)\n",
    "convec_dict1[:30]"
   ]
  },
  {
   "cell_type": "markdown",
   "metadata": {},
   "source": [
    "At first glance, there appears to be a lot of garbage littering this unordered list with unique words and stopwords. Note, however, that words like *apple*, *rgb*, and *voltage* distinguish this newsgroup document, while stopwords post a much lower weight. Note that we could filter out stop words, stem and lem our data before vectorizering, or we can instead use tf-idf to filter our data (or **both**). For exact explanation of all options look [here](http://scikit-learn.org/stable/modules/generated/sklearn.feature_extraction.text.TfidfVectorizer.html). To prune this matrix of features, we now limit our word vector to 1000 words with at least 3 occurrences, which do not occur in more than half of the documents. There is an extensive science and art to feature engineering for machine learning applications like clustering.\n",
    "\n",
    "#### Use TF-IDF to filter features:\n",
    "\n",
    "After trying several parameters with max_df and min_df, I find max_df=0.5, min_df=2 might be the best way of filtering word features in our corpora:"
   ]
  },
  {
   "cell_type": "code",
   "execution_count": 19,
   "metadata": {},
   "outputs": [],
   "source": [
    "#initialize\n",
    "#conTFVectorizer = sklearn.feature_extraction.text.TfidfVectorizer(max_df=0.5, max_features=1000, min_df=3, stop_words='english', norm='l2')\n",
    "conTFVectorizer = sklearn.feature_extraction.text.TfidfVectorizer(max_df=0.5, max_features=1000, min_df=2, norm='l2')\n",
    "#train\n",
    "conTFVects = conTFVectorizer.fit_transform(df_con2['conversation_txt'])"
   ]
  },
  {
   "cell_type": "markdown",
   "metadata": {},
   "source": [
    "Now only one third of the original word features left:"
   ]
  },
  {
   "cell_type": "code",
   "execution_count": 20,
   "metadata": {},
   "outputs": [
    {
     "data": {
      "text/plain": [
       "<29x626 sparse matrix of type '<class 'numpy.float64'>'\n",
       "\twith 2540 stored elements in Compressed Sparse Row format>"
      ]
     },
     "execution_count": 20,
     "metadata": {},
     "output_type": "execute_result"
    }
   ],
   "source": [
    "conTFVects"
   ]
  },
  {
   "cell_type": "code",
   "execution_count": 21,
   "metadata": {},
   "outputs": [
    {
     "name": "stdout",
     "output_type": "stream",
     "text": [
      "vector is missing\n",
      "The available words are: ['uh', 'said', 'start', 'yea', 'topic', 'disagreed', 'shouldn', 'abolished', 'hear', 'talk'] ...\n"
     ]
    }
   ],
   "source": [
    "try:\n",
    "    print(conTFVectorizer.vocabulary_['vector'])\n",
    "except KeyError:\n",
    "    print('vector is missing')\n",
    "    print('The available words are: {} ...'.format(list(conTFVectorizer.vocabulary_.keys())[:10]))"
   ]
  },
  {
   "cell_type": "markdown",
   "metadata": {},
   "source": [
    "# Flat Clustering with $K$-means\n",
    "\n",
    "Lets start with $k$-means, an approach that begins with random clusters of predefined number, then iterates cluster reassignment and evaluates the new clusters relative to an objective function, recursively.\n",
    "\n",
    "To do this we will need to know how many clusters we are looking for. Here the *true number* of clusters is 10. Of course, in most cases you would not know the number in advance.\n",
    "\n",
    "In our corpora, we have 10 topics for orignial clusters:"
   ]
  },
  {
   "cell_type": "code",
   "execution_count": 25,
   "metadata": {},
   "outputs": [
    {
     "name": "stdout",
     "output_type": "stream",
     "text": [
      "num of original clusters: 10\n"
     ]
    }
   ],
   "source": [
    "#the number of true clusters\n",
    "set(df_con2['topic'])\n",
    "print('num of original clusters:', len(set(df_con2['topic'])))"
   ]
  },
  {
   "cell_type": "markdown",
   "metadata": {},
   "source": [
    "However, not ideally, we only have about 3 corpora for each topic/cluster:"
   ]
  },
  {
   "cell_type": "code",
   "execution_count": 62,
   "metadata": {},
   "outputs": [],
   "source": [
    "selectIndices = []\n",
    "indexToCat = []\n",
    "index_num=[]\n",
    "for c in set(df_con2['topic']):\n",
    "    selectIndices += list(df_con2[df_con2['topic'] == c].index)\n",
    "    index_num.append(len(list(df_con2[df_con2['topic'] == c].index)))\n",
    "    indexToCat += [c] * 50\n",
    "    #.groupby('category').sum()"
   ]
  },
  {
   "cell_type": "code",
   "execution_count": 63,
   "metadata": {},
   "outputs": [
    {
     "data": {
      "text/plain": [
       "[2, 2, 4, 2, 2, 4, 5, 2, 3, 3]"
      ]
     },
     "execution_count": 63,
     "metadata": {},
     "output_type": "execute_result"
    }
   ],
   "source": [
    "index_num"
   ]
  },
  {
   "cell_type": "markdown",
   "metadata": {},
   "source": [
    "Based on the word features selected by TF-IDF, we build the k-means model for clustering: "
   ]
  },
  {
   "cell_type": "code",
   "execution_count": 27,
   "metadata": {},
   "outputs": [
    {
     "data": {
      "text/plain": [
       "KMeans(algorithm='auto', copy_x=True, init='k-means++', max_iter=300,\n",
       "       n_clusters=10, n_init=10, n_jobs=None, precompute_distances='auto',\n",
       "       random_state=None, tol=0.0001, verbose=0)"
      ]
     },
     "execution_count": 27,
     "metadata": {},
     "output_type": "execute_result"
    }
   ],
   "source": [
    "#build the K-means model\n",
    "km = sklearn.cluster.KMeans(n_clusters=10, init='k-means++')\n",
    "km.fit(conTFVects)"
   ]
  },
  {
   "cell_type": "markdown",
   "metadata": {},
   "source": [
    "Once we have the clusters, we can evaluate them with a variety of metrics that sklearn provides. We will look at a few, including *Homogeneity*, *Completeness*, *V-measure* and *Adjusted Rand Score*. \n",
    "\n",
    "*Homogeneity* is a measure that grows (from 0 to 1) to the degree that all of its clusters contain only data points which are members of a single class (e.g., newsgroup). \n",
    "\n",
    "*Completeness* is *Homogeneity's* converse: a measure that grows (0 to 1) to the degree that all data points of a given class are also elements of the same cluster.\n",
    "\n",
    "The *V-measure* is the harmonic mean of *Homogeniety* and *Completeness* ($v = 2 * (homogeneity * completeness) / (homogeneity + completeness$).\n",
    "\n",
    "the *Adjusted Rand Score* is built atop the *Rand Index (RI)*, which computes the similarity between two clusterings by considering all pairs of samples and counting pairs assigned in the same or different clusters in the predicted and true clusterings (e.g., actual newsgroups). The *RI* is then adjusted for chance as follows:\n",
    "$ARI = (RI - RI_{expected}) / (max(RI) - RI_{expected})$.\n",
    "The Adjusted Rand Index is thus ensured to have a value close to 0.0 for random labeling independent of the number of clusters and samples, 1.0 when the clusterings are identical, and -1.0 when they are as bad (i.e., cross-cutting) as they can be."
   ]
  },
  {
   "cell_type": "code",
   "execution_count": 31,
   "metadata": {},
   "outputs": [
    {
     "name": "stdout",
     "output_type": "stream",
     "text": [
      "For our clusters:\n",
      "Homogeneity: 0.576\n",
      "Completeness: 0.568\n",
      "V-measure: 0.572\n",
      "Adjusted Rand Score: 0.019\n"
     ]
    }
   ],
   "source": [
    "print(\"For our clusters:\")\n",
    "print(\"Homogeneity: {:0.3f}\".format(sklearn.metrics.homogeneity_score(df_con2['topic'], km.labels_)))\n",
    "print(\"Completeness: {:0.3f}\".format(sklearn.metrics.completeness_score(df_con2['topic'], km.labels_)))\n",
    "print(\"V-measure: {:0.3f}\".format(sklearn.metrics.v_measure_score(df_con2['topic'], km.labels_)))\n",
    "print(\"Adjusted Rand Score: {:0.3f}\".format(sklearn.metrics.adjusted_rand_score(df_con2['topic'], km.labels_)))"
   ]
  },
  {
   "cell_type": "markdown",
   "metadata": {},
   "source": [
    "The results look ok, slightly better than chance in all evaluations- homogenity, completeness and adjusted rand score, especially considering how few cases we have for each cluster."
   ]
  },
  {
   "cell_type": "markdown",
   "metadata": {},
   "source": [
    "Then, I try with less numver of clusters: 8"
   ]
  },
  {
   "cell_type": "code",
   "execution_count": 29,
   "metadata": {},
   "outputs": [
    {
     "data": {
      "text/plain": [
       "KMeans(algorithm='auto', copy_x=True, init='k-means++', max_iter=300,\n",
       "       n_clusters=8, n_init=10, n_jobs=None, precompute_distances='auto',\n",
       "       random_state=None, tol=0.0001, verbose=0)"
      ]
     },
     "execution_count": 29,
     "metadata": {},
     "output_type": "execute_result"
    }
   ],
   "source": [
    "km2 = sklearn.cluster.KMeans(n_clusters=8, init='k-means++')\n",
    "km2.fit(conTFVects)"
   ]
  },
  {
   "cell_type": "code",
   "execution_count": 32,
   "metadata": {},
   "outputs": [
    {
     "name": "stdout",
     "output_type": "stream",
     "text": [
      "For our clusters:\n",
      "Homogeneity: 0.468\n",
      "Completeness: 0.516\n",
      "V-measure: 0.491\n",
      "Adjusted Rand Score: -0.014\n"
     ]
    }
   ],
   "source": [
    "print(\"For our clusters:\")\n",
    "print(\"Homogeneity: {:0.3f}\".format(sklearn.metrics.homogeneity_score(df_con2['topic'], km2.labels_)))\n",
    "print(\"Completeness: {:0.3f}\".format(sklearn.metrics.completeness_score(df_con2['topic'], km2.labels_)))\n",
    "print(\"V-measure: {:0.3f}\".format(sklearn.metrics.v_measure_score(df_con2['topic'], km2.labels_)))\n",
    "print(\"Adjusted Rand Score: {:0.3f}\".format(sklearn.metrics.adjusted_rand_score(df_con2['topic'], km2.labels_)))"
   ]
  },
  {
   "cell_type": "markdown",
   "metadata": {},
   "source": [
    "The results of 8 clusters are even worse than 10 clusters!"
   ]
  },
  {
   "cell_type": "markdown",
   "metadata": {},
   "source": [
    "Then, try with 5 clusters:"
   ]
  },
  {
   "cell_type": "code",
   "execution_count": 35,
   "metadata": {},
   "outputs": [
    {
     "data": {
      "text/plain": [
       "KMeans(algorithm='auto', copy_x=True, init='k-means++', max_iter=300,\n",
       "       n_clusters=5, n_init=10, n_jobs=None, precompute_distances='auto',\n",
       "       random_state=None, tol=0.0001, verbose=0)"
      ]
     },
     "execution_count": 35,
     "metadata": {},
     "output_type": "execute_result"
    }
   ],
   "source": [
    "km4 = sklearn.cluster.KMeans(n_clusters=5, init='k-means++')\n",
    "km4.fit(conTFVects)"
   ]
  },
  {
   "cell_type": "code",
   "execution_count": 36,
   "metadata": {},
   "outputs": [
    {
     "name": "stdout",
     "output_type": "stream",
     "text": [
      "For our clusters:\n",
      "Homogeneity: 0.363\n",
      "Completeness: 0.535\n",
      "V-measure: 0.432\n",
      "Adjusted Rand Score: 0.055\n"
     ]
    }
   ],
   "source": [
    "print(\"For our clusters:\")\n",
    "print(\"Homogeneity: {:0.3f}\".format(sklearn.metrics.homogeneity_score(df_con2['topic'], km4.labels_)))\n",
    "print(\"Completeness: {:0.3f}\".format(sklearn.metrics.completeness_score(df_con2['topic'], km4.labels_)))\n",
    "print(\"V-measure: {:0.3f}\".format(sklearn.metrics.v_measure_score(df_con2['topic'], km4.labels_)))\n",
    "print(\"Adjusted Rand Score: {:0.3f}\".format(sklearn.metrics.adjusted_rand_score(df_con2['topic'], km4.labels_)))"
   ]
  },
  {
   "cell_type": "markdown",
   "metadata": {},
   "source": [
    "For 5 clusters, the result is better in terms of adjusted rand score, however, other evluations (homogenity, completeness) did not show improvement at all."
   ]
  },
  {
   "cell_type": "markdown",
   "metadata": {},
   "source": [
    "Then, try with 3 clusters:"
   ]
  },
  {
   "cell_type": "code",
   "execution_count": 91,
   "metadata": {},
   "outputs": [
    {
     "data": {
      "text/plain": [
       "KMeans(algorithm='auto', copy_x=True, init='k-means++', max_iter=300,\n",
       "       n_clusters=3, n_init=10, n_jobs=None, precompute_distances='auto',\n",
       "       random_state=None, tol=0.0001, verbose=0)"
      ]
     },
     "execution_count": 91,
     "metadata": {},
     "output_type": "execute_result"
    }
   ],
   "source": [
    "km3 = sklearn.cluster.KMeans(n_clusters=3, init='k-means++')\n",
    "km3.fit(conTFVects)"
   ]
  },
  {
   "cell_type": "code",
   "execution_count": 81,
   "metadata": {},
   "outputs": [
    {
     "name": "stdout",
     "output_type": "stream",
     "text": [
      "For our clusters:\n",
      "Homogeneity: 0.215\n",
      "Completeness: 0.492\n",
      "V-measure: 0.300\n",
      "Adjusted Rand Score: 0.028\n"
     ]
    }
   ],
   "source": [
    "print(\"For our clusters:\")\n",
    "print(\"Homogeneity: {:0.3f}\".format(sklearn.metrics.homogeneity_score(df_con2['topic'], km3.labels_)))\n",
    "print(\"Completeness: {:0.3f}\".format(sklearn.metrics.completeness_score(df_con2['topic'], km3.labels_)))\n",
    "print(\"V-measure: {:0.3f}\".format(sklearn.metrics.v_measure_score(df_con2['topic'], km3.labels_)))\n",
    "print(\"Adjusted Rand Score: {:0.3f}\".format(sklearn.metrics.adjusted_rand_score(df_con2['topic'], km3.labels_)))"
   ]
  },
  {
   "cell_type": "markdown",
   "metadata": {},
   "source": [
    "The results are even worse. It is very interesting that for our 10 topics corpora, the K-means does the best job when clustering them into 10 clusters. However it is reasonable that the evaluation is benchmarked with the original labels we have."
   ]
  },
  {
   "cell_type": "markdown",
   "metadata": {},
   "source": [
    "Then added the K-means clustering results of 10 clusters into our dataframe:"
   ]
  },
  {
   "cell_type": "code",
   "execution_count": 38,
   "metadata": {},
   "outputs": [
    {
     "data": {
      "text/html": [
       "<div>\n",
       "<style scoped>\n",
       "    .dataframe tbody tr th:only-of-type {\n",
       "        vertical-align: middle;\n",
       "    }\n",
       "\n",
       "    .dataframe tbody tr th {\n",
       "        vertical-align: top;\n",
       "    }\n",
       "\n",
       "    .dataframe thead th {\n",
       "        text-align: right;\n",
       "    }\n",
       "</style>\n",
       "<table border=\"1\" class=\"dataframe\">\n",
       "  <thead>\n",
       "    <tr style=\"text-align: right;\">\n",
       "      <th></th>\n",
       "      <th>Unnamed: 0</th>\n",
       "      <th>condition</th>\n",
       "      <th>pair_id</th>\n",
       "      <th>topic</th>\n",
       "      <th>conversation_txt</th>\n",
       "      <th>con_txt_A</th>\n",
       "      <th>con_txt_B</th>\n",
       "      <th>kmeans8_predictions</th>\n",
       "      <th>kmeans10_predictions</th>\n",
       "    </tr>\n",
       "  </thead>\n",
       "  <tbody>\n",
       "    <tr>\n",
       "      <th>0</th>\n",
       "      <td>0</td>\n",
       "      <td>NB</td>\n",
       "      <td>5</td>\n",
       "      <td>11</td>\n",
       "      <td>Okay, so uh, I guess they said we should start...</td>\n",
       "      <td>Okay, so uh, I guess they said we should start...</td>\n",
       "      <td>Yea, we should start Um, yeah. I actually didn...</td>\n",
       "      <td>6</td>\n",
       "      <td>6</td>\n",
       "    </tr>\n",
       "    <tr>\n",
       "      <th>1</th>\n",
       "      <td>1</td>\n",
       "      <td>TYB</td>\n",
       "      <td>6</td>\n",
       "      <td>11</td>\n",
       "      <td>So I don't really I think I said--yes, everyon...</td>\n",
       "      <td>So I don't really I think I said--yes, everyon...</td>\n",
       "      <td>I-I think put something that's below five.. Th...</td>\n",
       "      <td>1</td>\n",
       "      <td>1</td>\n",
       "    </tr>\n",
       "    <tr>\n",
       "      <th>2</th>\n",
       "      <td>2</td>\n",
       "      <td>NB</td>\n",
       "      <td>7</td>\n",
       "      <td>2</td>\n",
       "      <td>So I, when I read this question I thought abou...</td>\n",
       "      <td>So I, when I read this question I thought abou...</td>\n",
       "      <td>So, uh I-I actually uh read a lot about this t...</td>\n",
       "      <td>1</td>\n",
       "      <td>1</td>\n",
       "    </tr>\n",
       "    <tr>\n",
       "      <th>3</th>\n",
       "      <td>3</td>\n",
       "      <td>TYB</td>\n",
       "      <td>8</td>\n",
       "      <td>2</td>\n",
       "      <td>Okay so you--What's your opinion on this? I st...</td>\n",
       "      <td>Okay so you--What's your opinion on this? Oh w...</td>\n",
       "      <td>I strongly disagree with this I think you shou...</td>\n",
       "      <td>7</td>\n",
       "      <td>7</td>\n",
       "    </tr>\n",
       "    <tr>\n",
       "      <th>4</th>\n",
       "      <td>4</td>\n",
       "      <td>TYB</td>\n",
       "      <td>11</td>\n",
       "      <td>5</td>\n",
       "      <td>Experimenter  0:00   This is this is group num...</td>\n",
       "      <td>Experimenter  0:00   This is this is group num...</td>\n",
       "      <td>I like what you said about like the right to. ...</td>\n",
       "      <td>9</td>\n",
       "      <td>9</td>\n",
       "    </tr>\n",
       "    <tr>\n",
       "      <th>5</th>\n",
       "      <td>5</td>\n",
       "      <td>NB</td>\n",
       "      <td>12</td>\n",
       "      <td>7</td>\n",
       "      <td>Yea, so so so. What do you--what do you person...</td>\n",
       "      <td>Yea, so so so. What do you--what do you person...</td>\n",
       "      <td>I think the US, I answered that the US should ...</td>\n",
       "      <td>3</td>\n",
       "      <td>3</td>\n",
       "    </tr>\n",
       "    <tr>\n",
       "      <th>6</th>\n",
       "      <td>6</td>\n",
       "      <td>NB</td>\n",
       "      <td>13</td>\n",
       "      <td>7</td>\n",
       "      <td>Okay, um, so I put a four, I like very minorly...</td>\n",
       "      <td>Okay, um, so I put a four, I like very minorly...</td>\n",
       "      <td>I disagree.  I put I put a 10 for this.  Looki...</td>\n",
       "      <td>0</td>\n",
       "      <td>0</td>\n",
       "    </tr>\n",
       "    <tr>\n",
       "      <th>7</th>\n",
       "      <td>7</td>\n",
       "      <td>TYB</td>\n",
       "      <td>14</td>\n",
       "      <td>1</td>\n",
       "      <td>Unknown Speaker  0:01   [inaudible] Um OK--I s...</td>\n",
       "      <td>Umm I said yes umm, but I don't know you can l...</td>\n",
       "      <td>Unknown Speaker  0:01   [inaudible] Um OK--I s...</td>\n",
       "      <td>4</td>\n",
       "      <td>4</td>\n",
       "    </tr>\n",
       "    <tr>\n",
       "      <th>8</th>\n",
       "      <td>8</td>\n",
       "      <td>NB</td>\n",
       "      <td>15</td>\n",
       "      <td>1</td>\n",
       "      <td>Oh, okay, um, so I felt like uh--I feel like I...</td>\n",
       "      <td>--[laughs] Yeah-- Sorry, I can't hear-- Yeah, ...</td>\n",
       "      <td>Oh, okay, um, so I felt like uh--I feel like I...</td>\n",
       "      <td>5</td>\n",
       "      <td>5</td>\n",
       "    </tr>\n",
       "    <tr>\n",
       "      <th>9</th>\n",
       "      <td>9</td>\n",
       "      <td>TYB</td>\n",
       "      <td>16</td>\n",
       "      <td>9</td>\n",
       "      <td>So I disagree with this  because um I think ne...</td>\n",
       "      <td>--Like on a plane-- --Yeah-- Right, so I'm sup...</td>\n",
       "      <td>So I disagree with this  because um I think ne...</td>\n",
       "      <td>0</td>\n",
       "      <td>0</td>\n",
       "    </tr>\n",
       "    <tr>\n",
       "      <th>10</th>\n",
       "      <td>10</td>\n",
       "      <td>TYB</td>\n",
       "      <td>17</td>\n",
       "      <td>9</td>\n",
       "      <td>Okay, so I put strongly agree, because I just ...</td>\n",
       "      <td>Uhh I really appreciate your point of view [pe...</td>\n",
       "      <td>Okay, so I put strongly agree, because I just ...</td>\n",
       "      <td>3</td>\n",
       "      <td>3</td>\n",
       "    </tr>\n",
       "    <tr>\n",
       "      <th>11</th>\n",
       "      <td>11</td>\n",
       "      <td>NB</td>\n",
       "      <td>18</td>\n",
       "      <td>12</td>\n",
       "      <td>Umm okay, so I said Ivy schools should be.. I ...</td>\n",
       "      <td>Ohhh, okay, well, at first, I was going to agr...</td>\n",
       "      <td>Umm okay, so I said Ivy schools should be.. I ...</td>\n",
       "      <td>4</td>\n",
       "      <td>4</td>\n",
       "    </tr>\n",
       "    <tr>\n",
       "      <th>12</th>\n",
       "      <td>12</td>\n",
       "      <td>NB</td>\n",
       "      <td>19</td>\n",
       "      <td>12</td>\n",
       "      <td>Awesome. Well-- Okay--  I think I remember say...</td>\n",
       "      <td>Okay-- Okay.  I disagreed.   I also didn't str...</td>\n",
       "      <td>Awesome. Well--  I think I remember saying tha...</td>\n",
       "      <td>3</td>\n",
       "      <td>3</td>\n",
       "    </tr>\n",
       "    <tr>\n",
       "      <th>13</th>\n",
       "      <td>13</td>\n",
       "      <td>TYB</td>\n",
       "      <td>20</td>\n",
       "      <td>6</td>\n",
       "      <td>Okay, cool. Do you remember what you said for...</td>\n",
       "      <td>I think I said like slightly disagree or somet...</td>\n",
       "      <td>Okay, cool. Do you remember what you said for...</td>\n",
       "      <td>2</td>\n",
       "      <td>2</td>\n",
       "    </tr>\n",
       "    <tr>\n",
       "      <th>14</th>\n",
       "      <td>14</td>\n",
       "      <td>NB</td>\n",
       "      <td>21</td>\n",
       "      <td>6</td>\n",
       "      <td>Okay, so I believe I was against this, that m...</td>\n",
       "      <td>Oh, I thought I was also--should never be allo...</td>\n",
       "      <td>Okay, so I believe I was against this, that m...</td>\n",
       "      <td>5</td>\n",
       "      <td>5</td>\n",
       "    </tr>\n",
       "    <tr>\n",
       "      <th>15</th>\n",
       "      <td>15</td>\n",
       "      <td>TYB</td>\n",
       "      <td>22</td>\n",
       "      <td>5</td>\n",
       "      <td>Okay, well, um, I remember that I agreed somew...</td>\n",
       "      <td>Yeah, I think I I appreciate that. That the th...</td>\n",
       "      <td>Okay, well, um, I remember that I agreed somew...</td>\n",
       "      <td>2</td>\n",
       "      <td>2</td>\n",
       "    </tr>\n",
       "    <tr>\n",
       "      <th>16</th>\n",
       "      <td>16</td>\n",
       "      <td>NB</td>\n",
       "      <td>23</td>\n",
       "      <td>9</td>\n",
       "      <td>So, I personally think physician assisted suic...</td>\n",
       "      <td>I don't think it should be legal because..I be...</td>\n",
       "      <td>So, I personally think physician assisted suic...</td>\n",
       "      <td>9</td>\n",
       "      <td>9</td>\n",
       "    </tr>\n",
       "    <tr>\n",
       "      <th>17</th>\n",
       "      <td>17</td>\n",
       "      <td>NB</td>\n",
       "      <td>31</td>\n",
       "      <td>5</td>\n",
       "      <td>Yeah, so, um… I believe that Ivy League school...</td>\n",
       "      <td>I believe that Ivy League schools should not b...</td>\n",
       "      <td>Yeah, so, um… Okay. Um, yeah. So, I believe th...</td>\n",
       "      <td>4</td>\n",
       "      <td>4</td>\n",
       "    </tr>\n",
       "    <tr>\n",
       "      <th>18</th>\n",
       "      <td>18</td>\n",
       "      <td>TYB</td>\n",
       "      <td>32</td>\n",
       "      <td>10</td>\n",
       "      <td>So, um, I think I chose I strongly ag- disagre...</td>\n",
       "      <td>No.  no, it's something we strongly disagree. ...</td>\n",
       "      <td>So, um, I think I chose I strongly ag- disagre...</td>\n",
       "      <td>6</td>\n",
       "      <td>6</td>\n",
       "    </tr>\n",
       "    <tr>\n",
       "      <th>19</th>\n",
       "      <td>19</td>\n",
       "      <td>NB</td>\n",
       "      <td>33</td>\n",
       "      <td>10</td>\n",
       "      <td>So I think something that I don't know. This i...</td>\n",
       "      <td>yes?  laugh Well, I mean, I understand that t...</td>\n",
       "      <td>So I think something that I don't know. This i...</td>\n",
       "      <td>3</td>\n",
       "      <td>3</td>\n",
       "    </tr>\n",
       "    <tr>\n",
       "      <th>20</th>\n",
       "      <td>20</td>\n",
       "      <td>TYB</td>\n",
       "      <td>40</td>\n",
       "      <td>9</td>\n",
       "      <td>Okay. hmm. I thought that they should be prett...</td>\n",
       "      <td>Okay, I hear you and I understand what you mea...</td>\n",
       "      <td>Okay. hmm. I thought that they should be prett...</td>\n",
       "      <td>8</td>\n",
       "      <td>8</td>\n",
       "    </tr>\n",
       "    <tr>\n",
       "      <th>21</th>\n",
       "      <td>21</td>\n",
       "      <td>NB</td>\n",
       "      <td>41</td>\n",
       "      <td>9</td>\n",
       "      <td>So great. You should never use iPads as choice...</td>\n",
       "      <td>mm-hmm  mm  mm-hmm I disagree. hmm, I feel li...</td>\n",
       "      <td>So great. You should never use iPads as choice...</td>\n",
       "      <td>0</td>\n",
       "      <td>0</td>\n",
       "    </tr>\n",
       "    <tr>\n",
       "      <th>22</th>\n",
       "      <td>22</td>\n",
       "      <td>TYB</td>\n",
       "      <td>42</td>\n",
       "      <td>8</td>\n",
       "      <td>Um, I think, I, well, I guess when I buy skin ...</td>\n",
       "      <td>I'm- I'm glad that you brought it up because i...</td>\n",
       "      <td>Um, I think, I, well, I guess when I buy skin ...</td>\n",
       "      <td>8</td>\n",
       "      <td>8</td>\n",
       "    </tr>\n",
       "    <tr>\n",
       "      <th>23</th>\n",
       "      <td>23</td>\n",
       "      <td>NB</td>\n",
       "      <td>43</td>\n",
       "      <td>8</td>\n",
       "      <td>Hmm. The reason why I disagreed with the state...</td>\n",
       "      <td>Hmm. I disagree with you. I think that, hmm, p...</td>\n",
       "      <td>Hmm. The reason why I disagreed with the state...</td>\n",
       "      <td>8</td>\n",
       "      <td>8</td>\n",
       "    </tr>\n",
       "    <tr>\n",
       "      <th>24</th>\n",
       "      <td>24</td>\n",
       "      <td>TYB</td>\n",
       "      <td>44</td>\n",
       "      <td>8</td>\n",
       "      <td>I think people should avoid walking across the...</td>\n",
       "      <td>Yeah, I get what you mean and I-I-I do appreci...</td>\n",
       "      <td>I think people should avoid walking across the...</td>\n",
       "      <td>7</td>\n",
       "      <td>7</td>\n",
       "    </tr>\n",
       "    <tr>\n",
       "      <th>25</th>\n",
       "      <td>25</td>\n",
       "      <td>NB</td>\n",
       "      <td>45</td>\n",
       "      <td>8</td>\n",
       "      <td>Um I think real large, I'm I'm I'm more or les...</td>\n",
       "      <td>Yeah, I kind of disagree because like you, you...</td>\n",
       "      <td>Um I think real large, I'm I'm I'm more or les...</td>\n",
       "      <td>6</td>\n",
       "      <td>6</td>\n",
       "    </tr>\n",
       "    <tr>\n",
       "      <th>26</th>\n",
       "      <td>26</td>\n",
       "      <td>TYB</td>\n",
       "      <td>46</td>\n",
       "      <td>5</td>\n",
       "      <td>So I said that, um I think the parents should ...</td>\n",
       "      <td>um-hmm  um-hmm  um-hmm  um-hmm  Yeah  um-hmm ...</td>\n",
       "      <td>So I said that, um I think the parents should ...</td>\n",
       "      <td>0</td>\n",
       "      <td>0</td>\n",
       "    </tr>\n",
       "    <tr>\n",
       "      <th>27</th>\n",
       "      <td>30</td>\n",
       "      <td>TYB</td>\n",
       "      <td>58</td>\n",
       "      <td>11</td>\n",
       "      <td>Experimenter  0:00   This is group 57 discussi...</td>\n",
       "      <td>So I appreciate that you bring up that there a...</td>\n",
       "      <td>Experimenter  0:00   This is group 57 discussi...</td>\n",
       "      <td>1</td>\n",
       "      <td>1</td>\n",
       "    </tr>\n",
       "    <tr>\n",
       "      <th>28</th>\n",
       "      <td>32</td>\n",
       "      <td>TYB</td>\n",
       "      <td>60</td>\n",
       "      <td>12</td>\n",
       "      <td>Experimenter  0:00   This is group number 60 d...</td>\n",
       "      <td>Okay, sounds good. Hi.  Mm-hm. Mm-hm.  Ya. Got...</td>\n",
       "      <td>Experimenter  0:00   This is group number 60 d...</td>\n",
       "      <td>7</td>\n",
       "      <td>7</td>\n",
       "    </tr>\n",
       "  </tbody>\n",
       "</table>\n",
       "</div>"
      ],
      "text/plain": [
       "    Unnamed: 0 condition  pair_id  topic  \\\n",
       "0            0        NB        5     11   \n",
       "1            1       TYB        6     11   \n",
       "2            2        NB        7      2   \n",
       "3            3       TYB        8      2   \n",
       "4            4       TYB       11      5   \n",
       "5            5        NB       12      7   \n",
       "6            6        NB       13      7   \n",
       "7            7       TYB       14      1   \n",
       "8            8        NB       15      1   \n",
       "9            9       TYB       16      9   \n",
       "10          10       TYB       17      9   \n",
       "11          11        NB       18     12   \n",
       "12          12        NB       19     12   \n",
       "13          13       TYB       20      6   \n",
       "14          14        NB       21      6   \n",
       "15          15       TYB       22      5   \n",
       "16          16        NB       23      9   \n",
       "17          17        NB       31      5   \n",
       "18          18       TYB       32     10   \n",
       "19          19        NB       33     10   \n",
       "20          20       TYB       40      9   \n",
       "21          21        NB       41      9   \n",
       "22          22       TYB       42      8   \n",
       "23          23        NB       43      8   \n",
       "24          24       TYB       44      8   \n",
       "25          25        NB       45      8   \n",
       "26          26       TYB       46      5   \n",
       "27          30       TYB       58     11   \n",
       "28          32       TYB       60     12   \n",
       "\n",
       "                                     conversation_txt  \\\n",
       "0   Okay, so uh, I guess they said we should start...   \n",
       "1   So I don't really I think I said--yes, everyon...   \n",
       "2   So I, when I read this question I thought abou...   \n",
       "3   Okay so you--What's your opinion on this? I st...   \n",
       "4   Experimenter  0:00   This is this is group num...   \n",
       "5   Yea, so so so. What do you--what do you person...   \n",
       "6   Okay, um, so I put a four, I like very minorly...   \n",
       "7   Unknown Speaker  0:01   [inaudible] Um OK--I s...   \n",
       "8   Oh, okay, um, so I felt like uh--I feel like I...   \n",
       "9   So I disagree with this  because um I think ne...   \n",
       "10  Okay, so I put strongly agree, because I just ...   \n",
       "11  Umm okay, so I said Ivy schools should be.. I ...   \n",
       "12  Awesome. Well-- Okay--  I think I remember say...   \n",
       "13   Okay, cool. Do you remember what you said for...   \n",
       "14   Okay, so I believe I was against this, that m...   \n",
       "15  Okay, well, um, I remember that I agreed somew...   \n",
       "16  So, I personally think physician assisted suic...   \n",
       "17  Yeah, so, um… I believe that Ivy League school...   \n",
       "18  So, um, I think I chose I strongly ag- disagre...   \n",
       "19  So I think something that I don't know. This i...   \n",
       "20  Okay. hmm. I thought that they should be prett...   \n",
       "21  So great. You should never use iPads as choice...   \n",
       "22  Um, I think, I, well, I guess when I buy skin ...   \n",
       "23  Hmm. The reason why I disagreed with the state...   \n",
       "24  I think people should avoid walking across the...   \n",
       "25  Um I think real large, I'm I'm I'm more or les...   \n",
       "26  So I said that, um I think the parents should ...   \n",
       "27  Experimenter  0:00   This is group 57 discussi...   \n",
       "28  Experimenter  0:00   This is group number 60 d...   \n",
       "\n",
       "                                            con_txt_A  \\\n",
       "0   Okay, so uh, I guess they said we should start...   \n",
       "1   So I don't really I think I said--yes, everyon...   \n",
       "2   So I, when I read this question I thought abou...   \n",
       "3   Okay so you--What's your opinion on this? Oh w...   \n",
       "4   Experimenter  0:00   This is this is group num...   \n",
       "5   Yea, so so so. What do you--what do you person...   \n",
       "6   Okay, um, so I put a four, I like very minorly...   \n",
       "7   Umm I said yes umm, but I don't know you can l...   \n",
       "8   --[laughs] Yeah-- Sorry, I can't hear-- Yeah, ...   \n",
       "9   --Like on a plane-- --Yeah-- Right, so I'm sup...   \n",
       "10  Uhh I really appreciate your point of view [pe...   \n",
       "11  Ohhh, okay, well, at first, I was going to agr...   \n",
       "12  Okay-- Okay.  I disagreed.   I also didn't str...   \n",
       "13  I think I said like slightly disagree or somet...   \n",
       "14  Oh, I thought I was also--should never be allo...   \n",
       "15  Yeah, I think I I appreciate that. That the th...   \n",
       "16  I don't think it should be legal because..I be...   \n",
       "17  I believe that Ivy League schools should not b...   \n",
       "18  No.  no, it's something we strongly disagree. ...   \n",
       "19   yes?  laugh Well, I mean, I understand that t...   \n",
       "20  Okay, I hear you and I understand what you mea...   \n",
       "21   mm-hmm  mm  mm-hmm I disagree. hmm, I feel li...   \n",
       "22  I'm- I'm glad that you brought it up because i...   \n",
       "23  Hmm. I disagree with you. I think that, hmm, p...   \n",
       "24  Yeah, I get what you mean and I-I-I do appreci...   \n",
       "25  Yeah, I kind of disagree because like you, you...   \n",
       "26   um-hmm  um-hmm  um-hmm  um-hmm  Yeah  um-hmm ...   \n",
       "27  So I appreciate that you bring up that there a...   \n",
       "28  Okay, sounds good. Hi.  Mm-hm. Mm-hm.  Ya. Got...   \n",
       "\n",
       "                                            con_txt_B  kmeans8_predictions  \\\n",
       "0   Yea, we should start Um, yeah. I actually didn...                    6   \n",
       "1   I-I think put something that's below five.. Th...                    1   \n",
       "2   So, uh I-I actually uh read a lot about this t...                    1   \n",
       "3   I strongly disagree with this I think you shou...                    7   \n",
       "4   I like what you said about like the right to. ...                    9   \n",
       "5   I think the US, I answered that the US should ...                    3   \n",
       "6   I disagree.  I put I put a 10 for this.  Looki...                    0   \n",
       "7   Unknown Speaker  0:01   [inaudible] Um OK--I s...                    4   \n",
       "8   Oh, okay, um, so I felt like uh--I feel like I...                    5   \n",
       "9   So I disagree with this  because um I think ne...                    0   \n",
       "10  Okay, so I put strongly agree, because I just ...                    3   \n",
       "11  Umm okay, so I said Ivy schools should be.. I ...                    4   \n",
       "12  Awesome. Well--  I think I remember saying tha...                    3   \n",
       "13   Okay, cool. Do you remember what you said for...                    2   \n",
       "14   Okay, so I believe I was against this, that m...                    5   \n",
       "15  Okay, well, um, I remember that I agreed somew...                    2   \n",
       "16  So, I personally think physician assisted suic...                    9   \n",
       "17  Yeah, so, um… Okay. Um, yeah. So, I believe th...                    4   \n",
       "18  So, um, I think I chose I strongly ag- disagre...                    6   \n",
       "19  So I think something that I don't know. This i...                    3   \n",
       "20  Okay. hmm. I thought that they should be prett...                    8   \n",
       "21  So great. You should never use iPads as choice...                    0   \n",
       "22  Um, I think, I, well, I guess when I buy skin ...                    8   \n",
       "23  Hmm. The reason why I disagreed with the state...                    8   \n",
       "24  I think people should avoid walking across the...                    7   \n",
       "25  Um I think real large, I'm I'm I'm more or les...                    6   \n",
       "26  So I said that, um I think the parents should ...                    0   \n",
       "27  Experimenter  0:00   This is group 57 discussi...                    1   \n",
       "28  Experimenter  0:00   This is group number 60 d...                    7   \n",
       "\n",
       "    kmeans10_predictions  \n",
       "0                      6  \n",
       "1                      1  \n",
       "2                      1  \n",
       "3                      7  \n",
       "4                      9  \n",
       "5                      3  \n",
       "6                      0  \n",
       "7                      4  \n",
       "8                      5  \n",
       "9                      0  \n",
       "10                     3  \n",
       "11                     4  \n",
       "12                     3  \n",
       "13                     2  \n",
       "14                     5  \n",
       "15                     2  \n",
       "16                     9  \n",
       "17                     4  \n",
       "18                     6  \n",
       "19                     3  \n",
       "20                     8  \n",
       "21                     0  \n",
       "22                     8  \n",
       "23                     8  \n",
       "24                     7  \n",
       "25                     6  \n",
       "26                     0  \n",
       "27                     1  \n",
       "28                     7  "
      ]
     },
     "execution_count": 38,
     "metadata": {},
     "output_type": "execute_result"
    }
   ],
   "source": [
    "df_con2['kmeans10_predictions'] = km.labels_\n",
    "df_con2"
   ]
  },
  {
   "cell_type": "markdown",
   "metadata": {},
   "source": [
    "We can also look at the distinguishing features in each cluster: \n",
    "\n",
    "* as we could see from the distinguish word features of each cluster, most of the 10 clusters correspond well with the original topic we have: for example Cluster 0-ipad, ipads, parents, toddlers, match with 'Parents should never use iPads as toys for their toddlers' topic; Cluster 3-age, drink, alcohol, teenagers, math with 'The U.S. should lower its drinking age.'. \n",
    "\n",
    "\n",
    "* While there are many topics missed in the clusters: for example, 'All college students should be required to volunteer in the community.' and 'As long as medical condition permits, everyone should get a seasonal flu shot.'. These topics are not captured by the 10 clusters. \n",
    "\n",
    "\n",
    "* Also, there are many communication words appear in the distinguishing features, like 'hmm', 'laugh', which means this cluster not only capture the topics but also the linguistic patterns among corpora. There are more we should do to filter out those commmunicaiton words in modeling the topic."
   ]
  },
  {
   "cell_type": "code",
   "execution_count": 43,
   "metadata": {},
   "outputs": [
    {
     "name": "stdout",
     "output_type": "stream",
     "text": [
      "Top terms per cluster:\n",
      "Cluster 0:\n",
      " ipad\n",
      " ipads\n",
      " parents\n",
      " use\n",
      " development\n",
      " never\n",
      " toddlers\n",
      " hmm\n",
      " technology\n",
      " kid\n",
      "\n",
      "\n",
      "Cluster 1:\n",
      " uh\n",
      " punishment\n",
      " maybe\n",
      " uhh\n",
      " cost\n",
      " thinking\n",
      " put\n",
      " take\n",
      " haven\n",
      " wasn\n",
      "\n",
      "\n",
      "Cluster 2:\n",
      " healthy\n",
      " food\n",
      " only\n",
      " options\n",
      " offer\n",
      " laughs\n",
      " unhealthy\n",
      " high\n",
      " eat\n",
      " good\n",
      "\n",
      "\n",
      "Cluster 3:\n",
      " age\n",
      " drink\n",
      " lower\n",
      " alcohol\n",
      " drinking\n",
      " teenagers\n",
      " still\n",
      " college\n",
      " 21\n",
      " mhm\n",
      "\n",
      "\n",
      "Cluster 4:\n",
      " mhm\n",
      " blind\n",
      " person\n",
      " umm\n",
      " obviously\n",
      " race\n",
      " schools\n",
      " ivy\n",
      " league\n",
      " everything\n",
      "\n",
      "\n",
      "Cluster 5:\n",
      " phone\n",
      " she\n",
      " text\n",
      " phones\n",
      " conversation\n",
      " never\n",
      " friends\n",
      " talking\n",
      " family\n",
      " her\n",
      "\n",
      "\n",
      "Cluster 6:\n",
      " death\n",
      " sentence\n",
      " penalty\n",
      " execution\n",
      " life\n",
      " given\n",
      " moral\n",
      " abolished\n",
      " victims\n",
      " perspective\n",
      "\n",
      "\n",
      "Cluster 7:\n",
      " cars\n",
      " cross\n",
      " car\n",
      " street\n",
      " red\n",
      " fast\n",
      " quite\n",
      " law\n",
      " light\n",
      " going\n",
      "\n",
      "\n",
      "Cluster 8:\n",
      " hmm\n",
      " laugh\n",
      " create\n",
      " fair\n",
      " wouldn\n",
      " hard\n",
      " make\n",
      " ve\n",
      " based\n",
      " city\n",
      "\n",
      "\n",
      "Cluster 9:\n",
      " suicide\n",
      " assisted\n",
      " physician\n",
      " last\n",
      " legal\n",
      " having\n",
      " laugh\n",
      " number\n",
      " easy\n",
      " believe\n",
      "\n",
      "\n"
     ]
    }
   ],
   "source": [
    "numClusters=10\n",
    "terms = conTFVectorizer.get_feature_names()\n",
    "print(\"Top terms per cluster:\")\n",
    "order_centroids = km.cluster_centers_.argsort()[:, ::-1]\n",
    "for i in range(numClusters):\n",
    "    print(\"Cluster %d:\" % i)\n",
    "    for ind in order_centroids[i, :10]:\n",
    "        print(' %s' % terms[ind])\n",
    "    print('\\n')"
   ]
  },
  {
   "cell_type": "markdown",
   "metadata": {},
   "source": [
    "#### VIsualization by PCA\n",
    "Let's construct a visualization of the clusters. First, we will first reduce the dimensionality of the data using principal components analysis (PCA)."
   ]
  },
  {
   "cell_type": "code",
   "execution_count": 44,
   "metadata": {},
   "outputs": [],
   "source": [
    "PCA = sklearn.decomposition.PCA\n",
    "pca = PCA(n_components = 2).fit(conTFVects.toarray())\n",
    "reduced_data = pca.transform(conTFVects.toarray())"
   ]
  },
  {
   "cell_type": "code",
   "execution_count": 45,
   "metadata": {},
   "outputs": [],
   "source": [
    "components = pca.components_\n",
    "keyword_ids = list(set(order_centroids[:,:10].flatten())) #Get the ids of the most distinguishing words(features) from your kmeans model.\n",
    "words = [terms[i] for i in keyword_ids]#Turn the ids into words.\n",
    "x = components[:,keyword_ids][0,:] #Find the coordinates of those words in your biplot.\n",
    "y = components[:,keyword_ids][1,:]"
   ]
  },
  {
   "cell_type": "markdown",
   "metadata": {},
   "source": [
    "Then, let's build a color map for the true labels:"
   ]
  },
  {
   "cell_type": "code",
   "execution_count": 46,
   "metadata": {},
   "outputs": [
    {
     "name": "stdout",
     "output_type": "stream",
     "text": [
      "The categories' colors are:\n",
      "dict_items([('1', 'red'), ('2', 'orange'), ('5', 'green'), ('6', 'blue'), ('7', 'yellow'), ('8', 'purple'), ('9', 'black'), ('10', 'gray'), ('11', 'pink'), ('12', 'brown')])\n"
     ]
    }
   ],
   "source": [
    "colordict = {\n",
    "'1': 'red','2': 'orange','5': 'green',\n",
    "'6': 'blue','7': 'yellow','8': 'purple','9': 'black',\n",
    "'10': 'gray','11': 'pink','12': 'brown',\n",
    "    }\n",
    "colors = [colordict[str(c)] for c in df_con2['topic']]\n",
    "print(\"The categories' colors are:\\n{}\".format(colordict.items()))"
   ]
  },
  {
   "cell_type": "markdown",
   "metadata": {},
   "source": [
    "Let's plot the data using the true labels as the colors of our data points:\n",
    "\n",
    "As we could see below, we have very limited samples for each category and they are scatterly placed in terms of word feature (propabaly indicating that it is not an ideal corpora for clustering)"
   ]
  },
  {
   "cell_type": "code",
   "execution_count": 48,
   "metadata": {},
   "outputs": [
    {
     "data": {
      "image/png": "[encoded data removed]",
      "text/plain": [
       "<Figure size 720x432 with 1 Axes>"
      ]
     },
     "metadata": {},
     "output_type": "display_data"
    }
   ],
   "source": [
    "fig = plt.figure(figsize = (10,6))\n",
    "ax = fig.add_subplot(111)\n",
    "ax.set_frame_on(False)\n",
    "ax.scatter(reduced_data[:, 0], reduced_data[:, 1], color = colors, alpha = 0.5, label = colors)\n",
    "plt.xticks(())\n",
    "plt.yticks(())\n",
    "plt.title('True Classes')\n",
    "plt.show()"
   ]
  },
  {
   "cell_type": "markdown",
   "metadata": {},
   "source": [
    "Also plot the data with the features on top of that: we could also see that the communication words appear frequently and greatly influence the vector space of word features, for example, 'hmm','mhm','uh' are all in peripheral and distinguishable places, corresponding with several samples as well, which is not meaingful in temrs of the topic we hope to cluster. "
   ]
  },
  {
   "cell_type": "code",
   "execution_count": 49,
   "metadata": {},
   "outputs": [
    {
     "data": {
      "image/png": "[encoded data removed]",
      "text/plain": [
       "<Figure size 1152x648 with 1 Axes>"
      ]
     },
     "metadata": {},
     "output_type": "display_data"
    }
   ],
   "source": [
    "fig = plt.figure(figsize = (16,9))\n",
    "ax = fig.add_subplot(111)\n",
    "ax.set_frame_on(False)\n",
    "ax.scatter(reduced_data[:, 0], reduced_data[:, 1], color = colors, alpha = 0.3, label = colors)\n",
    "for i, word in enumerate(words):\n",
    "    ax.annotate(word, (x[i],y[i]))\n",
    "plt.xticks(())\n",
    "plt.yticks(())\n",
    "plt.title('True Classes')\n",
    "plt.show()"
   ]
  },
  {
   "cell_type": "markdown",
   "metadata": {},
   "source": [
    "Also, let's try to visualize the true class with 'condition' label in the biplot:"
   ]
  },
  {
   "cell_type": "code",
   "execution_count": 82,
   "metadata": {},
   "outputs": [
    {
     "name": "stdout",
     "output_type": "stream",
     "text": [
      "The categories' colors are:\n",
      "dict_items([('TYB', 'red'), ('NB', 'orange')])\n"
     ]
    }
   ],
   "source": [
    "colordict_c = {\n",
    "'TYB': 'red','NB': 'orange'\n",
    "    }\n",
    "colors = [colordict_c[str(c)] for c in df_con2['condition']]\n",
    "print(\"The categories' colors are:\\n{}\".format(colordict_c.items()))"
   ]
  },
  {
   "cell_type": "markdown",
   "metadata": {},
   "source": [
    "As we could see below, the above red dots are in TYB condition, while the below yellow dots are in NB conditon. They are generally separable between conditons, which is kind of interesting."
   ]
  },
  {
   "cell_type": "code",
   "execution_count": 88,
   "metadata": {},
   "outputs": [
    {
     "data": {
      "image/png": "[encoded data removed]",
      "text/plain": [
       "<Figure size 720x432 with 1 Axes>"
      ]
     },
     "metadata": {},
     "output_type": "display_data"
    }
   ],
   "source": [
    "fig = plt.figure(figsize = (10,6))\n",
    "ax = fig.add_subplot(111)\n",
    "ax.set_frame_on(False)\n",
    "ax.scatter(reduced_data[:, 0], reduced_data[:, 1], color = colors, alpha = 0.5, label = colors)\n",
    "plt.xticks(())\n",
    "plt.yticks(())\n",
    "plt.legend(())\n",
    "plt.title('True Classes')\n",
    "plt.show()"
   ]
  },
  {
   "cell_type": "markdown",
   "metadata": {},
   "source": [
    "Now visulization for predicted clusters:"
   ]
  },
  {
   "cell_type": "code",
   "execution_count": 50,
   "metadata": {},
   "outputs": [],
   "source": [
    "colordict2 = {\n",
    "'1': 'red','2': 'orange','3': 'green',\n",
    "'4': 'blue','5': 'yellow','6': 'purple','7': 'black',\n",
    "'8': 'gray','9': 'pink','10': 'brown',\n",
    "    }\n",
    "colors_p = [colordict2[str(l+1)] for l in km.labels_]"
   ]
  },
  {
   "cell_type": "code",
   "execution_count": 51,
   "metadata": {},
   "outputs": [
    {
     "data": {
      "image/png": "[encoded data removed]",
      "text/plain": [
       "<Figure size 720x432 with 1 Axes>"
      ]
     },
     "metadata": {},
     "output_type": "display_data"
    }
   ],
   "source": [
    "fig = plt.figure(figsize = (10,6))\n",
    "ax = fig.add_subplot(111)\n",
    "ax.set_frame_on(False)\n",
    "plt.scatter(reduced_data[:, 0], reduced_data[:, 1], color = colors_p, alpha = 0.5)\n",
    "plt.xticks(())\n",
    "plt.yticks(())\n",
    "plt.title('Predicted Clusters\\n k = 10')\n",
    "plt.show()"
   ]
  },
  {
   "cell_type": "markdown",
   "metadata": {},
   "source": [
    "As we could see above, the predicted 10 clusters are also very scattered and relatively 'centering around' for each cluster, which is reasonable, considering how few sample we have for clustering."
   ]
  },
  {
   "cell_type": "markdown",
   "metadata": {},
   "source": [
    "# Selecting Cluster Number\n",
    "\n",
    "We can select an optimal cluster number by identifying the lowest of the metrics listed above (e.g., V-measure), but often you don't have \"ground truth\" or labeled data. For identifying the \"best\" number of clusters in an unsupervised way, we demonstrate the Silhouette method. Many other methods also exist (e.g., Bayesian Information Criteria or BIC, the visual \"elbow criteria\", etc.)\n",
    "\n",
    "First we will define a helper function:"
   ]
  },
  {
   "cell_type": "code",
   "execution_count": 52,
   "metadata": {},
   "outputs": [],
   "source": [
    "def plotSilhouette(n_clusters, X):\n",
    "    fig, (ax1, ax2) = plt.subplots(ncols=2, figsize = (15,5))\n",
    "    \n",
    "    ax1.set_xlim([-0.1, 1])\n",
    "    ax1.set_ylim([0, len(X) + (n_clusters + 1) * 10])\n",
    "    clusterer = sklearn.cluster.KMeans(n_clusters=n_clusters, random_state=10)\n",
    "    cluster_labels = clusterer.fit_predict(X)\n",
    "    \n",
    "    silhouette_avg = sklearn.metrics.silhouette_score(X, cluster_labels)\n",
    "\n",
    "    # Compute the silhouette scores for each sample\n",
    "    sample_silhouette_values = sklearn.metrics.silhouette_samples(X, cluster_labels)\n",
    "\n",
    "    y_lower = 10\n",
    "    \n",
    "    for i in range(n_clusters):\n",
    "        ith_cluster_silhouette_values = sample_silhouette_values[cluster_labels == i]\n",
    "\n",
    "        ith_cluster_silhouette_values.sort()\n",
    "\n",
    "        size_cluster_i = ith_cluster_silhouette_values.shape[0]\n",
    "        y_upper = y_lower + size_cluster_i\n",
    "        cmap = matplotlib.cm.get_cmap(\"nipy_spectral\")\n",
    "        color = cmap(float(i) / n_clusters)\n",
    "        ax1.fill_betweenx(np.arange(y_lower, y_upper),\n",
    "                          0, ith_cluster_silhouette_values,\n",
    "                          facecolor=color, edgecolor=color, alpha=0.7)\n",
    "\n",
    "        ax1.text(-0.05, y_lower + 0.5 * size_cluster_i, str(i))\n",
    "\n",
    "        y_lower = y_upper + 10\n",
    "    \n",
    "    ax1.set_title(\"The silhouette plot for the various clusters.\")\n",
    "    ax1.set_xlabel(\"The silhouette coefficient values\")\n",
    "    ax1.set_ylabel(\"Cluster label\")\n",
    "\n",
    "    ax1.axvline(x=silhouette_avg, color=\"red\", linestyle=\"--\")\n",
    "\n",
    "    ax1.set_yticks([])  # Clear the yaxis labels / ticks\n",
    "    ax1.set_xticks([-0.1, 0, 0.2, 0.4, 0.6, 0.8, 1])\n",
    "\n",
    "    # 2nd Plot showing the actual clusters formed\n",
    "    cmap = matplotlib.cm.get_cmap(\"nipy_spectral\")\n",
    "    colors = cmap(float(i) / n_clusters)\n",
    "    ax2.scatter(reduced_data[:, 0], reduced_data[:, 1], marker='.', s=30, lw=0, alpha=0.7,\n",
    "                c=colors)\n",
    "\n",
    "    # Labeling the clusters\n",
    "    centers = clusterer.cluster_centers_\n",
    "    projected_centers = pca.transform(centers)\n",
    "    # Draw white circles at cluster centers\n",
    "    ax2.scatter(projected_centers[:, 0], projected_centers[:, 1],\n",
    "                marker='o', c=\"white\", alpha=1, s=200)\n",
    "\n",
    "    for i, c in enumerate(projected_centers):\n",
    "        ax2.scatter(c[0], c[1], marker='$%d$' % i, alpha=1, s=50)\n",
    "\n",
    "    ax2.set_title(\"The visualization of the clustered data.\")\n",
    "    ax2.set_xlabel(\"PC 1\")\n",
    "    ax2.set_ylabel(\"PC 2\")\n",
    "\n",
    "    plt.suptitle((\"Silhouette analysis for KMeans clustering on sample data \"\n",
    "                  \"with n_clusters = %d\" % n_clusters),\n",
    "                 fontsize=14, fontweight='bold')\n",
    "    plt.show()\n",
    "    print(\"For n_clusters = {}, The average silhouette_score is : {:.3f}\".format(n_clusters, silhouette_avg))"
   ]
  },
  {
   "cell_type": "markdown",
   "metadata": {},
   "source": [
    "Now we can examine a few different numbers of clusters: for example, let's start with 3 clusters."
   ]
  },
  {
   "cell_type": "code",
   "execution_count": 72,
   "metadata": {},
   "outputs": [
    {
     "name": "stderr",
     "output_type": "stream",
     "text": [
      "'c' argument looks like a single numeric RGB or RGBA sequence, which should be avoided as value-mapping will have precedence in case its length matches with 'x' & 'y'.  Please use a 2-D array with a single row if you really want to specify the same RGB or RGBA value for all points.\n"
     ]
    },
    {
     "data": {
      "image/png": "[encoded data removed]",
      "text/plain": [
       "<Figure size 1080x360 with 2 Axes>"
      ]
     },
     "metadata": {
      "needs_background": "light"
     },
     "output_type": "display_data"
    },
    {
     "name": "stdout",
     "output_type": "stream",
     "text": [
      "For n_clusters = 3, The average silhouette_score is : 0.022\n"
     ]
    }
   ],
   "source": [
    "X = conTFVects.toarray()\n",
    "plotSilhouette(3, X)"
   ]
  },
  {
   "cell_type": "markdown",
   "metadata": {},
   "source": [
    "As we could see, for 3 clusters, the silouette_score is really small; with 5 clusters, the score turns a little better:"
   ]
  },
  {
   "cell_type": "code",
   "execution_count": 54,
   "metadata": {},
   "outputs": [
    {
     "name": "stderr",
     "output_type": "stream",
     "text": [
      "'c' argument looks like a single numeric RGB or RGBA sequence, which should be avoided as value-mapping will have precedence in case its length matches with 'x' & 'y'.  Please use a 2-D array with a single row if you really want to specify the same RGB or RGBA value for all points.\n"
     ]
    },
    {
     "data": {
      "image/png": "[encoded data removed]",
      "text/plain": [
       "<Figure size 1080x360 with 2 Axes>"
      ]
     },
     "metadata": {
      "needs_background": "light"
     },
     "output_type": "display_data"
    },
    {
     "name": "stdout",
     "output_type": "stream",
     "text": [
      "For n_clusters = 5, The average silhouette_score is : 0.053\n"
     ]
    }
   ],
   "source": [
    "X = conTFVects.toarray()\n",
    "plotSilhouette(5, X)"
   ]
  },
  {
   "cell_type": "code",
   "execution_count": 56,
   "metadata": {},
   "outputs": [
    {
     "name": "stderr",
     "output_type": "stream",
     "text": [
      "'c' argument looks like a single numeric RGB or RGBA sequence, which should be avoided as value-mapping will have precedence in case its length matches with 'x' & 'y'.  Please use a 2-D array with a single row if you really want to specify the same RGB or RGBA value for all points.\n"
     ]
    },
    {
     "data": {
      "image/png": "[encoded data removed]",
      "text/plain": [
       "<Figure size 1080x360 with 2 Axes>"
      ]
     },
     "metadata": {
      "needs_background": "light"
     },
     "output_type": "display_data"
    },
    {
     "name": "stdout",
     "output_type": "stream",
     "text": [
      "For n_clusters = 8, The average silhouette_score is : 0.086\n"
     ]
    }
   ],
   "source": [
    "X = conTFVects.toarray()\n",
    "plotSilhouette(8, X)"
   ]
  },
  {
   "cell_type": "code",
   "execution_count": 57,
   "metadata": {},
   "outputs": [
    {
     "name": "stderr",
     "output_type": "stream",
     "text": [
      "'c' argument looks like a single numeric RGB or RGBA sequence, which should be avoided as value-mapping will have precedence in case its length matches with 'x' & 'y'.  Please use a 2-D array with a single row if you really want to specify the same RGB or RGBA value for all points.\n"
     ]
    },
    {
     "data": {
      "image/png": "[encoded data removed]",
      "text/plain": [
       "<Figure size 1080x360 with 2 Axes>"
      ]
     },
     "metadata": {
      "needs_background": "light"
     },
     "output_type": "display_data"
    },
    {
     "name": "stdout",
     "output_type": "stream",
     "text": [
      "For n_clusters = 10, The average silhouette_score is : 0.081\n"
     ]
    }
   ],
   "source": [
    "X = conTFVects.toarray()\n",
    "plotSilhouette(10, X)"
   ]
  },
  {
   "cell_type": "markdown",
   "metadata": {},
   "source": [
    "With 8 and 10, the silouetter score turns much better, and is highest with 8 clusters, which means for the original 10 clusters, some of them could be clustered together. However, consdiering the word features we have, a combination of semantic meaninful words and communication words, the clusters might also include some distinctive expression patterns as well, except for topics in the corpora."
   ]
  },
  {
   "cell_type": "markdown",
   "metadata": {},
   "source": [
    "## <span style=\"color:red\">*Exercise 2*</span>\n",
    "\n",
    "<span style=\"color:red\">Construct cells immediately below this that hierarchically cluster your documents using two approaches, and visualize them with a tree. Interrogate the recursive cluster contents in terms of both documents and closenesses. What does this nested cluster structure reveal about the organization of documents in your sampled corpora? Moreover, if they do worse than kmeans (as above), why do you think this is the case (hint: using metrics if you have ground truth or silhouette if you do not)? \n",
    "\n",
    "<span style=\"color:red\">***Stretch***: Attempt using different distances into your clustering algorithms. (How) do they change the arrangement of clusters?"
   ]
  },
  {
   "cell_type": "markdown",
   "metadata": {},
   "source": [
    "# Hierarchical Clustering with Wald's Method\n",
    "\n",
    "Next we approach a hierchical clustering method, which proposes nested clusters at any resolution (at the finest resolution, every document is its own cluster).\n",
    "\n",
    "Here we must begin by calculating how similar the documents are to one another.\n",
    "\n",
    "As a first pass, we take our matrix of word counts per document\n",
    "`conTFVects` and create a word occurrence matrix measuring how similar\n",
    "the documents are to each other based on their number of shared words. (Note one could perform the converse operation, a document occurrence matrix measuring how similar  words are to each other based on their number of collocated documents)."
   ]
  },
  {
   "cell_type": "code",
   "execution_count": 59,
   "metadata": {},
   "outputs": [
    {
     "data": {
      "text/plain": [
       "<29x626 sparse matrix of type '<class 'numpy.float64'>'\n",
       "\twith 2540 stored elements in Compressed Sparse Row format>"
      ]
     },
     "execution_count": 59,
     "metadata": {},
     "output_type": "execute_result"
    }
   ],
   "source": [
    "conTFVects"
   ]
  },
  {
   "cell_type": "code",
   "execution_count": 60,
   "metadata": {},
   "outputs": [
    {
     "data": {
      "text/plain": [
       "matrix([[0.        , 0.        , 0.        , ..., 0.        , 0.        ,\n",
       "         0.        ],\n",
       "        [0.        , 0.08379252, 0.        , ..., 0.        , 0.        ,\n",
       "         0.        ],\n",
       "        [0.        , 0.        , 0.        , ..., 0.        , 0.        ,\n",
       "         0.        ],\n",
       "        ...,\n",
       "        [0.        , 0.        , 0.        , ..., 0.        , 0.10224328,\n",
       "         0.        ],\n",
       "        [0.08103761, 0.        , 0.        , ..., 0.        , 0.        ,\n",
       "         0.        ],\n",
       "        [0.05242954, 0.04537845, 0.        , ..., 0.        , 0.        ,\n",
       "         0.        ]])"
      ]
     },
     "execution_count": 60,
     "metadata": {},
     "output_type": "execute_result"
    }
   ],
   "source": [
    "conTFVects[:100].todense()"
   ]
  },
  {
   "cell_type": "markdown",
   "metadata": {},
   "source": [
    "Build the word-coocurrence matrix: "
   ]
  },
  {
   "cell_type": "code",
   "execution_count": 61,
   "metadata": {},
   "outputs": [],
   "source": [
    "conCoocMat = conTFVects * conTFVects.T\n",
    "#set the diagonal to 0 since we don't care how similar texts are to themselves\n",
    "conCoocMat.setdiag(0)\n",
    "#Another way of relating the texts is with their cosine similarity\n",
    "#newsgroupsCosinMat1 = 1 - sklearn.metrics.pairwise.cosine_similarity(newsgroupsTFVects)\n",
    "#But generally word occurrence is more accurate"
   ]
  },
  {
   "cell_type": "markdown",
   "metadata": {},
   "source": [
    "Now we can compute a tree of nested clusters:"
   ]
  },
  {
   "cell_type": "code",
   "execution_count": 64,
   "metadata": {},
   "outputs": [
    {
     "name": "stderr",
     "output_type": "stream",
     "text": [
      "C:\\Users\\zhuangchu\\Anaconda3\\lib\\site-packages\\scipy\\cluster\\hierarchy.py:830: ClusterWarning: scipy.cluster: The symmetric non-negative hollow observation matrix looks suspiciously like an uncondensed distance matrix\n",
      "  return linkage(y, method='ward', metric='euclidean')\n"
     ]
    },
    {
     "data": {
      "text/plain": [
       "array([[ 8.        , 17.        ,  0.31380743,  2.        ],\n",
       "       [ 7.        , 27.        ,  0.31495028,  2.        ],\n",
       "       [16.        , 25.        ,  0.34606883,  2.        ],\n",
       "       [ 4.        , 30.        ,  0.34656313,  3.        ],\n",
       "       [20.        , 29.        ,  0.35332392,  3.        ],\n",
       "       [ 1.        , 14.        ,  0.36710432,  2.        ],\n",
       "       [12.        , 19.        ,  0.37187592,  2.        ],\n",
       "       [ 5.        , 11.        ,  0.39137167,  2.        ],\n",
       "       [ 2.        , 35.        ,  0.4015174 ,  3.        ],\n",
       "       [32.        , 34.        ,  0.41780782,  5.        ]])"
      ]
     },
     "execution_count": 64,
     "metadata": {},
     "output_type": "execute_result"
    }
   ],
   "source": [
    "linkage_matrix = scipy.cluster.hierarchy.ward(conCoocMat.toarray())\n",
    "linkage_matrix[:10]"
   ]
  },
  {
   "cell_type": "markdown",
   "metadata": {},
   "source": [
    "\n",
    "Now we can visualize the tree"
   ]
  },
  {
   "cell_type": "code",
   "execution_count": 65,
   "metadata": {},
   "outputs": [
    {
     "data": {
      "image/png": "[encoded data removed]",
      "text/plain": [
       "<Figure size 432x288 with 1 Axes>"
      ]
     },
     "metadata": {
      "needs_background": "light"
     },
     "output_type": "display_data"
    }
   ],
   "source": [
    "dendDat = scipy.cluster.hierarchy.dendrogram(linkage_matrix, get_leaves=True)"
   ]
  },
  {
   "cell_type": "markdown",
   "metadata": {},
   "source": [
    "Interrogate the wald hierarchical finding with topic and condition information: I found that for most topics, they are scattered in the tree, only for topic 11 (death penalty), the corpora are more closely clustered together (0,1,27, but still a little bit far away).\n",
    "\n",
    "However, what is really interesting is most corpora in TYB condition are clustered together in the left 'blue' branch (8/11 are in TYB condition), while more corpora in NB condition are clustered in the right 'purple' brandh (11/17 are in NB condition).\n",
    "\n",
    "Therefore we might infer that linguistic expressions are kind of different between conditions. The influence of features from these two conditions is inneglectable. I am also wondering how we could better extract those features and expression patterns to more clearly separate the two conditions. Actually will these features are irrelavant with topics related features? "
   ]
  },
  {
   "cell_type": "code",
   "execution_count": 66,
   "metadata": {},
   "outputs": [
    {
     "data": {
      "text/html": [
       "<div>\n",
       "<style scoped>\n",
       "    .dataframe tbody tr th:only-of-type {\n",
       "        vertical-align: middle;\n",
       "    }\n",
       "\n",
       "    .dataframe tbody tr th {\n",
       "        vertical-align: top;\n",
       "    }\n",
       "\n",
       "    .dataframe thead th {\n",
       "        text-align: right;\n",
       "    }\n",
       "</style>\n",
       "<table border=\"1\" class=\"dataframe\">\n",
       "  <thead>\n",
       "    <tr style=\"text-align: right;\">\n",
       "      <th></th>\n",
       "      <th>condition</th>\n",
       "      <th>topic</th>\n",
       "      <th>conversation_txt</th>\n",
       "    </tr>\n",
       "  </thead>\n",
       "  <tbody>\n",
       "    <tr>\n",
       "      <th>0</th>\n",
       "      <td>NB</td>\n",
       "      <td>11</td>\n",
       "      <td>Okay, so uh, I guess they said we should start...</td>\n",
       "    </tr>\n",
       "    <tr>\n",
       "      <th>1</th>\n",
       "      <td>TYB</td>\n",
       "      <td>11</td>\n",
       "      <td>So I don't really I think I said--yes, everyon...</td>\n",
       "    </tr>\n",
       "    <tr>\n",
       "      <th>2</th>\n",
       "      <td>NB</td>\n",
       "      <td>2</td>\n",
       "      <td>So I, when I read this question I thought abou...</td>\n",
       "    </tr>\n",
       "    <tr>\n",
       "      <th>3</th>\n",
       "      <td>TYB</td>\n",
       "      <td>2</td>\n",
       "      <td>Okay so you--What's your opinion on this? I st...</td>\n",
       "    </tr>\n",
       "    <tr>\n",
       "      <th>4</th>\n",
       "      <td>TYB</td>\n",
       "      <td>5</td>\n",
       "      <td>Experimenter  0:00   This is this is group num...</td>\n",
       "    </tr>\n",
       "    <tr>\n",
       "      <th>5</th>\n",
       "      <td>NB</td>\n",
       "      <td>7</td>\n",
       "      <td>Yea, so so so. What do you--what do you person...</td>\n",
       "    </tr>\n",
       "    <tr>\n",
       "      <th>6</th>\n",
       "      <td>NB</td>\n",
       "      <td>7</td>\n",
       "      <td>Okay, um, so I put a four, I like very minorly...</td>\n",
       "    </tr>\n",
       "    <tr>\n",
       "      <th>7</th>\n",
       "      <td>TYB</td>\n",
       "      <td>1</td>\n",
       "      <td>Unknown Speaker  0:01   [inaudible] Um OK--I s...</td>\n",
       "    </tr>\n",
       "    <tr>\n",
       "      <th>8</th>\n",
       "      <td>NB</td>\n",
       "      <td>1</td>\n",
       "      <td>Oh, okay, um, so I felt like uh--I feel like I...</td>\n",
       "    </tr>\n",
       "    <tr>\n",
       "      <th>9</th>\n",
       "      <td>TYB</td>\n",
       "      <td>9</td>\n",
       "      <td>So I disagree with this  because um I think ne...</td>\n",
       "    </tr>\n",
       "    <tr>\n",
       "      <th>10</th>\n",
       "      <td>TYB</td>\n",
       "      <td>9</td>\n",
       "      <td>Okay, so I put strongly agree, because I just ...</td>\n",
       "    </tr>\n",
       "    <tr>\n",
       "      <th>11</th>\n",
       "      <td>NB</td>\n",
       "      <td>12</td>\n",
       "      <td>Umm okay, so I said Ivy schools should be.. I ...</td>\n",
       "    </tr>\n",
       "    <tr>\n",
       "      <th>12</th>\n",
       "      <td>NB</td>\n",
       "      <td>12</td>\n",
       "      <td>Awesome. Well-- Okay--  I think I remember say...</td>\n",
       "    </tr>\n",
       "    <tr>\n",
       "      <th>13</th>\n",
       "      <td>TYB</td>\n",
       "      <td>6</td>\n",
       "      <td>Okay, cool. Do you remember what you said for...</td>\n",
       "    </tr>\n",
       "    <tr>\n",
       "      <th>14</th>\n",
       "      <td>NB</td>\n",
       "      <td>6</td>\n",
       "      <td>Okay, so I believe I was against this, that m...</td>\n",
       "    </tr>\n",
       "    <tr>\n",
       "      <th>15</th>\n",
       "      <td>TYB</td>\n",
       "      <td>5</td>\n",
       "      <td>Okay, well, um, I remember that I agreed somew...</td>\n",
       "    </tr>\n",
       "    <tr>\n",
       "      <th>16</th>\n",
       "      <td>NB</td>\n",
       "      <td>9</td>\n",
       "      <td>So, I personally think physician assisted suic...</td>\n",
       "    </tr>\n",
       "    <tr>\n",
       "      <th>17</th>\n",
       "      <td>NB</td>\n",
       "      <td>5</td>\n",
       "      <td>Yeah, so, um… I believe that Ivy League school...</td>\n",
       "    </tr>\n",
       "    <tr>\n",
       "      <th>18</th>\n",
       "      <td>TYB</td>\n",
       "      <td>10</td>\n",
       "      <td>So, um, I think I chose I strongly ag- disagre...</td>\n",
       "    </tr>\n",
       "    <tr>\n",
       "      <th>19</th>\n",
       "      <td>NB</td>\n",
       "      <td>10</td>\n",
       "      <td>So I think something that I don't know. This i...</td>\n",
       "    </tr>\n",
       "    <tr>\n",
       "      <th>20</th>\n",
       "      <td>TYB</td>\n",
       "      <td>9</td>\n",
       "      <td>Okay. hmm. I thought that they should be prett...</td>\n",
       "    </tr>\n",
       "    <tr>\n",
       "      <th>21</th>\n",
       "      <td>NB</td>\n",
       "      <td>9</td>\n",
       "      <td>So great. You should never use iPads as choice...</td>\n",
       "    </tr>\n",
       "    <tr>\n",
       "      <th>22</th>\n",
       "      <td>TYB</td>\n",
       "      <td>8</td>\n",
       "      <td>Um, I think, I, well, I guess when I buy skin ...</td>\n",
       "    </tr>\n",
       "    <tr>\n",
       "      <th>23</th>\n",
       "      <td>NB</td>\n",
       "      <td>8</td>\n",
       "      <td>Hmm. The reason why I disagreed with the state...</td>\n",
       "    </tr>\n",
       "    <tr>\n",
       "      <th>24</th>\n",
       "      <td>TYB</td>\n",
       "      <td>8</td>\n",
       "      <td>I think people should avoid walking across the...</td>\n",
       "    </tr>\n",
       "    <tr>\n",
       "      <th>25</th>\n",
       "      <td>NB</td>\n",
       "      <td>8</td>\n",
       "      <td>Um I think real large, I'm I'm I'm more or les...</td>\n",
       "    </tr>\n",
       "    <tr>\n",
       "      <th>26</th>\n",
       "      <td>TYB</td>\n",
       "      <td>5</td>\n",
       "      <td>So I said that, um I think the parents should ...</td>\n",
       "    </tr>\n",
       "    <tr>\n",
       "      <th>27</th>\n",
       "      <td>TYB</td>\n",
       "      <td>11</td>\n",
       "      <td>Experimenter  0:00   This is group 57 discussi...</td>\n",
       "    </tr>\n",
       "    <tr>\n",
       "      <th>28</th>\n",
       "      <td>TYB</td>\n",
       "      <td>12</td>\n",
       "      <td>Experimenter  0:00   This is group number 60 d...</td>\n",
       "    </tr>\n",
       "  </tbody>\n",
       "</table>\n",
       "</div>"
      ],
      "text/plain": [
       "   condition  topic                                   conversation_txt\n",
       "0         NB     11  Okay, so uh, I guess they said we should start...\n",
       "1        TYB     11  So I don't really I think I said--yes, everyon...\n",
       "2         NB      2  So I, when I read this question I thought abou...\n",
       "3        TYB      2  Okay so you--What's your opinion on this? I st...\n",
       "4        TYB      5  Experimenter  0:00   This is this is group num...\n",
       "5         NB      7  Yea, so so so. What do you--what do you person...\n",
       "6         NB      7  Okay, um, so I put a four, I like very minorly...\n",
       "7        TYB      1  Unknown Speaker  0:01   [inaudible] Um OK--I s...\n",
       "8         NB      1  Oh, okay, um, so I felt like uh--I feel like I...\n",
       "9        TYB      9  So I disagree with this  because um I think ne...\n",
       "10       TYB      9  Okay, so I put strongly agree, because I just ...\n",
       "11        NB     12  Umm okay, so I said Ivy schools should be.. I ...\n",
       "12        NB     12  Awesome. Well-- Okay--  I think I remember say...\n",
       "13       TYB      6   Okay, cool. Do you remember what you said for...\n",
       "14        NB      6   Okay, so I believe I was against this, that m...\n",
       "15       TYB      5  Okay, well, um, I remember that I agreed somew...\n",
       "16        NB      9  So, I personally think physician assisted suic...\n",
       "17        NB      5  Yeah, so, um… I believe that Ivy League school...\n",
       "18       TYB     10  So, um, I think I chose I strongly ag- disagre...\n",
       "19        NB     10  So I think something that I don't know. This i...\n",
       "20       TYB      9  Okay. hmm. I thought that they should be prett...\n",
       "21        NB      9  So great. You should never use iPads as choice...\n",
       "22       TYB      8  Um, I think, I, well, I guess when I buy skin ...\n",
       "23        NB      8  Hmm. The reason why I disagreed with the state...\n",
       "24       TYB      8  I think people should avoid walking across the...\n",
       "25        NB      8  Um I think real large, I'm I'm I'm more or les...\n",
       "26       TYB      5  So I said that, um I think the parents should ...\n",
       "27       TYB     11  Experimenter  0:00   This is group 57 discussi...\n",
       "28       TYB     12  Experimenter  0:00   This is group number 60 d..."
      ]
     },
     "execution_count": 66,
     "metadata": {},
     "output_type": "execute_result"
    }
   ],
   "source": [
    "df_con2[['condition','topic','conversation_txt']]"
   ]
  },
  {
   "cell_type": "markdown",
   "metadata": {},
   "source": [
    "Another approach involves cutting the tree into `n` branches. We can do this with [`fcluster()`](https://docs.scipy.org/doc/scipy/reference/generated/scipy.cluster.hierarchy.fcluster.html#scipy.cluster.hierarchy.fcluster). Lets break the tree into 10 clusters. When we do this with all of the data in the dataframe, as below, we can add those clusters back for detailed evaluation.\n"
   ]
  },
  {
   "cell_type": "code",
   "execution_count": 73,
   "metadata": {},
   "outputs": [
    {
     "data": {
      "text/plain": [
       "array([ 7,  7,  7,  3,  7,  6,  4,  7,  7,  4,  8,  6,  7, 10,  7,  9,  7,\n",
       "        7,  7,  7,  7,  5,  3,  2,  1,  7,  4,  7,  1], dtype=int32)"
      ]
     },
     "execution_count": 73,
     "metadata": {},
     "output_type": "execute_result"
    }
   ],
   "source": [
    "hierarchicalClusters = scipy.cluster.hierarchy.fcluster(linkage_matrix, 10, 'maxclust')\n",
    "hierarchicalClusters"
   ]
  },
  {
   "cell_type": "code",
   "execution_count": 75,
   "metadata": {},
   "outputs": [
    {
     "name": "stderr",
     "output_type": "stream",
     "text": [
      "C:\\Users\\zhuangchu\\Anaconda3\\lib\\site-packages\\scipy\\cluster\\hierarchy.py:830: ClusterWarning: scipy.cluster: The symmetric non-negative hollow observation matrix looks suspiciously like an uncondensed distance matrix\n",
      "  return linkage(y, method='ward', metric='euclidean')\n"
     ]
    },
    {
     "name": "stdout",
     "output_type": "stream",
     "text": [
      "For our complete clusters:\n",
      "Homogeneity: 0.154\n",
      "Completeness: 0.387\n",
      "V-measure: 0.220\n",
      "Adjusted Rand Score: -0.014\n"
     ]
    }
   ],
   "source": [
    "linkage_matrix_full = scipy.cluster.hierarchy.ward(conCoocMat.toarray())\n",
    "hierarchicalClusters_full = scipy.cluster.hierarchy.fcluster(linkage_matrix_full, 4, 'maxclust')\n",
    "print(\"For our complete clusters:\")\n",
    "print(\"Homogeneity: {:0.3f}\".format(sklearn.metrics.homogeneity_score(df_con2['topic'], hierarchicalClusters_full)))\n",
    "print(\"Completeness: {:0.3f}\".format(sklearn.metrics.completeness_score(df_con2['topic'], hierarchicalClusters_full)))\n",
    "print(\"V-measure: {:0.3f}\".format(sklearn.metrics.v_measure_score(df_con2['topic'], hierarchicalClusters_full)))\n",
    "print(\"Adjusted Rand Score: {:0.3f}\".format(sklearn.metrics.adjusted_rand_score(df_con2['topic'], hierarchicalClusters_full)))"
   ]
  },
  {
   "cell_type": "markdown",
   "metadata": {},
   "source": [
    "Not suprising, Wald Hierarchical clustering does not perform well for the 10 topic clustering, even worse below the chance.Especially for Homegeneity, the Wald hiearchical clustering does not perform well that it tends to group corpora from differernt topics into one category. \n",
    "\n",
    "How about trying to cut the corpora into 2 branches, and test with 'condition' labeling?"
   ]
  },
  {
   "cell_type": "code",
   "execution_count": 76,
   "metadata": {},
   "outputs": [
    {
     "data": {
      "text/plain": [
       "array([1, 1, 1, 1, 1, 1, 1, 1, 1, 1, 1, 1, 1, 2, 1, 1, 1, 1, 1, 1, 1, 1,\n",
       "       1, 1, 1, 1, 1, 1, 1], dtype=int32)"
      ]
     },
     "execution_count": 76,
     "metadata": {},
     "output_type": "execute_result"
    }
   ],
   "source": [
    "hierarchicalClusters = scipy.cluster.hierarchy.fcluster(linkage_matrix, 2, 'maxclust')\n",
    "hierarchicalClusters"
   ]
  },
  {
   "cell_type": "markdown",
   "metadata": {},
   "source": [
    "As we could see above from the returned label, it is not very ideal, almost all corpora was assigned with label 1, only 1 with 2. Wald hierchial clustering does not suit well in our dataset with so many confounding information."
   ]
  },
  {
   "cell_type": "code",
   "execution_count": 77,
   "metadata": {},
   "outputs": [
    {
     "name": "stderr",
     "output_type": "stream",
     "text": [
      "C:\\Users\\zhuangchu\\Anaconda3\\lib\\site-packages\\scipy\\cluster\\hierarchy.py:830: ClusterWarning: scipy.cluster: The symmetric non-negative hollow observation matrix looks suspiciously like an uncondensed distance matrix\n",
      "  return linkage(y, method='ward', metric='euclidean')\n"
     ]
    },
    {
     "name": "stdout",
     "output_type": "stream",
     "text": [
      "For our complete clusters:\n",
      "Homogeneity: 0.116\n",
      "Completeness: 0.090\n",
      "V-measure: 0.101\n",
      "Adjusted Rand Score: 0.027\n"
     ]
    }
   ],
   "source": [
    "linkage_matrix_full = scipy.cluster.hierarchy.ward(conCoocMat.toarray())\n",
    "hierarchicalClusters_full = scipy.cluster.hierarchy.fcluster(linkage_matrix_full, 4, 'maxclust')\n",
    "print(\"For our complete clusters:\")\n",
    "print(\"Homogeneity: {:0.3f}\".format(sklearn.metrics.homogeneity_score(df_con2['condition'], hierarchicalClusters_full)))\n",
    "print(\"Completeness: {:0.3f}\".format(sklearn.metrics.completeness_score(df_con2['condition'], hierarchicalClusters_full)))\n",
    "print(\"V-measure: {:0.3f}\".format(sklearn.metrics.v_measure_score(df_con2['condition'], hierarchicalClusters_full)))\n",
    "print(\"Adjusted Rand Score: {:0.3f}\".format(sklearn.metrics.adjusted_rand_score(df_con2['condition'], hierarchicalClusters_full)))"
   ]
  },
  {
   "cell_type": "markdown",
   "metadata": {},
   "source": [
    "## <span style=\"color:red\">*Exercise 3*</span>\n",
    "\n",
    "<span style=\"color:red\">Construct cells immediately below this that topic model documents related to your anticipated final project. Interrogate and visually plot (e.g., as a bar graph?) the topic-word loadings and the document-topic loadings. What does this topic structure reveal about the distribution of contents across your documents? Systematically vary the $\\alpha$, $\\eta$, and topic number of the model for your text and describe in detail whether and how these changes led to distinctive outcomes, visible to you as analyst.  \n",
    "\n",
    "<span style=\"color:red\">**Stretch**: Cluster your documents, but instead of using words alone, use their topic loadings as an additional set of features. Do these topic loadings increase the apparent semantic coherence of your clusters?</span> "
   ]
  },
  {
   "cell_type": "markdown",
   "metadata": {},
   "source": [
    "# Gensim\n",
    "\n",
    "To do topic modeling we will also be using data from the [grimmer press releases corpus](ttps://github.com/lintool/GrimmerSenatePressReleases). To use the texts with gensim we need to create a `corpua` object, this takes a few steps. First we create a `Dictionary` that maps tokens to ids."
   ]
  },
  {
   "cell_type": "code",
   "execution_count": 94,
   "metadata": {},
   "outputs": [],
   "source": [
    "#normalization function interested for our corpora, not excluding 'I', 'You' and other stopwords\n",
    "import spacy\n",
    "nlp = spacy.load(\"en\")\n",
    "stop_words_freq=['that','this','the','it','a','to',\"'s\",'of',\"n't\",'is','be']\n",
    "\n",
    "#function for normalization, filtering as we want \n",
    "def normalizeTokens2(word_list, extra_stop=stop_words_freq):\n",
    "    #We can use a generator here as we just need to iterate over it\n",
    "    normalized = []\n",
    "    if type(word_list) == list and len(word_list) == 1:\n",
    "        word_list = word_list[0]\n",
    "\n",
    "    if type(word_list) == list:\n",
    "        word_list = ' '.join([str(elem) for elem in word_list]) \n",
    "\n",
    "    doc = nlp(word_list.lower())\n",
    "    \n",
    "    # add the property of stop word to words considered as stop words\n",
    "    if len(extra_stop) > 0:\n",
    "        for stopword in extra_stop:\n",
    "            lexeme = nlp.vocab[stopword]\n",
    "            lexeme.is_stop = True\n",
    "\n",
    "    for w in doc:\n",
    "        #print(w,w.text,w.lemma_)\n",
    "        # if it's not a stop word or punctuation mark, add it to our article\n",
    "        if w.text != '\\n' and not w.is_punct and not w.like_num and len(w.text.strip()) > 0:\n",
    "            # we add the lematized version of the word\n",
    "            if w.text not in stop_words_freq:\n",
    "                if w.lemma_!='-PRON-':\n",
    "                    normalized.append(str(w.lemma_))\n",
    "                else:\n",
    "                    normalized.append(str(w.text))\n",
    "\n",
    "    return normalized"
   ]
  },
  {
   "cell_type": "code",
   "execution_count": 95,
   "metadata": {},
   "outputs": [],
   "source": [
    "#preprocessing our data\n",
    "df_con2['tokenized_text_all'] = df_con2['conversation_txt'].apply(lambda x: lucem_illud_2020.word_tokenize(x))\n",
    "df_con2['normalized_token_all'] = df_con2['tokenized_text_all'].apply(lambda x: normalizeTokens2(x))\n",
    "#also try with the basic normalization functions which will filter out all those stopwords\n",
    "df_con2['normalized_token_all2'] = df_con2['tokenized_text_all'].apply(lambda x: lucem_illud_2020.normalizeTokens(x))"
   ]
  },
  {
   "cell_type": "code",
   "execution_count": 99,
   "metadata": {},
   "outputs": [],
   "source": [
    "#also applying TF-IDF filtering to the corpora\n",
    "def dropMissing(wordLst, vocab):\n",
    "    return [w for w in wordLst if w in vocab]\n",
    "\n",
    "#not filtering 'I', 'You'\n",
    "df_con2['reduced_tokens_all'] =df_con2['normalized_token_all'].apply(lambda x: dropMissing(x, conTFVectorizer.vocabulary_.keys()))\n",
    "\n",
    "#filtering 'I','You' and other stopwords\n",
    "df_con2['reduced_tokens_all2'] =df_con2['normalized_token_all2'].apply(lambda x: dropMissing(x, conTFVectorizer.vocabulary_.keys()))"
   ]
  },
  {
   "cell_type": "markdown",
   "metadata": {},
   "source": [
    "\n",
    "Then for each of the texts we create a list of tuples containing each token and its count. We will only use the first half of our dataset for now and will save the remainder for testing."
   ]
  },
  {
   "cell_type": "code",
   "execution_count": 100,
   "metadata": {},
   "outputs": [],
   "source": [
    "dictionary = gensim.corpora.Dictionary(df_con2['reduced_tokens_all'])\n",
    "corpus = [dictionary.doc2bow(text) for text in df_con2['reduced_tokens_all']]\n",
    "\n",
    "dictionary2 = gensim.corpora.Dictionary(df_con2['reduced_tokens_all2'])\n",
    "corpus2 = [dictionary2.doc2bow(text) for text in df_con2['reduced_tokens_all2']]"
   ]
  },
  {
   "cell_type": "markdown",
   "metadata": {},
   "source": [
    "Then we serialize the corpus as a file and load it. This is an important step when the corpus is large."
   ]
  },
  {
   "cell_type": "code",
   "execution_count": 101,
   "metadata": {},
   "outputs": [],
   "source": [
    "gensim.corpora.MmCorpus.serialize('con_corpora.mm', corpus)\n",
    "conmm = gensim.corpora.MmCorpus('con_corpora.mm')"
   ]
  },
  {
   "cell_type": "code",
   "execution_count": 102,
   "metadata": {},
   "outputs": [],
   "source": [
    "gensim.corpora.MmCorpus.serialize('con_corpora2.mm', corpus2)\n",
    "conmm2 = gensim.corpora.MmCorpus('con_corpora2.mm')"
   ]
  },
  {
   "cell_type": "markdown",
   "metadata": {},
   "source": [
    "Now we have a correctly formatted corpus that we can use for topic modeling and induction.\n",
    "And then we build the topic models: with the most default parameters (not filtering 'I' 'You', 10 topics, auto alpha and eta)"
   ]
  },
  {
   "cell_type": "code",
   "execution_count": 123,
   "metadata": {},
   "outputs": [],
   "source": [
    "conlda = gensim.models.ldamodel.LdaModel(corpus=conmm, id2word=dictionary, num_topics=10, alpha='auto', eta='auto')"
   ]
  },
  {
   "cell_type": "markdown",
   "metadata": {},
   "source": [
    "We can now see how our model predicts the topic of each conversation and make this into a `dataFrame` for later analysis"
   ]
  },
  {
   "cell_type": "code",
   "execution_count": 104,
   "metadata": {},
   "outputs": [],
   "source": [
    "ldaDF = pandas.DataFrame({\n",
    "        'name' : df_con2['topic'],  #change the name to the topic num\n",
    "        'topics' : [conlda[dictionary.doc2bow(l)] for l in df_con2['reduced_tokens_all']]\n",
    "    })"
   ]
  },
  {
   "cell_type": "code",
   "execution_count": 178,
   "metadata": {},
   "outputs": [],
   "source": [
    "#fit the predicted probability into separate columns in a dataframe\n",
    "#Dict to temporally hold the probabilities\n",
    "topicsProbDict = {i : [0] * len(ldaDF) for i in range(conlda.num_topics)}\n",
    "\n",
    "#Load them into the dict\n",
    "for index, topicTuples in enumerate(ldaDF['topics']):\n",
    "    for topicNum, prob in topicTuples:\n",
    "        topicsProbDict[topicNum][index] = prob\n",
    "\n",
    "#Update the DataFrame\n",
    "for topicNum in range(conlda.num_topics):\n",
    "    ldaDF['topic_{}'.format(topicNum)] = topicsProbDict[topicNum]"
   ]
  },
  {
   "cell_type": "code",
   "execution_count": 107,
   "metadata": {},
   "outputs": [
    {
     "data": {
      "text/html": [
       "<div>\n",
       "<style scoped>\n",
       "    .dataframe tbody tr th:only-of-type {\n",
       "        vertical-align: middle;\n",
       "    }\n",
       "\n",
       "    .dataframe tbody tr th {\n",
       "        vertical-align: top;\n",
       "    }\n",
       "\n",
       "    .dataframe thead th {\n",
       "        text-align: right;\n",
       "    }\n",
       "</style>\n",
       "<table border=\"1\" class=\"dataframe\">\n",
       "  <thead>\n",
       "    <tr style=\"text-align: right;\">\n",
       "      <th></th>\n",
       "      <th>name</th>\n",
       "      <th>topics</th>\n",
       "      <th>topic_0</th>\n",
       "      <th>topic_1</th>\n",
       "      <th>topic_2</th>\n",
       "      <th>topic_3</th>\n",
       "      <th>topic_4</th>\n",
       "      <th>topic_5</th>\n",
       "      <th>topic_6</th>\n",
       "      <th>topic_7</th>\n",
       "      <th>topic_8</th>\n",
       "      <th>topic_9</th>\n",
       "    </tr>\n",
       "  </thead>\n",
       "  <tbody>\n",
       "    <tr>\n",
       "      <th>0</th>\n",
       "      <td>11</td>\n",
       "      <td>[(0, 0.11214415), (2, 0.16760561), (8, 0.25419...</td>\n",
       "      <td>0.112144</td>\n",
       "      <td>0.000000</td>\n",
       "      <td>0.167606</td>\n",
       "      <td>0.000000</td>\n",
       "      <td>0.0</td>\n",
       "      <td>0.0</td>\n",
       "      <td>0.000000</td>\n",
       "      <td>0.0</td>\n",
       "      <td>0.254196</td>\n",
       "      <td>0.460526</td>\n",
       "    </tr>\n",
       "    <tr>\n",
       "      <th>1</th>\n",
       "      <td>11</td>\n",
       "      <td>[(3, 0.987652)]</td>\n",
       "      <td>0.000000</td>\n",
       "      <td>0.000000</td>\n",
       "      <td>0.000000</td>\n",
       "      <td>0.987652</td>\n",
       "      <td>0.0</td>\n",
       "      <td>0.0</td>\n",
       "      <td>0.000000</td>\n",
       "      <td>0.0</td>\n",
       "      <td>0.000000</td>\n",
       "      <td>0.000000</td>\n",
       "    </tr>\n",
       "    <tr>\n",
       "      <th>2</th>\n",
       "      <td>2</td>\n",
       "      <td>[(8, 0.99163574)]</td>\n",
       "      <td>0.000000</td>\n",
       "      <td>0.000000</td>\n",
       "      <td>0.000000</td>\n",
       "      <td>0.000000</td>\n",
       "      <td>0.0</td>\n",
       "      <td>0.0</td>\n",
       "      <td>0.000000</td>\n",
       "      <td>0.0</td>\n",
       "      <td>0.991636</td>\n",
       "      <td>0.000000</td>\n",
       "    </tr>\n",
       "    <tr>\n",
       "      <th>3</th>\n",
       "      <td>2</td>\n",
       "      <td>[(3, 0.85386103), (9, 0.13684922)]</td>\n",
       "      <td>0.000000</td>\n",
       "      <td>0.000000</td>\n",
       "      <td>0.000000</td>\n",
       "      <td>0.853861</td>\n",
       "      <td>0.0</td>\n",
       "      <td>0.0</td>\n",
       "      <td>0.000000</td>\n",
       "      <td>0.0</td>\n",
       "      <td>0.000000</td>\n",
       "      <td>0.136849</td>\n",
       "    </tr>\n",
       "    <tr>\n",
       "      <th>4</th>\n",
       "      <td>5</td>\n",
       "      <td>[(0, 0.053644203), (1, 0.19142152), (3, 0.1997...</td>\n",
       "      <td>0.053644</td>\n",
       "      <td>0.191422</td>\n",
       "      <td>0.000000</td>\n",
       "      <td>0.199741</td>\n",
       "      <td>0.0</td>\n",
       "      <td>0.0</td>\n",
       "      <td>0.534627</td>\n",
       "      <td>0.0</td>\n",
       "      <td>0.015589</td>\n",
       "      <td>0.000000</td>\n",
       "    </tr>\n",
       "  </tbody>\n",
       "</table>\n",
       "</div>"
      ],
      "text/plain": [
       "   name                                             topics   topic_0  \\\n",
       "0    11  [(0, 0.11214415), (2, 0.16760561), (8, 0.25419...  0.112144   \n",
       "1    11                                    [(3, 0.987652)]  0.000000   \n",
       "2     2                                  [(8, 0.99163574)]  0.000000   \n",
       "3     2                 [(3, 0.85386103), (9, 0.13684922)]  0.000000   \n",
       "4     5  [(0, 0.053644203), (1, 0.19142152), (3, 0.1997...  0.053644   \n",
       "\n",
       "    topic_1   topic_2   topic_3  topic_4  topic_5   topic_6  topic_7  \\\n",
       "0  0.000000  0.167606  0.000000      0.0      0.0  0.000000      0.0   \n",
       "1  0.000000  0.000000  0.987652      0.0      0.0  0.000000      0.0   \n",
       "2  0.000000  0.000000  0.000000      0.0      0.0  0.000000      0.0   \n",
       "3  0.000000  0.000000  0.853861      0.0      0.0  0.000000      0.0   \n",
       "4  0.191422  0.000000  0.199741      0.0      0.0  0.534627      0.0   \n",
       "\n",
       "    topic_8   topic_9  \n",
       "0  0.254196  0.460526  \n",
       "1  0.000000  0.000000  \n",
       "2  0.991636  0.000000  \n",
       "3  0.000000  0.136849  \n",
       "4  0.015589  0.000000  "
      ]
     },
     "execution_count": 107,
     "metadata": {},
     "output_type": "execute_result"
    }
   ],
   "source": [
    "ldaDF.head()"
   ]
  },
  {
   "cell_type": "markdown",
   "metadata": {},
   "source": [
    "Now let's visualize this for several (e.g.15) documents in the corpus. First we'll subset the data:"
   ]
  },
  {
   "cell_type": "code",
   "execution_count": 111,
   "metadata": {},
   "outputs": [
    {
     "data": {
      "text/html": [
       "<div>\n",
       "<style scoped>\n",
       "    .dataframe tbody tr th:only-of-type {\n",
       "        vertical-align: middle;\n",
       "    }\n",
       "\n",
       "    .dataframe tbody tr th {\n",
       "        vertical-align: top;\n",
       "    }\n",
       "\n",
       "    .dataframe thead th {\n",
       "        text-align: right;\n",
       "    }\n",
       "</style>\n",
       "<table border=\"1\" class=\"dataframe\">\n",
       "  <thead>\n",
       "    <tr style=\"text-align: right;\">\n",
       "      <th></th>\n",
       "      <th>topic_0</th>\n",
       "      <th>topic_1</th>\n",
       "      <th>topic_2</th>\n",
       "      <th>topic_3</th>\n",
       "      <th>topic_4</th>\n",
       "      <th>topic_5</th>\n",
       "      <th>topic_6</th>\n",
       "      <th>topic_7</th>\n",
       "      <th>topic_8</th>\n",
       "      <th>topic_9</th>\n",
       "    </tr>\n",
       "  </thead>\n",
       "  <tbody>\n",
       "    <tr>\n",
       "      <th>0</th>\n",
       "      <td>0.112144</td>\n",
       "      <td>0.000000</td>\n",
       "      <td>0.167606</td>\n",
       "      <td>0.000000</td>\n",
       "      <td>0.00000</td>\n",
       "      <td>0.0</td>\n",
       "      <td>0.000000</td>\n",
       "      <td>0.000000</td>\n",
       "      <td>0.254196</td>\n",
       "      <td>0.460526</td>\n",
       "    </tr>\n",
       "    <tr>\n",
       "      <th>1</th>\n",
       "      <td>0.000000</td>\n",
       "      <td>0.000000</td>\n",
       "      <td>0.000000</td>\n",
       "      <td>0.987652</td>\n",
       "      <td>0.00000</td>\n",
       "      <td>0.0</td>\n",
       "      <td>0.000000</td>\n",
       "      <td>0.000000</td>\n",
       "      <td>0.000000</td>\n",
       "      <td>0.000000</td>\n",
       "    </tr>\n",
       "    <tr>\n",
       "      <th>2</th>\n",
       "      <td>0.000000</td>\n",
       "      <td>0.000000</td>\n",
       "      <td>0.000000</td>\n",
       "      <td>0.000000</td>\n",
       "      <td>0.00000</td>\n",
       "      <td>0.0</td>\n",
       "      <td>0.000000</td>\n",
       "      <td>0.000000</td>\n",
       "      <td>0.991636</td>\n",
       "      <td>0.000000</td>\n",
       "    </tr>\n",
       "    <tr>\n",
       "      <th>3</th>\n",
       "      <td>0.000000</td>\n",
       "      <td>0.000000</td>\n",
       "      <td>0.000000</td>\n",
       "      <td>0.853861</td>\n",
       "      <td>0.00000</td>\n",
       "      <td>0.0</td>\n",
       "      <td>0.000000</td>\n",
       "      <td>0.000000</td>\n",
       "      <td>0.000000</td>\n",
       "      <td>0.136849</td>\n",
       "    </tr>\n",
       "    <tr>\n",
       "      <th>4</th>\n",
       "      <td>0.053644</td>\n",
       "      <td>0.191422</td>\n",
       "      <td>0.000000</td>\n",
       "      <td>0.199741</td>\n",
       "      <td>0.00000</td>\n",
       "      <td>0.0</td>\n",
       "      <td>0.534627</td>\n",
       "      <td>0.000000</td>\n",
       "      <td>0.015589</td>\n",
       "      <td>0.000000</td>\n",
       "    </tr>\n",
       "    <tr>\n",
       "      <th>5</th>\n",
       "      <td>0.000000</td>\n",
       "      <td>0.000000</td>\n",
       "      <td>0.000000</td>\n",
       "      <td>0.000000</td>\n",
       "      <td>0.98935</td>\n",
       "      <td>0.0</td>\n",
       "      <td>0.000000</td>\n",
       "      <td>0.000000</td>\n",
       "      <td>0.000000</td>\n",
       "      <td>0.000000</td>\n",
       "    </tr>\n",
       "    <tr>\n",
       "      <th>6</th>\n",
       "      <td>0.000000</td>\n",
       "      <td>0.989389</td>\n",
       "      <td>0.000000</td>\n",
       "      <td>0.000000</td>\n",
       "      <td>0.00000</td>\n",
       "      <td>0.0</td>\n",
       "      <td>0.000000</td>\n",
       "      <td>0.000000</td>\n",
       "      <td>0.000000</td>\n",
       "      <td>0.000000</td>\n",
       "    </tr>\n",
       "    <tr>\n",
       "      <th>7</th>\n",
       "      <td>0.000000</td>\n",
       "      <td>0.000000</td>\n",
       "      <td>0.000000</td>\n",
       "      <td>0.990073</td>\n",
       "      <td>0.00000</td>\n",
       "      <td>0.0</td>\n",
       "      <td>0.000000</td>\n",
       "      <td>0.000000</td>\n",
       "      <td>0.000000</td>\n",
       "      <td>0.000000</td>\n",
       "    </tr>\n",
       "    <tr>\n",
       "      <th>8</th>\n",
       "      <td>0.000000</td>\n",
       "      <td>0.991746</td>\n",
       "      <td>0.000000</td>\n",
       "      <td>0.000000</td>\n",
       "      <td>0.00000</td>\n",
       "      <td>0.0</td>\n",
       "      <td>0.000000</td>\n",
       "      <td>0.000000</td>\n",
       "      <td>0.000000</td>\n",
       "      <td>0.000000</td>\n",
       "    </tr>\n",
       "    <tr>\n",
       "      <th>9</th>\n",
       "      <td>0.000000</td>\n",
       "      <td>0.000000</td>\n",
       "      <td>0.989595</td>\n",
       "      <td>0.000000</td>\n",
       "      <td>0.00000</td>\n",
       "      <td>0.0</td>\n",
       "      <td>0.000000</td>\n",
       "      <td>0.000000</td>\n",
       "      <td>0.000000</td>\n",
       "      <td>0.000000</td>\n",
       "    </tr>\n",
       "    <tr>\n",
       "      <th>10</th>\n",
       "      <td>0.000000</td>\n",
       "      <td>0.123245</td>\n",
       "      <td>0.000000</td>\n",
       "      <td>0.000000</td>\n",
       "      <td>0.00000</td>\n",
       "      <td>0.0</td>\n",
       "      <td>0.000000</td>\n",
       "      <td>0.000000</td>\n",
       "      <td>0.867893</td>\n",
       "      <td>0.000000</td>\n",
       "    </tr>\n",
       "    <tr>\n",
       "      <th>11</th>\n",
       "      <td>0.000000</td>\n",
       "      <td>0.000000</td>\n",
       "      <td>0.000000</td>\n",
       "      <td>0.000000</td>\n",
       "      <td>0.00000</td>\n",
       "      <td>0.0</td>\n",
       "      <td>0.000000</td>\n",
       "      <td>0.992407</td>\n",
       "      <td>0.000000</td>\n",
       "      <td>0.000000</td>\n",
       "    </tr>\n",
       "    <tr>\n",
       "      <th>12</th>\n",
       "      <td>0.011702</td>\n",
       "      <td>0.000000</td>\n",
       "      <td>0.070968</td>\n",
       "      <td>0.113177</td>\n",
       "      <td>0.00000</td>\n",
       "      <td>0.0</td>\n",
       "      <td>0.000000</td>\n",
       "      <td>0.000000</td>\n",
       "      <td>0.000000</td>\n",
       "      <td>0.796227</td>\n",
       "    </tr>\n",
       "    <tr>\n",
       "      <th>13</th>\n",
       "      <td>0.992545</td>\n",
       "      <td>0.000000</td>\n",
       "      <td>0.000000</td>\n",
       "      <td>0.000000</td>\n",
       "      <td>0.00000</td>\n",
       "      <td>0.0</td>\n",
       "      <td>0.000000</td>\n",
       "      <td>0.000000</td>\n",
       "      <td>0.000000</td>\n",
       "      <td>0.000000</td>\n",
       "    </tr>\n",
       "    <tr>\n",
       "      <th>14</th>\n",
       "      <td>0.000000</td>\n",
       "      <td>0.992230</td>\n",
       "      <td>0.000000</td>\n",
       "      <td>0.000000</td>\n",
       "      <td>0.00000</td>\n",
       "      <td>0.0</td>\n",
       "      <td>0.000000</td>\n",
       "      <td>0.000000</td>\n",
       "      <td>0.000000</td>\n",
       "      <td>0.000000</td>\n",
       "    </tr>\n",
       "  </tbody>\n",
       "</table>\n",
       "</div>"
      ],
      "text/plain": [
       "     topic_0   topic_1   topic_2   topic_3  topic_4  topic_5   topic_6  \\\n",
       "0   0.112144  0.000000  0.167606  0.000000  0.00000      0.0  0.000000   \n",
       "1   0.000000  0.000000  0.000000  0.987652  0.00000      0.0  0.000000   \n",
       "2   0.000000  0.000000  0.000000  0.000000  0.00000      0.0  0.000000   \n",
       "3   0.000000  0.000000  0.000000  0.853861  0.00000      0.0  0.000000   \n",
       "4   0.053644  0.191422  0.000000  0.199741  0.00000      0.0  0.534627   \n",
       "5   0.000000  0.000000  0.000000  0.000000  0.98935      0.0  0.000000   \n",
       "6   0.000000  0.989389  0.000000  0.000000  0.00000      0.0  0.000000   \n",
       "7   0.000000  0.000000  0.000000  0.990073  0.00000      0.0  0.000000   \n",
       "8   0.000000  0.991746  0.000000  0.000000  0.00000      0.0  0.000000   \n",
       "9   0.000000  0.000000  0.989595  0.000000  0.00000      0.0  0.000000   \n",
       "10  0.000000  0.123245  0.000000  0.000000  0.00000      0.0  0.000000   \n",
       "11  0.000000  0.000000  0.000000  0.000000  0.00000      0.0  0.000000   \n",
       "12  0.011702  0.000000  0.070968  0.113177  0.00000      0.0  0.000000   \n",
       "13  0.992545  0.000000  0.000000  0.000000  0.00000      0.0  0.000000   \n",
       "14  0.000000  0.992230  0.000000  0.000000  0.00000      0.0  0.000000   \n",
       "\n",
       "     topic_7   topic_8   topic_9  \n",
       "0   0.000000  0.254196  0.460526  \n",
       "1   0.000000  0.000000  0.000000  \n",
       "2   0.000000  0.991636  0.000000  \n",
       "3   0.000000  0.000000  0.136849  \n",
       "4   0.000000  0.015589  0.000000  \n",
       "5   0.000000  0.000000  0.000000  \n",
       "6   0.000000  0.000000  0.000000  \n",
       "7   0.000000  0.000000  0.000000  \n",
       "8   0.000000  0.000000  0.000000  \n",
       "9   0.000000  0.000000  0.000000  \n",
       "10  0.000000  0.867893  0.000000  \n",
       "11  0.992407  0.000000  0.000000  \n",
       "12  0.000000  0.000000  0.796227  \n",
       "13  0.000000  0.000000  0.000000  \n",
       "14  0.000000  0.000000  0.000000  "
      ]
     },
     "execution_count": 111,
     "metadata": {},
     "output_type": "execute_result"
    }
   ],
   "source": [
    "ldaDFV = ldaDF[:15][['topic_%d' %x for x in range(10)]]\n",
    "ldaDFVisN = ldaDF[:15][['name']]\n",
    "ldaDFVis = ldaDFV.as_matrix(columns=None)\n",
    "ldaDFVisNames = ldaDFVisN.as_matrix(columns=None)\n",
    "ldaDFV"
   ]
  },
  {
   "cell_type": "markdown",
   "metadata": {},
   "source": [
    "First we can visualize as a stacked bar chart:"
   ]
  },
  {
   "cell_type": "code",
   "execution_count": 112,
   "metadata": {},
   "outputs": [
    {
     "data": {
      "image/png": "[encoded data removed]",
      "text/plain": [
       "<Figure size 432x288 with 1 Axes>"
      ]
     },
     "metadata": {
      "needs_background": "light"
     },
     "output_type": "display_data"
    }
   ],
   "source": [
    "N = 15\n",
    "ind = np.arange(N)\n",
    "K = conlda.num_topics  # N documents, K topics\n",
    "ind = np.arange(N)  # the x-axis locations for the novels\n",
    "width = 0.5  # the width of the bars\n",
    "plots = []\n",
    "height_cumulative = np.zeros(N)\n",
    "\n",
    "for k in range(K):\n",
    "    color = plt.cm.coolwarm(k/K, 1)\n",
    "    if k == 0:\n",
    "        p = plt.bar(ind, ldaDFVis[:, k], width, color=color)\n",
    "    else:\n",
    "        p = plt.bar(ind, ldaDFVis[:, k], width, bottom=height_cumulative, color=color)\n",
    "    height_cumulative += ldaDFVis[:, k]\n",
    "    plots.append(p)\n",
    "    \n",
    "\n",
    "plt.ylim((0, 1))  # proportions sum to 1, so the height of the stacked bars is 1\n",
    "plt.ylabel('Topics')\n",
    "\n",
    "plt.title('Topics in Press Releases')\n",
    "plt.xticks(ind+width/2, ldaDFVisNames, rotation='vertical')\n",
    "\n",
    "plt.yticks(np.arange(0, 1, 10))\n",
    "topic_labels = ['Topic #{}'.format(k) for k in range(K)]\n",
    "plt.legend([p[0] for p in plots], topic_labels, loc='center left', frameon=True,  bbox_to_anchor = (1, .5))\n",
    "\n",
    "plt.show()"
   ]
  },
  {
   "cell_type": "markdown",
   "metadata": {},
   "source": [
    "We can also visualize as a heat map: from the above bar graph and below heat, we could see that the 10 topic modeled does not correspond well with the original topics; while same topic are modeled as close ones but still different topics. (e.g. for corpora with original topic 11, they are differently labeled as topic 9 or 3). FOr the default topic model, the results are less interesting."
   ]
  },
  {
   "cell_type": "code",
   "execution_count": 113,
   "metadata": {},
   "outputs": [
    {
     "data": {
      "image/png": "[encoded data removed]",
      "text/plain": [
       "<Figure size 432x288 with 2 Axes>"
      ]
     },
     "metadata": {
      "needs_background": "light"
     },
     "output_type": "display_data"
    }
   ],
   "source": [
    "plt.pcolor(ldaDFVis, norm=None, cmap='Blues')\n",
    "plt.yticks(np.arange(ldaDFVis.shape[0])+0.5, ldaDFVisNames);\n",
    "plt.xticks(np.arange(ldaDFVis.shape[1])+0.5, topic_labels);\n",
    "\n",
    "# flip the y-axis so the texts are in the order we anticipate (Austen first, then Brontë)\n",
    "plt.gca().invert_yaxis()\n",
    "\n",
    "# rotate the ticks on the x-axis\n",
    "plt.xticks(rotation=90)\n",
    "\n",
    "# add a legend\n",
    "plt.colorbar(cmap='Blues')\n",
    "plt.tight_layout()  # fixes margins\n",
    "plt.show()"
   ]
  },
  {
   "cell_type": "markdown",
   "metadata": {},
   "source": [
    "We can also look at the top words from each topic to get a sense of the semantic (or syntactic) domain they represent. To look at the terms with the highest LDA weight we can do the following: \n",
    "\n",
    "From the below key words related with each topic, we could also found that each original topic are separated into different topics labeled (e.g. ipad, parent are both in topic 2/6, care is in both topic 9/5/3). The performance of the default model is very unpromising."
   ]
  },
  {
   "cell_type": "code",
   "execution_count": 115,
   "metadata": {
    "scrolled": false
   },
   "outputs": [
    {
     "data": {
      "text/html": [
       "<div>\n",
       "<style scoped>\n",
       "    .dataframe tbody tr th:only-of-type {\n",
       "        vertical-align: middle;\n",
       "    }\n",
       "\n",
       "    .dataframe tbody tr th {\n",
       "        vertical-align: top;\n",
       "    }\n",
       "\n",
       "    .dataframe thead th {\n",
       "        text-align: right;\n",
       "    }\n",
       "</style>\n",
       "<table border=\"1\" class=\"dataframe\">\n",
       "  <thead>\n",
       "    <tr style=\"text-align: right;\">\n",
       "      <th></th>\n",
       "      <th>Topic_0</th>\n",
       "      <th>Topic_1</th>\n",
       "      <th>Topic_2</th>\n",
       "      <th>Topic_3</th>\n",
       "      <th>Topic_4</th>\n",
       "      <th>Topic_5</th>\n",
       "      <th>Topic_6</th>\n",
       "      <th>Topic_7</th>\n",
       "      <th>Topic_8</th>\n",
       "      <th>Topic_9</th>\n",
       "    </tr>\n",
       "  </thead>\n",
       "  <tbody>\n",
       "    <tr>\n",
       "      <th>0</th>\n",
       "      <td>healthy</td>\n",
       "      <td>laugh</td>\n",
       "      <td>ipad</td>\n",
       "      <td>laugh</td>\n",
       "      <td>drink</td>\n",
       "      <td>healthy</td>\n",
       "      <td>use</td>\n",
       "      <td>person</td>\n",
       "      <td>uh</td>\n",
       "      <td>go</td>\n",
       "    </tr>\n",
       "    <tr>\n",
       "      <th>1</th>\n",
       "      <td>laugh</td>\n",
       "      <td>use</td>\n",
       "      <td>never</td>\n",
       "      <td>go</td>\n",
       "      <td>go</td>\n",
       "      <td>laugh</td>\n",
       "      <td>hmm</td>\n",
       "      <td>mhm</td>\n",
       "      <td>uhh</td>\n",
       "      <td>car</td>\n",
       "    </tr>\n",
       "    <tr>\n",
       "      <th>2</th>\n",
       "      <td>make</td>\n",
       "      <td>way</td>\n",
       "      <td>become</td>\n",
       "      <td>umm</td>\n",
       "      <td>family</td>\n",
       "      <td>only</td>\n",
       "      <td>ipad</td>\n",
       "      <td>make</td>\n",
       "      <td>person</td>\n",
       "      <td>come</td>\n",
       "    </tr>\n",
       "    <tr>\n",
       "      <th>3</th>\n",
       "      <td>food</td>\n",
       "      <td>uh</td>\n",
       "      <td>laugh</td>\n",
       "      <td>school</td>\n",
       "      <td>umm</td>\n",
       "      <td>food</td>\n",
       "      <td>parent</td>\n",
       "      <td>hmm</td>\n",
       "      <td>umm</td>\n",
       "      <td>someone</td>\n",
       "    </tr>\n",
       "    <tr>\n",
       "      <th>4</th>\n",
       "      <td>good</td>\n",
       "      <td>go</td>\n",
       "      <td>work</td>\n",
       "      <td>yea</td>\n",
       "      <td>me</td>\n",
       "      <td>option</td>\n",
       "      <td>toddler</td>\n",
       "      <td>laugh</td>\n",
       "      <td>go</td>\n",
       "      <td>may</td>\n",
       "    </tr>\n",
       "    <tr>\n",
       "      <th>5</th>\n",
       "      <td>option</td>\n",
       "      <td>look</td>\n",
       "      <td>come</td>\n",
       "      <td>car</td>\n",
       "      <td>still</td>\n",
       "      <td>good</td>\n",
       "      <td>technology</td>\n",
       "      <td>school</td>\n",
       "      <td>laugh</td>\n",
       "      <td>perspective</td>\n",
       "    </tr>\n",
       "    <tr>\n",
       "      <th>6</th>\n",
       "      <td>point</td>\n",
       "      <td>phone</td>\n",
       "      <td>uh</td>\n",
       "      <td>cross</td>\n",
       "      <td>time</td>\n",
       "      <td>car</td>\n",
       "      <td>go</td>\n",
       "      <td>test</td>\n",
       "      <td>me</td>\n",
       "      <td>cross</td>\n",
       "    </tr>\n",
       "    <tr>\n",
       "      <th>7</th>\n",
       "      <td>hmm</td>\n",
       "      <td>person</td>\n",
       "      <td>kid</td>\n",
       "      <td>time</td>\n",
       "      <td>school</td>\n",
       "      <td>eat</td>\n",
       "      <td>up</td>\n",
       "      <td>race</td>\n",
       "      <td>mhm</td>\n",
       "      <td>fast</td>\n",
       "    </tr>\n",
       "    <tr>\n",
       "      <th>8</th>\n",
       "      <td>may</td>\n",
       "      <td>conversation</td>\n",
       "      <td>parent</td>\n",
       "      <td>uh</td>\n",
       "      <td>alcohol</td>\n",
       "      <td>point</td>\n",
       "      <td>may</td>\n",
       "      <td>good</td>\n",
       "      <td>car</td>\n",
       "      <td>time</td>\n",
       "    </tr>\n",
       "    <tr>\n",
       "      <th>9</th>\n",
       "      <td>go</td>\n",
       "      <td>make</td>\n",
       "      <td>still</td>\n",
       "      <td>maybe</td>\n",
       "      <td>us</td>\n",
       "      <td>cross</td>\n",
       "      <td>out</td>\n",
       "      <td>look</td>\n",
       "      <td>case</td>\n",
       "      <td>life</td>\n",
       "    </tr>\n",
       "  </tbody>\n",
       "</table>\n",
       "</div>"
      ],
      "text/plain": [
       "   Topic_0       Topic_1 Topic_2 Topic_3  Topic_4  Topic_5     Topic_6  \\\n",
       "0  healthy         laugh    ipad   laugh    drink  healthy         use   \n",
       "1    laugh           use   never      go       go    laugh         hmm   \n",
       "2     make           way  become     umm   family     only        ipad   \n",
       "3     food            uh   laugh  school      umm     food      parent   \n",
       "4     good            go    work     yea       me   option     toddler   \n",
       "5   option          look    come     car    still     good  technology   \n",
       "6    point         phone      uh   cross     time      car          go   \n",
       "7      hmm        person     kid    time   school      eat          up   \n",
       "8      may  conversation  parent      uh  alcohol    point         may   \n",
       "9       go          make   still   maybe       us    cross         out   \n",
       "\n",
       "  Topic_7 Topic_8      Topic_9  \n",
       "0  person      uh           go  \n",
       "1     mhm     uhh          car  \n",
       "2    make  person         come  \n",
       "3     hmm     umm      someone  \n",
       "4   laugh      go          may  \n",
       "5  school   laugh  perspective  \n",
       "6    test      me        cross  \n",
       "7    race     mhm         fast  \n",
       "8    good     car         time  \n",
       "9    look    case         life  "
      ]
     },
     "execution_count": 115,
     "metadata": {},
     "output_type": "execute_result"
    }
   ],
   "source": [
    "topicsDict = {}\n",
    "for topicNum in range(conlda.num_topics):\n",
    "    topicWords = [w for w, p in conlda.show_topic(topicNum)]\n",
    "    topicsDict['Topic_{}'.format(topicNum)] = topicWords\n",
    "\n",
    "wordRanksDF = pandas.DataFrame(topicsDict)\n",
    "wordRanksDF"
   ]
  },
  {
   "cell_type": "markdown",
   "metadata": {},
   "source": [
    "We can see that several of the topics have the same top words, but there are definitely differences. We can try and make the topics more distinct by changing the \n",
    "𝛼\n",
    "α\n",
    "and \n",
    "𝜂\n",
    "η\n",
    "parameters of the model. \n",
    "𝛼\n",
    "α\n",
    "controls the sparsity of document-topic loadings, and \n",
    "𝜂\n",
    "η\n",
    "controls the sparsity of topic-word loadings.\n",
    "We can make a visualization of the distribution of words over any single topic."
   ]
  },
  {
   "cell_type": "code",
   "execution_count": 116,
   "metadata": {},
   "outputs": [
    {
     "data": {
      "text/plain": [
       "<Figure size 432x288 with 0 Axes>"
      ]
     },
     "metadata": {},
     "output_type": "display_data"
    },
    {
     "data": {
      "image/png": "[encoded data removed]",
      "text/plain": [
       "<Figure size 432x288 with 1 Axes>"
      ]
     },
     "metadata": {
      "needs_background": "light"
     },
     "output_type": "display_data"
    }
   ],
   "source": [
    "topic1_df = pandas.DataFrame(conlda.show_topic(1, topn=50))\n",
    "plt.figure()\n",
    "topic1_df.plot.bar(legend = False)\n",
    "plt.title('Probability Distribution of Words, Topic 1')\n",
    "plt.show()"
   ]
  },
  {
   "cell_type": "markdown",
   "metadata": {},
   "source": [
    "See how different $\\eta$ values can change the shape of the distribution."
   ]
  },
  {
   "cell_type": "code",
   "execution_count": 118,
   "metadata": {},
   "outputs": [],
   "source": [
    "conldaa1 = gensim.models.ldamodel.LdaModel(corpus=conmm, id2word=dictionary, num_topics=10, eta = 0.00001)\n",
    "conldaa2 = gensim.models.ldamodel.LdaModel(corpus=conmm, id2word=dictionary, num_topics=10, eta = 0.9)"
   ]
  },
  {
   "cell_type": "code",
   "execution_count": 119,
   "metadata": {},
   "outputs": [
    {
     "data": {
      "image/png": "[encoded data removed]",
      "text/plain": [
       "<Figure size 1296x504 with 2 Axes>"
      ]
     },
     "metadata": {
      "needs_background": "light"
     },
     "output_type": "display_data"
    }
   ],
   "source": [
    "topic11_df = pandas.DataFrame(conldaa1.show_topic(1, topn=50))\n",
    "topic21_df = pandas.DataFrame(conldaa2.show_topic(1, topn=50))\n",
    "\n",
    "fig, (ax1, ax2) = plt.subplots(1, 2)\n",
    "fig.set_size_inches(18, 7)\n",
    "topic11_df.plot.bar(legend = False, ax = ax1, title = '$\\eta$  = 0.00001')\n",
    "topic21_df.plot.bar(legend = False, ax = ax2, title = '$\\eta$  = 0.9')\n",
    "plt.show()"
   ]
  },
  {
   "cell_type": "markdown",
   "metadata": {},
   "source": [
    "Then after further tuning the topic modeling parameters, I found that for eta=0.9, with 5 topic modeled, corpora with no-stop words filtered, the model generates generally better results (while with each run, the results are also slightly different): "
   ]
  },
  {
   "cell_type": "code",
   "execution_count": 280,
   "metadata": {},
   "outputs": [],
   "source": [
    "conlda = gensim.models.ldamodel.LdaModel(corpus=conmm, id2word=dictionary, num_topics=5, alpha='auto', eta=0.9)"
   ]
  },
  {
   "cell_type": "markdown",
   "metadata": {},
   "source": [
    "We can now see how our model predicts the topic of each conversation and make this into a `dataFrame` for later analysis"
   ]
  },
  {
   "cell_type": "code",
   "execution_count": 281,
   "metadata": {},
   "outputs": [],
   "source": [
    "ldaDF = pandas.DataFrame({\n",
    "        'name' : df_con2['topic'],  #change the name to the topic num\n",
    "        'topics' : [conlda[dictionary.doc2bow(l)] for l in df_con2['reduced_tokens_all']]\n",
    "    })"
   ]
  },
  {
   "cell_type": "code",
   "execution_count": 282,
   "metadata": {},
   "outputs": [],
   "source": [
    "#fit the predicted probability into separate columns in a dataframe\n",
    "#Dict to temporally hold the probabilities\n",
    "topicsProbDict = {i : [0] * len(ldaDF) for i in range(conlda.num_topics)}\n",
    "\n",
    "#Load them into the dict\n",
    "for index, topicTuples in enumerate(ldaDF['topics']):\n",
    "    for topicNum, prob in topicTuples:\n",
    "        topicsProbDict[topicNum][index] = prob\n",
    "\n",
    "#Update the DataFrame\n",
    "for topicNum in range(conlda.num_topics):\n",
    "    ldaDF['topic_{}'.format(topicNum)] = topicsProbDict[topicNum]"
   ]
  },
  {
   "cell_type": "code",
   "execution_count": 283,
   "metadata": {},
   "outputs": [
    {
     "data": {
      "text/html": [
       "<div>\n",
       "<style scoped>\n",
       "    .dataframe tbody tr th:only-of-type {\n",
       "        vertical-align: middle;\n",
       "    }\n",
       "\n",
       "    .dataframe tbody tr th {\n",
       "        vertical-align: top;\n",
       "    }\n",
       "\n",
       "    .dataframe thead th {\n",
       "        text-align: right;\n",
       "    }\n",
       "</style>\n",
       "<table border=\"1\" class=\"dataframe\">\n",
       "  <thead>\n",
       "    <tr style=\"text-align: right;\">\n",
       "      <th></th>\n",
       "      <th>name</th>\n",
       "      <th>topics</th>\n",
       "      <th>topic_0</th>\n",
       "      <th>topic_1</th>\n",
       "      <th>topic_2</th>\n",
       "      <th>topic_3</th>\n",
       "      <th>topic_4</th>\n",
       "    </tr>\n",
       "  </thead>\n",
       "  <tbody>\n",
       "    <tr>\n",
       "      <th>0</th>\n",
       "      <td>11</td>\n",
       "      <td>[(0, 0.49122444), (4, 0.5011343)]</td>\n",
       "      <td>0.491224</td>\n",
       "      <td>0.000000</td>\n",
       "      <td>0.0</td>\n",
       "      <td>0.0</td>\n",
       "      <td>0.501134</td>\n",
       "    </tr>\n",
       "    <tr>\n",
       "      <th>1</th>\n",
       "      <td>11</td>\n",
       "      <td>[(0, 0.94811964), (4, 0.04027543)]</td>\n",
       "      <td>0.948120</td>\n",
       "      <td>0.000000</td>\n",
       "      <td>0.0</td>\n",
       "      <td>0.0</td>\n",
       "      <td>0.040275</td>\n",
       "    </tr>\n",
       "    <tr>\n",
       "      <th>2</th>\n",
       "      <td>2</td>\n",
       "      <td>[(0, 0.98950857)]</td>\n",
       "      <td>0.989509</td>\n",
       "      <td>0.000000</td>\n",
       "      <td>0.0</td>\n",
       "      <td>0.0</td>\n",
       "      <td>0.000000</td>\n",
       "    </tr>\n",
       "    <tr>\n",
       "      <th>3</th>\n",
       "      <td>2</td>\n",
       "      <td>[(0, 0.104813464), (1, 0.031863026), (4, 0.856...</td>\n",
       "      <td>0.104813</td>\n",
       "      <td>0.031863</td>\n",
       "      <td>0.0</td>\n",
       "      <td>0.0</td>\n",
       "      <td>0.856669</td>\n",
       "    </tr>\n",
       "    <tr>\n",
       "      <th>4</th>\n",
       "      <td>5</td>\n",
       "      <td>[(0, 0.19569932), (1, 0.7945701)]</td>\n",
       "      <td>0.195699</td>\n",
       "      <td>0.794570</td>\n",
       "      <td>0.0</td>\n",
       "      <td>0.0</td>\n",
       "      <td>0.000000</td>\n",
       "    </tr>\n",
       "  </tbody>\n",
       "</table>\n",
       "</div>"
      ],
      "text/plain": [
       "   name                                             topics   topic_0  \\\n",
       "0    11                  [(0, 0.49122444), (4, 0.5011343)]  0.491224   \n",
       "1    11                 [(0, 0.94811964), (4, 0.04027543)]  0.948120   \n",
       "2     2                                  [(0, 0.98950857)]  0.989509   \n",
       "3     2  [(0, 0.104813464), (1, 0.031863026), (4, 0.856...  0.104813   \n",
       "4     5                  [(0, 0.19569932), (1, 0.7945701)]  0.195699   \n",
       "\n",
       "    topic_1  topic_2  topic_3   topic_4  \n",
       "0  0.000000      0.0      0.0  0.501134  \n",
       "1  0.000000      0.0      0.0  0.040275  \n",
       "2  0.000000      0.0      0.0  0.000000  \n",
       "3  0.031863      0.0      0.0  0.856669  \n",
       "4  0.794570      0.0      0.0  0.000000  "
      ]
     },
     "execution_count": 283,
     "metadata": {},
     "output_type": "execute_result"
    }
   ],
   "source": [
    "ldaDF.head()"
   ]
  },
  {
   "cell_type": "markdown",
   "metadata": {},
   "source": [
    "Now let's visualize this for several (e.g.15) documents in the corpus. First we'll subset the data:"
   ]
  },
  {
   "cell_type": "code",
   "execution_count": 284,
   "metadata": {},
   "outputs": [
    {
     "data": {
      "text/html": [
       "<div>\n",
       "<style scoped>\n",
       "    .dataframe tbody tr th:only-of-type {\n",
       "        vertical-align: middle;\n",
       "    }\n",
       "\n",
       "    .dataframe tbody tr th {\n",
       "        vertical-align: top;\n",
       "    }\n",
       "\n",
       "    .dataframe thead th {\n",
       "        text-align: right;\n",
       "    }\n",
       "</style>\n",
       "<table border=\"1\" class=\"dataframe\">\n",
       "  <thead>\n",
       "    <tr style=\"text-align: right;\">\n",
       "      <th></th>\n",
       "      <th>topic_0</th>\n",
       "      <th>topic_1</th>\n",
       "      <th>topic_2</th>\n",
       "      <th>topic_3</th>\n",
       "      <th>topic_4</th>\n",
       "    </tr>\n",
       "  </thead>\n",
       "  <tbody>\n",
       "    <tr>\n",
       "      <th>0</th>\n",
       "      <td>0.491224</td>\n",
       "      <td>0.000000</td>\n",
       "      <td>0.000000</td>\n",
       "      <td>0.000000</td>\n",
       "      <td>0.501134</td>\n",
       "    </tr>\n",
       "    <tr>\n",
       "      <th>1</th>\n",
       "      <td>0.948120</td>\n",
       "      <td>0.000000</td>\n",
       "      <td>0.000000</td>\n",
       "      <td>0.000000</td>\n",
       "      <td>0.040275</td>\n",
       "    </tr>\n",
       "    <tr>\n",
       "      <th>2</th>\n",
       "      <td>0.989509</td>\n",
       "      <td>0.000000</td>\n",
       "      <td>0.000000</td>\n",
       "      <td>0.000000</td>\n",
       "      <td>0.000000</td>\n",
       "    </tr>\n",
       "    <tr>\n",
       "      <th>3</th>\n",
       "      <td>0.104813</td>\n",
       "      <td>0.031863</td>\n",
       "      <td>0.000000</td>\n",
       "      <td>0.000000</td>\n",
       "      <td>0.856669</td>\n",
       "    </tr>\n",
       "    <tr>\n",
       "      <th>4</th>\n",
       "      <td>0.195699</td>\n",
       "      <td>0.794570</td>\n",
       "      <td>0.000000</td>\n",
       "      <td>0.000000</td>\n",
       "      <td>0.000000</td>\n",
       "    </tr>\n",
       "    <tr>\n",
       "      <th>5</th>\n",
       "      <td>0.000000</td>\n",
       "      <td>0.020977</td>\n",
       "      <td>0.000000</td>\n",
       "      <td>0.192653</td>\n",
       "      <td>0.779165</td>\n",
       "    </tr>\n",
       "    <tr>\n",
       "      <th>6</th>\n",
       "      <td>0.985054</td>\n",
       "      <td>0.000000</td>\n",
       "      <td>0.000000</td>\n",
       "      <td>0.000000</td>\n",
       "      <td>0.000000</td>\n",
       "    </tr>\n",
       "    <tr>\n",
       "      <th>7</th>\n",
       "      <td>0.000000</td>\n",
       "      <td>0.000000</td>\n",
       "      <td>0.000000</td>\n",
       "      <td>0.987567</td>\n",
       "      <td>0.000000</td>\n",
       "    </tr>\n",
       "    <tr>\n",
       "      <th>8</th>\n",
       "      <td>0.000000</td>\n",
       "      <td>0.000000</td>\n",
       "      <td>0.000000</td>\n",
       "      <td>0.000000</td>\n",
       "      <td>0.989418</td>\n",
       "    </tr>\n",
       "    <tr>\n",
       "      <th>9</th>\n",
       "      <td>0.218110</td>\n",
       "      <td>0.000000</td>\n",
       "      <td>0.000000</td>\n",
       "      <td>0.772626</td>\n",
       "      <td>0.000000</td>\n",
       "    </tr>\n",
       "    <tr>\n",
       "      <th>10</th>\n",
       "      <td>0.973362</td>\n",
       "      <td>0.016591</td>\n",
       "      <td>0.000000</td>\n",
       "      <td>0.000000</td>\n",
       "      <td>0.000000</td>\n",
       "    </tr>\n",
       "    <tr>\n",
       "      <th>11</th>\n",
       "      <td>0.990390</td>\n",
       "      <td>0.000000</td>\n",
       "      <td>0.000000</td>\n",
       "      <td>0.000000</td>\n",
       "      <td>0.000000</td>\n",
       "    </tr>\n",
       "    <tr>\n",
       "      <th>12</th>\n",
       "      <td>0.000000</td>\n",
       "      <td>0.000000</td>\n",
       "      <td>0.000000</td>\n",
       "      <td>0.000000</td>\n",
       "      <td>0.985084</td>\n",
       "    </tr>\n",
       "    <tr>\n",
       "      <th>13</th>\n",
       "      <td>0.000000</td>\n",
       "      <td>0.000000</td>\n",
       "      <td>0.990476</td>\n",
       "      <td>0.000000</td>\n",
       "      <td>0.000000</td>\n",
       "    </tr>\n",
       "    <tr>\n",
       "      <th>14</th>\n",
       "      <td>0.000000</td>\n",
       "      <td>0.000000</td>\n",
       "      <td>0.989892</td>\n",
       "      <td>0.000000</td>\n",
       "      <td>0.000000</td>\n",
       "    </tr>\n",
       "  </tbody>\n",
       "</table>\n",
       "</div>"
      ],
      "text/plain": [
       "     topic_0   topic_1   topic_2   topic_3   topic_4\n",
       "0   0.491224  0.000000  0.000000  0.000000  0.501134\n",
       "1   0.948120  0.000000  0.000000  0.000000  0.040275\n",
       "2   0.989509  0.000000  0.000000  0.000000  0.000000\n",
       "3   0.104813  0.031863  0.000000  0.000000  0.856669\n",
       "4   0.195699  0.794570  0.000000  0.000000  0.000000\n",
       "5   0.000000  0.020977  0.000000  0.192653  0.779165\n",
       "6   0.985054  0.000000  0.000000  0.000000  0.000000\n",
       "7   0.000000  0.000000  0.000000  0.987567  0.000000\n",
       "8   0.000000  0.000000  0.000000  0.000000  0.989418\n",
       "9   0.218110  0.000000  0.000000  0.772626  0.000000\n",
       "10  0.973362  0.016591  0.000000  0.000000  0.000000\n",
       "11  0.990390  0.000000  0.000000  0.000000  0.000000\n",
       "12  0.000000  0.000000  0.000000  0.000000  0.985084\n",
       "13  0.000000  0.000000  0.990476  0.000000  0.000000\n",
       "14  0.000000  0.000000  0.989892  0.000000  0.000000"
      ]
     },
     "execution_count": 284,
     "metadata": {},
     "output_type": "execute_result"
    }
   ],
   "source": [
    "ldaDFV = ldaDF[:15][['topic_%d' %x for x in range(5)]]\n",
    "ldaDFVisN = ldaDF[:15][['name']]\n",
    "ldaDFVis = ldaDFV.as_matrix(columns=None)\n",
    "ldaDFVisNames = ldaDFVisN.as_matrix(columns=None)\n",
    "ldaDFV"
   ]
  },
  {
   "cell_type": "markdown",
   "metadata": {},
   "source": [
    "First we can visualize as a stacked bar chart:"
   ]
  },
  {
   "cell_type": "code",
   "execution_count": 285,
   "metadata": {},
   "outputs": [
    {
     "data": {
      "image/png": "[encoded data removed]",
      "text/plain": [
       "<Figure size 432x288 with 1 Axes>"
      ]
     },
     "metadata": {
      "needs_background": "light"
     },
     "output_type": "display_data"
    }
   ],
   "source": [
    "N = 15\n",
    "ind = np.arange(N)\n",
    "K = conlda.num_topics  # N documents, K topics\n",
    "ind = np.arange(N)  # the x-axis locations for the novels\n",
    "width = 0.5  # the width of the bars\n",
    "plots = []\n",
    "height_cumulative = np.zeros(N)\n",
    "\n",
    "for k in range(K):\n",
    "    color = plt.cm.coolwarm(k/K, 1)\n",
    "    if k == 0:\n",
    "        p = plt.bar(ind, ldaDFVis[:, k], width, color=color)\n",
    "    else:\n",
    "        p = plt.bar(ind, ldaDFVis[:, k], width, bottom=height_cumulative, color=color)\n",
    "    height_cumulative += ldaDFVis[:, k]\n",
    "    plots.append(p)\n",
    "    \n",
    "\n",
    "plt.ylim((0, 1))  # proportions sum to 1, so the height of the stacked bars is 1\n",
    "plt.ylabel('Topics')\n",
    "\n",
    "plt.title('Topics in Press Releases')\n",
    "plt.xticks(ind+width/2, ldaDFVisNames, rotation='vertical')\n",
    "\n",
    "plt.yticks(np.arange(0, 1, 10))\n",
    "topic_labels = ['Topic #{}'.format(k) for k in range(K)]\n",
    "plt.legend([p[0] for p in plots], topic_labels, loc='center left', frameon=True,  bbox_to_anchor = (1, .5))\n",
    "\n",
    "plt.show()"
   ]
  },
  {
   "cell_type": "markdown",
   "metadata": {},
   "source": [
    "From the bar graph and heatmap, we could see that, this model generally predict a little better result, fore example for original topic 11, both corpora are labeled as topic 0; for original topic 6, both are labeled as topic 2; while there are still many cross labeld and miss labeld topic, the result is generally better than the default, but not very good as well.\n",
    "\n",
    "Original topic 11 seems to have the best topic modeling results, the topic is 'The death penalty should be abolished in the U.S.', which have 5 corpora in this dataset, and also contain distinguishable words like 'death', 'sentence', which could make its topic prediction more reliable. Also for topic 6, 'Parents should never use iPads as toys for their toddlers.', there more distinguishable words like 'parents/toddlers/ipad' which could help generate more reliable topic modeling results."
   ]
  },
  {
   "cell_type": "code",
   "execution_count": 286,
   "metadata": {},
   "outputs": [
    {
     "data": {
      "image/png": "[encoded data removed]",
      "text/plain": [
       "<Figure size 432x288 with 2 Axes>"
      ]
     },
     "metadata": {
      "needs_background": "light"
     },
     "output_type": "display_data"
    }
   ],
   "source": [
    "plt.pcolor(ldaDFVis, norm=None, cmap='Blues')\n",
    "plt.yticks(np.arange(ldaDFVis.shape[0])+0.5, ldaDFVisNames);\n",
    "plt.xticks(np.arange(ldaDFVis.shape[1])+0.5, topic_labels);\n",
    "\n",
    "# flip the y-axis so the texts are in the order we anticipate (Austen first, then Brontë)\n",
    "plt.gca().invert_yaxis()\n",
    "\n",
    "# rotate the ticks on the x-axis\n",
    "plt.xticks(rotation=90)\n",
    "\n",
    "# add a legend\n",
    "plt.colorbar(cmap='Blues')\n",
    "plt.tight_layout()  # fixes margins\n",
    "plt.show()"
   ]
  },
  {
   "cell_type": "markdown",
   "metadata": {},
   "source": [
    "We can also look at the top words from each topic to get a sense of the semantic (or syntactic) domain they represent. To look at the terms with the highest LDA weight we can do the following: \n",
    "\n",
    "From the below key words related with each topic, we could also found that many same words contribute to the model; also these words, like 'laugh', 'hmm', 'uh' are not really topic related, but general communication words. The tricky part for this analysis is the separation of those semantic meaningful words from the communication words. More possibly, because of the small sample size for each topic, the confounding factor of communication words is very hard to eliminate (even if try with higher df selection standard, and filtering stopwords, the contribution of communicaiton words still dominates)."
   ]
  },
  {
   "cell_type": "code",
   "execution_count": 287,
   "metadata": {
    "scrolled": true
   },
   "outputs": [
    {
     "data": {
      "text/html": [
       "<div>\n",
       "<style scoped>\n",
       "    .dataframe tbody tr th:only-of-type {\n",
       "        vertical-align: middle;\n",
       "    }\n",
       "\n",
       "    .dataframe tbody tr th {\n",
       "        vertical-align: top;\n",
       "    }\n",
       "\n",
       "    .dataframe thead th {\n",
       "        text-align: right;\n",
       "    }\n",
       "</style>\n",
       "<table border=\"1\" class=\"dataframe\">\n",
       "  <thead>\n",
       "    <tr style=\"text-align: right;\">\n",
       "      <th></th>\n",
       "      <th>Topic_0</th>\n",
       "      <th>Topic_1</th>\n",
       "      <th>Topic_2</th>\n",
       "      <th>Topic_3</th>\n",
       "      <th>Topic_4</th>\n",
       "    </tr>\n",
       "  </thead>\n",
       "  <tbody>\n",
       "    <tr>\n",
       "      <th>0</th>\n",
       "      <td>laugh</td>\n",
       "      <td>laugh</td>\n",
       "      <td>healthy</td>\n",
       "      <td>school</td>\n",
       "      <td>go</td>\n",
       "    </tr>\n",
       "    <tr>\n",
       "      <th>1</th>\n",
       "      <td>uh</td>\n",
       "      <td>go</td>\n",
       "      <td>person</td>\n",
       "      <td>umm</td>\n",
       "      <td>maybe</td>\n",
       "    </tr>\n",
       "    <tr>\n",
       "      <th>2</th>\n",
       "      <td>person</td>\n",
       "      <td>hmm</td>\n",
       "      <td>way</td>\n",
       "      <td>laugh</td>\n",
       "      <td>come</td>\n",
       "    </tr>\n",
       "    <tr>\n",
       "      <th>3</th>\n",
       "      <td>make</td>\n",
       "      <td>car</td>\n",
       "      <td>make</td>\n",
       "      <td>hmm</td>\n",
       "      <td>may</td>\n",
       "    </tr>\n",
       "    <tr>\n",
       "      <th>4</th>\n",
       "      <td>go</td>\n",
       "      <td>person</td>\n",
       "      <td>uh</td>\n",
       "      <td>ipad</td>\n",
       "      <td>put</td>\n",
       "    </tr>\n",
       "    <tr>\n",
       "      <th>5</th>\n",
       "      <td>point</td>\n",
       "      <td>time</td>\n",
       "      <td>up</td>\n",
       "      <td>make</td>\n",
       "      <td>time</td>\n",
       "    </tr>\n",
       "    <tr>\n",
       "      <th>6</th>\n",
       "      <td>good</td>\n",
       "      <td>age</td>\n",
       "      <td>laugh</td>\n",
       "      <td>way</td>\n",
       "      <td>car</td>\n",
       "    </tr>\n",
       "    <tr>\n",
       "      <th>7</th>\n",
       "      <td>hmm</td>\n",
       "      <td>me</td>\n",
       "      <td>school</td>\n",
       "      <td>family</td>\n",
       "      <td>start</td>\n",
       "    </tr>\n",
       "    <tr>\n",
       "      <th>8</th>\n",
       "      <td>may</td>\n",
       "      <td>use</td>\n",
       "      <td>good</td>\n",
       "      <td>person</td>\n",
       "      <td>uh</td>\n",
       "    </tr>\n",
       "    <tr>\n",
       "      <th>9</th>\n",
       "      <td>use</td>\n",
       "      <td>other</td>\n",
       "      <td>go</td>\n",
       "      <td>come</td>\n",
       "      <td>someone</td>\n",
       "    </tr>\n",
       "  </tbody>\n",
       "</table>\n",
       "</div>"
      ],
      "text/plain": [
       "  Topic_0 Topic_1  Topic_2 Topic_3  Topic_4\n",
       "0   laugh   laugh  healthy  school       go\n",
       "1      uh      go   person     umm    maybe\n",
       "2  person     hmm      way   laugh     come\n",
       "3    make     car     make     hmm      may\n",
       "4      go  person       uh    ipad      put\n",
       "5   point    time       up    make     time\n",
       "6    good     age    laugh     way      car\n",
       "7     hmm      me   school  family    start\n",
       "8     may     use     good  person       uh\n",
       "9     use   other       go    come  someone"
      ]
     },
     "execution_count": 287,
     "metadata": {},
     "output_type": "execute_result"
    }
   ],
   "source": [
    "topicsDict = {}\n",
    "for topicNum in range(conlda.num_topics):\n",
    "    topicWords = [w for w, p in conlda.show_topic(topicNum)]\n",
    "    topicsDict['Topic_{}'.format(topicNum)] = topicWords\n",
    "\n",
    "wordRanksDF = pandas.DataFrame(topicsDict)\n",
    "wordRanksDF"
   ]
  },
  {
   "cell_type": "markdown",
   "metadata": {},
   "source": [
    "## <span style=\"color:red\">*Exercise 4*</span>\n",
    "\n",
    "<span style=\"color:red\">Construct cells immediately below this that use topic models and networks, or dynamic topic models on datasets relevant to your final project. You can also extend the analysis of the COHA or Soap datasets, if relevant to the comparison of data for your projects. (You could possibly use coha_genres dictionary to conduct analysis on topic evolution for a particular genre? What themes do you see evolving throughout these corpora?)"
   ]
  },
  {
   "cell_type": "markdown",
   "metadata": {},
   "source": [
    "## Extending Topic Models within broader research pipelines\n",
    "\n",
    "Topic models can be the base of more complex analysis. One good example is the paper - Individuals, institutions, and innovation in the debates of the French Revolution (https://www.pnas.org/content/115/18/4607), where they use topic models to find similarities and differences between the topics of different individuals. Let us revisit this idea using the Soap opera database. Who innovates and influences the most within the Soap?\n",
    "\n",
    "The next few lines of code follows the same process as last weeks notebook. Please visit the old notebook to read descriptions of the code if you have forgotten what it does."
   ]
  },
  {
   "cell_type": "markdown",
   "metadata": {},
   "source": [
    "So for this part of analysis, we will try to calculate the distance between corpora according to the topic distribution assigned to them. However, considering the non-promising result of topic modeling with our dataset, the current distance result is just preliminary and for practice."
   ]
  },
  {
   "cell_type": "markdown",
   "metadata": {},
   "source": [
    "First of all, we organize the corpora into PersonA and PersonB format, and extract corpora for each speaker:"
   ]
  },
  {
   "cell_type": "code",
   "execution_count": 120,
   "metadata": {},
   "outputs": [],
   "source": [
    "#extract corpora of each speaker and organize into one list/dataframe\n",
    "A_cop=[]\n",
    "A_con=[]\n",
    "A_topic=[]\n",
    "for index, row in df_con2.iterrows():\n",
    "    A_cop.append(row['con_txt_A'])\n",
    "    A_con.append(row['condition'])\n",
    "    A_topic.append(row['topic'])\n",
    "    #A_wordc.append(row['word_counts_A'])\n",
    "    A_cop.append(row['con_txt_B'])\n",
    "    A_con.append(row['condition'])\n",
    "    A_topic.append(row['topic'])\n",
    "    #A_wordc.append(row['word_counts_B'])"
   ]
  },
  {
   "cell_type": "code",
   "execution_count": 121,
   "metadata": {},
   "outputs": [],
   "source": [
    "label=[]\n",
    "for i in range(29):\n",
    "    label.append('A_'+str(i+1))\n",
    "    label.append('B_'+str(i+1))"
   ]
  },
  {
   "cell_type": "code",
   "execution_count": 272,
   "metadata": {},
   "outputs": [
    {
     "data": {
      "text/html": [
       "<div>\n",
       "<style scoped>\n",
       "    .dataframe tbody tr th:only-of-type {\n",
       "        vertical-align: middle;\n",
       "    }\n",
       "\n",
       "    .dataframe tbody tr th {\n",
       "        vertical-align: top;\n",
       "    }\n",
       "\n",
       "    .dataframe thead th {\n",
       "        text-align: right;\n",
       "    }\n",
       "</style>\n",
       "<table border=\"1\" class=\"dataframe\">\n",
       "  <thead>\n",
       "    <tr style=\"text-align: right;\">\n",
       "      <th></th>\n",
       "      <th>con_txt</th>\n",
       "      <th>condition</th>\n",
       "      <th>label</th>\n",
       "      <th>topic</th>\n",
       "    </tr>\n",
       "  </thead>\n",
       "  <tbody>\n",
       "    <tr>\n",
       "      <th>0</th>\n",
       "      <td>Okay, so uh, I guess they said we should start...</td>\n",
       "      <td>NB</td>\n",
       "      <td>A_1</td>\n",
       "      <td>11</td>\n",
       "    </tr>\n",
       "    <tr>\n",
       "      <th>1</th>\n",
       "      <td>Yea, we should start Um, yeah. I actually didn...</td>\n",
       "      <td>NB</td>\n",
       "      <td>B_1</td>\n",
       "      <td>11</td>\n",
       "    </tr>\n",
       "    <tr>\n",
       "      <th>2</th>\n",
       "      <td>So I don't really I think I said--yes, everyon...</td>\n",
       "      <td>TYB</td>\n",
       "      <td>A_2</td>\n",
       "      <td>11</td>\n",
       "    </tr>\n",
       "    <tr>\n",
       "      <th>3</th>\n",
       "      <td>I-I think put something that's below five.. Th...</td>\n",
       "      <td>TYB</td>\n",
       "      <td>B_2</td>\n",
       "      <td>11</td>\n",
       "    </tr>\n",
       "    <tr>\n",
       "      <th>4</th>\n",
       "      <td>So I, when I read this question I thought abou...</td>\n",
       "      <td>NB</td>\n",
       "      <td>A_3</td>\n",
       "      <td>2</td>\n",
       "    </tr>\n",
       "  </tbody>\n",
       "</table>\n",
       "</div>"
      ],
      "text/plain": [
       "                                             con_txt condition label  topic\n",
       "0  Okay, so uh, I guess they said we should start...        NB   A_1     11\n",
       "1  Yea, we should start Um, yeah. I actually didn...        NB   B_1     11\n",
       "2  So I don't really I think I said--yes, everyon...       TYB   A_2     11\n",
       "3  I-I think put something that's below five.. Th...       TYB   B_2     11\n",
       "4  So I, when I read this question I thought abou...        NB   A_3      2"
      ]
     },
     "execution_count": 272,
     "metadata": {},
     "output_type": "execute_result"
    }
   ],
   "source": [
    "df_AB=pd.DataFrame({'con_txt':A_cop,'condition':A_con,'label':label,'topic':A_topic})\n",
    "df_AB.head()"
   ]
  },
  {
   "cell_type": "markdown",
   "metadata": {},
   "source": [
    "Corpora pre-processing, tokenization and normalization (not excluded stopwords we care about):"
   ]
  },
  {
   "cell_type": "code",
   "execution_count": 273,
   "metadata": {},
   "outputs": [],
   "source": [
    "df_AB['tokenized_text'] = df_AB['con_txt'].apply(lambda x: lucem_illud_2020.word_tokenize(x))\n",
    "df_AB['normalized_token'] = df_AB['tokenized_text'].apply(lambda x: normalizeTokens2(x))"
   ]
  },
  {
   "cell_type": "markdown",
   "metadata": {},
   "source": [
    "Predict topic for each corpora based on the model generated in the last exercise:"
   ]
  },
  {
   "cell_type": "code",
   "execution_count": 288,
   "metadata": {},
   "outputs": [],
   "source": [
    "df_AB['topic_predicted']=df_AB['normalized_token'].apply(lambda x: conlda[dictionary.doc2bow(x)])"
   ]
  },
  {
   "cell_type": "markdown",
   "metadata": {},
   "source": [
    "From a first visulization, we could see that the topic predicted is very similar between pairs:"
   ]
  },
  {
   "cell_type": "code",
   "execution_count": 289,
   "metadata": {},
   "outputs": [
    {
     "data": {
      "text/html": [
       "<div>\n",
       "<style scoped>\n",
       "    .dataframe tbody tr th:only-of-type {\n",
       "        vertical-align: middle;\n",
       "    }\n",
       "\n",
       "    .dataframe tbody tr th {\n",
       "        vertical-align: top;\n",
       "    }\n",
       "\n",
       "    .dataframe thead th {\n",
       "        text-align: right;\n",
       "    }\n",
       "</style>\n",
       "<table border=\"1\" class=\"dataframe\">\n",
       "  <thead>\n",
       "    <tr style=\"text-align: right;\">\n",
       "      <th></th>\n",
       "      <th>con_txt</th>\n",
       "      <th>condition</th>\n",
       "      <th>label</th>\n",
       "      <th>topic</th>\n",
       "      <th>topic_predicted</th>\n",
       "    </tr>\n",
       "  </thead>\n",
       "  <tbody>\n",
       "    <tr>\n",
       "      <th>0</th>\n",
       "      <td>Okay, so uh, I guess they said we should start...</td>\n",
       "      <td>NB</td>\n",
       "      <td>A_1</td>\n",
       "      <td>11</td>\n",
       "      <td>[(0, 0.55470294), (4, 0.43544048)]</td>\n",
       "    </tr>\n",
       "    <tr>\n",
       "      <th>1</th>\n",
       "      <td>Yea, we should start Um, yeah. I actually didn...</td>\n",
       "      <td>NB</td>\n",
       "      <td>B_1</td>\n",
       "      <td>11</td>\n",
       "      <td>[(0, 0.043008417), (2, 0.010919523), (3, 0.011...</td>\n",
       "    </tr>\n",
       "    <tr>\n",
       "      <th>2</th>\n",
       "      <td>So I don't really I think I said--yes, everyon...</td>\n",
       "      <td>TYB</td>\n",
       "      <td>A_2</td>\n",
       "      <td>11</td>\n",
       "      <td>[(0, 0.8056892), (4, 0.1732335)]</td>\n",
       "    </tr>\n",
       "    <tr>\n",
       "      <th>3</th>\n",
       "      <td>I-I think put something that's below five.. Th...</td>\n",
       "      <td>TYB</td>\n",
       "      <td>B_2</td>\n",
       "      <td>11</td>\n",
       "      <td>[(0, 0.9664789)]</td>\n",
       "    </tr>\n",
       "    <tr>\n",
       "      <th>4</th>\n",
       "      <td>So I, when I read this question I thought abou...</td>\n",
       "      <td>NB</td>\n",
       "      <td>A_3</td>\n",
       "      <td>2</td>\n",
       "      <td>[(0, 0.9716318)]</td>\n",
       "    </tr>\n",
       "    <tr>\n",
       "      <th>5</th>\n",
       "      <td>So, uh I-I actually uh read a lot about this t...</td>\n",
       "      <td>NB</td>\n",
       "      <td>B_3</td>\n",
       "      <td>2</td>\n",
       "      <td>[(0, 0.98362255)]</td>\n",
       "    </tr>\n",
       "    <tr>\n",
       "      <th>6</th>\n",
       "      <td>Okay so you--What's your opinion on this? Oh w...</td>\n",
       "      <td>TYB</td>\n",
       "      <td>A_4</td>\n",
       "      <td>2</td>\n",
       "      <td>[(0, 0.17767996), (4, 0.8016525)]</td>\n",
       "    </tr>\n",
       "    <tr>\n",
       "      <th>7</th>\n",
       "      <td>I strongly disagree with this I think you shou...</td>\n",
       "      <td>TYB</td>\n",
       "      <td>B_4</td>\n",
       "      <td>2</td>\n",
       "      <td>[(0, 0.026749888), (1, 0.05054085), (4, 0.9105...</td>\n",
       "    </tr>\n",
       "    <tr>\n",
       "      <th>8</th>\n",
       "      <td>Experimenter  0:00   This is this is group num...</td>\n",
       "      <td>TYB</td>\n",
       "      <td>A_5</td>\n",
       "      <td>5</td>\n",
       "      <td>[(0, 0.02080244), (1, 0.9640902)]</td>\n",
       "    </tr>\n",
       "    <tr>\n",
       "      <th>9</th>\n",
       "      <td>I like what you said about like the right to. ...</td>\n",
       "      <td>TYB</td>\n",
       "      <td>B_5</td>\n",
       "      <td>5</td>\n",
       "      <td>[(0, 0.6711024), (1, 0.30265293)]</td>\n",
       "    </tr>\n",
       "    <tr>\n",
       "      <th>10</th>\n",
       "      <td>Yea, so so so. What do you--what do you person...</td>\n",
       "      <td>NB</td>\n",
       "      <td>A_6</td>\n",
       "      <td>7</td>\n",
       "      <td>[(4, 0.9743795)]</td>\n",
       "    </tr>\n",
       "    <tr>\n",
       "      <th>11</th>\n",
       "      <td>I think the US, I answered that the US should ...</td>\n",
       "      <td>NB</td>\n",
       "      <td>B_6</td>\n",
       "      <td>7</td>\n",
       "      <td>[(3, 0.6049944), (4, 0.37353212)]</td>\n",
       "    </tr>\n",
       "    <tr>\n",
       "      <th>12</th>\n",
       "      <td>Okay, um, so I put a four, I like very minorly...</td>\n",
       "      <td>NB</td>\n",
       "      <td>A_7</td>\n",
       "      <td>7</td>\n",
       "      <td>[(0, 0.8965932), (4, 0.08351946)]</td>\n",
       "    </tr>\n",
       "    <tr>\n",
       "      <th>13</th>\n",
       "      <td>I disagree.  I put I put a 10 for this.  Looki...</td>\n",
       "      <td>NB</td>\n",
       "      <td>B_7</td>\n",
       "      <td>7</td>\n",
       "      <td>[(0, 0.9703491)]</td>\n",
       "    </tr>\n",
       "    <tr>\n",
       "      <th>14</th>\n",
       "      <td>Umm I said yes umm, but I don't know you can l...</td>\n",
       "      <td>TYB</td>\n",
       "      <td>A_8</td>\n",
       "      <td>1</td>\n",
       "      <td>[(3, 0.98094875)]</td>\n",
       "    </tr>\n",
       "    <tr>\n",
       "      <th>15</th>\n",
       "      <td>Unknown Speaker  0:01   [inaudible] Um OK--I s...</td>\n",
       "      <td>TYB</td>\n",
       "      <td>B_8</td>\n",
       "      <td>1</td>\n",
       "      <td>[(3, 0.9655779)]</td>\n",
       "    </tr>\n",
       "    <tr>\n",
       "      <th>16</th>\n",
       "      <td>--[laughs] Yeah-- Sorry, I can't hear-- Yeah, ...</td>\n",
       "      <td>NB</td>\n",
       "      <td>A_9</td>\n",
       "      <td>1</td>\n",
       "      <td>[(4, 0.968485)]</td>\n",
       "    </tr>\n",
       "    <tr>\n",
       "      <th>17</th>\n",
       "      <td>Oh, okay, um, so I felt like uh--I feel like I...</td>\n",
       "      <td>NB</td>\n",
       "      <td>B_9</td>\n",
       "      <td>1</td>\n",
       "      <td>[(4, 0.98430884)]</td>\n",
       "    </tr>\n",
       "    <tr>\n",
       "      <th>18</th>\n",
       "      <td>--Like on a plane-- --Yeah-- Right, so I'm sup...</td>\n",
       "      <td>TYB</td>\n",
       "      <td>A_10</td>\n",
       "      <td>9</td>\n",
       "      <td>[(0, 0.18703236), (3, 0.7925296)]</td>\n",
       "    </tr>\n",
       "    <tr>\n",
       "      <th>19</th>\n",
       "      <td>So I disagree with this  because um I think ne...</td>\n",
       "      <td>TYB</td>\n",
       "      <td>B_10</td>\n",
       "      <td>9</td>\n",
       "      <td>[(0, 0.22670294), (3, 0.7567649)]</td>\n",
       "    </tr>\n",
       "    <tr>\n",
       "      <th>20</th>\n",
       "      <td>Uhh I really appreciate your point of view [pe...</td>\n",
       "      <td>TYB</td>\n",
       "      <td>A_11</td>\n",
       "      <td>9</td>\n",
       "      <td>[(0, 0.9753977)]</td>\n",
       "    </tr>\n",
       "    <tr>\n",
       "      <th>21</th>\n",
       "      <td>Okay, so I put strongly agree, because I just ...</td>\n",
       "      <td>TYB</td>\n",
       "      <td>B_11</td>\n",
       "      <td>9</td>\n",
       "      <td>[(0, 0.97195846)]</td>\n",
       "    </tr>\n",
       "    <tr>\n",
       "      <th>22</th>\n",
       "      <td>Ohhh, okay, well, at first, I was going to agr...</td>\n",
       "      <td>NB</td>\n",
       "      <td>A_12</td>\n",
       "      <td>12</td>\n",
       "      <td>[(0, 0.97596776)]</td>\n",
       "    </tr>\n",
       "    <tr>\n",
       "      <th>23</th>\n",
       "      <td>Umm okay, so I said Ivy schools should be.. I ...</td>\n",
       "      <td>NB</td>\n",
       "      <td>B_12</td>\n",
       "      <td>12</td>\n",
       "      <td>[(0, 0.9844334)]</td>\n",
       "    </tr>\n",
       "    <tr>\n",
       "      <th>24</th>\n",
       "      <td>Okay-- Okay.  I disagreed.   I also didn't str...</td>\n",
       "      <td>NB</td>\n",
       "      <td>A_13</td>\n",
       "      <td>12</td>\n",
       "      <td>[(0, 0.011887817), (2, 0.01094074), (3, 0.0114...</td>\n",
       "    </tr>\n",
       "    <tr>\n",
       "      <th>25</th>\n",
       "      <td>Awesome. Well--  I think I remember saying tha...</td>\n",
       "      <td>NB</td>\n",
       "      <td>B_13</td>\n",
       "      <td>12</td>\n",
       "      <td>[(4, 0.9779554)]</td>\n",
       "    </tr>\n",
       "    <tr>\n",
       "      <th>26</th>\n",
       "      <td>I think I said like slightly disagree or somet...</td>\n",
       "      <td>TYB</td>\n",
       "      <td>A_14</td>\n",
       "      <td>6</td>\n",
       "      <td>[(0, 0.014665801), (2, 0.9672328)]</td>\n",
       "    </tr>\n",
       "    <tr>\n",
       "      <th>27</th>\n",
       "      <td>Okay, cool. Do you remember what you said for...</td>\n",
       "      <td>TYB</td>\n",
       "      <td>B_14</td>\n",
       "      <td>6</td>\n",
       "      <td>[(2, 0.98499525)]</td>\n",
       "    </tr>\n",
       "    <tr>\n",
       "      <th>28</th>\n",
       "      <td>Oh, I thought I was also--should never be allo...</td>\n",
       "      <td>NB</td>\n",
       "      <td>A_15</td>\n",
       "      <td>6</td>\n",
       "      <td>[(2, 0.9811893)]</td>\n",
       "    </tr>\n",
       "    <tr>\n",
       "      <th>29</th>\n",
       "      <td>Okay, so I believe I was against this, that m...</td>\n",
       "      <td>NB</td>\n",
       "      <td>B_15</td>\n",
       "      <td>6</td>\n",
       "      <td>[(2, 0.97779083)]</td>\n",
       "    </tr>\n",
       "    <tr>\n",
       "      <th>30</th>\n",
       "      <td>Yeah, I think I I appreciate that. That the th...</td>\n",
       "      <td>TYB</td>\n",
       "      <td>A_16</td>\n",
       "      <td>5</td>\n",
       "      <td>[(0, 0.1369731), (2, 0.8419174)]</td>\n",
       "    </tr>\n",
       "    <tr>\n",
       "      <th>31</th>\n",
       "      <td>Okay, well, um, I remember that I agreed somew...</td>\n",
       "      <td>TYB</td>\n",
       "      <td>B_16</td>\n",
       "      <td>5</td>\n",
       "      <td>[(0, 0.5249413), (2, 0.46446568)]</td>\n",
       "    </tr>\n",
       "    <tr>\n",
       "      <th>32</th>\n",
       "      <td>I don't think it should be legal because..I be...</td>\n",
       "      <td>NB</td>\n",
       "      <td>A_17</td>\n",
       "      <td>9</td>\n",
       "      <td>[(3, 0.594716), (4, 0.38300896)]</td>\n",
       "    </tr>\n",
       "    <tr>\n",
       "      <th>33</th>\n",
       "      <td>So, I personally think physician assisted suic...</td>\n",
       "      <td>NB</td>\n",
       "      <td>B_17</td>\n",
       "      <td>9</td>\n",
       "      <td>[(3, 0.26883456), (4, 0.70499104)]</td>\n",
       "    </tr>\n",
       "    <tr>\n",
       "      <th>34</th>\n",
       "      <td>I believe that Ivy League schools should not b...</td>\n",
       "      <td>NB</td>\n",
       "      <td>A_18</td>\n",
       "      <td>5</td>\n",
       "      <td>[(0, 0.9770611)]</td>\n",
       "    </tr>\n",
       "    <tr>\n",
       "      <th>35</th>\n",
       "      <td>Yeah, so, um… Okay. Um, yeah. So, I believe th...</td>\n",
       "      <td>NB</td>\n",
       "      <td>B_18</td>\n",
       "      <td>5</td>\n",
       "      <td>[(0, 0.9753877)]</td>\n",
       "    </tr>\n",
       "    <tr>\n",
       "      <th>36</th>\n",
       "      <td>No.  no, it's something we strongly disagree. ...</td>\n",
       "      <td>TYB</td>\n",
       "      <td>A_19</td>\n",
       "      <td>10</td>\n",
       "      <td>[(2, 0.54153126), (3, 0.4359249)]</td>\n",
       "    </tr>\n",
       "    <tr>\n",
       "      <th>37</th>\n",
       "      <td>So, um, I think I chose I strongly ag- disagre...</td>\n",
       "      <td>TYB</td>\n",
       "      <td>B_19</td>\n",
       "      <td>10</td>\n",
       "      <td>[(3, 0.9832115)]</td>\n",
       "    </tr>\n",
       "    <tr>\n",
       "      <th>38</th>\n",
       "      <td>yes?  laugh Well, I mean, I understand that t...</td>\n",
       "      <td>NB</td>\n",
       "      <td>A_20</td>\n",
       "      <td>10</td>\n",
       "      <td>[(1, 0.98532254)]</td>\n",
       "    </tr>\n",
       "    <tr>\n",
       "      <th>39</th>\n",
       "      <td>So I think something that I don't know. This i...</td>\n",
       "      <td>NB</td>\n",
       "      <td>B_20</td>\n",
       "      <td>10</td>\n",
       "      <td>[(1, 0.9793869)]</td>\n",
       "    </tr>\n",
       "    <tr>\n",
       "      <th>40</th>\n",
       "      <td>Okay, I hear you and I understand what you mea...</td>\n",
       "      <td>TYB</td>\n",
       "      <td>A_21</td>\n",
       "      <td>9</td>\n",
       "      <td>[(2, 0.2323456), (3, 0.7582403)]</td>\n",
       "    </tr>\n",
       "    <tr>\n",
       "      <th>41</th>\n",
       "      <td>Okay. hmm. I thought that they should be prett...</td>\n",
       "      <td>TYB</td>\n",
       "      <td>B_21</td>\n",
       "      <td>9</td>\n",
       "      <td>[(0, 0.10754905), (1, 0.025240937), (3, 0.8557...</td>\n",
       "    </tr>\n",
       "    <tr>\n",
       "      <th>42</th>\n",
       "      <td>mm-hmm  mm  mm-hmm I disagree. hmm, I feel li...</td>\n",
       "      <td>NB</td>\n",
       "      <td>A_22</td>\n",
       "      <td>9</td>\n",
       "      <td>[(0, 0.0115145175), (1, 0.31928888), (3, 0.656...</td>\n",
       "    </tr>\n",
       "    <tr>\n",
       "      <th>43</th>\n",
       "      <td>So great. You should never use iPads as choice...</td>\n",
       "      <td>NB</td>\n",
       "      <td>B_22</td>\n",
       "      <td>9</td>\n",
       "      <td>[(1, 0.26826122), (3, 0.7171909)]</td>\n",
       "    </tr>\n",
       "    <tr>\n",
       "      <th>44</th>\n",
       "      <td>I'm- I'm glad that you brought it up because i...</td>\n",
       "      <td>TYB</td>\n",
       "      <td>A_23</td>\n",
       "      <td>8</td>\n",
       "      <td>[(0, 0.9818441)]</td>\n",
       "    </tr>\n",
       "    <tr>\n",
       "      <th>45</th>\n",
       "      <td>Um, I think, I, well, I guess when I buy skin ...</td>\n",
       "      <td>TYB</td>\n",
       "      <td>B_23</td>\n",
       "      <td>8</td>\n",
       "      <td>[(0, 0.96921057)]</td>\n",
       "    </tr>\n",
       "    <tr>\n",
       "      <th>46</th>\n",
       "      <td>Hmm. I disagree with you. I think that, hmm, p...</td>\n",
       "      <td>NB</td>\n",
       "      <td>A_24</td>\n",
       "      <td>8</td>\n",
       "      <td>[(1, 0.87139237), (3, 0.11197416)]</td>\n",
       "    </tr>\n",
       "    <tr>\n",
       "      <th>47</th>\n",
       "      <td>Hmm. The reason why I disagreed with the state...</td>\n",
       "      <td>NB</td>\n",
       "      <td>B_24</td>\n",
       "      <td>8</td>\n",
       "      <td>[(0, 0.0104075475), (1, 0.42978317), (3, 0.540...</td>\n",
       "    </tr>\n",
       "    <tr>\n",
       "      <th>48</th>\n",
       "      <td>Yeah, I get what you mean and I-I-I do appreci...</td>\n",
       "      <td>TYB</td>\n",
       "      <td>A_25</td>\n",
       "      <td>8</td>\n",
       "      <td>[(4, 0.9794827)]</td>\n",
       "    </tr>\n",
       "    <tr>\n",
       "      <th>49</th>\n",
       "      <td>I think people should avoid walking across the...</td>\n",
       "      <td>TYB</td>\n",
       "      <td>B_25</td>\n",
       "      <td>8</td>\n",
       "      <td>[(4, 0.97172755)]</td>\n",
       "    </tr>\n",
       "    <tr>\n",
       "      <th>50</th>\n",
       "      <td>Yeah, I kind of disagree because like you, you...</td>\n",
       "      <td>NB</td>\n",
       "      <td>A_26</td>\n",
       "      <td>8</td>\n",
       "      <td>[(0, 0.010015964), (3, 0.535405), (4, 0.437621...</td>\n",
       "    </tr>\n",
       "    <tr>\n",
       "      <th>51</th>\n",
       "      <td>Um I think real large, I'm I'm I'm more or les...</td>\n",
       "      <td>NB</td>\n",
       "      <td>B_26</td>\n",
       "      <td>8</td>\n",
       "      <td>[(2, 0.18271908), (3, 0.7908903), (4, 0.016726...</td>\n",
       "    </tr>\n",
       "    <tr>\n",
       "      <th>52</th>\n",
       "      <td>um-hmm  um-hmm  um-hmm  um-hmm  Yeah  um-hmm ...</td>\n",
       "      <td>TYB</td>\n",
       "      <td>A_27</td>\n",
       "      <td>5</td>\n",
       "      <td>[(3, 0.980608)]</td>\n",
       "    </tr>\n",
       "    <tr>\n",
       "      <th>53</th>\n",
       "      <td>So I said that, um I think the parents should ...</td>\n",
       "      <td>TYB</td>\n",
       "      <td>B_27</td>\n",
       "      <td>5</td>\n",
       "      <td>[(0, 0.014656755), (3, 0.9637537)]</td>\n",
       "    </tr>\n",
       "    <tr>\n",
       "      <th>54</th>\n",
       "      <td>So I appreciate that you bring up that there a...</td>\n",
       "      <td>TYB</td>\n",
       "      <td>A_28</td>\n",
       "      <td>11</td>\n",
       "      <td>[(2, 0.9782434)]</td>\n",
       "    </tr>\n",
       "    <tr>\n",
       "      <th>55</th>\n",
       "      <td>Experimenter  0:00   This is group 57 discussi...</td>\n",
       "      <td>TYB</td>\n",
       "      <td>B_28</td>\n",
       "      <td>11</td>\n",
       "      <td>[(2, 0.96823686)]</td>\n",
       "    </tr>\n",
       "    <tr>\n",
       "      <th>56</th>\n",
       "      <td>Okay, sounds good. Hi.  Mm-hm. Mm-hm.  Ya. Got...</td>\n",
       "      <td>TYB</td>\n",
       "      <td>A_29</td>\n",
       "      <td>12</td>\n",
       "      <td>[(0, 0.62022233), (1, 0.060555186), (2, 0.2578...</td>\n",
       "    </tr>\n",
       "    <tr>\n",
       "      <th>57</th>\n",
       "      <td>Experimenter  0:00   This is group number 60 d...</td>\n",
       "      <td>TYB</td>\n",
       "      <td>B_29</td>\n",
       "      <td>12</td>\n",
       "      <td>[(1, 0.7292306), (4, 0.25863108)]</td>\n",
       "    </tr>\n",
       "  </tbody>\n",
       "</table>\n",
       "</div>"
      ],
      "text/plain": [
       "                                              con_txt condition label  topic  \\\n",
       "0   Okay, so uh, I guess they said we should start...        NB   A_1     11   \n",
       "1   Yea, we should start Um, yeah. I actually didn...        NB   B_1     11   \n",
       "2   So I don't really I think I said--yes, everyon...       TYB   A_2     11   \n",
       "3   I-I think put something that's below five.. Th...       TYB   B_2     11   \n",
       "4   So I, when I read this question I thought abou...        NB   A_3      2   \n",
       "5   So, uh I-I actually uh read a lot about this t...        NB   B_3      2   \n",
       "6   Okay so you--What's your opinion on this? Oh w...       TYB   A_4      2   \n",
       "7   I strongly disagree with this I think you shou...       TYB   B_4      2   \n",
       "8   Experimenter  0:00   This is this is group num...       TYB   A_5      5   \n",
       "9   I like what you said about like the right to. ...       TYB   B_5      5   \n",
       "10  Yea, so so so. What do you--what do you person...        NB   A_6      7   \n",
       "11  I think the US, I answered that the US should ...        NB   B_6      7   \n",
       "12  Okay, um, so I put a four, I like very minorly...        NB   A_7      7   \n",
       "13  I disagree.  I put I put a 10 for this.  Looki...        NB   B_7      7   \n",
       "14  Umm I said yes umm, but I don't know you can l...       TYB   A_8      1   \n",
       "15  Unknown Speaker  0:01   [inaudible] Um OK--I s...       TYB   B_8      1   \n",
       "16  --[laughs] Yeah-- Sorry, I can't hear-- Yeah, ...        NB   A_9      1   \n",
       "17  Oh, okay, um, so I felt like uh--I feel like I...        NB   B_9      1   \n",
       "18  --Like on a plane-- --Yeah-- Right, so I'm sup...       TYB  A_10      9   \n",
       "19  So I disagree with this  because um I think ne...       TYB  B_10      9   \n",
       "20  Uhh I really appreciate your point of view [pe...       TYB  A_11      9   \n",
       "21  Okay, so I put strongly agree, because I just ...       TYB  B_11      9   \n",
       "22  Ohhh, okay, well, at first, I was going to agr...        NB  A_12     12   \n",
       "23  Umm okay, so I said Ivy schools should be.. I ...        NB  B_12     12   \n",
       "24  Okay-- Okay.  I disagreed.   I also didn't str...        NB  A_13     12   \n",
       "25  Awesome. Well--  I think I remember saying tha...        NB  B_13     12   \n",
       "26  I think I said like slightly disagree or somet...       TYB  A_14      6   \n",
       "27   Okay, cool. Do you remember what you said for...       TYB  B_14      6   \n",
       "28  Oh, I thought I was also--should never be allo...        NB  A_15      6   \n",
       "29   Okay, so I believe I was against this, that m...        NB  B_15      6   \n",
       "30  Yeah, I think I I appreciate that. That the th...       TYB  A_16      5   \n",
       "31  Okay, well, um, I remember that I agreed somew...       TYB  B_16      5   \n",
       "32  I don't think it should be legal because..I be...        NB  A_17      9   \n",
       "33  So, I personally think physician assisted suic...        NB  B_17      9   \n",
       "34  I believe that Ivy League schools should not b...        NB  A_18      5   \n",
       "35  Yeah, so, um… Okay. Um, yeah. So, I believe th...        NB  B_18      5   \n",
       "36  No.  no, it's something we strongly disagree. ...       TYB  A_19     10   \n",
       "37  So, um, I think I chose I strongly ag- disagre...       TYB  B_19     10   \n",
       "38   yes?  laugh Well, I mean, I understand that t...        NB  A_20     10   \n",
       "39  So I think something that I don't know. This i...        NB  B_20     10   \n",
       "40  Okay, I hear you and I understand what you mea...       TYB  A_21      9   \n",
       "41  Okay. hmm. I thought that they should be prett...       TYB  B_21      9   \n",
       "42   mm-hmm  mm  mm-hmm I disagree. hmm, I feel li...        NB  A_22      9   \n",
       "43  So great. You should never use iPads as choice...        NB  B_22      9   \n",
       "44  I'm- I'm glad that you brought it up because i...       TYB  A_23      8   \n",
       "45  Um, I think, I, well, I guess when I buy skin ...       TYB  B_23      8   \n",
       "46  Hmm. I disagree with you. I think that, hmm, p...        NB  A_24      8   \n",
       "47  Hmm. The reason why I disagreed with the state...        NB  B_24      8   \n",
       "48  Yeah, I get what you mean and I-I-I do appreci...       TYB  A_25      8   \n",
       "49  I think people should avoid walking across the...       TYB  B_25      8   \n",
       "50  Yeah, I kind of disagree because like you, you...        NB  A_26      8   \n",
       "51  Um I think real large, I'm I'm I'm more or les...        NB  B_26      8   \n",
       "52   um-hmm  um-hmm  um-hmm  um-hmm  Yeah  um-hmm ...       TYB  A_27      5   \n",
       "53  So I said that, um I think the parents should ...       TYB  B_27      5   \n",
       "54  So I appreciate that you bring up that there a...       TYB  A_28     11   \n",
       "55  Experimenter  0:00   This is group 57 discussi...       TYB  B_28     11   \n",
       "56  Okay, sounds good. Hi.  Mm-hm. Mm-hm.  Ya. Got...       TYB  A_29     12   \n",
       "57  Experimenter  0:00   This is group number 60 d...       TYB  B_29     12   \n",
       "\n",
       "                                      topic_predicted  \n",
       "0                  [(0, 0.55470294), (4, 0.43544048)]  \n",
       "1   [(0, 0.043008417), (2, 0.010919523), (3, 0.011...  \n",
       "2                    [(0, 0.8056892), (4, 0.1732335)]  \n",
       "3                                    [(0, 0.9664789)]  \n",
       "4                                    [(0, 0.9716318)]  \n",
       "5                                   [(0, 0.98362255)]  \n",
       "6                   [(0, 0.17767996), (4, 0.8016525)]  \n",
       "7   [(0, 0.026749888), (1, 0.05054085), (4, 0.9105...  \n",
       "8                   [(0, 0.02080244), (1, 0.9640902)]  \n",
       "9                   [(0, 0.6711024), (1, 0.30265293)]  \n",
       "10                                   [(4, 0.9743795)]  \n",
       "11                  [(3, 0.6049944), (4, 0.37353212)]  \n",
       "12                  [(0, 0.8965932), (4, 0.08351946)]  \n",
       "13                                   [(0, 0.9703491)]  \n",
       "14                                  [(3, 0.98094875)]  \n",
       "15                                   [(3, 0.9655779)]  \n",
       "16                                    [(4, 0.968485)]  \n",
       "17                                  [(4, 0.98430884)]  \n",
       "18                  [(0, 0.18703236), (3, 0.7925296)]  \n",
       "19                  [(0, 0.22670294), (3, 0.7567649)]  \n",
       "20                                   [(0, 0.9753977)]  \n",
       "21                                  [(0, 0.97195846)]  \n",
       "22                                  [(0, 0.97596776)]  \n",
       "23                                   [(0, 0.9844334)]  \n",
       "24  [(0, 0.011887817), (2, 0.01094074), (3, 0.0114...  \n",
       "25                                   [(4, 0.9779554)]  \n",
       "26                 [(0, 0.014665801), (2, 0.9672328)]  \n",
       "27                                  [(2, 0.98499525)]  \n",
       "28                                   [(2, 0.9811893)]  \n",
       "29                                  [(2, 0.97779083)]  \n",
       "30                   [(0, 0.1369731), (2, 0.8419174)]  \n",
       "31                  [(0, 0.5249413), (2, 0.46446568)]  \n",
       "32                   [(3, 0.594716), (4, 0.38300896)]  \n",
       "33                 [(3, 0.26883456), (4, 0.70499104)]  \n",
       "34                                   [(0, 0.9770611)]  \n",
       "35                                   [(0, 0.9753877)]  \n",
       "36                  [(2, 0.54153126), (3, 0.4359249)]  \n",
       "37                                   [(3, 0.9832115)]  \n",
       "38                                  [(1, 0.98532254)]  \n",
       "39                                   [(1, 0.9793869)]  \n",
       "40                   [(2, 0.2323456), (3, 0.7582403)]  \n",
       "41  [(0, 0.10754905), (1, 0.025240937), (3, 0.8557...  \n",
       "42  [(0, 0.0115145175), (1, 0.31928888), (3, 0.656...  \n",
       "43                  [(1, 0.26826122), (3, 0.7171909)]  \n",
       "44                                   [(0, 0.9818441)]  \n",
       "45                                  [(0, 0.96921057)]  \n",
       "46                 [(1, 0.87139237), (3, 0.11197416)]  \n",
       "47  [(0, 0.0104075475), (1, 0.42978317), (3, 0.540...  \n",
       "48                                   [(4, 0.9794827)]  \n",
       "49                                  [(4, 0.97172755)]  \n",
       "50  [(0, 0.010015964), (3, 0.535405), (4, 0.437621...  \n",
       "51  [(2, 0.18271908), (3, 0.7908903), (4, 0.016726...  \n",
       "52                                    [(3, 0.980608)]  \n",
       "53                 [(0, 0.014656755), (3, 0.9637537)]  \n",
       "54                                   [(2, 0.9782434)]  \n",
       "55                                  [(2, 0.96823686)]  \n",
       "56  [(0, 0.62022233), (1, 0.060555186), (2, 0.2578...  \n",
       "57                  [(1, 0.7292306), (4, 0.25863108)]  "
      ]
     },
     "execution_count": 289,
     "metadata": {},
     "output_type": "execute_result"
    }
   ],
   "source": [
    "df_AB[['con_txt','condition','label','topic','topic_predicted']]"
   ]
  },
  {
   "cell_type": "markdown",
   "metadata": {},
   "source": [
    "Then we further calculate the distance between agent/corpora based on their predicted topic distribution:"
   ]
  },
  {
   "cell_type": "code",
   "execution_count": 290,
   "metadata": {},
   "outputs": [],
   "source": [
    "from gensim.matutils import kullback_leibler\n",
    "\n",
    "def convert_to_prob(bow):\n",
    "    ps = []\n",
    "    for topic_no, topic_prob in bow:\n",
    "        ps.append(topic_prob)\n",
    "    return ps"
   ]
  },
  {
   "cell_type": "markdown",
   "metadata": {},
   "source": [
    "Transform the predicted topic into full predicted topic distribution with all five topics: "
   ]
  },
  {
   "cell_type": "code",
   "execution_count": 291,
   "metadata": {},
   "outputs": [
    {
     "name": "stderr",
     "output_type": "stream",
     "text": [
      "C:\\Users\\zhuangchu\\Anaconda3\\lib\\site-packages\\ipykernel_launcher.py:11: SettingWithCopyWarning: \n",
      "A value is trying to be set on a copy of a slice from a DataFrame\n",
      "\n",
      "See the caveats in the documentation: http://pandas.pydata.org/pandas-docs/stable/user_guide/indexing.html#returning-a-view-versus-a-copy\n",
      "  # This is added back by InteractiveShellApp.init_path()\n"
     ]
    }
   ],
   "source": [
    "df_AB['topic_predicted0']=[[]]*len(df_AB)\n",
    "\n",
    "for index, row in df_AB.iterrows():\n",
    "    predicted=row['topic_predicted']\n",
    "    predicted0=[[1,0],[2,0],[3,0],[4,0],[5,0]]\n",
    "    for p0 in predicted:\n",
    "        p0_id=p0[0]\n",
    "        p0_value=p0[1]\n",
    "        predicted0[p0_id-1][1]=p0_value\n",
    "    df_AB['topic_predicted0'][index]=predicted0"
   ]
  },
  {
   "cell_type": "markdown",
   "metadata": {},
   "source": [
    "Calculate the distance (by KL distance) between two agent by their predicted topic distribution:"
   ]
  },
  {
   "cell_type": "code",
   "execution_count": 292,
   "metadata": {},
   "outputs": [],
   "source": [
    "M=np.ones((len(df_AB),len(df_AB)))*5\n",
    "L = []\n",
    "import math\n",
    "for agent1 in range(len(df_AB)):\n",
    "    p = df_AB['topic_predicted0'][agent1]\n",
    "    p = convert_to_prob(p)\n",
    "    l = []\n",
    "    for agent2 in range(len(df_AB)):\n",
    "        q = df_AB['topic_predicted0'][agent2]\n",
    "        q = convert_to_prob(q)\n",
    "        divpq=kullback_leibler(p, q)\n",
    "        l.append(kullback_leibler(p, q))\n",
    "        if math.isinf(divpq):\n",
    "            M[agent1,agent2]=5\n",
    "        else:\n",
    "            M[agent1,agent2]=kullback_leibler(p, q)\n",
    "    L.append(l)\n",
    "#M = np.array(L)"
   ]
  },
  {
   "cell_type": "markdown",
   "metadata": {},
   "source": [
    "Visualize the distance measures between pairs:\n",
    "\n",
    "from the visualizaiton we could see that except for some corpora and pairs, the distance between each other generally have very large distance, indicating very different topic distributions."
   ]
  },
  {
   "cell_type": "code",
   "execution_count": 300,
   "metadata": {},
   "outputs": [
    {
     "data": {
      "image/png": "[encoded data removed]",
      "text/plain": [
       "<Figure size 432x288 with 2 Axes>"
      ]
     },
     "metadata": {
      "needs_background": "light"
     },
     "output_type": "display_data"
    }
   ],
   "source": [
    "fig = plt.figure()\n",
    "div = pandas.DataFrame(M, columns = list(df_AB['label']), index = list(df_AB['topic']))\n",
    "ax = sns.heatmap(div)\n",
    "plt.show()"
   ]
  },
  {
   "cell_type": "markdown",
   "metadata": {},
   "source": [
    "Then we further calculate the divergence score based on pairs:"
   ]
  },
  {
   "cell_type": "code",
   "execution_count": 301,
   "metadata": {},
   "outputs": [],
   "source": [
    "#pair similarity\n",
    "sim_pair_TYB,sim_pair_NB=[],[]\n",
    "for i in range(12):\n",
    "    if df_AB['condition'][2*i]=='TYB':\n",
    "        sim_pair_TYB.append(float(M[2*i,2*i+1]))\n",
    "    if df_AB['condition'][2*i]=='NB':\n",
    "        sim_pair_NB.append(float(M[2*i,2*i+1]))    "
   ]
  },
  {
   "cell_type": "code",
   "execution_count": 302,
   "metadata": {},
   "outputs": [
    {
     "name": "stdout",
     "output_type": "stream",
     "text": [
      "Avg divergence of pair in TYB 1.0503\n",
      "Avg divergence of pair in NB 1.1775\n"
     ]
    }
   ],
   "source": [
    "avg_sim_pair_TYB=sum(sim_pair_TYB)/len(sim_pair_TYB)\n",
    "avg_sim_pair_NB=sum(sim_pair_NB)/len(sim_pair_NB)\n",
    "print('Avg divergence of pair in TYB',round(avg_sim_pair_TYB,4))\n",
    "print('Avg divergence of pair in NB',round(avg_sim_pair_NB,4))"
   ]
  },
  {
   "cell_type": "code",
   "execution_count": 303,
   "metadata": {},
   "outputs": [
    {
     "name": "stdout",
     "output_type": "stream",
     "text": [
      "Avg divergence of each two agent: 4.0564\n"
     ]
    }
   ],
   "source": [
    "#averaged distance across all agents\n",
    "print('Avg divergence of each two agent:',round(np.mean(M),4))"
   ]
  },
  {
   "cell_type": "markdown",
   "metadata": {},
   "source": [
    "As we could see from the results above, pairs generally have much smaller distance between each other accoridng to their topic (about 1) compared with distance between each two random agent (about 4); also for TYB conditon, the distance between agents of topic distribution is much smaller, compared with NB, which is very interesting and in line with our prediciton of this study. In 'Thank you Because' condition, two speakers are more possible to touch common ground."
   ]
  },
  {
   "cell_type": "code",
   "execution_count": null,
   "metadata": {},
   "outputs": [],
   "source": []
  }
 ],
 "metadata": {
  "kernelspec": {
   "display_name": "Python 3",
   "language": "python",
   "name": "python3"
  },
  "language_info": {
   "codemirror_mode": {
    "name": "ipython",
    "version": 3
   },
   "file_extension": ".py",
   "mimetype": "text/x-python",
   "name": "python",
   "nbconvert_exporter": "python",
   "pygments_lexer": "ipython3",
   "version": "3.7.5"
  }
 },
 "nbformat": 4,
 "nbformat_minor": 2
}
