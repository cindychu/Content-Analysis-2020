{
 "cells": [
  {
   "cell_type": "markdown",
   "metadata": {},
   "source": [
    "# Week 7 - Vector Space Word Embeddings\n",
    "\n",
    "By Chu Zhuang\n",
    "\n",
    "This week, we build on last week's topic modeling techniques by taking a text corpus we have developed, specifying an underlying number of dimensions, and training a model with a neural network auto-encoder (one of Google's word2vec  algorithms) that best describes corpus words in their local linguistic contexts, and exploring their locations in the resulting space to learn about the discursive culture that produced them. Documents here are represented as densely indexed locations in dimensions, rather than sparse mixtures of topics (as in LDA topic modeling), so that distances between those documents (and words) are consistently superior, though they require the full vector of dimension loadings (rather than just a few selected topic loadings) to describe. We will explore these spaces to understand complex, semantic relationships between words, index documents with descriptive words, identify the likelihood that a given document would have been produced by a given vector model, and explore how semantic categories can help us understand the cultures that produced them.\n",
    "\n",
    "For this notebook we will be using the following packages"
   ]
  },
  {
   "cell_type": "code",
   "execution_count": 1,
   "metadata": {},
   "outputs": [],
   "source": [
    "#All these packages need to be installed from pip\n",
    "import gensim#For word2vec, etc\n",
    "import requests #For downloading our datasets\n",
    "import lucem_illud_2020\n",
    "\n",
    "import numpy as np #For arrays\n",
    "import pandas #Gives us DataFrames\n",
    "import matplotlib.pyplot as plt #For graphics\n",
    "import seaborn #Makes the graphics look nicer\n",
    "import sklearn.metrics.pairwise #For cosine similarity\n",
    "import sklearn.manifold #For T-SNE\n",
    "import sklearn.decomposition #For PCA\n",
    "\n",
    "#This 'magic' command makes the plots work better\n",
    "#in the notebook, don't use it outside of a notebook.\n",
    "#Also you can ignore the warning\n",
    "%matplotlib inline\n",
    "\n",
    "import os #For looking through files\n",
    "import os.path #For managing file paths"
   ]
  },
  {
   "cell_type": "markdown",
   "metadata": {},
   "source": [
    "## <span style=\"color:red\">*Exercise 1*</span>\n",
    "\n",
    "<span style=\"color:red\">Construct cells immediately below this that embed documents related to your final project using at least two different specification of `word2vec`, and visualize them each with two separate visualization layout specifications (e.g., TSNE, PCA). Then interrogate critical word vectors within your corpus in terms of the most similar words, analogies, and other additions and subtractions that reveal the structure of similarity and difference within your semantic space. What does this pattern reveal about the semantic organization of words in your corpora? Which estimation and visualization specification generate the most insight and appear the most robustly supported and why? \n",
    "\n",
    "<span style=\"color:red\">***Stretch***: Explore different vector calculations beyond addition and subtraction, such as multiplication, division or some other function. What does this exploration reveal about the semantic structure of your corpus?"
   ]
  },
  {
   "cell_type": "markdown",
   "metadata": {},
   "source": [
    "# Getting our corpora\n",
    "\n",
    "\n",
    "For this homework analysis, we continue our 'Thank you Because' project analysis (a conversation technique to help negotaite difference, which have two conditions: TYB-thank you because manipulation, and NB-No because condition) and the conversation corpora (46 pair now, each about 500words).\n",
    "\n",
    "In this homework, we not only care about the words that each pair or each subject said, but also the words they said in each turn of conversation. so we put more efforts in organizing data in this homework:"
   ]
  },
  {
   "cell_type": "code",
   "execution_count": 2,
   "metadata": {},
   "outputs": [],
   "source": [
    "#Load the data\n",
    "import re\n",
    "\n",
    "text_file='TYB_info.txt'\n",
    "with open(text_file, encoding='utf-8') as f:\n",
    "    lines=f.readlines()\n",
    "    \n",
    "pair_id=[]\n",
    "condition=[]\n",
    "topic=[]\n",
    "\n",
    "for line in lines[1:]:\n",
    "    line_sp=line.split('\\t')\n",
    "    pair_id.append(line_sp[0])\n",
    "    condition.append(line_sp[1])\n",
    "    topic.append(re.sub(r'\\n','',line_sp[2]))"
   ]
  },
  {
   "cell_type": "code",
   "execution_count": 3,
   "metadata": {
    "scrolled": true
   },
   "outputs": [],
   "source": [
    "#version3\n",
    "file_num=pair_id\n",
    "num_of_file=len(file_num)\n",
    "#condition=['NB','TYB','NB','TYB','TYB','NB','NB','TYB','TYB','TYB','NB']\n",
    "#topic=[11,11,2,2,5,7,7,13,13,11,11]\n",
    "\n",
    "conversation_txt_all=[]\n",
    "conversation_txt_A_all=[]\n",
    "conversation_txt_B_all=[]\n",
    "conversation_txt_A_all0=[]\n",
    "conversation_txt_B_all0=[]\n",
    "round_info_A_all=[]\n",
    "round_info_B_all=[]\n",
    "inter_num_A_all=[]\n",
    "inter_num_B_all=[]\n",
    "# read each file \n",
    "for i in range(num_of_file):\n",
    "    filename='Transcripts/'+file_num[i]+'_otter.xz.txt'\n",
    "    with open(filename, encoding='utf-8') as f:\n",
    "        lines=f.readlines()\n",
    "    \n",
    "    conversation_txt=[]\n",
    "    conversation_txt_A=[]\n",
    "    conversation_txt_B=[]\n",
    "    round_A=0\n",
    "    round_B=0\n",
    "    round_info_A=[]\n",
    "    round_info_B=[]\n",
    "    inter_num_A=[]\n",
    "    inter_num_B=[]\n",
    "    conversation_txt_A_in1=[]\n",
    "    conversation_txt_B_in1=[]\n",
    "    conversation_txt_A_in0=''\n",
    "    conversation_txt_B_in0=''\n",
    "    l_len=len(lines[:-1])\n",
    "    for i,line in enumerate(lines):\n",
    "        re_other=r'\\[Person (A|B):(.*?)\\]'\n",
    "        re_other2=r'\\[Speaker (1|2):(.*?)\\]'\n",
    "        find_other=re.findall(re_other,line)\n",
    "        find_other2=re.findall(re_other2,line)\n",
    "        line=re.sub(re_other,'', line)\n",
    "        line=re.sub(re_other2,'', line)\n",
    "        conversation_txt_A_in=[]\n",
    "        conversation_txt_B_in=[]\n",
    "        inter_A=0\n",
    "        inter_B=0\n",
    "        for other in find_other2: #speaker\n",
    "            other_content=other[1]\n",
    "            if person_id=='A':\n",
    "                inter_B+=1\n",
    "                conversation_txt_B_in.append(other_content)\n",
    "            elif person_id=='B':\n",
    "                inter_A+=1\n",
    "                conversation_txt_A_in.append(other_content)                   \n",
    "\n",
    "        for other in find_other:\n",
    "            other_id=other[0]\n",
    "            other_content=other[1]\n",
    "            if other_id=='A':\n",
    "                inter_A+=1\n",
    "                conversation_txt_A_in.append(other_content)\n",
    "            elif other_id=='B':\n",
    "                inter_B+=1\n",
    "                conversation_txt_B_in.append(other_content)\n",
    "        \n",
    "        re_person=r'Person (A|B)'\n",
    "        find_person=re.search(re_person,line)\n",
    "        if find_person:\n",
    "            person_id=find_person.group(1)\n",
    "        else:\n",
    "            line=re.sub(r'\\n','',line)\n",
    "            line=re.sub(r'--','',line)\n",
    "            if line:\n",
    "                if len(line)<50:\n",
    "                    if person_id=='A':\n",
    "                        conversation_txt_A_in0=conversation_txt_A_in0+'. '+line\n",
    "                    if person_id=='B':\n",
    "                        conversation_txt_B_in0=conversation_txt_B_in0+'. '+line\n",
    "                else:\n",
    "                    conversation_txt.append(line)    \n",
    "                    conversation_txt_A_in1=conversation_txt_A_in0\n",
    "                    conversation_txt_B_in1=conversation_txt_B_in0\n",
    "                    conversation_txt_A_in0='.'.join(conversation_txt_A_in)\n",
    "                    conversation_txt_B_in0='.'.join(conversation_txt_B_in)    \n",
    "                    if person_id=='A':\n",
    "                        round_A+=1\n",
    "                        round_info_A.append(round_A)\n",
    "                        inter_num_B.append(inter_B)\n",
    "                        if len(conversation_txt_A_in1)!=0:\n",
    "                            line=conversation_txt_A_in1+'. '+line\n",
    "                        if len(conversation_txt_B_in1)!=0:\n",
    "                            conversation_txt_B_in0=conversation_txt_B_in1+'. '+conversation_txt_B_in0\n",
    "                        conversation_txt_A.append(line)\n",
    "                    elif person_id=='B':\n",
    "                        round_B+=1\n",
    "                        round_info_B.append(round_B)\n",
    "                        inter_num_A.append(inter_A)\n",
    "                        if len(conversation_txt_B_in1)!=0:\n",
    "                            line=conversation_txt_B_in1+'. '+line\n",
    "                        if len(conversation_txt_A_in1)!=0:\n",
    "                            conversation_txt_A_in0=conversation_txt_A_in1+'. '+conversation_txt_A_in0\n",
    "                        conversation_txt_B.append(line)\n",
    "        if i==l_len-1:\n",
    "            if len(conversation_txt_A_in0)!=0:\n",
    "                conversation_txt_A.append(conversation_txt_A_in0)\n",
    "            if len(conversation_txt_B_in0)!=0:\n",
    "                conversation_txt_B.append(conversation_txt_B_in0)\n",
    "                \n",
    "    conversation_txt=' '.join(conversation_txt)       \n",
    "    conversation_txt_A0=' '.join(conversation_txt_A)    \n",
    "    conversation_txt_B0=' '.join(conversation_txt_B)    \n",
    "    \n",
    "    conversation_txt_all.append(conversation_txt)\n",
    "    conversation_txt_A_all0.append(conversation_txt_A0)\n",
    "    conversation_txt_B_all0.append(conversation_txt_B0)\n",
    "    conversation_txt_A_all.append(conversation_txt_A)\n",
    "    conversation_txt_B_all.append(conversation_txt_B)\n",
    "    round_info_A_all.append(round_info_A)\n",
    "    round_info_B_all.append(round_info_B)\n",
    "    inter_num_A_all.append(inter_num_A)\n",
    "    inter_num_B_all.append(inter_num_B)\n",
    "\n",
    "#organize into a dataframe\n",
    "df_con2=pandas.DataFrame({'condition':condition,'pair_id':pair_id,'topic':topic,'conversation_txt':conversation_txt_all,'con_txt_A':conversation_txt_A_all0,'con_txt_B':conversation_txt_B_all0,'turn_txt_A':conversation_txt_A_all,'turn_txt_B':conversation_txt_B_all,'round_A':round_info_A_all,'round_B':round_info_B_all,'inter_num_A':inter_num_A_all,'inter_num_B':inter_num_B_all })"
   ]
  },
  {
   "cell_type": "markdown",
   "metadata": {},
   "source": [
    "Organized in the pair format:"
   ]
  },
  {
   "cell_type": "code",
   "execution_count": 56,
   "metadata": {},
   "outputs": [
    {
     "data": {
      "text/html": [
       "<div>\n",
       "<style scoped>\n",
       "    .dataframe tbody tr th:only-of-type {\n",
       "        vertical-align: middle;\n",
       "    }\n",
       "\n",
       "    .dataframe tbody tr th {\n",
       "        vertical-align: top;\n",
       "    }\n",
       "\n",
       "    .dataframe thead th {\n",
       "        text-align: right;\n",
       "    }\n",
       "</style>\n",
       "<table border=\"1\" class=\"dataframe\">\n",
       "  <thead>\n",
       "    <tr style=\"text-align: right;\">\n",
       "      <th></th>\n",
       "      <th>condition</th>\n",
       "      <th>pair_id</th>\n",
       "      <th>topic</th>\n",
       "      <th>conversation_txt</th>\n",
       "      <th>con_txt_A</th>\n",
       "      <th>con_txt_B</th>\n",
       "      <th>turn_txt_A</th>\n",
       "      <th>turn_txt_B</th>\n",
       "      <th>round_A</th>\n",
       "      <th>round_B</th>\n",
       "      <th>inter_num_A</th>\n",
       "      <th>inter_num_B</th>\n",
       "    </tr>\n",
       "  </thead>\n",
       "  <tbody>\n",
       "    <tr>\n",
       "      <th>0</th>\n",
       "      <td>NB</td>\n",
       "      <td>5</td>\n",
       "      <td>10</td>\n",
       "      <td>So uh they said that this is a topic we disagr...</td>\n",
       "      <td>. Okay, so uh, I guess they said we should sta...</td>\n",
       "      <td>. Yea, we should start. . Um, yeah.. I actuall...</td>\n",
       "      <td>[. Okay, so uh, I guess they said we should st...</td>\n",
       "      <td>[. Yea, we should start. . Um, yeah.. I actual...</td>\n",
       "      <td>[1, 2, 3]</td>\n",
       "      <td>[1, 2]</td>\n",
       "      <td>[0, 0]</td>\n",
       "      <td>[0, 0, 0]</td>\n",
       "    </tr>\n",
       "    <tr>\n",
       "      <th>1</th>\n",
       "      <td>TYB</td>\n",
       "      <td>6</td>\n",
       "      <td>2</td>\n",
       "      <td>So I don't really I think I saidyes, everyone ...</td>\n",
       "      <td>So I don't really I think I saidyes, everyone ...</td>\n",
       "      <td>I-I think put something that's below five..  T...</td>\n",
       "      <td>[So I don't really I think I saidyes, everyone...</td>\n",
       "      <td>[I-I think put something that's below five..  ...</td>\n",
       "      <td>[1, 2, 3, 4, 5, 6]</td>\n",
       "      <td>[1, 2, 3, 4, 5]</td>\n",
       "      <td>[1, 3, 1, 2, 2]</td>\n",
       "      <td>[0, 0, 0, 0, 1, 1]</td>\n",
       "    </tr>\n",
       "    <tr>\n",
       "      <th>2</th>\n",
       "      <td>NB</td>\n",
       "      <td>7</td>\n",
       "      <td>4</td>\n",
       "      <td>So I, when I read this question I thought abou...</td>\n",
       "      <td>So I, when I read this question I thought abou...</td>\n",
       "      <td>Uh-huh. Uh, so, uh I-I actually uh read a lot...</td>\n",
       "      <td>[So I, when I read this question I thought abo...</td>\n",
       "      <td>[ Uh-huh. Uh, so, uh I-I actually uh read a lo...</td>\n",
       "      <td>[1, 2, 3]</td>\n",
       "      <td>[1, 2, 3, 4]</td>\n",
       "      <td>[0, 0, 0, 0]</td>\n",
       "      <td>[1, 0, 0]</td>\n",
       "    </tr>\n",
       "    <tr>\n",
       "      <th>3</th>\n",
       "      <td>TYB</td>\n",
       "      <td>8</td>\n",
       "      <td>6</td>\n",
       "      <td>I strongly disagree with this  I think you sho...</td>\n",
       "      <td>. Okay so youWhat's your opinion on this?.  Oh...</td>\n",
       "      <td>I strongly disagree with this  I think you sho...</td>\n",
       "      <td>[. Okay so youWhat's your opinion on this?.  O...</td>\n",
       "      <td>[I strongly disagree with this  I think you sh...</td>\n",
       "      <td>[1, 2, 3, 4, 5]</td>\n",
       "      <td>[1, 2, 3, 4, 5, 6]</td>\n",
       "      <td>[1, 0, 1, 1, 0, 0]</td>\n",
       "      <td>[0, 0, 0, 0, 0]</td>\n",
       "    </tr>\n",
       "    <tr>\n",
       "      <th>4</th>\n",
       "      <td>TYB</td>\n",
       "      <td>9</td>\n",
       "      <td>1</td>\n",
       "      <td>So I guess like, wha-wha-what do you think abo...</td>\n",
       "      <td>. Okay, let's start, yea [laugh]. . Yeah, so u...</td>\n",
       "      <td>. I'm good whenever you are. So I guess like, ...</td>\n",
       "      <td>[. Okay, let's start, yea [laugh]. . Yeah, so ...</td>\n",
       "      <td>[. I'm good whenever you are. So I guess like,...</td>\n",
       "      <td>[1, 2]</td>\n",
       "      <td>[1, 2, 3, 4]</td>\n",
       "      <td>[0, 3, 0, 0]</td>\n",
       "      <td>[0, 0]</td>\n",
       "    </tr>\n",
       "    <tr>\n",
       "      <th>5</th>\n",
       "      <td>TYB</td>\n",
       "      <td>11</td>\n",
       "      <td>8</td>\n",
       "      <td>I just strongly believe in the right to um {{}...</td>\n",
       "      <td>I like what you said about like the right to. ...</td>\n",
       "      <td>I just strongly believe in the right to um {{}...</td>\n",
       "      <td>[I like what you said about like the right to....</td>\n",
       "      <td>[I just strongly believe in the right to um {{...</td>\n",
       "      <td>[1, 2, 3, 4]</td>\n",
       "      <td>[1, 2, 3, 4, 5, 6, 7]</td>\n",
       "      <td>[0, 0, 0, 0, 0, 0, 0]</td>\n",
       "      <td>[0, 0, 0, 0]</td>\n",
       "    </tr>\n",
       "    <tr>\n",
       "      <th>6</th>\n",
       "      <td>NB</td>\n",
       "      <td>12</td>\n",
       "      <td>11</td>\n",
       "      <td>Yea, so so so. What do youwhat do you personal...</td>\n",
       "      <td>I think that the US, I answered that the US sh...</td>\n",
       "      <td>Yea, so so so. What do youwhat do you personal...</td>\n",
       "      <td>[I think that the US, I answered that the US s...</td>\n",
       "      <td>[Yea, so so so. What do youwhat do you persona...</td>\n",
       "      <td>[1, 2, 3, 4, 5, 6]</td>\n",
       "      <td>[1, 2, 3, 4, 5, 6, 7]</td>\n",
       "      <td>[0, 0, 0, 0, 0, 0, 1]</td>\n",
       "      <td>[0, 0, 0, 0, 0, 0]</td>\n",
       "    </tr>\n",
       "    <tr>\n",
       "      <th>7</th>\n",
       "      <td>NB</td>\n",
       "      <td>13</td>\n",
       "      <td>5</td>\n",
       "      <td>Okay, um, so I put a four. I like very minorly...</td>\n",
       "      <td>. I disagree. . I put I put a 10 for this. . L...</td>\n",
       "      <td>Okay, um, so I put a four. I like very minorly...</td>\n",
       "      <td>[. I disagree. . I put I put a 10 for this. . ...</td>\n",
       "      <td>[Okay, um, so I put a four. I like very minorl...</td>\n",
       "      <td>[1, 2, 3]</td>\n",
       "      <td>[1, 2]</td>\n",
       "      <td>[0, 0]</td>\n",
       "      <td>[1, 0, 0]</td>\n",
       "    </tr>\n",
       "    <tr>\n",
       "      <th>8</th>\n",
       "      <td>TYB</td>\n",
       "      <td>14</td>\n",
       "      <td>4</td>\n",
       "      <td>Umm I said yes umm, but I don't know you can l...</td>\n",
       "      <td>Umm I said yes umm, but I don't know you can l...</td>\n",
       "      <td>. Um OKI said nodid you say yes or no?. . UmmI...</td>\n",
       "      <td>[Umm I said yes umm, but I don't know you can ...</td>\n",
       "      <td>[. Um OKI said nodid you say yes or no?. . Umm...</td>\n",
       "      <td>[1, 2, 3, 4, 5, 6, 7, 8]</td>\n",
       "      <td>[1, 2, 3, 4, 5, 6, 7, 8]</td>\n",
       "      <td>[0, 0, 0, 0, 0, 0, 0, 0]</td>\n",
       "      <td>[0, 0, 0, 0, 0, 0, 0, 1]</td>\n",
       "    </tr>\n",
       "    <tr>\n",
       "      <th>9</th>\n",
       "      <td>NB</td>\n",
       "      <td>15</td>\n",
       "      <td>13</td>\n",
       "      <td>Oh, okay, um, so I felt like uhI feel like I r...</td>\n",
       "      <td>. [laughs] Yeah. . Sorry, I can't hear. Yeah, ...</td>\n",
       "      <td>Oh, okay, um, so I felt like uhI feel like I r...</td>\n",
       "      <td>[. [laughs] Yeah. . Sorry, I can't hear. Yeah,...</td>\n",
       "      <td>[Oh, okay, um, so I felt like uhI feel like I ...</td>\n",
       "      <td>[1, 2, 3]</td>\n",
       "      <td>[1, 2, 3, 4, 5, 6, 7]</td>\n",
       "      <td>[0, 0, 0, 0, 0, 0, 0]</td>\n",
       "      <td>[0, 0, 0]</td>\n",
       "    </tr>\n",
       "    <tr>\n",
       "      <th>10</th>\n",
       "      <td>TYB</td>\n",
       "      <td>16</td>\n",
       "      <td>5</td>\n",
       "      <td>So I disagree with this because um I think nev...</td>\n",
       "      <td>. Like on a plane. Yeah. . Right, so I'm super...</td>\n",
       "      <td>So I disagree with this because um I think nev...</td>\n",
       "      <td>[. Like on a plane. Yeah. . Right, so I'm supe...</td>\n",
       "      <td>[So I disagree with this because um I think ne...</td>\n",
       "      <td>[1, 2, 3, 4]</td>\n",
       "      <td>[1, 2, 3, 4]</td>\n",
       "      <td>[0, 0, 0, 0]</td>\n",
       "      <td>[0, 0, 0, 0]</td>\n",
       "    </tr>\n",
       "    <tr>\n",
       "      <th>11</th>\n",
       "      <td>TYB</td>\n",
       "      <td>17</td>\n",
       "      <td>11</td>\n",
       "      <td>Okay, so I put strongly agree, because I just ...</td>\n",
       "      <td>Uhh I really appreciate your point of view [pe...</td>\n",
       "      <td>Okay, so I put strongly agree, because I just ...</td>\n",
       "      <td>[Uhh I really appreciate your point of view [p...</td>\n",
       "      <td>[Okay, so I put strongly agree, because I just...</td>\n",
       "      <td>[1, 2]</td>\n",
       "      <td>[1, 2, 3, 4]</td>\n",
       "      <td>[0, 0, 0, 0]</td>\n",
       "      <td>[0, 0]</td>\n",
       "    </tr>\n",
       "    <tr>\n",
       "      <th>12</th>\n",
       "      <td>NB</td>\n",
       "      <td>18</td>\n",
       "      <td>4</td>\n",
       "      <td>Umm okay, so I said Ivy schools should be.. I ...</td>\n",
       "      <td>Ohhh, okay, well, at first, I was going to agr...</td>\n",
       "      <td>Umm okay, so I said Ivy schools should be.. I ...</td>\n",
       "      <td>[Ohhh, okay, well, at first, I was going to ag...</td>\n",
       "      <td>[Umm okay, so I said Ivy schools should be.. I...</td>\n",
       "      <td>[1, 2, 3]</td>\n",
       "      <td>[1, 2, 3, 4, 5]</td>\n",
       "      <td>[0, 0, 0, 0, 0]</td>\n",
       "      <td>[0, 0, 0]</td>\n",
       "    </tr>\n",
       "    <tr>\n",
       "      <th>13</th>\n",
       "      <td>NB</td>\n",
       "      <td>19</td>\n",
       "      <td>9</td>\n",
       "      <td>I think I remember saying that um teenagers sh...</td>\n",
       "      <td>. Okay. . Okay. . I disagreed. .  I also didn'...</td>\n",
       "      <td>. Awesome. Well. I think I remember saying tha...</td>\n",
       "      <td>[. Okay. . Okay. . I disagreed. .  I also didn...</td>\n",
       "      <td>[. Awesome. Well. I think I remember saying th...</td>\n",
       "      <td>[1, 2, 3, 4, 5, 6, 7]</td>\n",
       "      <td>[1, 2, 3, 4, 5, 6, 7, 8, 9, 10, 11, 12, 13, 14]</td>\n",
       "      <td>[0, 0, 0, 0, 0, 0, 0, 0, 0, 0, 0, 1, 0, 0]</td>\n",
       "      <td>[0, 0, 0, 0, 0, 0, 0]</td>\n",
       "    </tr>\n",
       "    <tr>\n",
       "      <th>14</th>\n",
       "      <td>TYB</td>\n",
       "      <td>20</td>\n",
       "      <td>3</td>\n",
       "      <td>I think I said like slightly disagree or somet...</td>\n",
       "      <td>I think I said like slightly disagree or somet...</td>\n",
       "      <td>. Okay, cool. Do you remember what you said fo...</td>\n",
       "      <td>[I think I said like slightly disagree or some...</td>\n",
       "      <td>[. Okay, cool. Do you remember what you said f...</td>\n",
       "      <td>[1, 2, 3, 4, 5, 6, 7, 8, 9, 10, 11]</td>\n",
       "      <td>[1, 2, 3, 4, 5, 6, 7, 8, 9, 10, 11, 12, 13]</td>\n",
       "      <td>[0, 0, 0, 0, 0, 0, 0, 0, 0, 0, 0, 0, 0]</td>\n",
       "      <td>[0, 0, 0, 0, 0, 0, 0, 0, 0, 0, 0]</td>\n",
       "    </tr>\n",
       "    <tr>\n",
       "      <th>15</th>\n",
       "      <td>NB</td>\n",
       "      <td>21</td>\n",
       "      <td>13</td>\n",
       "      <td>Okay, so I believe I was against this, that mu...</td>\n",
       "      <td>Oh, I thought I was alsoshould never be allowe...</td>\n",
       "      <td>Okay, so I believe I was against this, that mu...</td>\n",
       "      <td>[Oh, I thought I was alsoshould never be allow...</td>\n",
       "      <td>[Okay, so I believe I was against this, that m...</td>\n",
       "      <td>[1, 2, 3, 4, 5, 6, 7, 8, 9]</td>\n",
       "      <td>[1, 2, 3, 4, 5, 6, 7, 8, 9, 10, 11, 12]</td>\n",
       "      <td>[0, 0, 0, 0, 0, 0, 0, 0, 0, 0, 0, 0]</td>\n",
       "      <td>[0, 0, 0, 0, 0, 0, 0, 0, 0]</td>\n",
       "    </tr>\n",
       "    <tr>\n",
       "      <th>16</th>\n",
       "      <td>TYB</td>\n",
       "      <td>22</td>\n",
       "      <td>3</td>\n",
       "      <td>Okay, well, um, I remember that I agreed somew...</td>\n",
       "      <td>Yeah, I think I I appreciate that. That the th...</td>\n",
       "      <td>Okay, well, um, I remember that I agreed somew...</td>\n",
       "      <td>[Yeah, I think I I appreciate that. That the t...</td>\n",
       "      <td>[Okay, well, um, I remember that I agreed some...</td>\n",
       "      <td>[1, 2, 3, 4]</td>\n",
       "      <td>[1, 2, 3, 4, 5]</td>\n",
       "      <td>[0, 0, 0, 0, 0]</td>\n",
       "      <td>[0, 0, 0, 0]</td>\n",
       "    </tr>\n",
       "    <tr>\n",
       "      <th>17</th>\n",
       "      <td>NB</td>\n",
       "      <td>23</td>\n",
       "      <td>8</td>\n",
       "      <td>So, I personally think physician assisted suic...</td>\n",
       "      <td>I don't think it should be legal because..I be...</td>\n",
       "      <td>So, I personally think physician assisted suic...</td>\n",
       "      <td>[I don't think it should be legal because..I b...</td>\n",
       "      <td>[So, I personally think physician assisted sui...</td>\n",
       "      <td>[1, 2, 3]</td>\n",
       "      <td>[1, 2, 3, 4]</td>\n",
       "      <td>[0, 0, 0, 0]</td>\n",
       "      <td>[0, 0, 0]</td>\n",
       "    </tr>\n",
       "    <tr>\n",
       "      <th>18</th>\n",
       "      <td>TYB</td>\n",
       "      <td>24</td>\n",
       "      <td>7</td>\n",
       "      <td>Yeah. So I actually don't really have a strong...</td>\n",
       "      <td>. That's fair. that's very understandable. Yea...</td>\n",
       "      <td>Yeah. So I actually don't really have a strong...</td>\n",
       "      <td>[. That's fair. that's very understandable. Ye...</td>\n",
       "      <td>[Yeah. So I actually don't really have a stron...</td>\n",
       "      <td>[1, 2, 3, 4, 5, 6, 7, 8, 9]</td>\n",
       "      <td>[1, 2, 3, 4, 5]</td>\n",
       "      <td>[0, 0, 0, 0, 0]</td>\n",
       "      <td>[0, 0, 0, 0, 0, 0, 0, 0, 0]</td>\n",
       "    </tr>\n",
       "    <tr>\n",
       "      <th>19</th>\n",
       "      <td>NB</td>\n",
       "      <td>25</td>\n",
       "      <td>7</td>\n",
       "      <td>Ok, so I think like, initially, my response to...</td>\n",
       "      <td>I thought about it like more like the bigger s...</td>\n",
       "      <td>Ok, so I think like, initially, my response to...</td>\n",
       "      <td>[I thought about it like more like the bigger ...</td>\n",
       "      <td>[Ok, so I think like, initially, my response t...</td>\n",
       "      <td>[1, 2, 3, 4, 5, 6, 7, 8]</td>\n",
       "      <td>[1, 2, 3]</td>\n",
       "      <td>[0, 0, 0]</td>\n",
       "      <td>[0, 0, 0, 1, 0, 0, 0, 0]</td>\n",
       "    </tr>\n",
       "    <tr>\n",
       "      <th>20</th>\n",
       "      <td>TYB</td>\n",
       "      <td>26</td>\n",
       "      <td>4</td>\n",
       "      <td>Uhh clearly this is a topic that is complex in...</td>\n",
       "      <td>No, I definitely see your point about uhh incl...</td>\n",
       "      <td>Uhh clearly this is a topic that is complex in...</td>\n",
       "      <td>[No, I definitely see your point about uhh inc...</td>\n",
       "      <td>[Uhh clearly this is a topic that is complex i...</td>\n",
       "      <td>[1, 2, 3, 4]</td>\n",
       "      <td>[1, 2, 3, 4]</td>\n",
       "      <td>[0, 0, 0, 0]</td>\n",
       "      <td>[0, 0, 0, 0]</td>\n",
       "    </tr>\n",
       "    <tr>\n",
       "      <th>21</th>\n",
       "      <td>TYB</td>\n",
       "      <td>27</td>\n",
       "      <td>6</td>\n",
       "      <td>Okay. Um, so I feel like people shouldn't walk...</td>\n",
       "      <td>Okay. Um, so I feel like people shouldn't walk...</td>\n",
       "      <td>I do appreciate that point, um it's kind of fu...</td>\n",
       "      <td>[Okay. Um, so I feel like people shouldn't wal...</td>\n",
       "      <td>[I do appreciate that point, um it's kind of f...</td>\n",
       "      <td>[1, 2, 3, 4, 5, 6, 7, 8, 9, 10, 11, 12]</td>\n",
       "      <td>[1, 2, 3, 4, 5, 6, 7]</td>\n",
       "      <td>[1, 1, 2, 1, 0, 0, 0]</td>\n",
       "      <td>[0, 0, 0, 0, 0, 0, 0, 0, 0, 0, 0, 0]</td>\n",
       "    </tr>\n",
       "    <tr>\n",
       "      <th>22</th>\n",
       "      <td>NB</td>\n",
       "      <td>28</td>\n",
       "      <td>2</td>\n",
       "      <td>Okay, um, I agree with the statement overall, ...</td>\n",
       "      <td>. Yeah, I disagree. . Um the first part, I thi...</td>\n",
       "      <td>Okay, um, I agree with the statement overall, ...</td>\n",
       "      <td>[. Yeah, I disagree. . Um the first part, I th...</td>\n",
       "      <td>[Okay, um, I agree with the statement overall,...</td>\n",
       "      <td>[1, 2, 3, 4]</td>\n",
       "      <td>[1, 2, 3, 4, 5]</td>\n",
       "      <td>[0, 0, 0, 0, 0]</td>\n",
       "      <td>[0, 0, 0, 0]</td>\n",
       "    </tr>\n",
       "    <tr>\n",
       "      <th>23</th>\n",
       "      <td>TYB</td>\n",
       "      <td>29</td>\n",
       "      <td>6</td>\n",
       "      <td>So I- I strongly agree that um yeah, we should...</td>\n",
       "      <td>. No, I think we both agree. . That's why we'r...</td>\n",
       "      <td>So I- I strongly agree that um yeah, we should...</td>\n",
       "      <td>[. No, I think we both agree. . That's why we'...</td>\n",
       "      <td>[So I- I strongly agree that um yeah, we shoul...</td>\n",
       "      <td>[1, 2, 3, 4, 5, 6, 7]</td>\n",
       "      <td>[1, 2, 3, 4]</td>\n",
       "      <td>[0, 0, 0, 0]</td>\n",
       "      <td>[0, 0, 0, 0, 0, 0, 1]</td>\n",
       "    </tr>\n",
       "    <tr>\n",
       "      <th>24</th>\n",
       "      <td>NB</td>\n",
       "      <td>30</td>\n",
       "      <td>12</td>\n",
       "      <td>Oh, I'm first? Um, we're supposed to discuss w...</td>\n",
       "      <td>Yeah, um I disagreed with this prompt strongly...</td>\n",
       "      <td>Oh, I'm first? Um, we're supposed to discuss w...</td>\n",
       "      <td>[Yeah, um I disagreed with this prompt strongl...</td>\n",
       "      <td>[Oh, I'm first? Um, we're supposed to discuss ...</td>\n",
       "      <td>[1, 2]</td>\n",
       "      <td>[1, 2, 3]</td>\n",
       "      <td>[0, 0, 0]</td>\n",
       "      <td>[0, 0]</td>\n",
       "    </tr>\n",
       "    <tr>\n",
       "      <th>25</th>\n",
       "      <td>NB</td>\n",
       "      <td>31</td>\n",
       "      <td>4</td>\n",
       "      <td>I believe that Ivy League schools should not b...</td>\n",
       "      <td>I believe that Ivy League schools should not b...</td>\n",
       "      <td>. Yeah, so, um…. . Okay. Um, yeah. So, I belie...</td>\n",
       "      <td>[I believe that Ivy League schools should not ...</td>\n",
       "      <td>[. Yeah, so, um…. . Okay. Um, yeah. So, I beli...</td>\n",
       "      <td>[1, 2, 3, 4]</td>\n",
       "      <td>[1, 2, 3, 4]</td>\n",
       "      <td>[0, 1, 0, 0]</td>\n",
       "      <td>[0, 0, 2, 0]</td>\n",
       "    </tr>\n",
       "    <tr>\n",
       "      <th>26</th>\n",
       "      <td>TYB</td>\n",
       "      <td>32</td>\n",
       "      <td>10</td>\n",
       "      <td>So, um, I think I chose I strongly ag- disagre...</td>\n",
       "      <td>. No. . . no, it's something we strongly disag...</td>\n",
       "      <td>So, um, I think I chose I strongly ag- disagre...</td>\n",
       "      <td>[. No. . . no, it's something we strongly disa...</td>\n",
       "      <td>[So, um, I think I chose I strongly ag- disagr...</td>\n",
       "      <td>[1, 2, 3]</td>\n",
       "      <td>[1, 2, 3, 4, 5, 6]</td>\n",
       "      <td>[0, 0, 0, 0, 0, 0]</td>\n",
       "      <td>[5, 3, 1]</td>\n",
       "    </tr>\n",
       "    <tr>\n",
       "      <th>27</th>\n",
       "      <td>NB</td>\n",
       "      <td>33</td>\n",
       "      <td>11</td>\n",
       "      <td>So I think something that I don't know. This i...</td>\n",
       "      <td>yes?. Well, I mean, I understand that there w...</td>\n",
       "      <td>So I think something that I don't know. This i...</td>\n",
       "      <td>[ yes?. Well, I mean, I understand that there ...</td>\n",
       "      <td>[So I think something that I don't know. This ...</td>\n",
       "      <td>[1, 2, 3]</td>\n",
       "      <td>[1, 2, 3]</td>\n",
       "      <td>[1, 0, 1]</td>\n",
       "      <td>[4, 2, 8]</td>\n",
       "    </tr>\n",
       "    <tr>\n",
       "      <th>28</th>\n",
       "      <td>TYB</td>\n",
       "      <td>35</td>\n",
       "      <td>4</td>\n",
       "      <td>Sure, I mean, I think it's definitely importan...</td>\n",
       "      <td>Sure, I mean, I think it's definitely importan...</td>\n",
       "      <td>mm-hmm. mm-hmm. mm-hmm. So do you think that ...</td>\n",
       "      <td>[Sure, I mean, I think it's definitely importa...</td>\n",
       "      <td>[ mm-hmm. mm-hmm. mm-hmm. So do you think that...</td>\n",
       "      <td>[1, 2]</td>\n",
       "      <td>[1, 2]</td>\n",
       "      <td>[0, 9]</td>\n",
       "      <td>[3, 1]</td>\n",
       "    </tr>\n",
       "    <tr>\n",
       "      <th>29</th>\n",
       "      <td>NB</td>\n",
       "      <td>37</td>\n",
       "      <td>4</td>\n",
       "      <td>So I think that Ivy League schools should be b...</td>\n",
       "      <td>I disagree. I think that, especially given lik...</td>\n",
       "      <td>So I think that Ivy League schools should be b...</td>\n",
       "      <td>[I disagree. I think that, especially given li...</td>\n",
       "      <td>[So I think that Ivy League schools should be ...</td>\n",
       "      <td>[1, 2]</td>\n",
       "      <td>[1, 2]</td>\n",
       "      <td>[0, 8]</td>\n",
       "      <td>[1, 5]</td>\n",
       "    </tr>\n",
       "    <tr>\n",
       "      <th>30</th>\n",
       "      <td>TYB</td>\n",
       "      <td>40</td>\n",
       "      <td>4</td>\n",
       "      <td>Okay. hmm. I thought that they should be prett...</td>\n",
       "      <td>Okay, I hear you and I understand what you mea...</td>\n",
       "      <td>Okay. hmm. I thought that they should be prett...</td>\n",
       "      <td>[Okay, I hear you and I understand what you me...</td>\n",
       "      <td>[Okay. hmm. I thought that they should be pret...</td>\n",
       "      <td>[1, 2, 3, 4]</td>\n",
       "      <td>[1, 2, 3, 4]</td>\n",
       "      <td>[0, 0, 0, 0]</td>\n",
       "      <td>[0, 4, 11, 4]</td>\n",
       "    </tr>\n",
       "    <tr>\n",
       "      <th>31</th>\n",
       "      <td>NB</td>\n",
       "      <td>41</td>\n",
       "      <td>5</td>\n",
       "      <td>So great. You should never use iPads as choice...</td>\n",
       "      <td>mm-hmm. mm-hmm. mm-hmm. I disagree. hmm, I fe...</td>\n",
       "      <td>So great. You should never use iPads as choice...</td>\n",
       "      <td>[ mm-hmm. mm-hmm. mm-hmm. I disagree. hmm, I f...</td>\n",
       "      <td>[So great. You should never use iPads as choic...</td>\n",
       "      <td>[1, 2]</td>\n",
       "      <td>[1, 2, 3]</td>\n",
       "      <td>[3, 0, 1]</td>\n",
       "      <td>[1, 4]</td>\n",
       "    </tr>\n",
       "    <tr>\n",
       "      <th>32</th>\n",
       "      <td>TYB</td>\n",
       "      <td>42</td>\n",
       "      <td>14</td>\n",
       "      <td>Um, I think, I, well, I guess when I buy skin ...</td>\n",
       "      <td>I'm- I'm glad that you brought it up because i...</td>\n",
       "      <td>Um, I think, I, well, I guess when I buy skin ...</td>\n",
       "      <td>[I'm- I'm glad that you brought it up because ...</td>\n",
       "      <td>[Um, I think, I, well, I guess when I buy skin...</td>\n",
       "      <td>[1, 2, 3, 4, 5, 6, 7]</td>\n",
       "      <td>[1, 2, 3, 4, 5]</td>\n",
       "      <td>[0, 1, 0, 0, 0]</td>\n",
       "      <td>[3, 2, 3, 2, 1, 1, 1]</td>\n",
       "    </tr>\n",
       "    <tr>\n",
       "      <th>33</th>\n",
       "      <td>NB</td>\n",
       "      <td>43</td>\n",
       "      <td>6</td>\n",
       "      <td>Um. The reason why I disagreed with the statem...</td>\n",
       "      <td>Um. I disagree with you. I think that, hmm, pe...</td>\n",
       "      <td>Um. The reason why I disagreed with the statem...</td>\n",
       "      <td>[Um. I disagree with you. I think that, hmm, p...</td>\n",
       "      <td>[Um. The reason why I disagreed with the state...</td>\n",
       "      <td>[1, 2, 3, 4]</td>\n",
       "      <td>[1, 2, 3, 4]</td>\n",
       "      <td>[0, 0, 0, 2]</td>\n",
       "      <td>[0, 0, 0, 0]</td>\n",
       "    </tr>\n",
       "    <tr>\n",
       "      <th>34</th>\n",
       "      <td>TYB</td>\n",
       "      <td>44</td>\n",
       "      <td>6</td>\n",
       "      <td>I think people should avoid walking across the...</td>\n",
       "      <td>Yeah, I get what you mean and I-I-I do appreci...</td>\n",
       "      <td>I think people should avoid walking across the...</td>\n",
       "      <td>[Yeah, I get what you mean and I-I-I do apprec...</td>\n",
       "      <td>[I think people should avoid walking across th...</td>\n",
       "      <td>[1, 2, 3]</td>\n",
       "      <td>[1, 2, 3]</td>\n",
       "      <td>[0, 0, 0]</td>\n",
       "      <td>[2, 2, 0]</td>\n",
       "    </tr>\n",
       "    <tr>\n",
       "      <th>35</th>\n",
       "      <td>NB</td>\n",
       "      <td>45</td>\n",
       "      <td>10</td>\n",
       "      <td>Um I think real large, I’m- I’m- I’m- more or ...</td>\n",
       "      <td>Yeah, I kind of disagree because like you- you...</td>\n",
       "      <td>Um I think real large, I’m- I’m- I’m- more or ...</td>\n",
       "      <td>[Yeah, I kind of disagree because like you- yo...</td>\n",
       "      <td>[Um I think real large, I’m- I’m- I’m- more or...</td>\n",
       "      <td>[1, 2]</td>\n",
       "      <td>[1, 2]</td>\n",
       "      <td>[0, 0]</td>\n",
       "      <td>[0, 0]</td>\n",
       "    </tr>\n",
       "    <tr>\n",
       "      <th>36</th>\n",
       "      <td>TYB</td>\n",
       "      <td>46</td>\n",
       "      <td>5</td>\n",
       "      <td>So I said that, um I think the parents should ...</td>\n",
       "      <td>um-hmm. um-hmm. um-hmm. um-hmm. Yeah. um-hmm....</td>\n",
       "      <td>So I said that, um I think the parents should ...</td>\n",
       "      <td>[ um-hmm. um-hmm. um-hmm. um-hmm. Yeah. um-hmm...</td>\n",
       "      <td>[So I said that, um I think the parents should...</td>\n",
       "      <td>[1, 2, 3]</td>\n",
       "      <td>[1, 2]</td>\n",
       "      <td>[16, 2]</td>\n",
       "      <td>[12, 2, 0]</td>\n",
       "    </tr>\n",
       "    <tr>\n",
       "      <th>37</th>\n",
       "      <td>NB</td>\n",
       "      <td>47</td>\n",
       "      <td>7</td>\n",
       "      <td>Okay, um, well, I basically think, um, protect...</td>\n",
       "      <td>uh-huh. Yeah. Okay.. um-hmm. Yeah. No, I just...</td>\n",
       "      <td>Okay, um, well, I basically think, um, protect...</td>\n",
       "      <td>[ uh-huh. Yeah. Okay.. um-hmm. Yeah. No, I jus...</td>\n",
       "      <td>[Okay, um, well, I basically think, um, protec...</td>\n",
       "      <td>[1, 2, 3, 4, 5]</td>\n",
       "      <td>[1, 2, 3, 4, 5]</td>\n",
       "      <td>[4, 3, 9, 4, 1]</td>\n",
       "      <td>[2, 0, 5, 0, 1]</td>\n",
       "    </tr>\n",
       "    <tr>\n",
       "      <th>38</th>\n",
       "      <td>TYB</td>\n",
       "      <td>54</td>\n",
       "      <td>2</td>\n",
       "      <td>Okay, so yeah, I don't think that everyone sho...</td>\n",
       "      <td>Uh-huh.. Uh-huh.. No. Yeah, that makes sense....</td>\n",
       "      <td>Okay, so yeah, I don't think that everyone sho...</td>\n",
       "      <td>[ Uh-huh.. Uh-huh.. No. Yeah, that makes sense...</td>\n",
       "      <td>[Okay, so yeah, I don't think that everyone sh...</td>\n",
       "      <td>[1, 2, 3, 4, 5]</td>\n",
       "      <td>[1, 2, 3, 4]</td>\n",
       "      <td>[2, 5, 1, 2]</td>\n",
       "      <td>[0, 0, 0, 0, 0]</td>\n",
       "    </tr>\n",
       "    <tr>\n",
       "      <th>39</th>\n",
       "      <td>TYB</td>\n",
       "      <td>55</td>\n",
       "      <td>1</td>\n",
       "      <td>Oh, I think I strongly disagreed. Did you stro...</td>\n",
       "      <td>. I agreed, yeah. .  mm-hmm.. Yeah..  mm-hmm.....</td>\n",
       "      <td>Oh, I think I strongly disagreed. Did you stro...</td>\n",
       "      <td>[. I agreed, yeah. .  mm-hmm.. Yeah..  mm-hmm....</td>\n",
       "      <td>[Oh, I think I strongly disagreed. Did you str...</td>\n",
       "      <td>[1, 2, 3, 4]</td>\n",
       "      <td>[1, 2, 3, 4, 5, 6, 7]</td>\n",
       "      <td>[0, 1, 1, 0, 0, 0, 0]</td>\n",
       "      <td>[0, 0, 0, 0]</td>\n",
       "    </tr>\n",
       "    <tr>\n",
       "      <th>40</th>\n",
       "      <td>NB</td>\n",
       "      <td>57</td>\n",
       "      <td>11</td>\n",
       "      <td>So I think the US should lower it's drinking a...</td>\n",
       "      <td>But that I think that— that will always be tru...</td>\n",
       "      <td>So I think the US should lower it's drinking a...</td>\n",
       "      <td>[But that I think that— that will always be tr...</td>\n",
       "      <td>[So I think the US should lower it's drinking ...</td>\n",
       "      <td>[1, 2, 3, 4]</td>\n",
       "      <td>[1, 2, 3, 4]</td>\n",
       "      <td>[0, 0, 0, 0]</td>\n",
       "      <td>[0, 0, 0, 0]</td>\n",
       "    </tr>\n",
       "    <tr>\n",
       "      <th>41</th>\n",
       "      <td>TYB</td>\n",
       "      <td>58</td>\n",
       "      <td>10</td>\n",
       "      <td>So I'm from a culture where, like a country wh...</td>\n",
       "      <td>So I appreciate that you bring up that there a...</td>\n",
       "      <td>So I'm from a culture where, like a country wh...</td>\n",
       "      <td>[So I appreciate that you bring up that there ...</td>\n",
       "      <td>[So I'm from a culture where, like a country w...</td>\n",
       "      <td>[1, 2, 3]</td>\n",
       "      <td>[1, 2, 3]</td>\n",
       "      <td>[0, 0, 0]</td>\n",
       "      <td>[0, 0, 0]</td>\n",
       "    </tr>\n",
       "    <tr>\n",
       "      <th>42</th>\n",
       "      <td>NB</td>\n",
       "      <td>59</td>\n",
       "      <td>13</td>\n",
       "      <td>Oh, because I feel like it's possible for peop...</td>\n",
       "      <td>. You want to go first? Or.... . I disagree a ...</td>\n",
       "      <td>Oh, because I feel like it's possible for peop...</td>\n",
       "      <td>[. You want to go first? Or.... . I disagree a...</td>\n",
       "      <td>[Oh, because I feel like it's possible for peo...</td>\n",
       "      <td>[1, 2, 3, 4]</td>\n",
       "      <td>[1, 2]</td>\n",
       "      <td>[0, 0]</td>\n",
       "      <td>[0, 0, 2, 3]</td>\n",
       "    </tr>\n",
       "    <tr>\n",
       "      <th>43</th>\n",
       "      <td>TYB</td>\n",
       "      <td>60</td>\n",
       "      <td>6</td>\n",
       "      <td>Hi, Um, so I ranked that pretty low just becau...</td>\n",
       "      <td>. Okay, sounds good. Hi. . . Mm-hm.. . Mm-hm. ...</td>\n",
       "      <td>Hi, Um, so I ranked that pretty low just becau...</td>\n",
       "      <td>[. Okay, sounds good. Hi. . . Mm-hm.. . Mm-hm....</td>\n",
       "      <td>[Hi, Um, so I ranked that pretty low just beca...</td>\n",
       "      <td>[1, 2, 3, 4, 5, 6, 7]</td>\n",
       "      <td>[1, 2, 3, 4, 5, 6, 7]</td>\n",
       "      <td>[0, 0, 0, 0, 0, 0, 0]</td>\n",
       "      <td>[0, 2, 0, 0, 0, 0, 1]</td>\n",
       "    </tr>\n",
       "    <tr>\n",
       "      <th>44</th>\n",
       "      <td>NB</td>\n",
       "      <td>61</td>\n",
       "      <td>1</td>\n",
       "      <td>Yeah [laughs], I guess we disagree a lot about...</td>\n",
       "      <td>Yeah, tell me why.. Mm-hmm.. Yeah.. Mm-hmm.. ...</td>\n",
       "      <td>Yeah [laughs], I guess we disagree a lot about...</td>\n",
       "      <td>[ Yeah, tell me why.. Mm-hmm.. Yeah.. Mm-hmm.....</td>\n",
       "      <td>[Yeah [laughs], I guess we disagree a lot abou...</td>\n",
       "      <td>[1, 2, 3, 4]</td>\n",
       "      <td>[1, 2, 3, 4, 5]</td>\n",
       "      <td>[5, 0, 0, 0, 0]</td>\n",
       "      <td>[0, 0, 3, 0]</td>\n",
       "    </tr>\n",
       "    <tr>\n",
       "      <th>45</th>\n",
       "      <td>TYB</td>\n",
       "      <td>62</td>\n",
       "      <td>4</td>\n",
       "      <td>Okay. I'll be honest. I [laugh] (don't really ...</td>\n",
       "      <td>. Um, four is strongly disagree, right?.  Okay...</td>\n",
       "      <td>Okay. I'll be honest. I [laugh] (don't really ...</td>\n",
       "      <td>[. Um, four is strongly disagree, right?.  Oka...</td>\n",
       "      <td>[Okay. I'll be honest. I [laugh] (don't really...</td>\n",
       "      <td>[1, 2, 3, 4, 5, 6]</td>\n",
       "      <td>[1, 2, 3, 4, 5, 6, 7]</td>\n",
       "      <td>[0, 1, 6, 0, 0, 0, 0]</td>\n",
       "      <td>[5, 0, 0, 0, 0, 0]</td>\n",
       "    </tr>\n",
       "  </tbody>\n",
       "</table>\n",
       "</div>"
      ],
      "text/plain": [
       "   condition pair_id topic                                   conversation_txt  \\\n",
       "0         NB       5    10  So uh they said that this is a topic we disagr...   \n",
       "1        TYB       6     2  So I don't really I think I saidyes, everyone ...   \n",
       "2         NB       7     4  So I, when I read this question I thought abou...   \n",
       "3        TYB       8     6  I strongly disagree with this  I think you sho...   \n",
       "4        TYB       9     1  So I guess like, wha-wha-what do you think abo...   \n",
       "5        TYB      11     8  I just strongly believe in the right to um {{}...   \n",
       "6         NB      12    11  Yea, so so so. What do youwhat do you personal...   \n",
       "7         NB      13     5  Okay, um, so I put a four. I like very minorly...   \n",
       "8        TYB      14     4  Umm I said yes umm, but I don't know you can l...   \n",
       "9         NB      15    13  Oh, okay, um, so I felt like uhI feel like I r...   \n",
       "10       TYB      16     5  So I disagree with this because um I think nev...   \n",
       "11       TYB      17    11  Okay, so I put strongly agree, because I just ...   \n",
       "12        NB      18     4  Umm okay, so I said Ivy schools should be.. I ...   \n",
       "13        NB      19     9  I think I remember saying that um teenagers sh...   \n",
       "14       TYB      20     3  I think I said like slightly disagree or somet...   \n",
       "15        NB      21    13  Okay, so I believe I was against this, that mu...   \n",
       "16       TYB      22     3  Okay, well, um, I remember that I agreed somew...   \n",
       "17        NB      23     8  So, I personally think physician assisted suic...   \n",
       "18       TYB      24     7  Yeah. So I actually don't really have a strong...   \n",
       "19        NB      25     7  Ok, so I think like, initially, my response to...   \n",
       "20       TYB      26     4  Uhh clearly this is a topic that is complex in...   \n",
       "21       TYB      27     6  Okay. Um, so I feel like people shouldn't walk...   \n",
       "22        NB      28     2  Okay, um, I agree with the statement overall, ...   \n",
       "23       TYB      29     6  So I- I strongly agree that um yeah, we should...   \n",
       "24        NB      30    12  Oh, I'm first? Um, we're supposed to discuss w...   \n",
       "25        NB      31     4  I believe that Ivy League schools should not b...   \n",
       "26       TYB      32    10  So, um, I think I chose I strongly ag- disagre...   \n",
       "27        NB      33    11  So I think something that I don't know. This i...   \n",
       "28       TYB      35     4  Sure, I mean, I think it's definitely importan...   \n",
       "29        NB      37     4  So I think that Ivy League schools should be b...   \n",
       "30       TYB      40     4  Okay. hmm. I thought that they should be prett...   \n",
       "31        NB      41     5  So great. You should never use iPads as choice...   \n",
       "32       TYB      42    14  Um, I think, I, well, I guess when I buy skin ...   \n",
       "33        NB      43     6  Um. The reason why I disagreed with the statem...   \n",
       "34       TYB      44     6  I think people should avoid walking across the...   \n",
       "35        NB      45    10  Um I think real large, I’m- I’m- I’m- more or ...   \n",
       "36       TYB      46     5  So I said that, um I think the parents should ...   \n",
       "37        NB      47     7  Okay, um, well, I basically think, um, protect...   \n",
       "38       TYB      54     2  Okay, so yeah, I don't think that everyone sho...   \n",
       "39       TYB      55     1  Oh, I think I strongly disagreed. Did you stro...   \n",
       "40        NB      57    11  So I think the US should lower it's drinking a...   \n",
       "41       TYB      58    10  So I'm from a culture where, like a country wh...   \n",
       "42        NB      59    13  Oh, because I feel like it's possible for peop...   \n",
       "43       TYB      60     6  Hi, Um, so I ranked that pretty low just becau...   \n",
       "44        NB      61     1  Yeah [laughs], I guess we disagree a lot about...   \n",
       "45       TYB      62     4  Okay. I'll be honest. I [laugh] (don't really ...   \n",
       "\n",
       "                                            con_txt_A  \\\n",
       "0   . Okay, so uh, I guess they said we should sta...   \n",
       "1   So I don't really I think I saidyes, everyone ...   \n",
       "2   So I, when I read this question I thought abou...   \n",
       "3   . Okay so youWhat's your opinion on this?.  Oh...   \n",
       "4   . Okay, let's start, yea [laugh]. . Yeah, so u...   \n",
       "5   I like what you said about like the right to. ...   \n",
       "6   I think that the US, I answered that the US sh...   \n",
       "7   . I disagree. . I put I put a 10 for this. . L...   \n",
       "8   Umm I said yes umm, but I don't know you can l...   \n",
       "9   . [laughs] Yeah. . Sorry, I can't hear. Yeah, ...   \n",
       "10  . Like on a plane. Yeah. . Right, so I'm super...   \n",
       "11  Uhh I really appreciate your point of view [pe...   \n",
       "12  Ohhh, okay, well, at first, I was going to agr...   \n",
       "13  . Okay. . Okay. . I disagreed. .  I also didn'...   \n",
       "14  I think I said like slightly disagree or somet...   \n",
       "15  Oh, I thought I was alsoshould never be allowe...   \n",
       "16  Yeah, I think I I appreciate that. That the th...   \n",
       "17  I don't think it should be legal because..I be...   \n",
       "18  . That's fair. that's very understandable. Yea...   \n",
       "19  I thought about it like more like the bigger s...   \n",
       "20  No, I definitely see your point about uhh incl...   \n",
       "21  Okay. Um, so I feel like people shouldn't walk...   \n",
       "22  . Yeah, I disagree. . Um the first part, I thi...   \n",
       "23  . No, I think we both agree. . That's why we'r...   \n",
       "24  Yeah, um I disagreed with this prompt strongly...   \n",
       "25  I believe that Ivy League schools should not b...   \n",
       "26  . No. . . no, it's something we strongly disag...   \n",
       "27   yes?. Well, I mean, I understand that there w...   \n",
       "28  Sure, I mean, I think it's definitely importan...   \n",
       "29  I disagree. I think that, especially given lik...   \n",
       "30  Okay, I hear you and I understand what you mea...   \n",
       "31   mm-hmm. mm-hmm. mm-hmm. I disagree. hmm, I fe...   \n",
       "32  I'm- I'm glad that you brought it up because i...   \n",
       "33  Um. I disagree with you. I think that, hmm, pe...   \n",
       "34  Yeah, I get what you mean and I-I-I do appreci...   \n",
       "35  Yeah, I kind of disagree because like you- you...   \n",
       "36   um-hmm. um-hmm. um-hmm. um-hmm. Yeah. um-hmm....   \n",
       "37   uh-huh. Yeah. Okay.. um-hmm. Yeah. No, I just...   \n",
       "38   Uh-huh.. Uh-huh.. No. Yeah, that makes sense....   \n",
       "39  . I agreed, yeah. .  mm-hmm.. Yeah..  mm-hmm.....   \n",
       "40  But that I think that— that will always be tru...   \n",
       "41  So I appreciate that you bring up that there a...   \n",
       "42  . You want to go first? Or.... . I disagree a ...   \n",
       "43  . Okay, sounds good. Hi. . . Mm-hm.. . Mm-hm. ...   \n",
       "44   Yeah, tell me why.. Mm-hmm.. Yeah.. Mm-hmm.. ...   \n",
       "45  . Um, four is strongly disagree, right?.  Okay...   \n",
       "\n",
       "                                            con_txt_B  \\\n",
       "0   . Yea, we should start. . Um, yeah.. I actuall...   \n",
       "1   I-I think put something that's below five..  T...   \n",
       "2    Uh-huh. Uh, so, uh I-I actually uh read a lot...   \n",
       "3   I strongly disagree with this  I think you sho...   \n",
       "4   . I'm good whenever you are. So I guess like, ...   \n",
       "5   I just strongly believe in the right to um {{}...   \n",
       "6   Yea, so so so. What do youwhat do you personal...   \n",
       "7   Okay, um, so I put a four. I like very minorly...   \n",
       "8   . Um OKI said nodid you say yes or no?. . UmmI...   \n",
       "9   Oh, okay, um, so I felt like uhI feel like I r...   \n",
       "10  So I disagree with this because um I think nev...   \n",
       "11  Okay, so I put strongly agree, because I just ...   \n",
       "12  Umm okay, so I said Ivy schools should be.. I ...   \n",
       "13  . Awesome. Well. I think I remember saying tha...   \n",
       "14  . Okay, cool. Do you remember what you said fo...   \n",
       "15  Okay, so I believe I was against this, that mu...   \n",
       "16  Okay, well, um, I remember that I agreed somew...   \n",
       "17  So, I personally think physician assisted suic...   \n",
       "18  Yeah. So I actually don't really have a strong...   \n",
       "19  Ok, so I think like, initially, my response to...   \n",
       "20  Uhh clearly this is a topic that is complex in...   \n",
       "21  I do appreciate that point, um it's kind of fu...   \n",
       "22  Okay, um, I agree with the statement overall, ...   \n",
       "23  So I- I strongly agree that um yeah, we should...   \n",
       "24  Oh, I'm first? Um, we're supposed to discuss w...   \n",
       "25  . Yeah, so, um…. . Okay. Um, yeah. So, I belie...   \n",
       "26  So, um, I think I chose I strongly ag- disagre...   \n",
       "27  So I think something that I don't know. This i...   \n",
       "28   mm-hmm. mm-hmm. mm-hmm. So do you think that ...   \n",
       "29  So I think that Ivy League schools should be b...   \n",
       "30  Okay. hmm. I thought that they should be prett...   \n",
       "31  So great. You should never use iPads as choice...   \n",
       "32  Um, I think, I, well, I guess when I buy skin ...   \n",
       "33  Um. The reason why I disagreed with the statem...   \n",
       "34  I think people should avoid walking across the...   \n",
       "35  Um I think real large, I’m- I’m- I’m- more or ...   \n",
       "36  So I said that, um I think the parents should ...   \n",
       "37  Okay, um, well, I basically think, um, protect...   \n",
       "38  Okay, so yeah, I don't think that everyone sho...   \n",
       "39  Oh, I think I strongly disagreed. Did you stro...   \n",
       "40  So I think the US should lower it's drinking a...   \n",
       "41  So I'm from a culture where, like a country wh...   \n",
       "42  Oh, because I feel like it's possible for peop...   \n",
       "43  Hi, Um, so I ranked that pretty low just becau...   \n",
       "44  Yeah [laughs], I guess we disagree a lot about...   \n",
       "45  Okay. I'll be honest. I [laugh] (don't really ...   \n",
       "\n",
       "                                           turn_txt_A  \\\n",
       "0   [. Okay, so uh, I guess they said we should st...   \n",
       "1   [So I don't really I think I saidyes, everyone...   \n",
       "2   [So I, when I read this question I thought abo...   \n",
       "3   [. Okay so youWhat's your opinion on this?.  O...   \n",
       "4   [. Okay, let's start, yea [laugh]. . Yeah, so ...   \n",
       "5   [I like what you said about like the right to....   \n",
       "6   [I think that the US, I answered that the US s...   \n",
       "7   [. I disagree. . I put I put a 10 for this. . ...   \n",
       "8   [Umm I said yes umm, but I don't know you can ...   \n",
       "9   [. [laughs] Yeah. . Sorry, I can't hear. Yeah,...   \n",
       "10  [. Like on a plane. Yeah. . Right, so I'm supe...   \n",
       "11  [Uhh I really appreciate your point of view [p...   \n",
       "12  [Ohhh, okay, well, at first, I was going to ag...   \n",
       "13  [. Okay. . Okay. . I disagreed. .  I also didn...   \n",
       "14  [I think I said like slightly disagree or some...   \n",
       "15  [Oh, I thought I was alsoshould never be allow...   \n",
       "16  [Yeah, I think I I appreciate that. That the t...   \n",
       "17  [I don't think it should be legal because..I b...   \n",
       "18  [. That's fair. that's very understandable. Ye...   \n",
       "19  [I thought about it like more like the bigger ...   \n",
       "20  [No, I definitely see your point about uhh inc...   \n",
       "21  [Okay. Um, so I feel like people shouldn't wal...   \n",
       "22  [. Yeah, I disagree. . Um the first part, I th...   \n",
       "23  [. No, I think we both agree. . That's why we'...   \n",
       "24  [Yeah, um I disagreed with this prompt strongl...   \n",
       "25  [I believe that Ivy League schools should not ...   \n",
       "26  [. No. . . no, it's something we strongly disa...   \n",
       "27  [ yes?. Well, I mean, I understand that there ...   \n",
       "28  [Sure, I mean, I think it's definitely importa...   \n",
       "29  [I disagree. I think that, especially given li...   \n",
       "30  [Okay, I hear you and I understand what you me...   \n",
       "31  [ mm-hmm. mm-hmm. mm-hmm. I disagree. hmm, I f...   \n",
       "32  [I'm- I'm glad that you brought it up because ...   \n",
       "33  [Um. I disagree with you. I think that, hmm, p...   \n",
       "34  [Yeah, I get what you mean and I-I-I do apprec...   \n",
       "35  [Yeah, I kind of disagree because like you- yo...   \n",
       "36  [ um-hmm. um-hmm. um-hmm. um-hmm. Yeah. um-hmm...   \n",
       "37  [ uh-huh. Yeah. Okay.. um-hmm. Yeah. No, I jus...   \n",
       "38  [ Uh-huh.. Uh-huh.. No. Yeah, that makes sense...   \n",
       "39  [. I agreed, yeah. .  mm-hmm.. Yeah..  mm-hmm....   \n",
       "40  [But that I think that— that will always be tr...   \n",
       "41  [So I appreciate that you bring up that there ...   \n",
       "42  [. You want to go first? Or.... . I disagree a...   \n",
       "43  [. Okay, sounds good. Hi. . . Mm-hm.. . Mm-hm....   \n",
       "44  [ Yeah, tell me why.. Mm-hmm.. Yeah.. Mm-hmm.....   \n",
       "45  [. Um, four is strongly disagree, right?.  Oka...   \n",
       "\n",
       "                                           turn_txt_B  \\\n",
       "0   [. Yea, we should start. . Um, yeah.. I actual...   \n",
       "1   [I-I think put something that's below five..  ...   \n",
       "2   [ Uh-huh. Uh, so, uh I-I actually uh read a lo...   \n",
       "3   [I strongly disagree with this  I think you sh...   \n",
       "4   [. I'm good whenever you are. So I guess like,...   \n",
       "5   [I just strongly believe in the right to um {{...   \n",
       "6   [Yea, so so so. What do youwhat do you persona...   \n",
       "7   [Okay, um, so I put a four. I like very minorl...   \n",
       "8   [. Um OKI said nodid you say yes or no?. . Umm...   \n",
       "9   [Oh, okay, um, so I felt like uhI feel like I ...   \n",
       "10  [So I disagree with this because um I think ne...   \n",
       "11  [Okay, so I put strongly agree, because I just...   \n",
       "12  [Umm okay, so I said Ivy schools should be.. I...   \n",
       "13  [. Awesome. Well. I think I remember saying th...   \n",
       "14  [. Okay, cool. Do you remember what you said f...   \n",
       "15  [Okay, so I believe I was against this, that m...   \n",
       "16  [Okay, well, um, I remember that I agreed some...   \n",
       "17  [So, I personally think physician assisted sui...   \n",
       "18  [Yeah. So I actually don't really have a stron...   \n",
       "19  [Ok, so I think like, initially, my response t...   \n",
       "20  [Uhh clearly this is a topic that is complex i...   \n",
       "21  [I do appreciate that point, um it's kind of f...   \n",
       "22  [Okay, um, I agree with the statement overall,...   \n",
       "23  [So I- I strongly agree that um yeah, we shoul...   \n",
       "24  [Oh, I'm first? Um, we're supposed to discuss ...   \n",
       "25  [. Yeah, so, um…. . Okay. Um, yeah. So, I beli...   \n",
       "26  [So, um, I think I chose I strongly ag- disagr...   \n",
       "27  [So I think something that I don't know. This ...   \n",
       "28  [ mm-hmm. mm-hmm. mm-hmm. So do you think that...   \n",
       "29  [So I think that Ivy League schools should be ...   \n",
       "30  [Okay. hmm. I thought that they should be pret...   \n",
       "31  [So great. You should never use iPads as choic...   \n",
       "32  [Um, I think, I, well, I guess when I buy skin...   \n",
       "33  [Um. The reason why I disagreed with the state...   \n",
       "34  [I think people should avoid walking across th...   \n",
       "35  [Um I think real large, I’m- I’m- I’m- more or...   \n",
       "36  [So I said that, um I think the parents should...   \n",
       "37  [Okay, um, well, I basically think, um, protec...   \n",
       "38  [Okay, so yeah, I don't think that everyone sh...   \n",
       "39  [Oh, I think I strongly disagreed. Did you str...   \n",
       "40  [So I think the US should lower it's drinking ...   \n",
       "41  [So I'm from a culture where, like a country w...   \n",
       "42  [Oh, because I feel like it's possible for peo...   \n",
       "43  [Hi, Um, so I ranked that pretty low just beca...   \n",
       "44  [Yeah [laughs], I guess we disagree a lot abou...   \n",
       "45  [Okay. I'll be honest. I [laugh] (don't really...   \n",
       "\n",
       "                                    round_A  \\\n",
       "0                                 [1, 2, 3]   \n",
       "1                        [1, 2, 3, 4, 5, 6]   \n",
       "2                                 [1, 2, 3]   \n",
       "3                           [1, 2, 3, 4, 5]   \n",
       "4                                    [1, 2]   \n",
       "5                              [1, 2, 3, 4]   \n",
       "6                        [1, 2, 3, 4, 5, 6]   \n",
       "7                                 [1, 2, 3]   \n",
       "8                  [1, 2, 3, 4, 5, 6, 7, 8]   \n",
       "9                                 [1, 2, 3]   \n",
       "10                             [1, 2, 3, 4]   \n",
       "11                                   [1, 2]   \n",
       "12                                [1, 2, 3]   \n",
       "13                    [1, 2, 3, 4, 5, 6, 7]   \n",
       "14      [1, 2, 3, 4, 5, 6, 7, 8, 9, 10, 11]   \n",
       "15              [1, 2, 3, 4, 5, 6, 7, 8, 9]   \n",
       "16                             [1, 2, 3, 4]   \n",
       "17                                [1, 2, 3]   \n",
       "18              [1, 2, 3, 4, 5, 6, 7, 8, 9]   \n",
       "19                 [1, 2, 3, 4, 5, 6, 7, 8]   \n",
       "20                             [1, 2, 3, 4]   \n",
       "21  [1, 2, 3, 4, 5, 6, 7, 8, 9, 10, 11, 12]   \n",
       "22                             [1, 2, 3, 4]   \n",
       "23                    [1, 2, 3, 4, 5, 6, 7]   \n",
       "24                                   [1, 2]   \n",
       "25                             [1, 2, 3, 4]   \n",
       "26                                [1, 2, 3]   \n",
       "27                                [1, 2, 3]   \n",
       "28                                   [1, 2]   \n",
       "29                                   [1, 2]   \n",
       "30                             [1, 2, 3, 4]   \n",
       "31                                   [1, 2]   \n",
       "32                    [1, 2, 3, 4, 5, 6, 7]   \n",
       "33                             [1, 2, 3, 4]   \n",
       "34                                [1, 2, 3]   \n",
       "35                                   [1, 2]   \n",
       "36                                [1, 2, 3]   \n",
       "37                          [1, 2, 3, 4, 5]   \n",
       "38                          [1, 2, 3, 4, 5]   \n",
       "39                             [1, 2, 3, 4]   \n",
       "40                             [1, 2, 3, 4]   \n",
       "41                                [1, 2, 3]   \n",
       "42                             [1, 2, 3, 4]   \n",
       "43                    [1, 2, 3, 4, 5, 6, 7]   \n",
       "44                             [1, 2, 3, 4]   \n",
       "45                       [1, 2, 3, 4, 5, 6]   \n",
       "\n",
       "                                            round_B  \\\n",
       "0                                            [1, 2]   \n",
       "1                                   [1, 2, 3, 4, 5]   \n",
       "2                                      [1, 2, 3, 4]   \n",
       "3                                [1, 2, 3, 4, 5, 6]   \n",
       "4                                      [1, 2, 3, 4]   \n",
       "5                             [1, 2, 3, 4, 5, 6, 7]   \n",
       "6                             [1, 2, 3, 4, 5, 6, 7]   \n",
       "7                                            [1, 2]   \n",
       "8                          [1, 2, 3, 4, 5, 6, 7, 8]   \n",
       "9                             [1, 2, 3, 4, 5, 6, 7]   \n",
       "10                                     [1, 2, 3, 4]   \n",
       "11                                     [1, 2, 3, 4]   \n",
       "12                                  [1, 2, 3, 4, 5]   \n",
       "13  [1, 2, 3, 4, 5, 6, 7, 8, 9, 10, 11, 12, 13, 14]   \n",
       "14      [1, 2, 3, 4, 5, 6, 7, 8, 9, 10, 11, 12, 13]   \n",
       "15          [1, 2, 3, 4, 5, 6, 7, 8, 9, 10, 11, 12]   \n",
       "16                                  [1, 2, 3, 4, 5]   \n",
       "17                                     [1, 2, 3, 4]   \n",
       "18                                  [1, 2, 3, 4, 5]   \n",
       "19                                        [1, 2, 3]   \n",
       "20                                     [1, 2, 3, 4]   \n",
       "21                            [1, 2, 3, 4, 5, 6, 7]   \n",
       "22                                  [1, 2, 3, 4, 5]   \n",
       "23                                     [1, 2, 3, 4]   \n",
       "24                                        [1, 2, 3]   \n",
       "25                                     [1, 2, 3, 4]   \n",
       "26                               [1, 2, 3, 4, 5, 6]   \n",
       "27                                        [1, 2, 3]   \n",
       "28                                           [1, 2]   \n",
       "29                                           [1, 2]   \n",
       "30                                     [1, 2, 3, 4]   \n",
       "31                                        [1, 2, 3]   \n",
       "32                                  [1, 2, 3, 4, 5]   \n",
       "33                                     [1, 2, 3, 4]   \n",
       "34                                        [1, 2, 3]   \n",
       "35                                           [1, 2]   \n",
       "36                                           [1, 2]   \n",
       "37                                  [1, 2, 3, 4, 5]   \n",
       "38                                     [1, 2, 3, 4]   \n",
       "39                            [1, 2, 3, 4, 5, 6, 7]   \n",
       "40                                     [1, 2, 3, 4]   \n",
       "41                                        [1, 2, 3]   \n",
       "42                                           [1, 2]   \n",
       "43                            [1, 2, 3, 4, 5, 6, 7]   \n",
       "44                                  [1, 2, 3, 4, 5]   \n",
       "45                            [1, 2, 3, 4, 5, 6, 7]   \n",
       "\n",
       "                                   inter_num_A  \\\n",
       "0                                       [0, 0]   \n",
       "1                              [1, 3, 1, 2, 2]   \n",
       "2                                 [0, 0, 0, 0]   \n",
       "3                           [1, 0, 1, 1, 0, 0]   \n",
       "4                                 [0, 3, 0, 0]   \n",
       "5                        [0, 0, 0, 0, 0, 0, 0]   \n",
       "6                        [0, 0, 0, 0, 0, 0, 1]   \n",
       "7                                       [0, 0]   \n",
       "8                     [0, 0, 0, 0, 0, 0, 0, 0]   \n",
       "9                        [0, 0, 0, 0, 0, 0, 0]   \n",
       "10                                [0, 0, 0, 0]   \n",
       "11                                [0, 0, 0, 0]   \n",
       "12                             [0, 0, 0, 0, 0]   \n",
       "13  [0, 0, 0, 0, 0, 0, 0, 0, 0, 0, 0, 1, 0, 0]   \n",
       "14     [0, 0, 0, 0, 0, 0, 0, 0, 0, 0, 0, 0, 0]   \n",
       "15        [0, 0, 0, 0, 0, 0, 0, 0, 0, 0, 0, 0]   \n",
       "16                             [0, 0, 0, 0, 0]   \n",
       "17                                [0, 0, 0, 0]   \n",
       "18                             [0, 0, 0, 0, 0]   \n",
       "19                                   [0, 0, 0]   \n",
       "20                                [0, 0, 0, 0]   \n",
       "21                       [1, 1, 2, 1, 0, 0, 0]   \n",
       "22                             [0, 0, 0, 0, 0]   \n",
       "23                                [0, 0, 0, 0]   \n",
       "24                                   [0, 0, 0]   \n",
       "25                                [0, 1, 0, 0]   \n",
       "26                          [0, 0, 0, 0, 0, 0]   \n",
       "27                                   [1, 0, 1]   \n",
       "28                                      [0, 9]   \n",
       "29                                      [0, 8]   \n",
       "30                                [0, 0, 0, 0]   \n",
       "31                                   [3, 0, 1]   \n",
       "32                             [0, 1, 0, 0, 0]   \n",
       "33                                [0, 0, 0, 2]   \n",
       "34                                   [0, 0, 0]   \n",
       "35                                      [0, 0]   \n",
       "36                                     [16, 2]   \n",
       "37                             [4, 3, 9, 4, 1]   \n",
       "38                                [2, 5, 1, 2]   \n",
       "39                       [0, 1, 1, 0, 0, 0, 0]   \n",
       "40                                [0, 0, 0, 0]   \n",
       "41                                   [0, 0, 0]   \n",
       "42                                      [0, 0]   \n",
       "43                       [0, 0, 0, 0, 0, 0, 0]   \n",
       "44                             [5, 0, 0, 0, 0]   \n",
       "45                       [0, 1, 6, 0, 0, 0, 0]   \n",
       "\n",
       "                             inter_num_B  \n",
       "0                              [0, 0, 0]  \n",
       "1                     [0, 0, 0, 0, 1, 1]  \n",
       "2                              [1, 0, 0]  \n",
       "3                        [0, 0, 0, 0, 0]  \n",
       "4                                 [0, 0]  \n",
       "5                           [0, 0, 0, 0]  \n",
       "6                     [0, 0, 0, 0, 0, 0]  \n",
       "7                              [1, 0, 0]  \n",
       "8               [0, 0, 0, 0, 0, 0, 0, 1]  \n",
       "9                              [0, 0, 0]  \n",
       "10                          [0, 0, 0, 0]  \n",
       "11                                [0, 0]  \n",
       "12                             [0, 0, 0]  \n",
       "13                 [0, 0, 0, 0, 0, 0, 0]  \n",
       "14     [0, 0, 0, 0, 0, 0, 0, 0, 0, 0, 0]  \n",
       "15           [0, 0, 0, 0, 0, 0, 0, 0, 0]  \n",
       "16                          [0, 0, 0, 0]  \n",
       "17                             [0, 0, 0]  \n",
       "18           [0, 0, 0, 0, 0, 0, 0, 0, 0]  \n",
       "19              [0, 0, 0, 1, 0, 0, 0, 0]  \n",
       "20                          [0, 0, 0, 0]  \n",
       "21  [0, 0, 0, 0, 0, 0, 0, 0, 0, 0, 0, 0]  \n",
       "22                          [0, 0, 0, 0]  \n",
       "23                 [0, 0, 0, 0, 0, 0, 1]  \n",
       "24                                [0, 0]  \n",
       "25                          [0, 0, 2, 0]  \n",
       "26                             [5, 3, 1]  \n",
       "27                             [4, 2, 8]  \n",
       "28                                [3, 1]  \n",
       "29                                [1, 5]  \n",
       "30                         [0, 4, 11, 4]  \n",
       "31                                [1, 4]  \n",
       "32                 [3, 2, 3, 2, 1, 1, 1]  \n",
       "33                          [0, 0, 0, 0]  \n",
       "34                             [2, 2, 0]  \n",
       "35                                [0, 0]  \n",
       "36                            [12, 2, 0]  \n",
       "37                       [2, 0, 5, 0, 1]  \n",
       "38                       [0, 0, 0, 0, 0]  \n",
       "39                          [0, 0, 0, 0]  \n",
       "40                          [0, 0, 0, 0]  \n",
       "41                             [0, 0, 0]  \n",
       "42                          [0, 0, 2, 3]  \n",
       "43                 [0, 2, 0, 0, 0, 0, 1]  \n",
       "44                          [0, 0, 3, 0]  \n",
       "45                    [5, 0, 0, 0, 0, 0]  "
      ]
     },
     "execution_count": 56,
     "metadata": {},
     "output_type": "execute_result"
    }
   ],
   "source": [
    "df_con2"
   ]
  },
  {
   "cell_type": "markdown",
   "metadata": {},
   "source": [
    "Re-organized turns for each subj and each pair: totally we have 441 turns of conversation across 46 pairs."
   ]
  },
  {
   "cell_type": "code",
   "execution_count": 4,
   "metadata": {},
   "outputs": [],
   "source": [
    "#For each round \n",
    "index_all_A,condition_all_A,pair_all_A,topic_all_A,turn_txt_A_all,round_A_all,inter_A_all=[],[],[],[],[],[],[]\n",
    "index_all_B,condition_all_B,pair_all_B,topic_all_B,turn_txt_B_all,round_B_all,inter_B_all=[],[],[],[],[],[],[]\n",
    "\n",
    "for index, row in df_con2.iterrows():\n",
    "    index0=index\n",
    "    condition0=row['condition']\n",
    "    pair0=row['pair_id']\n",
    "    topic0=row['topic']\n",
    "    turn_A=len(row['round_A'])\n",
    "    turn_B=len(row['round_B'])\n",
    "    \n",
    "    index_all_A.extend([index0]*turn_A)\n",
    "    pair_all_A.extend([pair0]*turn_A)\n",
    "    topic_all_A.extend([topic0]*turn_A)\n",
    "    condition_all_A.extend([condition0]*turn_A)\n",
    "    turn_txt_A=row['turn_txt_A']\n",
    "    turn_txt_A_all.extend(turn_txt_A[:turn_A])\n",
    "    round_A_all.extend(row['round_A'])\n",
    "    inter_A=row['inter_num_A']\n",
    "    if len(inter_A)<turn_A:\n",
    "        inter_A.extend([0]*(turn_A-len(inter_A)))\n",
    "    inter_A_all.extend(inter_A[:turn_A])\n",
    "    \n",
    "    index_all_B.extend([index0]*turn_B)\n",
    "    pair_all_B.extend([pair0]*turn_B)\n",
    "    topic_all_B.extend([topic0]*turn_B)\n",
    "    condition_all_B.extend([condition0]*turn_B)\n",
    "    turn_txt_B=row['turn_txt_B']\n",
    "    turn_txt_B_all.extend(turn_txt_B[:turn_B])\n",
    "    #turn_txt_B_all.extend(row['turn_txt_B'])\n",
    "    round_B_all.extend(row['round_B'])\n",
    "    inter_B=row['inter_num_B']\n",
    "    if len(inter_B)<turn_B:\n",
    "        inter_B.extend([0]*(turn_B-len(inter_B)))\n",
    "    inter_B_all.extend(inter_B[:turn_B])\n",
    "    #inter_B_all.extend(row['inter_num_B'][:turn_B])\n",
    "    \n",
    "df_A=pandas.DataFrame({'index':index_all_A,'condition':condition_all_A,'pair_id':pair_all_A,'topic':topic_all_A,'turn_txt':turn_txt_A_all,'round':round_A_all,'inter_num':inter_A_all})\n",
    "df_B=pandas.DataFrame({'index':index_all_B,'condition':condition_all_B,'pair_id':pair_all_B,'topic':topic_all_B,'turn_txt':turn_txt_B_all,'round':round_B_all,'inter_num':inter_B_all})"
   ]
  },
  {
   "cell_type": "code",
   "execution_count": 5,
   "metadata": {},
   "outputs": [],
   "source": [
    "df_A['tokenized_text'] = df_A['turn_txt'].apply(lambda x: lucem_illud_2020.word_tokenize(x))\n",
    "df_A['word_counts'] = df_A['tokenized_text'].apply(lambda x: len(x))\n",
    "df_B['tokenized_text'] = df_B['turn_txt'].apply(lambda x: lucem_illud_2020.word_tokenize(x))\n",
    "df_B['word_counts'] = df_B['tokenized_text'].apply(lambda x: len(x))"
   ]
  },
  {
   "cell_type": "code",
   "execution_count": 6,
   "metadata": {},
   "outputs": [],
   "source": [
    "df_A['agent']=['A']*len(df_A)\n",
    "df_B['agent']=['B']*len(df_B)"
   ]
  },
  {
   "cell_type": "code",
   "execution_count": 7,
   "metadata": {},
   "outputs": [
    {
     "data": {
      "text/html": [
       "<div>\n",
       "<style scoped>\n",
       "    .dataframe tbody tr th:only-of-type {\n",
       "        vertical-align: middle;\n",
       "    }\n",
       "\n",
       "    .dataframe tbody tr th {\n",
       "        vertical-align: top;\n",
       "    }\n",
       "\n",
       "    .dataframe thead th {\n",
       "        text-align: right;\n",
       "    }\n",
       "</style>\n",
       "<table border=\"1\" class=\"dataframe\">\n",
       "  <thead>\n",
       "    <tr style=\"text-align: right;\">\n",
       "      <th></th>\n",
       "      <th>index</th>\n",
       "      <th>condition</th>\n",
       "      <th>pair_id</th>\n",
       "      <th>topic</th>\n",
       "      <th>turn_txt</th>\n",
       "      <th>round</th>\n",
       "      <th>inter_num</th>\n",
       "      <th>tokenized_text</th>\n",
       "      <th>word_counts</th>\n",
       "      <th>agent</th>\n",
       "    </tr>\n",
       "  </thead>\n",
       "  <tbody>\n",
       "    <tr>\n",
       "      <th>0</th>\n",
       "      <td>0</td>\n",
       "      <td>NB</td>\n",
       "      <td>5</td>\n",
       "      <td>10</td>\n",
       "      <td>. Okay, so uh, I guess they said we should sta...</td>\n",
       "      <td>1</td>\n",
       "      <td>0</td>\n",
       "      <td>[Okay, so, uh, I, guess, they, said, we, shoul...</td>\n",
       "      <td>34</td>\n",
       "      <td>A</td>\n",
       "    </tr>\n",
       "    <tr>\n",
       "      <th>1</th>\n",
       "      <td>0</td>\n",
       "      <td>NB</td>\n",
       "      <td>5</td>\n",
       "      <td>10</td>\n",
       "      <td>. Um I guess I'd like to hear you talk about i...</td>\n",
       "      <td>2</td>\n",
       "      <td>0</td>\n",
       "      <td>[Um, I, guess, I, 'd, like, to, hear, you, tal...</td>\n",
       "      <td>241</td>\n",
       "      <td>A</td>\n",
       "    </tr>\n",
       "    <tr>\n",
       "      <th>2</th>\n",
       "      <td>0</td>\n",
       "      <td>NB</td>\n",
       "      <td>5</td>\n",
       "      <td>10</td>\n",
       "      <td>And then the other thing is like from like a m...</td>\n",
       "      <td>3</td>\n",
       "      <td>0</td>\n",
       "      <td>[And, then, the, other, thing, is, like, from,...</td>\n",
       "      <td>169</td>\n",
       "      <td>A</td>\n",
       "    </tr>\n",
       "    <tr>\n",
       "      <th>3</th>\n",
       "      <td>1</td>\n",
       "      <td>TYB</td>\n",
       "      <td>6</td>\n",
       "      <td>2</td>\n",
       "      <td>So I don't really I think I saidyes, everyone ...</td>\n",
       "      <td>1</td>\n",
       "      <td>1</td>\n",
       "      <td>[So, I, do, n't, really, I, think, I, saidyes,...</td>\n",
       "      <td>13</td>\n",
       "      <td>A</td>\n",
       "    </tr>\n",
       "    <tr>\n",
       "      <th>4</th>\n",
       "      <td>1</td>\n",
       "      <td>TYB</td>\n",
       "      <td>6</td>\n",
       "      <td>2</td>\n",
       "      <td>Oh really. Okay, uhhm so I-I think the reason...</td>\n",
       "      <td>2</td>\n",
       "      <td>3</td>\n",
       "      <td>[Oh, really, Okay, uhhm, so, I, I, think, the,...</td>\n",
       "      <td>88</td>\n",
       "      <td>A</td>\n",
       "    </tr>\n",
       "    <tr>\n",
       "      <th>...</th>\n",
       "      <td>...</td>\n",
       "      <td>...</td>\n",
       "      <td>...</td>\n",
       "      <td>...</td>\n",
       "      <td>...</td>\n",
       "      <td>...</td>\n",
       "      <td>...</td>\n",
       "      <td>...</td>\n",
       "      <td>...</td>\n",
       "      <td>...</td>\n",
       "    </tr>\n",
       "    <tr>\n",
       "      <th>436</th>\n",
       "      <td>45</td>\n",
       "      <td>TYB</td>\n",
       "      <td>62</td>\n",
       "      <td>4</td>\n",
       "      <td>Yeah. laughs. Yeah, yeah definitely.. Right. ...</td>\n",
       "      <td>3</td>\n",
       "      <td>0</td>\n",
       "      <td>[Yeah, laughs, Yeah, yeah, definitely, Right, ...</td>\n",
       "      <td>144</td>\n",
       "      <td>B</td>\n",
       "    </tr>\n",
       "    <tr>\n",
       "      <th>437</th>\n",
       "      <td>45</td>\n",
       "      <td>TYB</td>\n",
       "      <td>62</td>\n",
       "      <td>4</td>\n",
       "      <td>. Yeah. . Right. . . Right, right. Yeah, exact...</td>\n",
       "      <td>4</td>\n",
       "      <td>0</td>\n",
       "      <td>[Yeah, Right, Right, right, Yeah, exactly, lau...</td>\n",
       "      <td>46</td>\n",
       "      <td>B</td>\n",
       "    </tr>\n",
       "    <tr>\n",
       "      <th>438</th>\n",
       "      <td>45</td>\n",
       "      <td>TYB</td>\n",
       "      <td>62</td>\n",
       "      <td>4</td>\n",
       "      <td>I don't know to what extent race plays like i...</td>\n",
       "      <td>5</td>\n",
       "      <td>0</td>\n",
       "      <td>[I, do, n't, know, to, what, extent, race, pla...</td>\n",
       "      <td>49</td>\n",
       "      <td>B</td>\n",
       "    </tr>\n",
       "    <tr>\n",
       "      <th>439</th>\n",
       "      <td>45</td>\n",
       "      <td>TYB</td>\n",
       "      <td>62</td>\n",
       "      <td>4</td>\n",
       "      <td>. Yeah. . . Yeah.  . . Yeah,. . Yeah, there's ...</td>\n",
       "      <td>6</td>\n",
       "      <td>0</td>\n",
       "      <td>[Yeah, Yeah, Yeah, Yeah, there, 's, always, mo...</td>\n",
       "      <td>20</td>\n",
       "      <td>B</td>\n",
       "    </tr>\n",
       "    <tr>\n",
       "      <th>440</th>\n",
       "      <td>45</td>\n",
       "      <td>TYB</td>\n",
       "      <td>62</td>\n",
       "      <td>4</td>\n",
       "      <td>...and you can't like just base something on l...</td>\n",
       "      <td>7</td>\n",
       "      <td>0</td>\n",
       "      <td>[and, you, ca, n't, like, just, base, somethin...</td>\n",
       "      <td>12</td>\n",
       "      <td>B</td>\n",
       "    </tr>\n",
       "  </tbody>\n",
       "</table>\n",
       "<p>441 rows × 10 columns</p>\n",
       "</div>"
      ],
      "text/plain": [
       "     index condition pair_id topic  \\\n",
       "0        0        NB       5    10   \n",
       "1        0        NB       5    10   \n",
       "2        0        NB       5    10   \n",
       "3        1       TYB       6     2   \n",
       "4        1       TYB       6     2   \n",
       "..     ...       ...     ...   ...   \n",
       "436     45       TYB      62     4   \n",
       "437     45       TYB      62     4   \n",
       "438     45       TYB      62     4   \n",
       "439     45       TYB      62     4   \n",
       "440     45       TYB      62     4   \n",
       "\n",
       "                                              turn_txt  round  inter_num  \\\n",
       "0    . Okay, so uh, I guess they said we should sta...      1          0   \n",
       "1    . Um I guess I'd like to hear you talk about i...      2          0   \n",
       "2    And then the other thing is like from like a m...      3          0   \n",
       "3    So I don't really I think I saidyes, everyone ...      1          1   \n",
       "4     Oh really. Okay, uhhm so I-I think the reason...      2          3   \n",
       "..                                                 ...    ...        ...   \n",
       "436   Yeah. laughs. Yeah, yeah definitely.. Right. ...      3          0   \n",
       "437  . Yeah. . Right. . . Right, right. Yeah, exact...      4          0   \n",
       "438   I don't know to what extent race plays like i...      5          0   \n",
       "439  . Yeah. . . Yeah.  . . Yeah,. . Yeah, there's ...      6          0   \n",
       "440  ...and you can't like just base something on l...      7          0   \n",
       "\n",
       "                                        tokenized_text  word_counts agent  \n",
       "0    [Okay, so, uh, I, guess, they, said, we, shoul...           34     A  \n",
       "1    [Um, I, guess, I, 'd, like, to, hear, you, tal...          241     A  \n",
       "2    [And, then, the, other, thing, is, like, from,...          169     A  \n",
       "3    [So, I, do, n't, really, I, think, I, saidyes,...           13     A  \n",
       "4    [Oh, really, Okay, uhhm, so, I, I, think, the,...           88     A  \n",
       "..                                                 ...          ...   ...  \n",
       "436  [Yeah, laughs, Yeah, yeah, definitely, Right, ...          144     B  \n",
       "437  [Yeah, Right, Right, right, Yeah, exactly, lau...           46     B  \n",
       "438  [I, do, n't, know, to, what, extent, race, pla...           49     B  \n",
       "439  [Yeah, Yeah, Yeah, Yeah, there, 's, always, mo...           20     B  \n",
       "440  [and, you, ca, n't, like, just, base, somethin...           12     B  \n",
       "\n",
       "[441 rows x 10 columns]"
      ]
     },
     "execution_count": 7,
     "metadata": {},
     "output_type": "execute_result"
    }
   ],
   "source": [
    "df_AB_turn=pandas.concat([df_A,df_B])\n",
    "df_AB_turn=df_AB_turn.reset_index(drop=True)\n",
    "df_AB_turn"
   ]
  },
  {
   "cell_type": "markdown",
   "metadata": {},
   "source": [
    "We also organize our data in the format of each subj (Person A/Person B) in a pair in a row: "
   ]
  },
  {
   "cell_type": "code",
   "execution_count": 13,
   "metadata": {},
   "outputs": [],
   "source": [
    "#extract corpora of each speaker and organize into one list/dataframe\n",
    "A_cop=[]\n",
    "A_con=[]\n",
    "A_topic=[]\n",
    "for index, row in df_con2.iterrows():\n",
    "    A_cop.append(row['con_txt_A'])\n",
    "    A_con.append(row['condition'])\n",
    "    A_topic.append(row['topic'])\n",
    "    #A_wordc.append(row['word_counts_A'])\n",
    "    A_cop.append(row['con_txt_B'])\n",
    "    A_con.append(row['condition'])\n",
    "    A_topic.append(row['topic'])\n",
    "    #A_wordc.append(row['word_counts_B'])"
   ]
  },
  {
   "cell_type": "code",
   "execution_count": 14,
   "metadata": {},
   "outputs": [],
   "source": [
    "label=[]\n",
    "for i in range(46):\n",
    "    label.append('A_'+str(i+1))\n",
    "    label.append('B_'+str(i+1))"
   ]
  },
  {
   "cell_type": "code",
   "execution_count": 17,
   "metadata": {},
   "outputs": [],
   "source": [
    "def get_agent(labelab):\n",
    "    agent=labelab[0]\n",
    "    return agent\n",
    "df_AB['agent']=df_AB['label'].apply(lambda x: get_agent(x))"
   ]
  },
  {
   "cell_type": "code",
   "execution_count": 16,
   "metadata": {},
   "outputs": [
    {
     "data": {
      "text/html": [
       "<div>\n",
       "<style scoped>\n",
       "    .dataframe tbody tr th:only-of-type {\n",
       "        vertical-align: middle;\n",
       "    }\n",
       "\n",
       "    .dataframe tbody tr th {\n",
       "        vertical-align: top;\n",
       "    }\n",
       "\n",
       "    .dataframe thead th {\n",
       "        text-align: right;\n",
       "    }\n",
       "</style>\n",
       "<table border=\"1\" class=\"dataframe\">\n",
       "  <thead>\n",
       "    <tr style=\"text-align: right;\">\n",
       "      <th></th>\n",
       "      <th>con_txt</th>\n",
       "      <th>condition</th>\n",
       "      <th>label</th>\n",
       "      <th>topic</th>\n",
       "    </tr>\n",
       "  </thead>\n",
       "  <tbody>\n",
       "    <tr>\n",
       "      <th>0</th>\n",
       "      <td>. Okay, so uh, I guess they said we should sta...</td>\n",
       "      <td>NB</td>\n",
       "      <td>A_1</td>\n",
       "      <td>10</td>\n",
       "    </tr>\n",
       "    <tr>\n",
       "      <th>1</th>\n",
       "      <td>. Yea, we should start. . Um, yeah.. I actuall...</td>\n",
       "      <td>NB</td>\n",
       "      <td>B_1</td>\n",
       "      <td>10</td>\n",
       "    </tr>\n",
       "    <tr>\n",
       "      <th>2</th>\n",
       "      <td>So I don't really I think I saidyes, everyone ...</td>\n",
       "      <td>TYB</td>\n",
       "      <td>A_2</td>\n",
       "      <td>2</td>\n",
       "    </tr>\n",
       "    <tr>\n",
       "      <th>3</th>\n",
       "      <td>I-I think put something that's below five..  T...</td>\n",
       "      <td>TYB</td>\n",
       "      <td>B_2</td>\n",
       "      <td>2</td>\n",
       "    </tr>\n",
       "    <tr>\n",
       "      <th>4</th>\n",
       "      <td>So I, when I read this question I thought abou...</td>\n",
       "      <td>NB</td>\n",
       "      <td>A_3</td>\n",
       "      <td>4</td>\n",
       "    </tr>\n",
       "  </tbody>\n",
       "</table>\n",
       "</div>"
      ],
      "text/plain": [
       "                                             con_txt condition label topic\n",
       "0  . Okay, so uh, I guess they said we should sta...        NB   A_1    10\n",
       "1  . Yea, we should start. . Um, yeah.. I actuall...        NB   B_1    10\n",
       "2  So I don't really I think I saidyes, everyone ...       TYB   A_2     2\n",
       "3  I-I think put something that's below five..  T...       TYB   B_2     2\n",
       "4  So I, when I read this question I thought abou...        NB   A_3     4"
      ]
     },
     "execution_count": 16,
     "metadata": {},
     "output_type": "execute_result"
    }
   ],
   "source": [
    "df_AB=pandas.DataFrame({'con_txt':A_cop,'condition':A_con,'label':label,'topic':A_topic})\n",
    "df_AB.head()"
   ]
  },
  {
   "cell_type": "markdown",
   "metadata": {},
   "source": [
    "#### Functions prepared to build Word2Vec models\n",
    "\n",
    "Word2Vec needs to retain the sentence structure so as to capture a \"continuous bag of words (CBOW)\" and all of the skip-grams within a word window. The algorithm tries to preserve the distances induced by one of these two local structures. This is very different from clustering and LDA topic modeling which extract unordered words alone.\n",
    "\n",
    "When we normalize here, we don't use the lematized form of the word because we might lose information. Note the paramter in the normalize tokens function."
   ]
  },
  {
   "cell_type": "code",
   "execution_count": 8,
   "metadata": {},
   "outputs": [],
   "source": [
    "stop_words_freq=['that','this','the','it','a','to',\"'s\",'of',\"n't\",'is','be']\n",
    "import spacy\n",
    "nlp = spacy.load(\"en\")\n",
    "\n",
    "def normalizeTokens2(word_list, extra_stop=[], model=nlp, lemma=True):\n",
    "    #We can use a generator here as we just need to iterate over it\n",
    "    normalized = []\n",
    "    if type(word_list) == list and len(word_list) == 1:\n",
    "        word_list = word_list[0]\n",
    "\n",
    "    if type(word_list) == list:\n",
    "        word_list = ' '.join([str(elem) for elem in word_list]) \n",
    "\n",
    "    # since we're only normalizing, I remove RAM intensive operations and increase max text size\n",
    "\n",
    "    model.max_length = 1500000\n",
    "    doc = model(word_list.lower(), disable=[\"parser\", \"tagger\", \"ner\"])\n",
    "\n",
    "    # we check if we want lemmas or not earlier to avoid checking every time we loop\n",
    "    if lemma:\n",
    "        for w in doc:\n",
    "            # if it's not a stop word or punctuation mark, add it to our article\n",
    "            if w.text != '\\n' and not w.is_punct and not w.like_num and len(w.text.strip()) > 0:\n",
    "            # we add the lematized version of the word\n",
    "                if w.text not in stop_words_freq:\n",
    "                        if w.lemma_!='-PRON-':\n",
    "                            normalized.append(str(w.lemma_))\n",
    "                        else:\n",
    "                            normalized.append(str(w.text))\n",
    "    else:\n",
    "        for w in doc:\n",
    "            # if it's not a stop word or punctuation mark, add it to our article\n",
    "            if w.text != '\\n' and not w.is_punct and not w.like_num and len(w.text.strip()) > 0:\n",
    "            # we add the non-lematized version of the word    \n",
    "                if w.text not in stop_words_freq:\n",
    "                    normalized.append(str(w.text.strip()))\n",
    "\n",
    "\n",
    "    return normalized"
   ]
  },
  {
   "cell_type": "markdown",
   "metadata": {},
   "source": [
    "Normalized the sentences without extracting Lemma: "
   ]
  },
  {
   "cell_type": "code",
   "execution_count": 9,
   "metadata": {},
   "outputs": [],
   "source": [
    "#Apply our functions, notice each row is a list of lists now\n",
    "df_con2['tokenized_sents_all'] = df_con2['conversation_txt'].apply(lambda x: [lucem_illud_2020.word_tokenize(s) for s in lucem_illud_2020.sent_tokenize(x)])\n",
    "df_con2['tokenized_sents_A'] = df_con2['con_txt_A'].apply(lambda x: [lucem_illud_2020.word_tokenize(s) for s in lucem_illud_2020.sent_tokenize(x)])\n",
    "df_con2['tokenized_sents_B'] = df_con2['con_txt_B'].apply(lambda x: [lucem_illud_2020.word_tokenize(s) for s in lucem_illud_2020.sent_tokenize(x)])"
   ]
  },
  {
   "cell_type": "code",
   "execution_count": 10,
   "metadata": {},
   "outputs": [],
   "source": [
    "df_con2['normalized_sents_all'] = df_con2['tokenized_sents_all'].apply(lambda x: [normalizeTokens2(s, lemma=False) for s in x])\n",
    "df_con2['normalized_sents_A'] = df_con2['tokenized_sents_A'].apply(lambda x: [normalizeTokens2(s, lemma=False) for s in x])\n",
    "df_con2['normalized_sents_B'] = df_con2['tokenized_sents_B'].apply(lambda x: [normalizeTokens2(s, lemma=False) for s in x])"
   ]
  },
  {
   "cell_type": "markdown",
   "metadata": {},
   "source": [
    "# Word2Vec\n",
    "\n",
    "We will be using the gensim implementation of [Word2Vec](https://radimrehurek.com/gensim/models/word2vec.html#gensim.models.word2vec.Word2Vec).\n",
    "\n",
    "First of all, we try to build a Word2Vec model based on our corpora (46 pairs conversation):"
   ]
  },
  {
   "cell_type": "code",
   "execution_count": 11,
   "metadata": {},
   "outputs": [],
   "source": [
    "conW2V = gensim.models.word2vec.Word2Vec(df_con2['normalized_sents_all'].sum())"
   ]
  },
  {
   "cell_type": "markdown",
   "metadata": {},
   "source": [
    "Inside the word2vec object the words each have a vector. To access the vector directly, use the square braces (`__getitem__`) method: here is the vector for 'like'."
   ]
  },
  {
   "cell_type": "code",
   "execution_count": 64,
   "metadata": {},
   "outputs": [
    {
     "data": {
      "text/plain": [
       "array([ 0.10249841,  0.4502097 ,  0.21496457,  0.07896898,  0.08579019,\n",
       "        0.15275799, -0.22815374,  0.15951352, -0.08464786,  0.17840727],\n",
       "      dtype=float32)"
      ]
     },
     "execution_count": 64,
     "metadata": {},
     "output_type": "execute_result"
    }
   ],
   "source": [
    "conW2V['like'][:10] #Shortening because it's very large"
   ]
  },
  {
   "cell_type": "markdown",
   "metadata": {},
   "source": [
    "If you want the full matrix, `syn0` stores all the vectors:"
   ]
  },
  {
   "cell_type": "code",
   "execution_count": 65,
   "metadata": {},
   "outputs": [
    {
     "data": {
      "text/plain": [
       "array([[ 0.09732876,  0.40356714,  0.19390716, ...,  0.24573314,\n",
       "        -0.44913673, -0.14599428],\n",
       "       [ 0.10249841,  0.4502097 ,  0.21496457, ...,  0.28326687,\n",
       "        -0.503229  , -0.16399758],\n",
       "       [ 0.10564284,  0.45441052,  0.2174548 , ...,  0.28199318,\n",
       "        -0.51658493, -0.16590282],\n",
       "       ...,\n",
       "       [ 0.01505749,  0.04904628,  0.02175558, ...,  0.02895289,\n",
       "        -0.05493379, -0.02265981],\n",
       "       [ 0.01499372,  0.06062333,  0.02314357, ...,  0.03076948,\n",
       "        -0.06434653, -0.0249288 ],\n",
       "       [ 0.00689238,  0.0461963 ,  0.01639256, ...,  0.02977031,\n",
       "        -0.04332752, -0.01336778]], dtype=float32)"
      ]
     },
     "execution_count": 65,
     "metadata": {},
     "output_type": "execute_result"
    }
   ],
   "source": [
    "conW2V.wv.syn0"
   ]
  },
  {
   "cell_type": "markdown",
   "metadata": {},
   "source": [
    "Then, `index2word` lets you translate from the matrix to words:"
   ]
  },
  {
   "cell_type": "code",
   "execution_count": 49,
   "metadata": {},
   "outputs": [
    {
     "data": {
      "text/plain": [
       "'i'"
      ]
     },
     "execution_count": 49,
     "metadata": {},
     "output_type": "execute_result"
    }
   ],
   "source": [
    "conW2V.wv.index2word[0]"
   ]
  },
  {
   "cell_type": "markdown",
   "metadata": {},
   "source": [
    "Now we can look at a few things that come from the word vectors. The first is to find similar vectors (cosine similarity):\n",
    "\n",
    "The results seem kind of interesting and meaningful, consideraing how small our corpora is. The most similar word to 'agree' is 'on', the most similar words to 'i' are 'lot','like',  which might be resulted of they appeared together more frequently."
   ]
  },
  {
   "cell_type": "code",
   "execution_count": 67,
   "metadata": {
    "scrolled": true
   },
   "outputs": [
    {
     "data": {
      "text/plain": [
       "[('on', 0.999860405921936),\n",
       " ('have', 0.9998553991317749),\n",
       " ('just', 0.9998498558998108),\n",
       " ('like', 0.9998447895050049),\n",
       " ('as', 0.9998444318771362),\n",
       " ('but', 0.9998385310173035),\n",
       " ('them', 0.9998360872268677),\n",
       " ('are', 0.9998354911804199),\n",
       " ('uh', 0.9998347759246826),\n",
       " ('and', 0.9998335838317871)]"
      ]
     },
     "execution_count": 67,
     "metadata": {},
     "output_type": "execute_result"
    }
   ],
   "source": [
    "conW2V.most_similar('agree')"
   ]
  },
  {
   "cell_type": "code",
   "execution_count": 68,
   "metadata": {
    "scrolled": true
   },
   "outputs": [
    {
     "data": {
      "text/plain": [
       "[('lot', 0.9998826384544373),\n",
       " ('like', 0.9998701810836792),\n",
       " ('because', 0.9998634457588196),\n",
       " ('in', 0.9998607635498047),\n",
       " ('up', 0.9998582601547241),\n",
       " ('really', 0.9998576045036316),\n",
       " ('people', 0.9998558759689331),\n",
       " ('could', 0.9998545050621033),\n",
       " ('have', 0.9998524188995361),\n",
       " ('if', 0.9998513460159302)]"
      ]
     },
     "execution_count": 68,
     "metadata": {},
     "output_type": "execute_result"
    }
   ],
   "source": [
    "conW2V.most_similar('i')"
   ]
  },
  {
   "cell_type": "markdown",
   "metadata": {},
   "source": [
    "\n",
    "Find which word least matches the others within a word set (cosine similarity): \n",
    "\n",
    "'Appreciate' stands out in this sequence words we interesested. I guess one of the main reasons is it is less common in the corpora; then 'yeah' comes next, since it is a communication word and usually comes in itself with no other words in context in a sentence, compared with other words."
   ]
  },
  {
   "cell_type": "code",
   "execution_count": 69,
   "metadata": {},
   "outputs": [
    {
     "data": {
      "text/plain": [
       "'appreciate'"
      ]
     },
     "execution_count": 69,
     "metadata": {},
     "output_type": "execute_result"
    }
   ],
   "source": [
    "conW2V.doesnt_match(['agree', 'appreciate', 'but', 'i', 'you','and','yeah','laugh'])"
   ]
  },
  {
   "cell_type": "code",
   "execution_count": 70,
   "metadata": {},
   "outputs": [
    {
     "data": {
      "text/plain": [
       "'yeah'"
      ]
     },
     "execution_count": 70,
     "metadata": {},
     "output_type": "execute_result"
    }
   ],
   "source": [
    "conW2V.doesnt_match(['agree', 'i', 'you','and','yeah'])"
   ]
  },
  {
   "cell_type": "markdown",
   "metadata": {},
   "source": [
    "Find which word best matches the result of a semantic *equation* (here, we seek the words whose vectors best fit the missing entry from the equation: **X + Y - Z = _**."
   ]
  },
  {
   "cell_type": "markdown",
   "metadata": {},
   "source": [
    "The results of semantic equation is not very promising in our model, which might because of the really small corpora it is built upon."
   ]
  },
  {
   "cell_type": "code",
   "execution_count": 71,
   "metadata": {},
   "outputs": [
    {
     "data": {
      "text/plain": [
       "[('uhh', 0.999467134475708),\n",
       " ('lot', 0.9994488954544067),\n",
       " ('way', 0.99944007396698),\n",
       " ('why', 0.9994242787361145),\n",
       " ('can', 0.9994238615036011),\n",
       " ('you', 0.9994232058525085),\n",
       " ('just', 0.9994208216667175),\n",
       " ('but', 0.9994192123413086),\n",
       " ('my', 0.9994176626205444),\n",
       " ('m', 0.9994083046913147)]"
      ]
     },
     "execution_count": 71,
     "metadata": {},
     "output_type": "execute_result"
    }
   ],
   "source": [
    "conW2V.most_similar(positive=['i', 'agree'], negative = ['disagree'])"
   ]
  },
  {
   "cell_type": "markdown",
   "metadata": {},
   "source": [
    "For the 'i'-'think','you' pair, it is a little bit more interesting that 'really', 'because' are related with 'you', which kind of capture the communication pattern in this corpus."
   ]
  },
  {
   "cell_type": "code",
   "execution_count": 72,
   "metadata": {
    "scrolled": true
   },
   "outputs": [
    {
     "data": {
      "text/plain": [
       "[('really', 0.9997844696044922),\n",
       " ('because', 0.9997800588607788),\n",
       " ('way', 0.9997791647911072),\n",
       " ('umm', 0.9997705817222595),\n",
       " ('more', 0.9997665882110596),\n",
       " ('and', 0.9997623562812805),\n",
       " ('maybe', 0.9997605681419373),\n",
       " ('on', 0.9997580051422119),\n",
       " ('then', 0.9997572898864746),\n",
       " ('very', 0.9997543096542358)]"
      ]
     },
     "execution_count": 72,
     "metadata": {},
     "output_type": "execute_result"
    }
   ],
   "source": [
    "conW2V.most_similar(positive=['i', 'think'], negative = ['you'])"
   ]
  },
  {
   "cell_type": "markdown",
   "metadata": {},
   "source": [
    "\n",
    "We can also save the vectors for later use:"
   ]
  },
  {
   "cell_type": "code",
   "execution_count": 121,
   "metadata": {},
   "outputs": [],
   "source": [
    "conW2V.save(\"conWORD2Vec\")"
   ]
  },
  {
   "cell_type": "markdown",
   "metadata": {},
   "source": [
    "We can also use dimension reduction to visulize the vectors. We will start by selecting a subset we want to plot. Let's look at the top words from the set:"
   ]
  },
  {
   "cell_type": "code",
   "execution_count": 137,
   "metadata": {},
   "outputs": [],
   "source": [
    "numWords = 50\n",
    "targetWords = conW2V.wv.index2word[:numWords]"
   ]
  },
  {
   "cell_type": "markdown",
   "metadata": {},
   "source": [
    "We can then extract their vectors and create our own smaller matrix that preserved the distances from the original:"
   ]
  },
  {
   "cell_type": "code",
   "execution_count": 138,
   "metadata": {},
   "outputs": [
    {
     "data": {
      "text/plain": [
       "array([[ 0.09732876,  0.40356714,  0.19390716, ...,  0.24573314,\n",
       "        -0.44913673, -0.14599428],\n",
       "       [ 0.10249841,  0.4502097 ,  0.21496457, ...,  0.28326687,\n",
       "        -0.503229  , -0.16399758],\n",
       "       [ 0.10564284,  0.45441052,  0.2174548 , ...,  0.28199318,\n",
       "        -0.51658493, -0.16590282],\n",
       "       ...,\n",
       "       [ 0.08848983,  0.40378454,  0.19023426, ...,  0.25555578,\n",
       "        -0.45431215, -0.14521074],\n",
       "       [ 0.08851062,  0.36666366,  0.18135944, ...,  0.22675152,\n",
       "        -0.41424462, -0.13749185],\n",
       "       [ 0.07185186,  0.3157567 ,  0.15792821, ...,  0.2010627 ,\n",
       "        -0.36289564, -0.11399882]], dtype=float32)"
      ]
     },
     "execution_count": 138,
     "metadata": {},
     "output_type": "execute_result"
    }
   ],
   "source": [
    "wordsSubMatrix = []\n",
    "for word in targetWords:\n",
    "    wordsSubMatrix.append(conW2V[word])\n",
    "wordsSubMatrix = np.array(wordsSubMatrix)\n",
    "wordsSubMatrix"
   ]
  },
  {
   "cell_type": "markdown",
   "metadata": {},
   "source": [
    "Then we can use PCA to reduce the dimesions (e.g., to 30), and T-SNE to project them down to the two we will visualize. We note that this is nondeterministic process, and so you can repeat and achieve alternative projectsions/visualizations of the words:"
   ]
  },
  {
   "cell_type": "code",
   "execution_count": 139,
   "metadata": {},
   "outputs": [],
   "source": [
    "pcaWords = sklearn.decomposition.PCA(n_components = 30).fit(wordsSubMatrix)\n",
    "reducedPCA_data = pcaWords.transform(wordsSubMatrix)\n",
    "#T-SNE is theoretically better, but you should experiment\n",
    "tsneWords = sklearn.manifold.TSNE(n_components = 2).fit_transform(reducedPCA_data)"
   ]
  },
  {
   "cell_type": "markdown",
   "metadata": {},
   "source": [
    "\n",
    "We now can plot the points"
   ]
  },
  {
   "cell_type": "code",
   "execution_count": 140,
   "metadata": {},
   "outputs": [
    {
     "data": {
      "image/png": "[encoded data removed]",
      "text/plain": [
       "<Figure size 720x432 with 1 Axes>"
      ]
     },
     "metadata": {},
     "output_type": "display_data"
    }
   ],
   "source": [
    "fig = plt.figure(figsize = (10,6))\n",
    "ax = fig.add_subplot(111)\n",
    "ax.set_frame_on(False)\n",
    "plt.scatter(tsneWords[:, 0], tsneWords[:, 1], alpha = 0)#Making the points invisible \n",
    "for i, word in enumerate(targetWords):\n",
    "    ax.annotate(word, (tsneWords[:, 0][i],tsneWords[:, 1][i]), size =  20 * (numWords - i) / numWords)\n",
    "plt.xticks(())\n",
    "plt.yticks(())\n",
    "plt.show()"
   ]
  },
  {
   "cell_type": "markdown",
   "metadata": {},
   "source": [
    "From the visualization above, we could see that ``you`` and ``I`` are close, ``should`` and ``really`` are close to each other. Some patterns of common expressions and part of speech are captured by the word embeddings."
   ]
  },
  {
   "cell_type": "markdown",
   "metadata": {},
   "source": [
    "Consider the relative poor performance of our model, we further import Model of ``Google 2013 Word2Vec``, to examine our corpora better:"
   ]
  },
  {
   "cell_type": "code",
   "execution_count": 12,
   "metadata": {},
   "outputs": [],
   "source": [
    "model = gensim.models.KeyedVectors.load_word2vec_format('GoogleNews-vectors-negative300.bin', binary=True) "
   ]
  },
  {
   "cell_type": "markdown",
   "metadata": {},
   "source": [
    "In the Google Word2Vec model, the closet words to 'agree' are 'disagree', 'concur','agrees', which are semantically related, compared to the 'on', 'just', 'like', the words closet to 'agree' in the word2vec model built by our corpora. "
   ]
  },
  {
   "cell_type": "code",
   "execution_count": 51,
   "metadata": {
    "scrolled": true
   },
   "outputs": [
    {
     "data": {
      "text/plain": [
       "[('disagree', 0.7711759209632874),\n",
       " ('concur', 0.7131548523902893),\n",
       " ('agrees', 0.5929451584815979),\n",
       " ('disagreed', 0.5711543560028076),\n",
       " ('Agree', 0.5635050535202026),\n",
       " ('disagreeing', 0.5525435209274292),\n",
       " ('respectfully_disagree', 0.5464814901351929),\n",
       " ('agreed', 0.5445383787155151),\n",
       " ('insist', 0.5273953676223755),\n",
       " ('accept', 0.5188775658607483)]"
      ]
     },
     "execution_count": 51,
     "metadata": {},
     "output_type": "execute_result"
    }
   ],
   "source": [
    "model.most_similar('agree')"
   ]
  },
  {
   "cell_type": "markdown",
   "metadata": {},
   "source": [
    "In the google model, unexpectedly, the most distinct words are 'I' and then 'agree' in this sequence:"
   ]
  },
  {
   "cell_type": "code",
   "execution_count": 52,
   "metadata": {},
   "outputs": [
    {
     "data": {
      "text/plain": [
       "'i'"
      ]
     },
     "execution_count": 52,
     "metadata": {},
     "output_type": "execute_result"
    }
   ],
   "source": [
    "model.doesnt_match(['agree', 'appreciate', 'but', 'i', 'you','and','yeah','laugh'])"
   ]
  },
  {
   "cell_type": "code",
   "execution_count": 55,
   "metadata": {},
   "outputs": [
    {
     "data": {
      "text/plain": [
       "'agree'"
      ]
     },
     "execution_count": 55,
     "metadata": {},
     "output_type": "execute_result"
    }
   ],
   "source": [
    "model.doesnt_match(['agree', 'appreciate', 'you','and','yeah'])"
   ]
  },
  {
   "cell_type": "markdown",
   "metadata": {},
   "source": [
    "And for the anaology calculation for 'i', 'agree', 'disagree' , the results of Google word embedding model is not ideal as well."
   ]
  },
  {
   "cell_type": "code",
   "execution_count": 54,
   "metadata": {},
   "outputs": [
    {
     "data": {
      "text/plain": [
       "[('im', 0.5693854093551636),\n",
       " ('ive', 0.5568475723266602),\n",
       " ('lol', 0.552156925201416),\n",
       " ('i_cant', 0.547593355178833),\n",
       " (';)', 0.5446286201477051),\n",
       " ('alex', 0.544556736946106),\n",
       " (':-(', 0.5441746711730957),\n",
       " ('u', 0.5382288694381714),\n",
       " ('i_couldnt', 0.5372582077980042),\n",
       " ('haha', 0.5370227098464966)]"
      ]
     },
     "execution_count": 54,
     "metadata": {},
     "output_type": "execute_result"
    }
   ],
   "source": [
    "model.most_similar(positive=['i', 'agree'], negative = ['disagree'])"
   ]
  },
  {
   "cell_type": "markdown",
   "metadata": {},
   "source": [
    "For the 'i' 'think', 'you' analogy calculation, the results are kind of interesting that the cloest words to 'you' in this expression is ``believe``: I think ~= You believe."
   ]
  },
  {
   "cell_type": "code",
   "execution_count": 50,
   "metadata": {
    "scrolled": false
   },
   "outputs": [
    {
     "data": {
      "text/plain": [
       "[('belive', 0.565329372882843),\n",
       " ('beleive', 0.5597293376922607),\n",
       " ('Function_Lens', 0.5519909262657166),\n",
       " ('minerals_inc', 0.5394440293312073),\n",
       " ('again_replying_msg', 0.5377163887023926),\n",
       " ('thats', 0.526217520236969),\n",
       " ('love_veronica_Mars', 0.5247094631195068),\n",
       " ('imo', 0.5233933925628662),\n",
       " ('LOVE_YOU_ALL', 0.5208297967910767),\n",
       " ('i_realy', 0.5203044414520264)]"
      ]
     },
     "execution_count": 50,
     "metadata": {},
     "output_type": "execute_result"
    }
   ],
   "source": [
    "model.most_similar(positive=['i', 'think'], negative = ['you'])"
   ]
  },
  {
   "cell_type": "markdown",
   "metadata": {},
   "source": [
    "Now visualize the same 50 words in the word imbeddings we built mapped on the Google word2vec model:"
   ]
  },
  {
   "cell_type": "code",
   "execution_count": 57,
   "metadata": {},
   "outputs": [],
   "source": [
    "numWords = 50\n",
    "targetWords = conW2V.wv.index2word[:numWords]"
   ]
  },
  {
   "cell_type": "code",
   "execution_count": 58,
   "metadata": {},
   "outputs": [
    {
     "data": {
      "text/plain": [
       "array([[-0.22558594, -0.01953125,  0.09082031, ...,  0.02819824,\n",
       "        -0.17773438, -0.00604248],\n",
       "       [ 0.10351562,  0.13769531, -0.00297546, ...,  0.04394531,\n",
       "        -0.14550781,  0.07128906],\n",
       "       [ 0.20410156,  0.01318359,  0.07568359, ..., -0.21191406,\n",
       "        -0.1328125 ,  0.10839844],\n",
       "       ...,\n",
       "       [-0.07373047,  0.06030273,  0.10791016, ..., -0.16796875,\n",
       "        -0.21972656, -0.00239563],\n",
       "       [ 0.17871094,  0.09130859, -0.00165558, ...,  0.125     ,\n",
       "         0.08056641,  0.01672363],\n",
       "       [ 0.08251953, -0.15136719,  0.06591797, ..., -0.1015625 ,\n",
       "        -0.10839844, -0.20507812]], dtype=float32)"
      ]
     },
     "execution_count": 58,
     "metadata": {},
     "output_type": "execute_result"
    }
   ],
   "source": [
    "wordsSubMatrix2 = []\n",
    "targetWords2=[]\n",
    "num_word=0\n",
    "for word in targetWords:\n",
    "    if word in model:\n",
    "        num_word+=1\n",
    "        wordsSubMatrix2.append(model[word])\n",
    "        targetWords2.append(word)\n",
    "wordsSubMatrix2 = np.array(wordsSubMatrix2)\n",
    "wordsSubMatrix2"
   ]
  },
  {
   "cell_type": "code",
   "execution_count": 62,
   "metadata": {},
   "outputs": [],
   "source": [
    "pcaWords = sklearn.decomposition.PCA(n_components = 30).fit(wordsSubMatrix2)\n",
    "reducedPCA_data = pcaWords.transform(wordsSubMatrix2)\n",
    "#T-SNE is theoretically better, but you should experiment\n",
    "tsneWords = sklearn.manifold.TSNE(n_components = 2).fit_transform(reducedPCA_data)"
   ]
  },
  {
   "cell_type": "code",
   "execution_count": 64,
   "metadata": {},
   "outputs": [
    {
     "data": {
      "image/png": "[encoded data removed]",
      "text/plain": [
       "<Figure size 720x432 with 1 Axes>"
      ]
     },
     "metadata": {},
     "output_type": "display_data"
    }
   ],
   "source": [
    "#visualization based on Google word2vec model\n",
    "fig = plt.figure(figsize = (10,6))\n",
    "ax = fig.add_subplot(111)\n",
    "ax.set_frame_on(False)\n",
    "plt.scatter(tsneWords[:, 0], tsneWords[:, 1], alpha = 0)#Making the points invisible \n",
    "for i, word in enumerate(targetWords2):\n",
    "    ax.annotate(word, (tsneWords[:, 0][i],tsneWords[:, 1][i]), size =  20 * (numWords - i) / numWords)\n",
    "plt.xticks(())\n",
    "plt.yticks(())\n",
    "plt.show()"
   ]
  },
  {
   "cell_type": "markdown",
   "metadata": {},
   "source": [
    "Compare the visualization based on Google model (above) to the one we build (below),I found that actually the difference is not that significant, some pairs of words are kept together in both visualizations: for example, 1) 'I'-'you'; 2) 'do'-'just'-'so'; 3) 'in'-'on', which might because these words are naturally same and the relationship is coherent in whatever corpora. \n",
    "\n",
    "And to capture the natural relationship between words, the Google model actually outperforms, like, 'because','if','but' these conjunctions, are close together in the Google model, where relative far away in our model."
   ]
  },
  {
   "cell_type": "code",
   "execution_count": 140,
   "metadata": {},
   "outputs": [
    {
     "data": {
      "image/png": "[encoded data removed]",
      "text/plain": [
       "<Figure size 720x432 with 1 Axes>"
      ]
     },
     "metadata": {},
     "output_type": "display_data"
    }
   ],
   "source": [
    "#visulization based on our Word2Vec model built on our corpora\n",
    "fig = plt.figure(figsize = (10,6))\n",
    "ax = fig.add_subplot(111)\n",
    "ax.set_frame_on(False)\n",
    "plt.scatter(tsneWords[:, 0], tsneWords[:, 1], alpha = 0)#Making the points invisible \n",
    "for i, word in enumerate(targetWords):\n",
    "    ax.annotate(word, (tsneWords[:, 0][i],tsneWords[:, 1][i]), size =  20 * (numWords - i) / numWords)\n",
    "plt.xticks(())\n",
    "plt.yticks(())\n",
    "plt.show()"
   ]
  },
  {
   "cell_type": "markdown",
   "metadata": {},
   "source": [
    "## <span style=\"color:red\">*Exercise 2*</span>\n",
    "\n",
    "<span style=\"color:red\">Construct cells immediately below this that embed documents related to your final project using `doc2vec`, and explore the relationship between different documents and the word vectors you analyzed in the last exercise. Consider the most similar words to critical documents, analogies (doc _x_ + word _y_), and other additions and subtractions that reveal the structure of similarity and difference within your semantic space. What does this pattern reveal about the documentary organization of your semantic space?"
   ]
  },
  {
   "cell_type": "markdown",
   "metadata": {},
   "source": [
    "# Doc2Vec\n",
    "\n",
    "Instead of just looking at just how words embed within in the space, we can look at how the different documents relate to each other within the space. \n",
    "\n",
    "and I will build the doc2vec model based on the 'document' of each turn of each subj in conversation, so each document will be the words the subj said in each turn. First of all, prepare the corpora and normalize the words:"
   ]
  },
  {
   "cell_type": "code",
   "execution_count": 66,
   "metadata": {},
   "outputs": [],
   "source": [
    "df_AB_turn['normalized_words'] = df_AB_turn['tokenized_text'].apply(lambda x: normalizeTokens2(x, lemma=False))"
   ]
  },
  {
   "cell_type": "markdown",
   "metadata": {},
   "source": [
    "We will load these as documents into Word2Vec, but first we need to normalize and pick some tags.\n",
    "Considering there no keywords related to the corpora of each turn, we will only use unique label ('pairID_A/B_turnNo_TYB/NB') for each document (words of each turn) to build the Doc2vec model:"
   ]
  },
  {
   "cell_type": "code",
   "execution_count": 67,
   "metadata": {},
   "outputs": [],
   "source": [
    "taggedDocs = []\n",
    "df_AB_turn['new_label']='0'*len(df_AB_turn)\n",
    "for index, row in df_AB_turn.iterrows():\n",
    "    label_uniq=str(row['pair_id'])+'_'+row['agent']+'_'+str(row['round'])+'_'+row['condition']\n",
    "    df_AB_turn.loc[index,['new_label']]=label_uniq\n",
    "    docKeywords1=[label_uniq]\n",
    "    taggedDocs.append(gensim.models.doc2vec.LabeledSentence(words = row['normalized_words'], tags = docKeywords1))\n",
    "df_AB_turn['Taggedtext'] = taggedDocs"
   ]
  },
  {
   "cell_type": "code",
   "execution_count": 68,
   "metadata": {},
   "outputs": [
    {
     "data": {
      "text/plain": [
       "['62_B_7_TYB']"
      ]
     },
     "execution_count": 68,
     "metadata": {},
     "output_type": "execute_result"
    }
   ],
   "source": [
    "docKeywords1"
   ]
  },
  {
   "cell_type": "markdown",
   "metadata": {},
   "source": [
    "\n",
    "Now we can train a Doc2Vec model:"
   ]
  },
  {
   "cell_type": "code",
   "execution_count": 69,
   "metadata": {},
   "outputs": [],
   "source": [
    "conD2V_turn = gensim.models.doc2vec.Doc2Vec(df_AB_turn['Taggedtext'], vector_size = 100) #Limiting to 100 dimensions"
   ]
  },
  {
   "cell_type": "markdown",
   "metadata": {},
   "source": [
    "We can get vectors for the tags/documents, just as we did with words. Documents are actually the centroids (high dimensional average points) of their words. "
   ]
  },
  {
   "cell_type": "code",
   "execution_count": 71,
   "metadata": {},
   "outputs": [
    {
     "data": {
      "text/plain": [
       "array([-0.00733396,  0.00265385,  0.01332101, -0.00394947,  0.00585291,\n",
       "        0.00739648, -0.01859718,  0.00364841,  0.005267  , -0.00118988,\n",
       "       -0.00076863, -0.00036931,  0.00054308,  0.00674716,  0.00239493,\n",
       "        0.01221974,  0.01306304,  0.00087055,  0.00351242,  0.00379159,\n",
       "        0.00040907, -0.00411439, -0.00021197, -0.00582541, -0.00145041,\n",
       "       -0.00335665,  0.0045631 , -0.00728919,  0.0073352 ,  0.00508467,\n",
       "        0.00646831,  0.00040594,  0.00787214,  0.00402727,  0.00256711,\n",
       "        0.01339178, -0.00173642,  0.00467531,  0.00112179,  0.0024001 ,\n",
       "        0.01129155, -0.00449768, -0.00020692,  0.00544315,  0.01482897,\n",
       "        0.0062233 ,  0.0012919 ,  0.00617979,  0.00885284,  0.00744054,\n",
       "        0.00808269, -0.00404853, -0.00159307,  0.00319396, -0.00975107,\n",
       "       -0.00621729, -0.00179888,  0.00242112,  0.00176487,  0.0118301 ,\n",
       "       -0.00244253,  0.00828959,  0.00937274,  0.00129134,  0.00431198,\n",
       "        0.00557288,  0.00013871, -0.00105474,  0.00478154, -0.01086819,\n",
       "        0.00717212,  0.01127292, -0.00378196, -0.00292168, -0.00485287,\n",
       "       -0.00222103, -0.00430351, -0.00810447,  0.0002976 , -0.00360531,\n",
       "       -0.01184656,  0.00806949,  0.01179409,  0.00713027, -0.00183751,\n",
       "        0.00683994,  0.0060803 , -0.00879657,  0.00027729,  0.01337582,\n",
       "       -0.00413325, -0.01101546, -0.00661285,  0.01432339, -0.01212612,\n",
       "       -0.00661968,  0.00733496,  0.01651464, -0.00127246, -0.0156163 ],\n",
       "      dtype=float32)"
      ]
     },
     "execution_count": 71,
     "metadata": {},
     "output_type": "execute_result"
    }
   ],
   "source": [
    "conD2V_turn.docvecs['62_B_7_TYB']"
   ]
  },
  {
   "cell_type": "markdown",
   "metadata": {},
   "source": [
    "We can still use the most_similar command to perform simple semantic equations:\n",
    "\n",
    "For the 'i'-'think','you' equation, the results are kind of interesting that 'should' is most connected with 'you'."
   ]
  },
  {
   "cell_type": "code",
   "execution_count": 72,
   "metadata": {},
   "outputs": [
    {
     "data": {
      "text/plain": [
       "[('should', 0.9998600482940674)]"
      ]
     },
     "execution_count": 72,
     "metadata": {},
     "output_type": "execute_result"
    }
   ],
   "source": [
    "conD2V_turn.most_similar(positive = ['i','think'], negative = ['you'], topn = 1)"
   ]
  },
  {
   "cell_type": "markdown",
   "metadata": {},
   "source": [
    "We can also compute all of these by hand--explicitly wth vector algebra: \n",
    "\n",
    "However, the cosine_similarity score is all very high, close to 1 for every pair of words, especially when compared with the Google Word2Vec model. The reasons might be the small corpora we have-small number of document, and relative small number of words in it. "
   ]
  },
  {
   "cell_type": "code",
   "execution_count": 73,
   "metadata": {},
   "outputs": [
    {
     "data": {
      "text/plain": [
       "array([[0.9999041]], dtype=float32)"
      ]
     },
     "execution_count": 73,
     "metadata": {},
     "output_type": "execute_result"
    }
   ],
   "source": [
    "sklearn.metrics.pairwise.cosine_similarity(conD2V_turn['i'].reshape(1,-1), conD2V_turn['you'].reshape(1,-1))\n",
    "#We reorient the vectors with .reshape(1, -1) so that they can be computed without a warning in sklearn"
   ]
  },
  {
   "cell_type": "code",
   "execution_count": 76,
   "metadata": {},
   "outputs": [
    {
     "data": {
      "text/plain": [
       "array([[0.999889]], dtype=float32)"
      ]
     },
     "execution_count": 76,
     "metadata": {},
     "output_type": "execute_result"
    }
   ],
   "source": [
    "sklearn.metrics.pairwise.cosine_similarity(conD2V_turn['think'].reshape(1,-1), conD2V_turn['like'].reshape(1,-1))"
   ]
  },
  {
   "cell_type": "markdown",
   "metadata": {},
   "source": [
    "Results of similarity based on our model (above), results of similarity based on Google Word2Vec model (below):"
   ]
  },
  {
   "cell_type": "code",
   "execution_count": 170,
   "metadata": {},
   "outputs": [
    {
     "data": {
      "text/plain": [
       "array([[0.3817062]], dtype=float32)"
      ]
     },
     "execution_count": 170,
     "metadata": {},
     "output_type": "execute_result"
    }
   ],
   "source": [
    "sklearn.metrics.pairwise.cosine_similarity(model['i'].reshape(1,-1), model['you'].reshape(1,-1))"
   ]
  },
  {
   "cell_type": "code",
   "execution_count": 75,
   "metadata": {},
   "outputs": [
    {
     "data": {
      "text/plain": [
       "array([[0.5020043]], dtype=float32)"
      ]
     },
     "execution_count": 75,
     "metadata": {},
     "output_type": "execute_result"
    }
   ],
   "source": [
    "sklearn.metrics.pairwise.cosine_similarity(model['think'].reshape(1,-1), model['like'].reshape(1,-1))"
   ]
  },
  {
   "cell_type": "markdown",
   "metadata": {},
   "source": [
    "In the doc2vec model, the documents have vectors just as the words do, so that we can compare documents with each other and also with words (similar to how a search engine locates a webpage with a query). First, we will calculate the distance between a word and documents in the dataset:\n",
    "\n",
    "Not very ideally, the 5 top most similar documents to 'appreciate' and 'agree' most come from 'NB' (No because) conditions, and all from Person A in the first several turns. However, considering the very same results (documents similar to the interested words) to both 'agree' and 'disagree', the capacity of the model to actually capture the semantic difference between corpora is questionable. "
   ]
  },
  {
   "cell_type": "code",
   "execution_count": 77,
   "metadata": {},
   "outputs": [
    {
     "data": {
      "text/plain": [
       "[('61_A_3_NB', 0.9993526339530945),\n",
       " ('37_A_1_NB', 0.9993285536766052),\n",
       " ('33_A_3_NB', 0.9993213415145874),\n",
       " ('60_A_2_TYB', 0.9993174076080322),\n",
       " ('18_A_2_NB', 0.9992918968200684)]"
      ]
     },
     "execution_count": 77,
     "metadata": {},
     "output_type": "execute_result"
    }
   ],
   "source": [
    "conD2V_turn.docvecs.most_similar([ conD2V_turn['appreciate'] ], topn=5 )"
   ]
  },
  {
   "cell_type": "code",
   "execution_count": 78,
   "metadata": {},
   "outputs": [
    {
     "data": {
      "text/plain": [
       "[('33_A_3_NB', 0.9996695518493652),\n",
       " ('37_A_1_NB', 0.9995946884155273),\n",
       " ('23_A_1_NB', 0.9995752573013306),\n",
       " ('5_A_3_NB', 0.9995740652084351),\n",
       " ('61_A_3_NB', 0.9995501041412354)]"
      ]
     },
     "execution_count": 78,
     "metadata": {},
     "output_type": "execute_result"
    }
   ],
   "source": [
    "conD2V_turn.docvecs.most_similar([ conD2V_turn['agree'] ], topn=5 )"
   ]
  },
  {
   "cell_type": "code",
   "execution_count": 82,
   "metadata": {},
   "outputs": [
    {
     "data": {
      "text/plain": [
       "[('33_A_3_NB', 0.9997240304946899),\n",
       " ('37_A_1_NB', 0.9995736479759216),\n",
       " ('61_A_3_NB', 0.9995533227920532),\n",
       " ('60_A_2_TYB', 0.9995445609092712),\n",
       " ('23_A_1_NB', 0.9995170831680298)]"
      ]
     },
     "execution_count": 82,
     "metadata": {},
     "output_type": "execute_result"
    }
   ],
   "source": [
    "conD2V_turn.docvecs.most_similar([ conD2V_turn['disagree'] ], topn=5 )"
   ]
  },
  {
   "cell_type": "markdown",
   "metadata": {},
   "source": [
    "Now let's go the other way around and find words most similar to this document:\n",
    "\n",
    "The documents show up in all the three cells above-similar to all three words, which might be 'standard' document in the corpora: not suprisingly, the most similar words are just the most common expression words in a conversation, which further validate the guess that the Doc2vec model is not capable of capturing the nuanced semantic differences in the corpora."
   ]
  },
  {
   "cell_type": "code",
   "execution_count": 83,
   "metadata": {},
   "outputs": [
    {
     "data": {
      "text/plain": [
       "[('are', 0.9997745156288147),\n",
       " ('from', 0.9997735023498535),\n",
       " ('would', 0.9997671246528625),\n",
       " ('person', 0.9997661113739014),\n",
       " ('more', 0.9997656345367432)]"
      ]
     },
     "execution_count": 83,
     "metadata": {},
     "output_type": "execute_result"
    }
   ],
   "source": [
    "conD2V_turn.most_similar( [conD2V_turn.docvecs['33_A_3_NB'] ], topn=5) "
   ]
  },
  {
   "cell_type": "code",
   "execution_count": 84,
   "metadata": {},
   "outputs": [
    {
     "data": {
      "text/plain": [
       "[('all', 0.9997042417526245),\n",
       " ('like', 0.9996964931488037),\n",
       " ('umm', 0.9996815919876099),\n",
       " ('from', 0.9996705055236816),\n",
       " ('but', 0.9996683597564697)]"
      ]
     },
     "execution_count": 84,
     "metadata": {},
     "output_type": "execute_result"
    }
   ],
   "source": [
    "conD2V_turn.most_similar( [conD2V_turn.docvecs['37_A_1_NB'] ], topn=5) "
   ]
  },
  {
   "cell_type": "markdown",
   "metadata": {},
   "source": [
    "We can even look for documents most like a query composed of multiple words: results are not very promising as well."
   ]
  },
  {
   "cell_type": "code",
   "execution_count": 86,
   "metadata": {},
   "outputs": [
    {
     "data": {
      "text/plain": [
       "[('33_A_3_NB', 0.9997162222862244),\n",
       " ('37_A_1_NB', 0.9996488094329834),\n",
       " ('23_A_1_NB', 0.9996388554573059),\n",
       " ('60_A_2_TYB', 0.9996167421340942),\n",
       " ('5_A_3_NB', 0.9996119737625122)]"
      ]
     },
     "execution_count": 86,
     "metadata": {},
     "output_type": "execute_result"
    }
   ],
   "source": [
    "conD2V_turn.docvecs.most_similar([ conD2V_turn['agree']+conD2V_turn['laugh']+conD2V_turn['yeah']], topn=5 )"
   ]
  },
  {
   "cell_type": "markdown",
   "metadata": {},
   "source": [
    "Then, we further try with develop the doc2vec model with the dataframe of each subj and also the dataframe of each pair, which has few documents, but more words in each documents to see whether the length of documents will influence the model performance and the results or not."
   ]
  },
  {
   "cell_type": "markdown",
   "metadata": {},
   "source": [
    "Build Doc2Vec model based on each pair of conversation:"
   ]
  },
  {
   "cell_type": "code",
   "execution_count": 89,
   "metadata": {},
   "outputs": [],
   "source": [
    "df_con2['tokenized_words'] = df_con2['conversation_txt'].apply(lambda x: lucem_illud_2020.word_tokenize(x))\n",
    "df_con2['normalized_words'] = df_con2['tokenized_words'].apply(lambda x: normalizeTokens2(x, lemma=False))"
   ]
  },
  {
   "cell_type": "code",
   "execution_count": 91,
   "metadata": {},
   "outputs": [],
   "source": [
    "taggedDocs = []\n",
    "df_con2['new_label']='0'*len(df_con2)\n",
    "for index, row in df_con2.iterrows():\n",
    "    label_uniq=str(row['pair_id'])+'_'+row['condition']\n",
    "    df_con2['new_label'][index]=label_uniq\n",
    "    docKeywords2=[label_uniq]\n",
    "    taggedDocs.append(gensim.models.doc2vec.LabeledSentence(words = row['normalized_words'], tags = docKeywords2))\n",
    "df_con2['Taggedtext'] = taggedDocs"
   ]
  },
  {
   "cell_type": "code",
   "execution_count": 92,
   "metadata": {},
   "outputs": [],
   "source": [
    "conD2V = gensim.models.doc2vec.Doc2Vec(df_con2['Taggedtext'], vector_size = 100) #Limiting to 100 dimensions"
   ]
  },
  {
   "cell_type": "markdown",
   "metadata": {},
   "source": [
    "Build Doc2Vec model based on each subj of conversation:"
   ]
  },
  {
   "cell_type": "code",
   "execution_count": 88,
   "metadata": {},
   "outputs": [],
   "source": [
    "df_AB['tokenized_words'] = df_AB['con_txt'].apply(lambda x: lucem_illud_2020.word_tokenize(x))\n",
    "df_AB['normalized_words'] = df_AB['tokenized_words'].apply(lambda x: normalizeTokens2(x, lemma=False))"
   ]
  },
  {
   "cell_type": "code",
   "execution_count": 90,
   "metadata": {},
   "outputs": [],
   "source": [
    "taggedDocs = []\n",
    "df_AB['new_label']='0'*len(df_AB)\n",
    "for index, row in df_AB.iterrows():\n",
    "    #docKeywords.append(row['topic']) #This lets us extract individual documnets since doi's are unique\n",
    "    docKeywords0=[row['label']+'_'+row['condition']]\n",
    "    df_AB['new_label'][index]=row['label']+'_'+row['condition']\n",
    "    taggedDocs.append(gensim.models.doc2vec.LabeledSentence(words = row['normalized_words'], tags = docKeywords0))\n",
    "df_AB['Taggedtext'] = taggedDocs"
   ]
  },
  {
   "cell_type": "code",
   "execution_count": 93,
   "metadata": {},
   "outputs": [],
   "source": [
    "conD2V_AB = gensim.models.doc2vec.Doc2Vec(df_AB['Taggedtext'], vector_size = 100) #Limiting to 100 dimensions"
   ]
  },
  {
   "cell_type": "markdown",
   "metadata": {},
   "source": [
    "Try again the functions above with these two new doc2vec models.\n",
    "\n",
    "For the equation building, the results are quite consistent among all three models:"
   ]
  },
  {
   "cell_type": "code",
   "execution_count": 96,
   "metadata": {},
   "outputs": [
    {
     "data": {
      "text/plain": [
       "[('should', 0.9998527765274048)]"
      ]
     },
     "execution_count": 96,
     "metadata": {},
     "output_type": "execute_result"
    }
   ],
   "source": [
    "conD2V.most_similar(positive = ['i','think'], negative = ['you'], topn = 1)"
   ]
  },
  {
   "cell_type": "code",
   "execution_count": 97,
   "metadata": {},
   "outputs": [
    {
     "data": {
      "text/plain": [
       "[('should', 0.999855637550354)]"
      ]
     },
     "execution_count": 97,
     "metadata": {},
     "output_type": "execute_result"
    }
   ],
   "source": [
    "conD2V_AB.most_similar(positive = ['i','think'], negative = ['you'], topn = 1)"
   ]
  },
  {
   "cell_type": "code",
   "execution_count": 98,
   "metadata": {},
   "outputs": [
    {
     "data": {
      "text/plain": [
       "[('should', 0.9998600482940674)]"
      ]
     },
     "execution_count": 98,
     "metadata": {},
     "output_type": "execute_result"
    }
   ],
   "source": [
    "conD2V_turn.most_similar(positive = ['i','think'], negative = ['you'], topn = 1)"
   ]
  },
  {
   "cell_type": "markdown",
   "metadata": {},
   "source": [
    "To find the most similar documents based on a sequence of words: however the results are not very consistent among three models, only pair_22 appeared in the pair/subj models, which further shed light on the quality of the Doc2Vec models built by our corpora is relatively low."
   ]
  },
  {
   "cell_type": "code",
   "execution_count": 100,
   "metadata": {},
   "outputs": [
    {
     "data": {
      "text/plain": [
       "[('61_NB', 0.9999276995658875),\n",
       " ('21_NB', 0.9999253749847412),\n",
       " ('27_TYB', 0.9999251961708069),\n",
       " ('22_TYB', 0.9999238848686218),\n",
       " ('28_NB', 0.9999189972877502)]"
      ]
     },
     "execution_count": 100,
     "metadata": {},
     "output_type": "execute_result"
    }
   ],
   "source": [
    "conD2V.docvecs.most_similar([ conD2V['agree']+conD2V['laugh']+conD2V['yeah']], topn=5 )"
   ]
  },
  {
   "cell_type": "code",
   "execution_count": 101,
   "metadata": {},
   "outputs": [
    {
     "data": {
      "text/plain": [
       "[('A_22_TYB', 0.9998900890350342),\n",
       " ('A_44_TYB', 0.9998828172683716),\n",
       " ('A_1_NB', 0.9998804926872253),\n",
       " ('A_45_NB', 0.9998512268066406),\n",
       " ('B_17_TYB', 0.9998488426208496)]"
      ]
     },
     "execution_count": 101,
     "metadata": {},
     "output_type": "execute_result"
    }
   ],
   "source": [
    "conD2V_AB.docvecs.most_similar([ conD2V_AB['agree']+conD2V_AB['laugh']+conD2V_AB['yeah']], topn=5 )"
   ]
  },
  {
   "cell_type": "code",
   "execution_count": 102,
   "metadata": {
    "scrolled": true
   },
   "outputs": [
    {
     "data": {
      "text/plain": [
       "[('33_A_3_NB', 0.9997162222862244),\n",
       " ('37_A_1_NB', 0.9996488094329834),\n",
       " ('23_A_1_NB', 0.9996388554573059),\n",
       " ('60_A_2_TYB', 0.9996167421340942),\n",
       " ('5_A_3_NB', 0.9996119737625122)]"
      ]
     },
     "execution_count": 102,
     "metadata": {},
     "output_type": "execute_result"
    }
   ],
   "source": [
    "conD2V_turn.docvecs.most_similar([ conD2V_turn['agree']+conD2V_turn['laugh']+conD2V_turn['yeah']], topn=5 )"
   ]
  },
  {
   "cell_type": "markdown",
   "metadata": {},
   "source": [
    "Now let's plot some words and documents against one another with a heatmap:\n",
    "\n",
    "Similarity between first documents (pair) based Doc2Vec built on pair corpora:"
   ]
  },
  {
   "cell_type": "code",
   "execution_count": 187,
   "metadata": {},
   "outputs": [],
   "source": [
    "targetDocs = df_con2['new_label'][:10]\n",
    "\n",
    "heatmapMatrixD = []\n",
    "\n",
    "for tagOuter in targetDocs:\n",
    "    column = []\n",
    "    tagVec = conD2V.docvecs[tagOuter].reshape(1, -1)\n",
    "    for tagInner in targetDocs:\n",
    "        column.append(sklearn.metrics.pairwise.cosine_similarity(tagVec, conD2V.docvecs[tagInner].reshape(1, -1))[0][0])\n",
    "    heatmapMatrixD.append(column)\n",
    "heatmapMatrixD = np.array(heatmapMatrixD)"
   ]
  },
  {
   "cell_type": "code",
   "execution_count": 188,
   "metadata": {},
   "outputs": [
    {
     "data": {
      "image/png": "[encoded data removed]",
      "text/plain": [
       "<Figure size 432x288 with 2 Axes>"
      ]
     },
     "metadata": {
      "needs_background": "light"
     },
     "output_type": "display_data"
    }
   ],
   "source": [
    "fig, ax = plt.subplots()\n",
    "hmap = ax.pcolor(heatmapMatrixD, cmap='terrain')\n",
    "cbar = plt.colorbar(hmap)\n",
    "\n",
    "cbar.set_label('cosine similarity', rotation=270)\n",
    "a = ax.set_xticks(np.arange(heatmapMatrixD.shape[1]) + 0.5, minor=False)\n",
    "a = ax.set_yticks(np.arange(heatmapMatrixD.shape[0]) + 0.5, minor=False)\n",
    "\n",
    "a = ax.set_xticklabels(targetDocs, minor=False, rotation=270)\n",
    "a = ax.set_yticklabels(targetDocs, minor=False)"
   ]
  },
  {
   "cell_type": "markdown",
   "metadata": {},
   "source": [
    "Similarity between first documents (subj) based Doc2Vec built on subj corpora:"
   ]
  },
  {
   "cell_type": "code",
   "execution_count": 189,
   "metadata": {},
   "outputs": [],
   "source": [
    "targetDocs = df_AB['new_label'][:10]\n",
    "\n",
    "heatmapMatrixD = []\n",
    "\n",
    "for tagOuter in targetDocs:\n",
    "    column = []\n",
    "    tagVec = conD2V_AB.docvecs[tagOuter].reshape(1, -1)\n",
    "    for tagInner in targetDocs:\n",
    "        column.append(sklearn.metrics.pairwise.cosine_similarity(tagVec, conD2V_AB.docvecs[tagInner].reshape(1, -1))[0][0])\n",
    "    heatmapMatrixD.append(column)\n",
    "heatmapMatrixD = np.array(heatmapMatrixD)"
   ]
  },
  {
   "cell_type": "code",
   "execution_count": 190,
   "metadata": {},
   "outputs": [
    {
     "data": {
      "image/png": "[encoded data removed]",
      "text/plain": [
       "<Figure size 432x288 with 2 Axes>"
      ]
     },
     "metadata": {
      "needs_background": "light"
     },
     "output_type": "display_data"
    }
   ],
   "source": [
    "fig, ax = plt.subplots()\n",
    "hmap = ax.pcolor(heatmapMatrixD, cmap='terrain')\n",
    "cbar = plt.colorbar(hmap)\n",
    "\n",
    "cbar.set_label('cosine similarity', rotation=270)\n",
    "a = ax.set_xticks(np.arange(heatmapMatrixD.shape[1]) + 0.5, minor=False)\n",
    "a = ax.set_yticks(np.arange(heatmapMatrixD.shape[0]) + 0.5, minor=False)\n",
    "\n",
    "a = ax.set_xticklabels(targetDocs, minor=False, rotation=270)\n",
    "a = ax.set_yticklabels(targetDocs, minor=False)"
   ]
  },
  {
   "cell_type": "markdown",
   "metadata": {},
   "source": [
    "And we could further calculate the similarity between each pair, based on the subj model:"
   ]
  },
  {
   "cell_type": "code",
   "execution_count": 105,
   "metadata": {},
   "outputs": [],
   "source": [
    "targetDocs = df_AB['new_label']\n",
    "\n",
    "heatmapMatrixD = []\n",
    "\n",
    "for tagOuter in targetDocs:\n",
    "    column = []\n",
    "    tagVec = conD2V_AB.docvecs[tagOuter].reshape(1, -1)\n",
    "    for tagInner in targetDocs:\n",
    "        column.append(sklearn.metrics.pairwise.cosine_similarity(tagVec, conD2V_AB.docvecs[tagInner].reshape(1, -1))[0][0])\n",
    "    heatmapMatrixD.append(column)\n",
    "heatmapMatrixD = np.array(heatmapMatrixD)"
   ]
  },
  {
   "cell_type": "code",
   "execution_count": 106,
   "metadata": {},
   "outputs": [],
   "source": [
    "#pair similarity\n",
    "M=heatmapMatrixD\n",
    "sim_pair_TYB,sim_pair_NB=[],[]\n",
    "for i in range(46):\n",
    "    if df_AB['condition'][2*i]=='TYB':\n",
    "        sim_pair_TYB.append(float(M[2*i,2*i+1]))\n",
    "    if df_AB['condition'][2*i]=='NB':\n",
    "        sim_pair_NB.append(float(M[2*i,2*i+1]))    "
   ]
  },
  {
   "cell_type": "code",
   "execution_count": 107,
   "metadata": {},
   "outputs": [
    {
     "name": "stdout",
     "output_type": "stream",
     "text": [
      "Avg similarity of pair in TYB 0.9991\n",
      "Avg similarity of pair in NB 0.9992\n"
     ]
    }
   ],
   "source": [
    "avg_sim_pair_TYB=sum(sim_pair_TYB)/len(sim_pair_TYB)\n",
    "avg_sim_pair_NB=sum(sim_pair_NB)/len(sim_pair_NB)\n",
    "print('Avg similarity of pair in TYB',round(avg_sim_pair_TYB,4))\n",
    "print('Avg similarity of pair in NB',round(avg_sim_pair_NB,4))"
   ]
  },
  {
   "cell_type": "code",
   "execution_count": 109,
   "metadata": {},
   "outputs": [
    {
     "name": "stdout",
     "output_type": "stream",
     "text": [
      "Avg similarity of each two agent: 0.9992\n"
     ]
    }
   ],
   "source": [
    "#averaged distance across all agents\n",
    "print('Avg similarity of each two agent:',round(np.mean(M),4))"
   ]
  },
  {
   "cell_type": "markdown",
   "metadata": {},
   "source": [
    "The result indicates pair in TYB condition is little bit less similar than pairs in NB condition according to the Doc2Vec model. However, the score is just preliminary, since the general unreliability of the Doc2Vec models built based on our corpora."
   ]
  },
  {
   "cell_type": "markdown",
   "metadata": {},
   "source": [
    "Similarity between first documents (turn) based Doc2Vec built on corpora of each turn:"
   ]
  },
  {
   "cell_type": "code",
   "execution_count": 191,
   "metadata": {},
   "outputs": [],
   "source": [
    "targetDocs = df_AB_turn['new_label'][:10]  #if turn==1, ==2\n",
    "\n",
    "heatmapMatrixD = []\n",
    "\n",
    "for tagOuter in targetDocs:\n",
    "    column = []\n",
    "    tagVec = conD2V_turn.docvecs[tagOuter].reshape(1, -1)\n",
    "    for tagInner in targetDocs:\n",
    "        column.append(sklearn.metrics.pairwise.cosine_similarity(tagVec, conD2V_turn.docvecs[tagInner].reshape(1, -1))[0][0])\n",
    "    heatmapMatrixD.append(column)\n",
    "heatmapMatrixD = np.array(heatmapMatrixD)"
   ]
  },
  {
   "cell_type": "code",
   "execution_count": 192,
   "metadata": {},
   "outputs": [
    {
     "data": {
      "image/png": "[encoded data removed]",
      "text/plain": [
       "<Figure size 432x288 with 2 Axes>"
      ]
     },
     "metadata": {
      "needs_background": "light"
     },
     "output_type": "display_data"
    }
   ],
   "source": [
    "fig, ax = plt.subplots()\n",
    "hmap = ax.pcolor(heatmapMatrixD, cmap='terrain')\n",
    "cbar = plt.colorbar(hmap)\n",
    "\n",
    "cbar.set_label('cosine similarity', rotation=270)\n",
    "a = ax.set_xticks(np.arange(heatmapMatrixD.shape[1]) + 0.5, minor=False)\n",
    "a = ax.set_yticks(np.arange(heatmapMatrixD.shape[0]) + 0.5, minor=False)\n",
    "\n",
    "a = ax.set_xticklabels(targetDocs, minor=False, rotation=270)\n",
    "a = ax.set_yticklabels(targetDocs, minor=False)"
   ]
  },
  {
   "cell_type": "markdown",
   "metadata": {},
   "source": [
    "From the visualizaiton above, we could further see that compared with Doc2Vec model built on pair and subj corpora, the similarity between turn documents actually goes a little bit reasonably slower, which means more documents of distinctive feature might be able to better capture the difference between documents.\n",
    "\n",
    "However, the general similarity score is still very high based on the Doc2Vec model built by our coproa, which is not ideal. Therefore, for further analysis, I try to manually calculate 'vectors for each document' based on the averaged vectors of all words in the document of interest according to the Google Word2Vec Model:"
   ]
  },
  {
   "cell_type": "markdown",
   "metadata": {},
   "source": [
    "Calculate the doc vector based on the averaged word vectors (from Google Model) in each document:"
   ]
  },
  {
   "cell_type": "code",
   "execution_count": 112,
   "metadata": {},
   "outputs": [],
   "source": [
    "def word2docvec(wordlist):\n",
    "    doc_vec0=[model[x] for x in wordlist if x in model]\n",
    "    doc_vec=sum(doc_vec0)/len(doc_vec0)\n",
    "    return doc_vec"
   ]
  },
  {
   "cell_type": "code",
   "execution_count": 113,
   "metadata": {},
   "outputs": [],
   "source": [
    "df_AB['doc_vec_g']=df_AB['normalized_words'].apply(lambda x: word2docvec(x))\n",
    "df_con2['doc_vec_g']=df_con2['normalized_words'].apply(lambda x: word2docvec(x))\n",
    "df_AB_turn['doc_vec_g']=df_AB_turn['normalized_words'].apply(lambda x: word2docvec(x))"
   ]
  },
  {
   "cell_type": "markdown",
   "metadata": {},
   "source": [
    "Calculate Similarity between PersonA/B in each Pair:"
   ]
  },
  {
   "cell_type": "code",
   "execution_count": 114,
   "metadata": {},
   "outputs": [],
   "source": [
    "sim_pair_TYB,sim_pair_NB=[],[]\n",
    "for i in range(46):\n",
    "    condition=df_AB['condition'][2*i]\n",
    "    A_vec=df_AB['doc_vec_g'][2*i].reshape(1, -1)\n",
    "    B_vec=df_AB['doc_vec_g'][2*i+1].reshape(1, -1)\n",
    "    AB_sim=sklearn.metrics.pairwise.cosine_similarity(A_vec,B_vec)\n",
    "    if condition=='TYB':\n",
    "        sim_pair_TYB.append(AB_sim)\n",
    "    elif condition=='NB':\n",
    "        sim_pair_NB.append(AB_sim)"
   ]
  },
  {
   "cell_type": "code",
   "execution_count": 115,
   "metadata": {
    "scrolled": true
   },
   "outputs": [
    {
     "name": "stdout",
     "output_type": "stream",
     "text": [
      "Avg similarity of pair in TYB 0.9606\n",
      "Avg similarity of pair in NB 0.9543\n"
     ]
    }
   ],
   "source": [
    "avg_sim_pair_TYB=sum(sim_pair_TYB)/len(sim_pair_TYB)\n",
    "avg_sim_pair_NB=sum(sim_pair_NB)/len(sim_pair_NB)\n",
    "print('Avg similarity of pair in TYB',round(float(avg_sim_pair_TYB),4))\n",
    "print('Avg similarity of pair in NB',round(float(avg_sim_pair_NB),4))"
   ]
  },
  {
   "cell_type": "markdown",
   "metadata": {},
   "source": [
    "From the doc vectors calculated by Google Word2Vec model, we could see that pairs in TYB is slightly more similar than pairs in NB condition (which kind of contradicts the results calculated by our model but more reliable)"
   ]
  },
  {
   "cell_type": "markdown",
   "metadata": {},
   "source": [
    "Similarity of pairs change across time:\n",
    "\n",
    "We are also interested in the similarity between pairs changed across time (First Turn, Second Turn, Thrid Turn, and Last Turn, Last second turn, and Last thrid Turn)"
   ]
  },
  {
   "cell_type": "code",
   "execution_count": 116,
   "metadata": {},
   "outputs": [],
   "source": [
    "#define function to calcualte similarity score of a pair \n",
    "def docvec_pair_sim(df,pair,round_num_A,round_num_B):\n",
    "    A1=df[(df['index']==pair) & (df['round']==round_num_A) & (df['agent']=='A')]['doc_vec_g']\n",
    "    B1=df[(df['index']==pair) & (df['round']==round_num_B) & (df['agent']=='B')]['doc_vec_g']\n",
    "    a1=[v for i,v in A1.items()]\n",
    "    b1=[v for i,v in B1.items()]\n",
    "    A1_vec=a1[0].reshape(1, -1)\n",
    "    B1_vec=b1[0].reshape(1, -1)\n",
    "    turn_sim=sklearn.metrics.pairwise.cosine_similarity(A1_vec,B1_vec)\n",
    "    return turn_sim"
   ]
  },
  {
   "cell_type": "code",
   "execution_count": 125,
   "metadata": {},
   "outputs": [],
   "source": [
    "# calculate similarity score of pairs in turn1,2,3\n",
    "turn1_sim_TYB,turn1_sim_NB=[],[]\n",
    "turn2_sim_TYB,turn2_sim_NB=[],[]\n",
    "turn3_sim_TYB,turn3_sim_NB=[],[]\n",
    "par_list=range(46)\n",
    "par_list=[x for x in par_list if x not in [13,14,15,21]]   \n",
    "#we remove the pairs which have weigh more turns due to different standards of transcription by RA\n",
    "#long_pair=[5,8,9,13,14,15,18,19,21,23,26,32,39,43,45]\n",
    "#par_list=[x for x in par_list if x not in long_pair]\n",
    "for i in par_list:\n",
    "    pair_id=df_con2['pair_id'][i]\n",
    "    condition=df_con2['condition'][i]\n",
    "    #turn1\n",
    "    if 1 in df_con2['round_A'][i] and 1 in df_con2['round_B'][i]:\n",
    "        turn_sim1=docvec_pair_sim(df_AB_turn,i,1,1)\n",
    "        if condition=='TYB':\n",
    "            turn1_sim_TYB.append(turn_sim1)\n",
    "        elif condition=='NB':\n",
    "            turn1_sim_NB.append(turn_sim1)\n",
    "    #turn2\n",
    "    if 2 in df_con2['round_A'][i] and 2 in df_con2['round_B'][i]:\n",
    "        turn_sim2=docvec_pair_sim(df_AB_turn,i,2,2)\n",
    "        if condition=='TYB':\n",
    "            turn2_sim_TYB.append(turn_sim2)\n",
    "        elif condition=='NB':\n",
    "            turn2_sim_NB.append(turn_sim2)   \n",
    "    #turn3\n",
    "    if 3 in df_con2['round_A'][i] and 3 in df_con2['round_B'][i]:\n",
    "        turn_sim3=docvec_pair_sim(df_AB_turn,i,3,3)\n",
    "        if condition=='TYB':\n",
    "            turn3_sim_TYB.append(turn_sim3)\n",
    "        elif condition=='NB':\n",
    "            turn3_sim_NB.append(turn_sim3)    "
   ]
  },
  {
   "cell_type": "code",
   "execution_count": 118,
   "metadata": {},
   "outputs": [
    {
     "name": "stdout",
     "output_type": "stream",
     "text": [
      "Num of 42 pairs: TYB: 22  NB: 20\n",
      "Avg similarity of pair in TYB turn1 0.87\n",
      "Avg similarity of pair in NB turn1 0.883\n"
     ]
    }
   ],
   "source": [
    "avg_sim_turn1_TYB=sum(turn1_sim_TYB)/len(turn1_sim_TYB)\n",
    "avg_sim_turn1_NB=sum(turn1_sim_NB)/len(turn1_sim_NB)\n",
    "print('Num of',len(turn1_sim_TYB)+len(turn1_sim_NB),'pairs: TYB:',len(turn1_sim_TYB),' NB:',len(turn1_sim_NB))\n",
    "print('Avg similarity of pair in TYB turn1',round(float(avg_sim_turn1_TYB),4))\n",
    "print('Avg similarity of pair in NB turn1',round(float(avg_sim_turn1_NB),4))"
   ]
  },
  {
   "cell_type": "code",
   "execution_count": 119,
   "metadata": {},
   "outputs": [
    {
     "name": "stdout",
     "output_type": "stream",
     "text": [
      "Num of 42 pairs: TYB: 22  NB: 20\n",
      "Avg similarity of pair in TYB turn2 0.8829\n",
      "Avg similarity of pair in NB turn2 0.864\n"
     ]
    }
   ],
   "source": [
    "avg_sim_turn2_TYB=sum(turn2_sim_TYB)/len(turn2_sim_TYB)\n",
    "avg_sim_turn2_NB=sum(turn2_sim_NB)/len(turn2_sim_NB)\n",
    "print('Num of',len(turn2_sim_TYB)+len(turn2_sim_NB),'pairs: TYB:',len(turn2_sim_TYB),' NB:',len(turn2_sim_NB))\n",
    "print('Avg similarity of pair in TYB turn2',round(float(avg_sim_turn2_TYB),4))\n",
    "print('Avg similarity of pair in NB turn2',round(float(avg_sim_turn2_NB),4))"
   ]
  },
  {
   "cell_type": "code",
   "execution_count": 120,
   "metadata": {},
   "outputs": [
    {
     "name": "stdout",
     "output_type": "stream",
     "text": [
      "Num of 31 pairs: TYB: 18  NB: 13\n",
      "Avg similarity of pair in TYB turn3 0.841\n",
      "Avg similarity of pair in NB turn3 0.8104\n"
     ]
    }
   ],
   "source": [
    "avg_sim_turn3_TYB=sum(turn3_sim_TYB)/len(turn3_sim_TYB)\n",
    "avg_sim_turn3_NB=sum(turn3_sim_NB)/len(turn3_sim_NB)\n",
    "print('Num of',len(turn3_sim_TYB)+len(turn3_sim_NB),'pairs: TYB:',len(turn3_sim_TYB),' NB:',len(turn3_sim_NB))\n",
    "print('Avg similarity of pair in TYB turn3',round(float(avg_sim_turn3_TYB),4))\n",
    "print('Avg similarity of pair in NB turn3',round(float(avg_sim_turn3_NB),4))"
   ]
  },
  {
   "cell_type": "code",
   "execution_count": 126,
   "metadata": {},
   "outputs": [],
   "source": [
    "#last three turn\n",
    "lturn1_sim_TYB=[]\n",
    "lturn1_sim_NB=[]\n",
    "lturn2_sim_TYB=[]\n",
    "lturn2_sim_NB=[]\n",
    "lturn3_sim_TYB=[]\n",
    "lturn3_sim_NB=[]\n",
    "par_list=range(46)\n",
    "par_list=[x for x in par_list if x not in [13,14,15,21]]\n",
    "#long_pair=[5,8,9,13,14,15,18,19,21,23,26,32,39,43,45]\n",
    "#par_list=[x for x in par_list if x not in long_pair]\n",
    "for i in par_list:\n",
    "    pair_id=df_con2['pair_id'][i]\n",
    "    condition=df_con2['condition'][i]\n",
    "    round_A=df_con2['round_A'][i]\n",
    "    round_B=df_con2['round_B'][i]\n",
    "    lturn1_A=round_A[-1]\n",
    "    lturn1_B=round_B[-1]\n",
    "    lturn2_A=round_A[-2]\n",
    "    lturn2_B=round_B[-2]\n",
    "    if len(round_A)>=3 and len(round_B)>=3:\n",
    "        lturn3_A=round_A[-3]\n",
    "        lturn3_B=round_B[-3]\n",
    "    else:\n",
    "        lturn3_A=0\n",
    "        lturn3_B=0\n",
    "        \n",
    "    #last turn1\n",
    "    turn_sim1=docvec_pair_sim(df_AB_turn,i,lturn1_A,lturn1_B)\n",
    "    if condition=='TYB':\n",
    "        lturn1_sim_TYB.append(turn_sim1)\n",
    "    elif condition=='NB':\n",
    "        lturn1_sim_NB.append(turn_sim1)\n",
    "\n",
    "    #last turn2\n",
    "    turn_sim2=docvec_pair_sim(df_AB_turn,i,lturn2_A,lturn2_B)\n",
    "    if condition=='TYB':\n",
    "        lturn2_sim_TYB.append(turn_sim2)\n",
    "    elif condition=='NB':\n",
    "        lturn2_sim_NB.append(turn_sim2)\n",
    "        \n",
    "    #last_turn3\n",
    "    if lturn3_A!=0 and lturn3_B!=0:\n",
    "        turn_sim3=docvec_pair_sim(df_AB_turn,i,lturn3_A,lturn3_B)\n",
    "        if condition=='TYB':\n",
    "            lturn3_sim_TYB.append(turn_sim3)\n",
    "        elif condition=='NB':\n",
    "            lturn3_sim_NB.append(turn_sim3)          "
   ]
  },
  {
   "cell_type": "code",
   "execution_count": 122,
   "metadata": {},
   "outputs": [
    {
     "name": "stdout",
     "output_type": "stream",
     "text": [
      "Num of 31 pairs: TYB: 13  NB: 18\n",
      "Avg similarity of pair in TYB last turn1 0.7806\n",
      "Avg similarity of pair in NB last turn1 0.8224\n"
     ]
    }
   ],
   "source": [
    "avg_sim_lturn1_TYB=sum(lturn1_sim_TYB)/len(lturn1_sim_TYB)\n",
    "avg_sim_lturn1_NB=sum(lturn1_sim_NB)/len(lturn1_sim_NB)\n",
    "print('Num of',len(lturn1_sim_TYB)+len(lturn1_sim_NB),'pairs: TYB:',len(lturn1_sim_TYB),' NB:',len(lturn1_sim_NB))\n",
    "print('Avg similarity of pair in TYB last turn1',round(float(avg_sim_lturn1_TYB),4))\n",
    "print('Avg similarity of pair in NB last turn1',round(float(avg_sim_lturn1_NB),4))"
   ]
  },
  {
   "cell_type": "code",
   "execution_count": 123,
   "metadata": {},
   "outputs": [
    {
     "name": "stdout",
     "output_type": "stream",
     "text": [
      "Num of 31 pairs: TYB: 13  NB: 18\n",
      "Avg similarity of pair in TYB last turn2 0.8751\n",
      "Avg similarity of pair in NB last turn2 0.8544\n"
     ]
    }
   ],
   "source": [
    "avg_sim_lturn2_TYB=sum(lturn2_sim_TYB)/len(lturn2_sim_TYB)\n",
    "avg_sim_lturn2_NB=sum(lturn2_sim_NB)/len(lturn2_sim_NB)\n",
    "print('Num of',len(lturn2_sim_TYB)+len(lturn2_sim_NB),'pairs: TYB:',len(lturn2_sim_TYB),' NB:',len(lturn2_sim_NB))\n",
    "print('Avg similarity of pair in TYB last turn2',round(float(avg_sim_lturn2_TYB),4))\n",
    "print('Avg similarity of pair in NB last turn2',round(float(avg_sim_lturn2_NB),4))"
   ]
  },
  {
   "cell_type": "code",
   "execution_count": 124,
   "metadata": {},
   "outputs": [
    {
     "name": "stdout",
     "output_type": "stream",
     "text": [
      "Num of 20 pairs: TYB: 9  NB: 11\n",
      "Avg similarity of pair in TYB turn3 0.8759\n",
      "Avg similarity of pair in NB turn3 0.8519\n"
     ]
    }
   ],
   "source": [
    "avg_sim_lturn3_TYB=sum(lturn3_sim_TYB)/len(lturn3_sim_TYB)\n",
    "avg_sim_lturn3_NB=sum(lturn3_sim_NB)/len(lturn3_sim_NB)\n",
    "print('Num of',len(lturn3_sim_TYB)+len(lturn3_sim_NB),'pairs: TYB:',len(lturn3_sim_TYB),' NB:',len(lturn3_sim_NB))\n",
    "print('Avg similarity of pair in TYB turn3',round(float(avg_sim_lturn3_TYB),4))\n",
    "print('Avg similarity of pair in NB turn3',round(float(avg_sim_lturn3_NB),4))"
   ]
  },
  {
   "cell_type": "markdown",
   "metadata": {},
   "source": [
    "Visualization: plot the change of similarity between pairs in each condition across turns."
   ]
  },
  {
   "cell_type": "code",
   "execution_count": 127,
   "metadata": {},
   "outputs": [
    {
     "data": {
      "image/png": "[encoded data removed]",
      "text/plain": [
       "<Figure size 432x288 with 1 Axes>"
      ]
     },
     "metadata": {
      "needs_background": "light"
     },
     "output_type": "display_data"
    }
   ],
   "source": [
    "turn_TYB=[avg_sim_turn1_TYB,avg_sim_turn2_TYB,avg_sim_turn3_TYB,avg_sim_lturn3_TYB,avg_sim_lturn2_TYB,avg_sim_lturn1_TYB]\n",
    "turn_NB=[avg_sim_turn1_NB,avg_sim_turn2_NB,avg_sim_turn3_NB,avg_sim_lturn3_NB,avg_sim_lturn2_NB,avg_sim_lturn1_NB]\n",
    "turn_TYB=[float(x) for x in turn_TYB]\n",
    "turn_NB=[float(x) for x in turn_NB]\n",
    "label0=['Round1','Round2','Round3','Last Round3','Last Round2','Last Round1']\n",
    "index=np.arange(len(label0))\n",
    "\n",
    "plt.plot(index,turn_TYB,color='SkyBlue',label='TYB')\n",
    "plt.plot(index,turn_NB,color='IndianRed',label='NB')\n",
    "\n",
    "plt.xlabel('Round')\n",
    "plt.ylabel('Similarity within Pair')\n",
    "plt.xticks(index,label0,FontSize=8)\n",
    "plt.legend()\n",
    "plt.title('Similarity of Pairs across Turn-taking');"
   ]
  },
  {
   "cell_type": "markdown",
   "metadata": {},
   "source": [
    "As we could see above, in TYB condition the similarity score in pair is at first relatively low, while after the first turn it soon changes to be higher at the second turn, which might be caused by our manipulation; and the relative high similarity continues till the end (last third and second turn) while experiences a drop at the last turn; while the NB condition shows opposite results."
   ]
  },
  {
   "cell_type": "markdown",
   "metadata": {},
   "source": [
    "## <span style=\"color:red\">*Exercise 3*</span>\n",
    "\n",
    "<span style=\"color:red\">Construct cells immediately below this that embed documents related to your final project, then generate meaningful semantic dimensions based on your theoretical understanding of the semantic space (i.e., by subtracting semantically opposite word vectors) and project another set of word vectors onto those dimensions. Interpret the meaning of these projections for your analysis. Which of the dimensions you analyze explain the most variation in the projection of your words and why? \n",
    "\n",
    "<span style=\"color:red\">***Stretch***: Average together multiple antonym pairs to create robust semantic dimensions. How do word projections on these robust dimensions differ from single-pair dimensions?"
   ]
  },
  {
   "cell_type": "markdown",
   "metadata": {},
   "source": [
    "# Projection\n",
    "\n",
    "We can also project word vectors to an arbitray semantic dimension. In this part homework, we try to find three dimensions: Affirmation, Agreement and Appreciation, based on the Google Word2Vec models, and project each pair/subj/turn vector of document on it."
   ]
  },
  {
   "cell_type": "code",
   "execution_count": 128,
   "metadata": {},
   "outputs": [],
   "source": [
    "#functions to develop dimensions\n",
    "def normalize(vector):\n",
    "    normalized_vector = vector / np.linalg.norm(vector)\n",
    "    return normalized_vector\n",
    "\n",
    "def dimension(model, positives, negatives):\n",
    "    diff = sum([normalize(model[x]) for x in positives]) - sum([normalize(model[y]) for y in negatives])\n",
    "    return diff"
   ]
  },
  {
   "cell_type": "markdown",
   "metadata": {},
   "source": [
    "'Definition' of each dimension:"
   ]
  },
  {
   "cell_type": "code",
   "execution_count": 129,
   "metadata": {},
   "outputs": [],
   "source": [
    "Affirmation = dimension(model, ['yes','do','okay','yeah'], ['no', 'don\\'t', 'not','nope'])\n",
    "Agreement = dimension(model, ['agree','admit','consent'], ['disagree','differ','dissent'])\n",
    "Appreciation = dimension(model, ['appreciate','thank','grateful'], ['ingratitude','thankless','ungrateful'])"
   ]
  },
  {
   "cell_type": "markdown",
   "metadata": {},
   "source": [
    "Functions to calculate similarity score based on these dimensions and doc vectors:"
   ]
  },
  {
   "cell_type": "code",
   "execution_count": 130,
   "metadata": {},
   "outputs": [],
   "source": [
    "def simi_affirmation(docvec):\n",
    "    simi=sklearn.metrics.pairwise.cosine_similarity(docvec.reshape(1,-1), Affirmation.reshape(1,-1))[0][0]\n",
    "    return simi\n",
    "df_AB['doc_aff']=df_AB['doc_vec_g'].apply(lambda x: simi_affirmation(x))\n",
    "df_AB_turn['doc_aff']=df_AB_turn['doc_vec_g'].apply(lambda x: simi_affirmation(x))"
   ]
  },
  {
   "cell_type": "code",
   "execution_count": 131,
   "metadata": {},
   "outputs": [],
   "source": [
    "def simi_agreement(docvec):\n",
    "    simi=sklearn.metrics.pairwise.cosine_similarity(docvec.reshape(1,-1), Agreement.reshape(1,-1))[0][0]\n",
    "    return simi\n",
    "df_AB['doc_agg']=df_AB['doc_vec_g'].apply(lambda x: simi_agreement(x))\n",
    "df_AB_turn['doc_agg']=df_AB_turn['doc_vec_g'].apply(lambda x: simi_agreement(x))"
   ]
  },
  {
   "cell_type": "code",
   "execution_count": 132,
   "metadata": {},
   "outputs": [],
   "source": [
    "def simi_appreciation(docvec):\n",
    "    simi=sklearn.metrics.pairwise.cosine_similarity(docvec.reshape(1,-1), Appreciation.reshape(1,-1))[0][0]\n",
    "    return simi\n",
    "df_AB['doc_app']=df_AB['doc_vec_g'].apply(lambda x: simi_appreciation(x))\n",
    "df_AB_turn['doc_app']=df_AB_turn['doc_vec_g'].apply(lambda x: simi_appreciation(x))"
   ]
  },
  {
   "cell_type": "markdown",
   "metadata": {},
   "source": [
    "##### Projection on dimension of PersonA/B in each condition\n",
    "\n",
    "First of all, we try to examine the similarity in all PersonA and all Person B in each condition, to all three dimensions:"
   ]
  },
  {
   "cell_type": "code",
   "execution_count": 37,
   "metadata": {},
   "outputs": [],
   "source": [
    "a=df_AB[(df_AB['condition']=='TYB') & (df_AB['agent']=='A')]\n",
    "aff_sim_A_TYB=list(a['doc_aff'])\n",
    "avg_aff_sim_A_TYB=sum(aff_sim_A_TYB)/len(aff_sim_A_TYB)\n",
    "\n",
    "a=df_AB[(df_AB['condition']=='TYB') & (df_AB['agent']=='B')]\n",
    "aff_sim_B_TYB=list(a['doc_aff'])\n",
    "avg_aff_sim_B_TYB=sum(aff_sim_B_TYB)/len(aff_sim_B_TYB)\n",
    "\n",
    "a=df_AB[(df_AB['condition']=='NB') & (df_AB['agent']=='A')]\n",
    "aff_sim_A_NB=list(a['doc_aff'])\n",
    "avg_aff_sim_A_NB=sum(aff_sim_A_NB)/len(aff_sim_A_NB)\n",
    "\n",
    "a=df_AB[(df_AB['condition']=='NB') & (df_AB['agent']=='B')]\n",
    "aff_sim_B_NB=list(a['doc_aff'])\n",
    "avg_aff_sim_B_NB=sum(aff_sim_B_NB)/len(aff_sim_B_NB)"
   ]
  },
  {
   "cell_type": "code",
   "execution_count": 38,
   "metadata": {
    "scrolled": true
   },
   "outputs": [
    {
     "name": "stdout",
     "output_type": "stream",
     "text": [
      "Avg similarity to Affirmation Dimension for A in TYB 0.3097\n",
      "Avg similarity to Affirmation Dimension for B in TYB 0.3187\n",
      "Avg similarity to Affirmation Dimension for A in NB 0.2889\n",
      "Avg similarity to Affirmation Dimension for B in NB 0.2929\n"
     ]
    }
   ],
   "source": [
    "print('Avg similarity to Affirmation Dimension for A in TYB',round(avg_aff_sim_A_TYB,4))\n",
    "print('Avg similarity to Affirmation Dimension for B in TYB',round(avg_aff_sim_B_TYB,4))\n",
    "print('Avg similarity to Affirmation Dimension for A in NB',round(avg_aff_sim_A_NB,4))\n",
    "print('Avg similarity to Affirmation Dimension for B in NB',round(avg_aff_sim_B_NB,4))"
   ]
  },
  {
   "cell_type": "code",
   "execution_count": 39,
   "metadata": {},
   "outputs": [],
   "source": [
    "a=df_AB[(df_AB['condition']=='TYB') & (df_AB['agent']=='A')]\n",
    "sim_A_TYB=list(a['doc_agg'])\n",
    "avg_agg_sim_A_TYB=sum(sim_A_TYB)/len(sim_A_TYB)\n",
    "\n",
    "a=df_AB[(df_AB['condition']=='TYB') & (df_AB['agent']=='B')]\n",
    "sim_B_TYB=list(a['doc_agg'])\n",
    "avg_agg_sim_B_TYB=sum(sim_B_TYB)/len(sim_B_TYB)\n",
    "\n",
    "a=df_AB[(df_AB['condition']=='NB') & (df_AB['agent']=='A')]\n",
    "sim_A_NB=list(a['doc_agg'])\n",
    "avg_agg_sim_A_NB=sum(sim_A_NB)/len(sim_A_NB)\n",
    "\n",
    "a=df_AB[(df_AB['condition']=='NB') & (df_AB['agent']=='B')]\n",
    "sim_B_NB=list(a['doc_agg'])\n",
    "avg_agg_sim_B_NB=sum(sim_B_NB)/len(sim_B_NB)"
   ]
  },
  {
   "cell_type": "code",
   "execution_count": 40,
   "metadata": {
    "scrolled": true
   },
   "outputs": [
    {
     "name": "stdout",
     "output_type": "stream",
     "text": [
      "Avg similarity to Agreement Dimension for A in TYB 0.1449\n",
      "Avg similarity to Agreement Dimension for B in TYB 0.1381\n",
      "Avg similarity to Agreement Dimension for A in NB 0.1433\n",
      "Avg similarity to Agreement Dimension for B in NB 0.1484\n"
     ]
    }
   ],
   "source": [
    "print('Avg similarity to Agreement Dimension for A in TYB',round(avg_agg_sim_A_TYB,4))\n",
    "print('Avg similarity to Agreement Dimension for B in TYB',round(avg_agg_sim_B_TYB,4))\n",
    "print('Avg similarity to Agreement Dimension for A in NB',round(avg_agg_sim_A_NB,4))\n",
    "print('Avg similarity to Agreement Dimension for B in NB',round(avg_agg_sim_B_NB,4))"
   ]
  },
  {
   "cell_type": "code",
   "execution_count": 41,
   "metadata": {},
   "outputs": [],
   "source": [
    "a=df_AB[(df_AB['condition']=='TYB') & (df_AB['agent']=='A')]\n",
    "sim_A_TYB=list(a['doc_app'])\n",
    "avg_app_sim_A_TYB=sum(sim_A_TYB)/len(sim_A_TYB)\n",
    "\n",
    "a=df_AB[(df_AB['condition']=='TYB') & (df_AB['agent']=='B')]\n",
    "sim_B_TYB=list(a['doc_app'])\n",
    "avg_app_sim_B_TYB=sum(sim_B_TYB)/len(sim_B_TYB)\n",
    "\n",
    "a=df_AB[(df_AB['condition']=='NB') & (df_AB['agent']=='A')]\n",
    "sim_A_NB=list(a['doc_app'])\n",
    "avg_app_sim_A_NB=sum(sim_A_NB)/len(sim_A_NB)\n",
    "\n",
    "a=df_AB[(df_AB['condition']=='NB') & (df_AB['agent']=='B')]\n",
    "sim_B_NB=list(a['doc_app'])\n",
    "avg_app_sim_B_NB=sum(sim_B_NB)/len(sim_B_NB)"
   ]
  },
  {
   "cell_type": "code",
   "execution_count": 42,
   "metadata": {
    "scrolled": true
   },
   "outputs": [
    {
     "name": "stdout",
     "output_type": "stream",
     "text": [
      "Avg similarity to Appreciation Dimension for A in TYB 0.0774\n",
      "Avg similarity to Appreciation Dimension for B in TYB 0.0757\n",
      "Avg similarity to Appreciation Dimension for A in NB 0.0744\n",
      "Avg similarity to Appreciation Dimension for B in NB 0.0727\n"
     ]
    }
   ],
   "source": [
    "print('Avg similarity to Appreciation Dimension for A in TYB',round(avg_app_sim_A_TYB,4))\n",
    "print('Avg similarity to Appreciation Dimension for B in TYB',round(avg_app_sim_B_TYB,4))\n",
    "print('Avg similarity to Appreciation Dimension for A in NB',round(avg_app_sim_A_NB,4))\n",
    "print('Avg similarity to Appreciation Dimension for B in NB',round(avg_app_sim_B_NB,4))"
   ]
  },
  {
   "cell_type": "markdown",
   "metadata": {},
   "source": [
    "Visualization:"
   ]
  },
  {
   "cell_type": "code",
   "execution_count": 43,
   "metadata": {},
   "outputs": [
    {
     "data": {
      "image/png": "[encoded data removed]",
      "text/plain": [
       "<Figure size 432x288 with 1 Axes>"
      ]
     },
     "metadata": {
      "needs_background": "light"
     },
     "output_type": "display_data"
    }
   ],
   "source": [
    "#Plot bar graph, with lines and std for LDA/QDA and each sample size\n",
    "label0=['TYB-Affirm','NB-Affirm','TYB-Aggree','NB-Aggree','TYB-Appreci','NB-Appreci']\n",
    "index=np.arange(len(label0))\n",
    "width=0.3\n",
    "\n",
    "avg_A=[avg_aff_sim_A_TYB,avg_aff_sim_A_NB,avg_agg_sim_A_TYB,avg_agg_sim_A_NB,avg_app_sim_A_TYB,avg_app_sim_A_NB]\n",
    "avg_B=[avg_aff_sim_B_TYB,avg_aff_sim_B_NB,avg_agg_sim_B_TYB,avg_agg_sim_B_NB,avg_app_sim_A_TYB,avg_app_sim_A_NB]\n",
    "\n",
    "plt.bar(index,avg_A,width,color='SkyBlue',label='A') \n",
    "plt.bar(index+width,avg_B,width,color='IndianRed',label='B')\n",
    "\n",
    "plt.xlabel('Condition')\n",
    "plt.ylabel('Similarity to Dimension')\n",
    "plt.xticks(index+width/2,label0,FontSize=8)\n",
    "plt.legend()\n",
    "plt.title('Similarity to Dimension of each Condition');"
   ]
  },
  {
   "cell_type": "markdown",
   "metadata": {},
   "source": [
    "As we could see above, generally the transcripts of all subjects have higher similarity to **Affirmation**, then **Agreement** and finally **Appreciation**. For **Affirmation**, subjs in TYB conditions have higher similarity to 'Affirmation' compared with NB condition, which is in line with our prediction. However, the similarity is even higher for Person B is kind of interesting, since Person B does not receive instructions at all. \n",
    "\n",
    "For **Aggreement** which is also against our prediciton, NB (No Because) condition shows higher similarity to agreement. The underlying reasons are needed to be further clarified. \n",
    "\n",
    "For **Appreciation** the similarity score is relative low and very close for each role and condition, which might because of the relatively low frequency of 'appreciate'/'thank' actually appeared in the corpora."
   ]
  },
  {
   "cell_type": "markdown",
   "metadata": {},
   "source": [
    "### Projection on dimension of across Time (*Turn*) in each condition\n",
    "\n",
    "Then, we try to examine the similarity across **time/turn** to all three dimensionsin each condition:\n",
    "\n",
    "**For Appreciation:**"
   ]
  },
  {
   "cell_type": "code",
   "execution_count": 133,
   "metadata": {},
   "outputs": [],
   "source": [
    "#calculate similarity to Appreciation of each condition, for the first three turns\n",
    "a=df_AB_turn[(df_AB_turn['condition']=='TYB') & (df_AB_turn['round']==1)]\n",
    "sim_TYB=list(a['doc_app'])\n",
    "avg_app_sim_1_TYB=sum(sim_TYB)/len(sim_TYB)\n",
    "\n",
    "a=df_AB_turn[(df_AB_turn['condition']=='TYB') & (df_AB_turn['round']==2)]\n",
    "sim_TYB=list(a['doc_app'])\n",
    "avg_app_sim_2_TYB=sum(sim_TYB)/len(sim_TYB)\n",
    "\n",
    "a=df_AB_turn[(df_AB_turn['condition']=='TYB') & (df_AB_turn['round']==3)]\n",
    "sim_TYB=list(a['doc_app'])\n",
    "avg_app_sim_3_TYB=sum(sim_TYB)/len(sim_TYB)\n",
    "\n",
    "a=df_AB_turn[(df_AB_turn['condition']=='NB') & (df_AB_turn['round']==1)]\n",
    "sim_NB=list(a['doc_app'])\n",
    "avg_app_sim_1_NB=sum(sim_NB)/len(sim_NB)\n",
    "\n",
    "a=df_AB_turn[(df_AB_turn['condition']=='NB') & (df_AB_turn['round']==2)]\n",
    "sim_NB=list(a['doc_app'])\n",
    "avg_app_sim_2_NB=sum(sim_NB)/len(sim_NB)\n",
    "\n",
    "a=df_AB_turn[(df_AB_turn['condition']=='NB') & (df_AB_turn['round']==3)]\n",
    "sim_NB=list(a['doc_app'])\n",
    "avg_app_sim_3_NB=sum(sim_NB)/len(sim_NB)"
   ]
  },
  {
   "cell_type": "code",
   "execution_count": 134,
   "metadata": {
    "scrolled": false
   },
   "outputs": [
    {
     "name": "stdout",
     "output_type": "stream",
     "text": [
      "Avg similarity to Appreciation Dimension for 1 in TYB 0.0841\n",
      "Avg similarity to Appreciation Dimension for 2 in TYB 0.0707\n",
      "Avg similarity to Appreciation Dimension for 3 in TYB 0.074\n",
      "Avg similarity to Appreciation Dimension for 1 in NB 0.0732\n",
      "Avg similarity to Appreciation Dimension for 2 in NB 0.0686\n",
      "Avg similarity to Appreciation Dimension for 3 in NB 0.0603\n"
     ]
    }
   ],
   "source": [
    "print('Avg similarity to Appreciation Dimension for 1 in TYB',round(avg_app_sim_1_TYB,4))\n",
    "print('Avg similarity to Appreciation Dimension for 2 in TYB',round(avg_app_sim_2_TYB,4))\n",
    "print('Avg similarity to Appreciation Dimension for 3 in TYB',round(avg_app_sim_3_TYB,4))\n",
    "print('Avg similarity to Appreciation Dimension for 1 in NB',round(avg_app_sim_1_NB,4))\n",
    "print('Avg similarity to Appreciation Dimension for 2 in NB',round(avg_app_sim_2_NB,4))\n",
    "print('Avg similarity to Appreciation Dimension for 3 in NB',round(avg_app_sim_3_NB,4))"
   ]
  },
  {
   "cell_type": "markdown",
   "metadata": {},
   "source": [
    "Visualization:"
   ]
  },
  {
   "cell_type": "code",
   "execution_count": 46,
   "metadata": {},
   "outputs": [
    {
     "data": {
      "image/png": "[encoded data removed]",
      "text/plain": [
       "<Figure size 432x288 with 1 Axes>"
      ]
     },
     "metadata": {
      "needs_background": "light"
     },
     "output_type": "display_data"
    }
   ],
   "source": [
    "label0=['TYB-Appreci','NB-Appreci']\n",
    "index=np.arange(len(label0))\n",
    "width=0.3\n",
    "\n",
    "avg_1=[avg_app_sim_1_TYB,avg_app_sim_1_NB]\n",
    "avg_2=[avg_app_sim_2_TYB,avg_app_sim_2_NB]\n",
    "avg_3=[avg_app_sim_3_TYB,avg_app_sim_3_NB]\n",
    "\n",
    "plt.bar(index,avg_1,width,label='Turn 1') \n",
    "plt.bar(index+width,avg_2,width,label='Turn 2')\n",
    "plt.bar(index+width+width,avg_3,width,label='Turn 3')\n",
    "\n",
    "plt.xlabel('Condition')\n",
    "plt.ylabel('Similarity to Dimension')\n",
    "plt.xticks(index+width,label0,FontSize=8)\n",
    "plt.legend()\n",
    "plt.title('Similarity to Appreciation of each Condition');"
   ]
  },
  {
   "cell_type": "markdown",
   "metadata": {},
   "source": [
    "From the visualization above, we could clearly see that copora in TYB condition shower high 'appreciation', especially in the first Turn, which might be caused by our experiment manipulation; however, in NB condition, the appreciation score is not only low at the begining, but also drops gradually through the conversaion happening. "
   ]
  },
  {
   "cell_type": "markdown",
   "metadata": {},
   "source": [
    "Then we could take a deeper look at the role of each agent in the conversation: Person(A/B)"
   ]
  },
  {
   "cell_type": "code",
   "execution_count": 157,
   "metadata": {},
   "outputs": [],
   "source": [
    "#Then, we could take a deeper look at the role of each subj-Person A and B\n",
    "a=df_AB_turn[(df_AB_turn['condition']=='TYB') & (df_AB_turn['round']==1) & (df_AB_turn['agent']=='A')]\n",
    "sim_TYB=list(a['doc_app'])\n",
    "avg_app_sim_A1_TYB=sum(sim_TYB)/len(sim_TYB)\n",
    "\n",
    "a=df_AB_turn[(df_AB_turn['condition']=='TYB') & (df_AB_turn['round']==1) & (df_AB_turn['agent']=='B')]\n",
    "sim_TYB=list(a['doc_app'])\n",
    "avg_app_sim_B1_TYB=sum(sim_TYB)/len(sim_TYB)\n",
    "\n",
    "a=df_AB_turn[(df_AB_turn['condition']=='TYB') & (df_AB_turn['round']==2) & (df_AB_turn['agent']=='A')]\n",
    "sim_TYB=list(a['doc_app'])\n",
    "avg_app_sim_A2_TYB=sum(sim_TYB)/len(sim_TYB)\n",
    "\n",
    "a=df_AB_turn[(df_AB_turn['condition']=='TYB') & (df_AB_turn['round']==2) & (df_AB_turn['agent']=='B')]\n",
    "sim_TYB=list(a['doc_app'])\n",
    "avg_app_sim_B2_TYB=sum(sim_TYB)/len(sim_TYB)\n",
    "\n",
    "a=df_AB_turn[(df_AB_turn['condition']=='TYB') & (df_AB_turn['round']==3) & (df_AB_turn['agent']=='A')]\n",
    "sim_TYB=list(a['doc_app'])\n",
    "avg_app_sim_A3_TYB=sum(sim_TYB)/len(sim_TYB)\n",
    "\n",
    "a=df_AB_turn[(df_AB_turn['condition']=='TYB') & (df_AB_turn['round']==3) & (df_AB_turn['agent']=='B')]\n",
    "sim_TYB=list(a['doc_app'])\n",
    "avg_app_sim_B3_TYB=sum(sim_TYB)/len(sim_TYB)\n",
    "\n",
    "a=df_AB_turn[(df_AB_turn['condition']=='NB') & (df_AB_turn['round']==1)& (df_AB_turn['agent']=='A')]\n",
    "sim_NB=list(a['doc_app'])\n",
    "avg_app_sim_A1_NB=sum(sim_NB)/len(sim_NB)\n",
    "\n",
    "a=df_AB_turn[(df_AB_turn['condition']=='NB') & (df_AB_turn['round']==1)& (df_AB_turn['agent']=='B')]\n",
    "sim_NB=list(a['doc_app'])\n",
    "avg_app_sim_B1_NB=sum(sim_NB)/len(sim_NB)\n",
    "\n",
    "a=df_AB_turn[(df_AB_turn['condition']=='NB') & (df_AB_turn['round']==2)& (df_AB_turn['agent']=='A')]\n",
    "sim_NB=list(a['doc_app'])\n",
    "avg_app_sim_A2_NB=sum(sim_NB)/len(sim_NB)\n",
    "\n",
    "a=df_AB_turn[(df_AB_turn['condition']=='NB') & (df_AB_turn['round']==2)& (df_AB_turn['agent']=='B')]\n",
    "sim_NB=list(a['doc_app'])\n",
    "avg_app_sim_B2_NB=sum(sim_NB)/len(sim_NB)\n",
    "\n",
    "a=df_AB_turn[(df_AB_turn['condition']=='NB') & (df_AB_turn['round']==3)& (df_AB_turn['agent']=='A')]\n",
    "sim_NB=list(a['doc_app'])\n",
    "avg_app_sim_A3_NB=sum(sim_NB)/len(sim_NB)\n",
    "\n",
    "a=df_AB_turn[(df_AB_turn['condition']=='NB') & (df_AB_turn['round']==3)& (df_AB_turn['agent']=='B')]\n",
    "sim_NB=list(a['doc_app'])\n",
    "avg_app_sim_B3_NB=sum(sim_NB)/len(sim_NB)"
   ]
  },
  {
   "cell_type": "code",
   "execution_count": 158,
   "metadata": {},
   "outputs": [
    {
     "data": {
      "image/png": "[encoded data removed]",
      "text/plain": [
       "<Figure size 432x288 with 1 Axes>"
      ]
     },
     "metadata": {
      "needs_background": "light"
     },
     "output_type": "display_data"
    }
   ],
   "source": [
    "label0=['TYB-Turn1','TYB-2','TYB-3','NB-Turn1','NB-2','NB-3']\n",
    "index=np.arange(len(label0))\n",
    "width=0.3\n",
    "\n",
    "avg_A=[avg_app_sim_A1_TYB,avg_app_sim_A2_TYB,avg_app_sim_A3_TYB,avg_app_sim_A1_NB,avg_app_sim_A2_NB,avg_app_sim_A3_NB]\n",
    "avg_B=[avg_app_sim_B1_TYB,avg_app_sim_B2_TYB,avg_app_sim_B3_TYB,avg_app_sim_B1_NB,avg_app_sim_B2_NB,avg_app_sim_B3_NB]\n",
    "\n",
    "plt.bar(index+width,avg_A,width,label='Person A') \n",
    "plt.bar(index,avg_B,width,label='Person B')\n",
    "\n",
    "plt.xlabel('Condition')\n",
    "plt.ylabel('Similarity to Dimension')\n",
    "plt.xticks(index+width,label0,FontSize=8)\n",
    "plt.legend()\n",
    "plt.title('Similarity to Appreciation of each Condition');"
   ]
  },
  {
   "cell_type": "markdown",
   "metadata": {},
   "source": [
    "Not suprisingly, the relative high appreciation score in TYB condition--first run is contributed by Person A, who received the manipulation, however it goes down to normal level after the first run and seems not influence the appreciation level of Person B in the next run.\n",
    "\n",
    "For NB condition, the relative low appreciation score in first run is also contributed by Person A who recieves instruction to negate; and very interesting, the 'appreciation' level of Person B goes down obviously and gradually after receiving negation from Person A. \n",
    "\n",
    "Then, we could also examine the similarity to appreciation dimension of the **last three runs**:"
   ]
  },
  {
   "cell_type": "code",
   "execution_count": 169,
   "metadata": {},
   "outputs": [],
   "source": [
    "#Then, for the last three turn\n",
    "lturn1_sim_TYB,lturn1_sim_NB,lturn1_sim_A_TYB,lturn1_sim_A_NB,lturn1_sim_B_TYB,lturn1_sim_B_NB=[],[],[],[],[],[]\n",
    "lturn2_sim_TYB,lturn2_sim_NB,lturn2_sim_A_TYB,lturn2_sim_A_NB,lturn2_sim_B_TYB,lturn2_sim_B_NB=[],[],[],[],[],[]\n",
    "lturn3_sim_TYB,lturn3_sim_NB,lturn3_sim_A_TYB,lturn3_sim_A_NB,lturn3_sim_B_TYB,lturn3_sim_B_NB=[],[],[],[],[],[]\n",
    "par_list=range(46)\n",
    "par_list=[x for x in par_list if x not in [13,14,15,21]]\n",
    "#long_pair=[5,8,9,13,14,15,18,19,21,23,26,32,39,43,45]\n",
    "#par_list=[x for x in par_list if x not in long_pair]\n",
    "for i in par_list:\n",
    "    pair_id=df_con2['pair_id'][i]\n",
    "    condition=df_con2['condition'][i]\n",
    "    round_A=df_con2['round_A'][i]\n",
    "    round_B=df_con2['round_B'][i]\n",
    "    lturn1_A=round_A[-1]\n",
    "    lturn1_B=round_B[-1]\n",
    "    lturn2_A=round_A[-2]\n",
    "    lturn2_B=round_B[-2]\n",
    "    if len(round_A)>=3 and len(round_B)>=3:\n",
    "        lturn3_A=round_A[-3]\n",
    "        lturn3_B=round_B[-3]\n",
    "    else:\n",
    "        lturn3_A=0\n",
    "        lturn3_B=0\n",
    "        \n",
    "    #last turn1\n",
    "    A1=df_AB_turn[(df_AB_turn['index']==i) & (df_AB_turn['round']==lturn1_A) & (df_AB_turn['agent']=='A')]['doc_app']\n",
    "    B1=df_AB_turn[(df_AB_turn['index']==i) & (df_AB_turn['round']==lturn1_B) & (df_AB_turn['agent']=='B')]['doc_app'] \n",
    "    a1=[v for i,v in A1.items()]\n",
    "    b1=[v for i,v in B1.items()] \n",
    "    lturn_sim1=(a1[0]+b1[0])/2\n",
    "    if condition=='TYB':\n",
    "        lturn1_sim_TYB.append(lturn_sim1)\n",
    "        lturn1_sim_A_TYB.append(a1[0])\n",
    "        lturn1_sim_B_TYB.append(b1[0])  \n",
    "    elif condition=='NB':\n",
    "        lturn1_sim_NB.append(lturn_sim1)\n",
    "        lturn1_sim_A_NB.append(a1[0])\n",
    "        lturn1_sim_B_NB.append(b1[0]) \n",
    "\n",
    "    #last turn2\n",
    "    A1=df_AB_turn[(df_AB_turn['index']==i) & (df_AB_turn['round']==lturn2_A) & (df_AB_turn['agent']=='A')]['doc_app']\n",
    "    B1=df_AB_turn[(df_AB_turn['index']==i) & (df_AB_turn['round']==lturn2_B) & (df_AB_turn['agent']=='B')]['doc_app'] \n",
    "    a1=[v for i,v in A1.items()]\n",
    "    b1=[v for i,v in B1.items()] \n",
    "    lturn_sim1=(a1[0]+b1[0])/2\n",
    "    if condition=='TYB':\n",
    "        lturn2_sim_TYB.append(lturn_sim1)\n",
    "        lturn2_sim_A_TYB.append(a1[0])\n",
    "        lturn2_sim_B_TYB.append(b1[0])  \n",
    "    elif condition=='NB':\n",
    "        lturn2_sim_NB.append(lturn_sim1)\n",
    "        lturn2_sim_A_NB.append(a1[0])\n",
    "        lturn2_sim_B_NB.append(b1[0])\n",
    "        \n",
    "    #last turn3\n",
    "    if lturn3_A!=0 and lturn3_B!=0:\n",
    "        A1=df_AB_turn[(df_AB_turn['index']==i) & (df_AB_turn['round']==lturn3_A) & (df_AB_turn['agent']=='A')]['doc_app']\n",
    "        B1=df_AB_turn[(df_AB_turn['index']==i) & (df_AB_turn['round']==lturn3_B) & (df_AB_turn['agent']=='B')]['doc_app'] \n",
    "        a1=[v for i,v in A1.items()]\n",
    "        b1=[v for i,v in B1.items()] \n",
    "        lturn_sim1=(a1[0]+b1[0])/2\n",
    "        if condition=='TYB':\n",
    "            lturn3_sim_TYB.append(lturn_sim1)\n",
    "            lturn3_sim_A_TYB.append(a1[0])\n",
    "            lturn3_sim_B_TYB.append(b1[0])  \n",
    "        elif condition=='NB':\n",
    "            lturn3_sim_NB.append(lturn_sim1)\n",
    "            lturn3_sim_A_NB.append(a1[0])\n",
    "            lturn3_sim_B_NB.append(b1[0])       "
   ]
  },
  {
   "cell_type": "code",
   "execution_count": 146,
   "metadata": {},
   "outputs": [],
   "source": [
    "def list_mean(list0):\n",
    "    nplist=np.array(list0)\n",
    "    return np.mean(nplist)"
   ]
  },
  {
   "cell_type": "code",
   "execution_count": 170,
   "metadata": {},
   "outputs": [],
   "source": [
    "avg_lturn1_sim_TYB=list_mean(lturn1_sim_TYB)\n",
    "avg_lturn1_sim_NB=list_mean(lturn1_sim_NB)\n",
    "avg_lturn1_sim_A_TYB=list_mean(lturn1_sim_A_TYB)\n",
    "avg_lturn1_sim_A_NB=list_mean(lturn1_sim_A_NB)\n",
    "avg_lturn1_sim_B_TYB=list_mean(lturn1_sim_B_TYB)\n",
    "avg_lturn1_sim_B_NB=list_mean(lturn1_sim_B_NB)\n",
    "\n",
    "avg_lturn2_sim_TYB=list_mean(lturn2_sim_TYB)\n",
    "avg_lturn2_sim_NB=list_mean(lturn2_sim_NB)\n",
    "avg_lturn2_sim_A_TYB=list_mean(lturn2_sim_A_TYB)\n",
    "avg_lturn2_sim_A_NB=list_mean(lturn2_sim_A_NB)\n",
    "avg_lturn2_sim_B_TYB=list_mean(lturn2_sim_B_TYB)\n",
    "avg_lturn2_sim_B_NB=list_mean(lturn2_sim_B_NB)\n",
    "\n",
    "avg_lturn3_sim_TYB=list_mean(lturn3_sim_TYB)\n",
    "avg_lturn3_sim_NB=list_mean(lturn3_sim_NB)\n",
    "avg_lturn3_sim_A_TYB=list_mean(lturn3_sim_A_TYB)\n",
    "avg_lturn3_sim_A_NB=list_mean(lturn3_sim_A_NB)\n",
    "avg_lturn3_sim_B_TYB=list_mean(lturn3_sim_B_TYB)\n",
    "avg_lturn3_sim_B_NB=list_mean(lturn3_sim_B_NB)"
   ]
  },
  {
   "cell_type": "code",
   "execution_count": 173,
   "metadata": {
    "scrolled": true
   },
   "outputs": [
    {
     "data": {
      "image/png": "[encoded data removed]",
      "text/plain": [
       "<Figure size 432x288 with 1 Axes>"
      ]
     },
     "metadata": {
      "needs_background": "light"
     },
     "output_type": "display_data"
    }
   ],
   "source": [
    "label0=['TYB-Appreci','NB-Appreci']\n",
    "index=np.arange(len(label0))\n",
    "width=0.3\n",
    "\n",
    "avg_1=[avg_lturn1_sim_TYB,avg_lturn1_sim_NB]\n",
    "avg_2=[avg_lturn2_sim_TYB,avg_lturn2_sim_NB]\n",
    "avg_3=[avg_lturn3_sim_TYB,avg_lturn3_sim_NB]\n",
    "\n",
    "plt.bar(index,avg_3,width,label='Last Turn 3') \n",
    "plt.bar(index+width,avg_2,width,label='Last Turn 2')\n",
    "plt.bar(index+width+width,avg_1,width,label='Last Turn 1')\n",
    "\n",
    "plt.xlabel('Condition')\n",
    "plt.ylabel('Similarity to Dimension')\n",
    "plt.xticks(index+width,label0,FontSize=8)\n",
    "plt.legend()\n",
    "plt.title('Similarity to Appreciation of each Condition');"
   ]
  },
  {
   "cell_type": "markdown",
   "metadata": {},
   "source": [
    "As shown in the above visualizaiton, in TYB condition-the last turn, the appreciation score boosts-*might actually be a compensation strategy of Person A to finally follow the instruction to express appreciaiton?*; while for NB condition, the appreciation level drops at the last second run and recovers a little bit at the final run."
   ]
  },
  {
   "cell_type": "markdown",
   "metadata": {},
   "source": [
    "Then we did visualization taking each agent **(PersonA/B)** into account:"
   ]
  },
  {
   "cell_type": "code",
   "execution_count": 172,
   "metadata": {},
   "outputs": [
    {
     "data": {
      "image/png": "[encoded data removed]",
      "text/plain": [
       "<Figure size 432x288 with 1 Axes>"
      ]
     },
     "metadata": {
      "needs_background": "light"
     },
     "output_type": "display_data"
    }
   ],
   "source": [
    "label0=['TYB-LastTurn3','TYB-L2','TYB-L1','NB-L3','NB-L2','NB-L1']\n",
    "index=np.arange(len(label0))\n",
    "width=0.3\n",
    "\n",
    "avg_A=[avg_lturn3_sim_A_TYB,avg_lturn2_sim_A_TYB,avg_lturn1_sim_A_TYB,avg_lturn3_sim_A_NB,avg_lturn2_sim_A_NB,avg_lturn1_sim_A_NB]\n",
    "avg_B=[avg_lturn3_sim_B_TYB,avg_lturn2_sim_B_TYB,avg_lturn1_sim_B_TYB,avg_lturn3_sim_B_NB,avg_lturn2_sim_B_NB,avg_lturn1_sim_B_NB]\n",
    "\n",
    "plt.bar(index+width,avg_A,width,label='Person A') \n",
    "plt.bar(index,avg_B,width,label='Person B')\n",
    "\n",
    "plt.xlabel('Condition')\n",
    "plt.ylabel('Similarity to Dimension')\n",
    "plt.xticks(index+width,label0,FontSize=8)\n",
    "plt.legend()\n",
    "plt.title('Similarity to Appreciation of each Condition');"
   ]
  },
  {
   "cell_type": "markdown",
   "metadata": {},
   "source": [
    "With the visualizaiton at agent level, we could more clearly see that the boost of appreciation of at the last run in TYB condition actually comes from Person A who receives the instruction, while the level of appreciaiton of Person B almost in TYB condition remains the same level. The final boost in TYB might actually is a result of reminding and finally executing the 'appreciaiton scripts' instructed at the begining. "
   ]
  },
  {
   "cell_type": "markdown",
   "metadata": {},
   "source": [
    "**For Affirmation:**\n",
    "\n",
    "First of all, examine the similarity of conversation to Affirmation of the first three turns:"
   ]
  },
  {
   "cell_type": "code",
   "execution_count": 141,
   "metadata": {},
   "outputs": [],
   "source": [
    "#calculate similarity to Aggreement of each condition, for the first three turns\n",
    "a=df_AB_turn[(df_AB_turn['condition']=='TYB') & (df_AB_turn['round']==1)]\n",
    "sim_TYB=list(a['doc_aff'])\n",
    "avg_aff_sim_1_TYB=sum(sim_TYB)/len(sim_TYB)\n",
    "\n",
    "a=df_AB_turn[(df_AB_turn['condition']=='TYB') & (df_AB_turn['round']==2)]\n",
    "sim_TYB=list(a['doc_aff'])\n",
    "avg_aff_sim_2_TYB=sum(sim_TYB)/len(sim_TYB)\n",
    "\n",
    "a=df_AB_turn[(df_AB_turn['condition']=='TYB') & (df_AB_turn['round']==3)]\n",
    "sim_TYB=list(a['doc_aff'])\n",
    "avg_aff_sim_3_TYB=sum(sim_TYB)/len(sim_TYB)\n",
    "\n",
    "a=df_AB_turn[(df_AB_turn['condition']=='NB') & (df_AB_turn['round']==1)]\n",
    "sim_NB=list(a['doc_aff'])\n",
    "avg_aff_sim_1_NB=sum(sim_NB)/len(sim_NB)\n",
    "\n",
    "a=df_AB_turn[(df_AB_turn['condition']=='NB') & (df_AB_turn['round']==2)]\n",
    "sim_NB=list(a['doc_aff'])\n",
    "avg_aff_sim_2_NB=sum(sim_NB)/len(sim_NB)\n",
    "\n",
    "a=df_AB_turn[(df_AB_turn['condition']=='NB') & (df_AB_turn['round']==3)]\n",
    "sim_NB=list(a['doc_aff'])\n",
    "avg_aff_sim_3_NB=sum(sim_NB)/len(sim_NB)"
   ]
  },
  {
   "cell_type": "code",
   "execution_count": 142,
   "metadata": {
    "scrolled": true
   },
   "outputs": [
    {
     "name": "stdout",
     "output_type": "stream",
     "text": [
      "Avg similarity to Affirmation Dimension for 1 in TYB 0.2996\n",
      "Avg similarity to Affirmation Dimension for 2 in TYB 0.297\n",
      "Avg similarity to Affirmation Dimension for 3 in TYB 0.2972\n",
      "Avg similarity to Affirmation Dimension for 1 in NB 0.2725\n",
      "Avg similarity to Affirmation Dimension for 2 in NB 0.2689\n",
      "Avg similarity to Affirmation Dimension for 3 in NB 0.2714\n"
     ]
    }
   ],
   "source": [
    "print('Avg similarity to Affirmation Dimension for 1 in TYB',round(avg_aff_sim_1_TYB,4))\n",
    "print('Avg similarity to Affirmation Dimension for 2 in TYB',round(avg_aff_sim_2_TYB,4))\n",
    "print('Avg similarity to Affirmation Dimension for 3 in TYB',round(avg_aff_sim_3_TYB,4))\n",
    "print('Avg similarity to Affirmation Dimension for 1 in NB',round(avg_aff_sim_1_NB,4))\n",
    "print('Avg similarity to Affirmation Dimension for 2 in NB',round(avg_aff_sim_2_NB,4))\n",
    "print('Avg similarity to Affirmation Dimension for 3 in NB',round(avg_aff_sim_3_NB,4))"
   ]
  },
  {
   "cell_type": "markdown",
   "metadata": {},
   "source": [
    "Visualization:"
   ]
  },
  {
   "cell_type": "code",
   "execution_count": 144,
   "metadata": {
    "scrolled": true
   },
   "outputs": [
    {
     "data": {
      "image/png": "[encoded data removed]",
      "text/plain": [
       "<Figure size 432x288 with 1 Axes>"
      ]
     },
     "metadata": {
      "needs_background": "light"
     },
     "output_type": "display_data"
    }
   ],
   "source": [
    "label0=['TYB-Affirmation','NB-Affirmation']\n",
    "index=np.arange(len(label0))\n",
    "width=0.3\n",
    "\n",
    "avg_1=[avg_aff_sim_1_TYB,avg_aff_sim_1_NB]\n",
    "avg_2=[avg_aff_sim_2_TYB,avg_aff_sim_2_NB]\n",
    "avg_3=[avg_aff_sim_3_TYB,avg_aff_sim_3_NB]\n",
    "\n",
    "plt.bar(index,avg_1,width,label='Turn 1') \n",
    "plt.bar(index+width,avg_2,width,label='Turn 2')\n",
    "plt.bar(index+width+width,avg_3,width,label='Turn 3')\n",
    "\n",
    "plt.xlabel('Condition')\n",
    "plt.ylabel('Similarity to Dimension')\n",
    "plt.xticks(index+width,label0,FontSize=8)\n",
    "plt.legend()\n",
    "plt.title('Similarity to Affirmation of each Condition');"
   ]
  },
  {
   "cell_type": "markdown",
   "metadata": {},
   "source": [
    "According to our expectation, in TYB condition, the level of 'affirmation' is generally high compared with NB condition; moreover, the level of 'affirmation' almost keeps the same in the first three run, while in NB condition, it drops gradually.\n",
    "\n",
    "Then, we take a deeper look at the level of 'affirmation' of each agent (PersonA/B):"
   ]
  },
  {
   "cell_type": "code",
   "execution_count": 216,
   "metadata": {},
   "outputs": [],
   "source": [
    "#Then, we could take a deeper look at the role of each subj-Person A and B\n",
    "a=df_AB_turn[(df_AB_turn['condition']=='TYB') & (df_AB_turn['round']==1) & (df_AB_turn['agent']=='A')]\n",
    "sim_TYB=list(a['doc_aff'])\n",
    "avg_app_sim_A1_TYB=sum(sim_TYB)/len(sim_TYB)\n",
    "\n",
    "a=df_AB_turn[(df_AB_turn['condition']=='TYB') & (df_AB_turn['round']==1) & (df_AB_turn['agent']=='B')]\n",
    "sim_TYB=list(a['doc_aff'])\n",
    "avg_app_sim_B1_TYB=sum(sim_TYB)/len(sim_TYB)\n",
    "\n",
    "a=df_AB_turn[(df_AB_turn['condition']=='TYB') & (df_AB_turn['round']==2) & (df_AB_turn['agent']=='A')]\n",
    "sim_TYB=list(a['doc_aff'])\n",
    "avg_app_sim_A2_TYB=sum(sim_TYB)/len(sim_TYB)\n",
    "\n",
    "a=df_AB_turn[(df_AB_turn['condition']=='TYB') & (df_AB_turn['round']==2) & (df_AB_turn['agent']=='B')]\n",
    "sim_TYB=list(a['doc_aff'])\n",
    "avg_app_sim_B2_TYB=sum(sim_TYB)/len(sim_TYB)\n",
    "\n",
    "a=df_AB_turn[(df_AB_turn['condition']=='TYB') & (df_AB_turn['round']==3) & (df_AB_turn['agent']=='A')]\n",
    "sim_TYB=list(a['doc_aff'])\n",
    "avg_app_sim_A3_TYB=sum(sim_TYB)/len(sim_TYB)\n",
    "\n",
    "a=df_AB_turn[(df_AB_turn['condition']=='TYB') & (df_AB_turn['round']==3) & (df_AB_turn['agent']=='B')]\n",
    "sim_TYB=list(a['doc_aff'])\n",
    "avg_app_sim_B3_TYB=sum(sim_TYB)/len(sim_TYB)\n",
    "\n",
    "a=df_AB_turn[(df_AB_turn['condition']=='TYB') & (df_AB_turn['round']==4) & (df_AB_turn['agent']=='A')]\n",
    "sim_TYB=list(a['doc_aff'])\n",
    "avg_app_sim_A4_TYB=sum(sim_TYB)/len(sim_TYB)\n",
    "\n",
    "a=df_AB_turn[(df_AB_turn['condition']=='TYB') & (df_AB_turn['round']==4) & (df_AB_turn['agent']=='B')]\n",
    "sim_TYB=list(a['doc_aff'])\n",
    "avg_app_sim_B4_TYB=sum(sim_TYB)/len(sim_TYB)\n",
    "\n",
    "a=df_AB_turn[(df_AB_turn['condition']=='NB') & (df_AB_turn['round']==1)& (df_AB_turn['agent']=='A')]\n",
    "sim_NB=list(a['doc_aff'])\n",
    "avg_app_sim_A1_NB=sum(sim_NB)/len(sim_NB)\n",
    "\n",
    "a=df_AB_turn[(df_AB_turn['condition']=='NB') & (df_AB_turn['round']==1)& (df_AB_turn['agent']=='B')]\n",
    "sim_NB=list(a['doc_aff'])\n",
    "avg_app_sim_B1_NB=sum(sim_NB)/len(sim_NB)\n",
    "\n",
    "a=df_AB_turn[(df_AB_turn['condition']=='NB') & (df_AB_turn['round']==2)& (df_AB_turn['agent']=='A')]\n",
    "sim_NB=list(a['doc_aff'])\n",
    "avg_app_sim_A2_NB=sum(sim_NB)/len(sim_NB)\n",
    "\n",
    "a=df_AB_turn[(df_AB_turn['condition']=='NB') & (df_AB_turn['round']==2)& (df_AB_turn['agent']=='B')]\n",
    "sim_NB=list(a['doc_app'])\n",
    "avg_app_sim_B2_NB=sum(sim_NB)/len(sim_NB)\n",
    "\n",
    "a=df_AB_turn[(df_AB_turn['condition']=='NB') & (df_AB_turn['round']==3)& (df_AB_turn['agent']=='A')]\n",
    "sim_NB=list(a['doc_aff'])\n",
    "avg_app_sim_A3_NB=sum(sim_NB)/len(sim_NB)\n",
    "\n",
    "a=df_AB_turn[(df_AB_turn['condition']=='NB') & (df_AB_turn['round']==3)& (df_AB_turn['agent']=='B')]\n",
    "sim_NB=list(a['doc_aff'])\n",
    "avg_app_sim_B3_NB=sum(sim_NB)/len(sim_NB)\n",
    "\n",
    "a=df_AB_turn[(df_AB_turn['condition']=='NB') & (df_AB_turn['round']==4)& (df_AB_turn['agent']=='A')]\n",
    "sim_NB=list(a['doc_aff'])\n",
    "avg_app_sim_A4_NB=sum(sim_NB)/len(sim_NB)\n",
    "\n",
    "a=df_AB_turn[(df_AB_turn['condition']=='NB') & (df_AB_turn['round']==4)& (df_AB_turn['agent']=='B')]\n",
    "sim_NB=list(a['doc_aff'])\n",
    "avg_app_sim_B4_NB=sum(sim_NB)/len(sim_NB)"
   ]
  },
  {
   "cell_type": "code",
   "execution_count": 217,
   "metadata": {},
   "outputs": [
    {
     "data": {
      "image/png": "[encoded data removed]",
      "text/plain": [
       "<Figure size 432x288 with 1 Axes>"
      ]
     },
     "metadata": {
      "needs_background": "light"
     },
     "output_type": "display_data"
    }
   ],
   "source": [
    "label0=['TYB-Turn1','TYB-2','TYB-3','TYB-4','NB-Turn1','NB-2','NB-3','NB-4']\n",
    "index=np.arange(len(label0))\n",
    "width=0.3\n",
    "\n",
    "avg_A=[avg_app_sim_A1_TYB,avg_app_sim_A2_TYB,avg_app_sim_A3_TYB,avg_app_sim_A4_TYB,avg_app_sim_A1_NB,avg_app_sim_A2_NB,avg_app_sim_A3_NB,avg_app_sim_A4_NB]\n",
    "avg_B=[avg_app_sim_B1_TYB,avg_app_sim_B2_TYB,avg_app_sim_B3_TYB,avg_app_sim_B4_TYB,avg_app_sim_B1_NB,avg_app_sim_B2_NB,avg_app_sim_B3_NB,avg_app_sim_B4_NB]\n",
    "\n",
    "plt.bar(index+width,avg_A,width,label='Person A') \n",
    "plt.bar(index,avg_B,width,label='Person B')\n",
    "\n",
    "plt.xlabel('Condition')\n",
    "plt.ylabel('Similarity to Dimension')\n",
    "plt.xticks(index+width,label0,FontSize=8)\n",
    "plt.legend()\n",
    "plt.title('Similarity to Affirmation of each Condition');"
   ]
  },
  {
   "cell_type": "markdown",
   "metadata": {},
   "source": [
    "Examing the level of 'affirmation' of each agent, we could see that in TYB condiiton, there seems a positive feedback loop that the slightly higher level of 'affirmation' of Person A in first run increases the level of 'affirmation' of Person B in the second turn, and finally reach a relative stable high level at the 3rd and 4th run. \n",
    "\n",
    "However, in NB condition, there is an obvious negative feedback in the first two turns (*the negation of Person A as instructed in the first turn significantly decreases the level of affirmation of Person B in the second turn, which is very interesting*), and then gradualy returns to higher affirmation level mainly driven by Person A who might want to compensate the negative influence at the begining of the conversation? "
   ]
  },
  {
   "cell_type": "markdown",
   "metadata": {},
   "source": [
    "**For Aggreement:**\n",
    "\n",
    "Finally, examine how the level of 'aggrement' changes across time in each condition:"
   ]
  },
  {
   "cell_type": "code",
   "execution_count": 221,
   "metadata": {},
   "outputs": [],
   "source": [
    "#calculate similarity to Aggreement of each condition, for the first three turns\n",
    "a=df_AB_turn[(df_AB_turn['condition']=='TYB') & (df_AB_turn['round']==1)]\n",
    "sim_TYB=list(a['doc_agg'])\n",
    "avg_agg_sim_1_TYB=sum(sim_TYB)/len(sim_TYB)\n",
    "\n",
    "a=df_AB_turn[(df_AB_turn['condition']=='TYB') & (df_AB_turn['round']==2)]\n",
    "sim_TYB=list(a['doc_agg'])\n",
    "avg_agg_sim_2_TYB=sum(sim_TYB)/len(sim_TYB)\n",
    "\n",
    "a=df_AB_turn[(df_AB_turn['condition']=='TYB') & (df_AB_turn['round']==3)]\n",
    "sim_TYB=list(a['doc_agg'])\n",
    "avg_agg_sim_3_TYB=sum(sim_TYB)/len(sim_TYB)\n",
    "\n",
    "a=df_AB_turn[(df_AB_turn['condition']=='TYB') & (df_AB_turn['round']==4)]\n",
    "sim_TYB=list(a['doc_agg'])\n",
    "avg_agg_sim_4_TYB=sum(sim_TYB)/len(sim_TYB)\n",
    "\n",
    "a=df_AB_turn[(df_AB_turn['condition']=='NB') & (df_AB_turn['round']==1)]\n",
    "sim_NB=list(a['doc_agg'])\n",
    "avg_agg_sim_1_NB=sum(sim_NB)/len(sim_NB)\n",
    "\n",
    "a=df_AB_turn[(df_AB_turn['condition']=='NB') & (df_AB_turn['round']==2)]\n",
    "sim_NB=list(a['doc_agg'])\n",
    "avg_agg_sim_2_NB=sum(sim_NB)/len(sim_NB)\n",
    "\n",
    "a=df_AB_turn[(df_AB_turn['condition']=='NB') & (df_AB_turn['round']==3)]\n",
    "sim_NB=list(a['doc_agg'])\n",
    "avg_agg_sim_3_NB=sum(sim_NB)/len(sim_NB)\n",
    "\n",
    "a=df_AB_turn[(df_AB_turn['condition']=='NB') & (df_AB_turn['round']==4)]\n",
    "sim_NB=list(a['doc_agg'])\n",
    "avg_agg_sim_4_NB=sum(sim_NB)/len(sim_NB)"
   ]
  },
  {
   "cell_type": "markdown",
   "metadata": {},
   "source": [
    "Visualization:"
   ]
  },
  {
   "cell_type": "code",
   "execution_count": 223,
   "metadata": {},
   "outputs": [
    {
     "data": {
      "image/png": "[encoded data removed]",
      "text/plain": [
       "<Figure size 432x288 with 1 Axes>"
      ]
     },
     "metadata": {
      "needs_background": "light"
     },
     "output_type": "display_data"
    }
   ],
   "source": [
    "label0=['TYB-Aggre','NB-Aggre']\n",
    "index=np.arange(len(label0))\n",
    "width=0.2\n",
    "\n",
    "avg_1=[avg_agg_sim_1_TYB,avg_agg_sim_1_NB]\n",
    "avg_2=[avg_agg_sim_2_TYB,avg_agg_sim_2_NB]\n",
    "avg_3=[avg_agg_sim_3_TYB,avg_agg_sim_3_NB]\n",
    "avg_4=[avg_agg_sim_4_TYB,avg_agg_sim_4_NB]\n",
    "\n",
    "plt.bar(index,avg_1,width,label='Turn 1') \n",
    "plt.bar(index+width,avg_2,width,label='Turn 2')\n",
    "plt.bar(index+width+width,avg_3,width,label='Turn 3')\n",
    "plt.bar(index+width+width+width,avg_4,width,label='Turn 4')\n",
    "\n",
    "plt.xlabel('Condition')\n",
    "plt.ylabel('Similarity to Dimension')\n",
    "plt.xticks(index+width,label0,FontSize=8)\n",
    "plt.legend()\n",
    "plt.title('Similarity to Aggreement of each Condition');"
   ]
  },
  {
   "cell_type": "markdown",
   "metadata": {},
   "source": [
    "As we could see above, at the beginning of the conversation-the first two turn, the level of 'aggreement' is relativly high in NB condition compared with TYB condition; however, as turns going, **the level of 'agreement' drops greatly at the 3rd and 4th turns in NB condition**, while in TYB condition, 'agreement' level remains at a relative higher level.\n",
    "\n",
    "Then take a deeper look at the contribution of each agent in the conversation across time:"
   ]
  },
  {
   "cell_type": "code",
   "execution_count": 224,
   "metadata": {},
   "outputs": [],
   "source": [
    "#Then, we could take a deeper look at the role of each subj-Person A and B\n",
    "a=df_AB_turn[(df_AB_turn['condition']=='TYB') & (df_AB_turn['round']==1) & (df_AB_turn['agent']=='A')]\n",
    "sim_TYB=list(a['doc_agg'])\n",
    "avg_agg_sim_A1_TYB=sum(sim_TYB)/len(sim_TYB)\n",
    "\n",
    "a=df_AB_turn[(df_AB_turn['condition']=='TYB') & (df_AB_turn['round']==1) & (df_AB_turn['agent']=='B')]\n",
    "sim_TYB=list(a['doc_agg'])\n",
    "avg_agg_sim_B1_TYB=sum(sim_TYB)/len(sim_TYB)\n",
    "\n",
    "a=df_AB_turn[(df_AB_turn['condition']=='TYB') & (df_AB_turn['round']==2) & (df_AB_turn['agent']=='A')]\n",
    "sim_TYB=list(a['doc_agg'])\n",
    "avg_agg_sim_A2_TYB=sum(sim_TYB)/len(sim_TYB)\n",
    "\n",
    "a=df_AB_turn[(df_AB_turn['condition']=='TYB') & (df_AB_turn['round']==2) & (df_AB_turn['agent']=='B')]\n",
    "sim_TYB=list(a['doc_agg'])\n",
    "avg_agg_sim_B2_TYB=sum(sim_TYB)/len(sim_TYB)\n",
    "\n",
    "a=df_AB_turn[(df_AB_turn['condition']=='TYB') & (df_AB_turn['round']==3) & (df_AB_turn['agent']=='A')]\n",
    "sim_TYB=list(a['doc_agg'])\n",
    "avg_agg_sim_A3_TYB=sum(sim_TYB)/len(sim_TYB)\n",
    "\n",
    "a=df_AB_turn[(df_AB_turn['condition']=='TYB') & (df_AB_turn['round']==3) & (df_AB_turn['agent']=='B')]\n",
    "sim_TYB=list(a['doc_agg'])\n",
    "avg_agg_sim_B3_TYB=sum(sim_TYB)/len(sim_TYB)\n",
    "\n",
    "a=df_AB_turn[(df_AB_turn['condition']=='TYB') & (df_AB_turn['round']==4) & (df_AB_turn['agent']=='A')]\n",
    "sim_TYB=list(a['doc_agg'])\n",
    "avg_agg_sim_A4_TYB=sum(sim_TYB)/len(sim_TYB)\n",
    "\n",
    "a=df_AB_turn[(df_AB_turn['condition']=='TYB') & (df_AB_turn['round']==4) & (df_AB_turn['agent']=='B')]\n",
    "sim_TYB=list(a['doc_agg'])\n",
    "avg_agg_sim_B4_TYB=sum(sim_TYB)/len(sim_TYB)\n",
    "\n",
    "a=df_AB_turn[(df_AB_turn['condition']=='NB') & (df_AB_turn['round']==1)& (df_AB_turn['agent']=='A')]\n",
    "sim_NB=list(a['doc_agg'])\n",
    "avg_agg_sim_A1_NB=sum(sim_NB)/len(sim_NB)\n",
    "\n",
    "a=df_AB_turn[(df_AB_turn['condition']=='NB') & (df_AB_turn['round']==1)& (df_AB_turn['agent']=='B')]\n",
    "sim_NB=list(a['doc_agg'])\n",
    "avg_agg_sim_B1_NB=sum(sim_NB)/len(sim_NB)\n",
    "\n",
    "a=df_AB_turn[(df_AB_turn['condition']=='NB') & (df_AB_turn['round']==2)& (df_AB_turn['agent']=='A')]\n",
    "sim_NB=list(a['doc_agg'])\n",
    "avg_agg_sim_A2_NB=sum(sim_NB)/len(sim_NB)\n",
    "\n",
    "a=df_AB_turn[(df_AB_turn['condition']=='NB') & (df_AB_turn['round']==2)& (df_AB_turn['agent']=='B')]\n",
    "sim_NB=list(a['doc_app'])\n",
    "avg_agg_sim_B2_NB=sum(sim_NB)/len(sim_NB)\n",
    "\n",
    "a=df_AB_turn[(df_AB_turn['condition']=='NB') & (df_AB_turn['round']==3)& (df_AB_turn['agent']=='A')]\n",
    "sim_NB=list(a['doc_agg'])\n",
    "avg_agg_sim_A3_NB=sum(sim_NB)/len(sim_NB)\n",
    "\n",
    "a=df_AB_turn[(df_AB_turn['condition']=='NB') & (df_AB_turn['round']==3)& (df_AB_turn['agent']=='B')]\n",
    "sim_NB=list(a['doc_agg'])\n",
    "avg_agg_sim_B3_NB=sum(sim_NB)/len(sim_NB)\n",
    "\n",
    "a=df_AB_turn[(df_AB_turn['condition']=='NB') & (df_AB_turn['round']==4)& (df_AB_turn['agent']=='A')]\n",
    "sim_NB=list(a['doc_agg'])\n",
    "avg_agg_sim_A4_NB=sum(sim_NB)/len(sim_NB)\n",
    "\n",
    "a=df_AB_turn[(df_AB_turn['condition']=='NB') & (df_AB_turn['round']==4)& (df_AB_turn['agent']=='B')]\n",
    "sim_NB=list(a['doc_agg'])\n",
    "avg_agg_sim_B4_NB=sum(sim_NB)/len(sim_NB)"
   ]
  },
  {
   "cell_type": "code",
   "execution_count": 225,
   "metadata": {},
   "outputs": [
    {
     "data": {
      "image/png": "[encoded data removed]",
      "text/plain": [
       "<Figure size 432x288 with 1 Axes>"
      ]
     },
     "metadata": {
      "needs_background": "light"
     },
     "output_type": "display_data"
    }
   ],
   "source": [
    "label0=['TYB-Turn1','TYB-2','TYB-3','TYB-4','NB-Turn1','NB-2','NB-3','NB-4']\n",
    "index=np.arange(len(label0))\n",
    "width=0.3\n",
    "\n",
    "avg_A=[avg_agg_sim_A1_TYB,avg_agg_sim_A2_TYB,avg_agg_sim_A3_TYB,avg_agg_sim_A4_TYB,avg_agg_sim_A1_NB,avg_agg_sim_A2_NB,avg_agg_sim_A3_NB,avg_agg_sim_A4_NB]\n",
    "avg_B=[avg_agg_sim_B1_TYB,avg_agg_sim_B2_TYB,avg_agg_sim_B3_TYB,avg_agg_sim_B4_TYB,avg_agg_sim_B1_NB,avg_agg_sim_B2_NB,avg_agg_sim_B3_NB,avg_agg_sim_B4_NB]\n",
    "\n",
    "plt.bar(index+width,avg_A,width,label='Person A') \n",
    "plt.bar(index,avg_B,width,label='Person B')\n",
    "\n",
    "plt.xlabel('Condition')\n",
    "plt.ylabel('Similarity to Dimension')\n",
    "plt.xticks(index+width,label0,FontSize=8)\n",
    "plt.legend()\n",
    "plt.title('Similarity to Aggreement of each Condition');"
   ]
  },
  {
   "cell_type": "markdown",
   "metadata": {},
   "source": [
    "From the agent level, very interesting, we could also see a **'dramatic drop'** of 'agreement' level of Person B in NB condition, after receiving 'negation' from Person A at the first run. Then while the level of agreement of Person B gradually goes up to a higher level, however, following the instruction, the level of aggreement of Person A still remains relatively low at the 3rd and 4th rounds and at the same time further influnces the aggreement level of Person B."
   ]
  },
  {
   "cell_type": "markdown",
   "metadata": {},
   "source": [
    "## <span style=\"color:red\">*Exercise 4b*</span>\n",
    "\n",
    "<span style=\"color:red\">**Do only 4a or 4b.** Construct cells immediately below this that align word embeddings over time or across domains/corpora. Interrogate the spaces that result and ask which words changed most and least over the entire period or between contexts/corpora. What does this reveal about the social game underlying your space? "
   ]
  },
  {
   "cell_type": "markdown",
   "metadata": {},
   "source": [
    "# Linguistic Change or Difference\n",
    "\n",
    "Below is code that aligns the dimensions of multiple embeddings arrayed over time or some other dimension and allow identification of semantic chanage as the word vectors change their loadings for focal words. This code comes from the approach piloted at Stanford by William Hamilton, Daniel Jurafsky and Jure Lescovec [here](https://arxiv.org/pdf/1605.09096.pdf). \n",
    "\n",
    "Because some erros in loading the COHA corpora, for this part of analysis, I try to compare the difference of **three embeddings built on our corpora of different level (pair/subj/turn)**; while they all come from the same transcription, each dataframe has different number of documents and different lengths of words of each document, and we want to see whether the word embedding models built on these different levels of data structure would be different or not."
   ]
  },
  {
   "cell_type": "markdown",
   "metadata": {},
   "source": [
    "Import and define necessary functions to compare embeddings:"
   ]
  },
  {
   "cell_type": "code",
   "execution_count": 231,
   "metadata": {},
   "outputs": [],
   "source": [
    "import copy\n",
    "def calc_syn0norm(model):\n",
    "    \"\"\"since syn0norm is now depricated\"\"\"\n",
    "    return (model.wv.syn0 / np.sqrt((model.wv.syn0 ** 2).sum(-1))[..., np.newaxis]).astype(np.float32)\n",
    "\n",
    "def smart_procrustes_align_gensim(base_embed, other_embed, words=None):\n",
    "    \"\"\"Procrustes align two gensim word2vec models (to allow for comparison between same word across models).\n",
    "    Code ported from HistWords <https://github.com/williamleif/histwords> by William Hamilton <wleif@stanford.edu>.\n",
    "    (With help from William. Thank you!)\n",
    "    First, intersect the vocabularies (see `intersection_align_gensim` documentation).\n",
    "    Then do the alignment on the other_embed model.\n",
    "    Replace the other_embed model's syn0 and syn0norm numpy matrices with the aligned version.\n",
    "    Return other_embed.\n",
    "    If `words` is set, intersect the two models' vocabulary with the vocabulary in words (see `intersection_align_gensim` documentation).\n",
    "    \"\"\"\n",
    "    base_embed = copy.copy(base_embed)\n",
    "    other_embed = copy.copy(other_embed)\n",
    "    # make sure vocabulary and indices are aligned\n",
    "    in_base_embed, in_other_embed = intersection_align_gensim(base_embed, other_embed, words=words)\n",
    "\n",
    "    # get the embedding matrices\n",
    "    base_vecs = calc_syn0norm(in_base_embed)\n",
    "    other_vecs = calc_syn0norm(in_other_embed)\n",
    "\n",
    "    # just a matrix dot product with numpy\n",
    "    m = other_vecs.T.dot(base_vecs) \n",
    "    # SVD method from numpy\n",
    "    u, _, v = np.linalg.svd(m)\n",
    "    # another matrix operation\n",
    "    ortho = u.dot(v) \n",
    "    # Replace original array with modified one\n",
    "    # i.e. multiplying the embedding matrix (syn0norm)by \"ortho\"\n",
    "    other_embed.wv.syn0norm = other_embed.wv.syn0 = (calc_syn0norm(other_embed)).dot(ortho)\n",
    "    return other_embed\n",
    "    \n",
    "def intersection_align_gensim(m1,m2, words=None):\n",
    "    \"\"\"\n",
    "    Intersect two gensim word2vec models, m1 and m2.\n",
    "    Only the shared vocabulary between them is kept.\n",
    "    If 'words' is set (as list or set), then the vocabulary is intersected with this list as well.\n",
    "    Indices are re-organized from 0..N in order of descending frequency (=sum of counts from both m1 and m2).\n",
    "    These indices correspond to the new syn0 and syn0norm objects in both gensim models:\n",
    "        -- so that Row 0 of m1.syn0 will be for the same word as Row 0 of m2.syn0\n",
    "        -- you can find the index of any word on the .index2word list: model.index2word.index(word) => 2\n",
    "    The .vocab dictionary is also updated for each model, preserving the count but updating the index.\n",
    "    \"\"\"\n",
    "\n",
    "    # Get the vocab for each model\n",
    "    vocab_m1 = set(m1.wv.vocab.keys())\n",
    "    vocab_m2 = set(m2.wv.vocab.keys())\n",
    "\n",
    "    # Find the common vocabulary\n",
    "    common_vocab = vocab_m1&vocab_m2\n",
    "    if words: common_vocab&=set(words)\n",
    "\n",
    "    # If no alignment necessary because vocab is identical...\n",
    "    if not vocab_m1-common_vocab and not vocab_m2-common_vocab:\n",
    "        return (m1,m2)\n",
    "\n",
    "    # Otherwise sort by frequency (summed for both)\n",
    "    common_vocab = list(common_vocab)\n",
    "    common_vocab.sort(key=lambda w: m1.wv.vocab[w].count + m2.wv.vocab[w].count,reverse=True)\n",
    "\n",
    "    # Then for each model...\n",
    "    for m in [m1,m2]:\n",
    "        # Replace old syn0norm array with new one (with common vocab)\n",
    "        indices = [m.wv.vocab[w].index for w in common_vocab]\n",
    "        old_arr = calc_syn0norm(m)\n",
    "        new_arr = np.array([old_arr[index] for index in indices])\n",
    "        m.wv.syn0norm = m.wv.syn0 = new_arr\n",
    "\n",
    "        # Replace old vocab dictionary with new one (with common vocab)\n",
    "        # and old index2word with new one\n",
    "        m.index2word = common_vocab\n",
    "        old_vocab = m.wv.vocab\n",
    "        new_vocab = {}\n",
    "        for new_index,word in enumerate(common_vocab):\n",
    "            old_vocab_obj=old_vocab[word]\n",
    "            new_vocab[word] = gensim.models.word2vec.Vocab(index=new_index, count=old_vocab_obj.count)\n",
    "        m.wv.vocab = new_vocab\n",
    "\n",
    "    return (m1,m2)"
   ]
  },
  {
   "cell_type": "markdown",
   "metadata": {},
   "source": [
    "We will be creating many embeddings so we have created this function to do most of the work. It creates two collections of embeddings, one the original and one the aligned."
   ]
  },
  {
   "cell_type": "code",
   "execution_count": 191,
   "metadata": {},
   "outputs": [],
   "source": [
    "def compareModels(df, category, text_column_name='normalized_sents', sort = True, embeddings_raw={}):\n",
    "    \"\"\"If you are using time as your category sorting is important\"\"\"\n",
    "    if len(embeddings_raw) == 0:\n",
    "        embeddings_raw = rawModels(df, category, text_column_name, sort)\n",
    "    cats = sorted(set(df[category]))\n",
    "    #These are much quicker\n",
    "    embeddings_aligned = {}\n",
    "    for catOuter in cats:\n",
    "        embeddings_aligned[catOuter] = [embeddings_raw[catOuter]]\n",
    "        for catInner in cats:\n",
    "            embeddings_aligned[catOuter].append(smart_procrustes_align_gensim(embeddings_aligned[catOuter][-1], embeddings_raw[catInner]))\n",
    "    return embeddings_raw, embeddings_aligned"
   ]
  },
  {
   "cell_type": "code",
   "execution_count": 192,
   "metadata": {},
   "outputs": [],
   "source": [
    "def rawModels(df, category, text_column_name='normalized_sents', sort = True):\n",
    "    embeddings_raw = {}\n",
    "    cats = sorted(set(df[category]))\n",
    "    for cat in cats:\n",
    "        #This can take a while\n",
    "        print(\"Embedding {}\".format(cat), end = '\\r')\n",
    "        subsetDF = df[df[category] == cat]\n",
    "        #You might want to change the W2V parameters\n",
    "        embeddings_raw[cat] = gensim.models.word2vec.Word2Vec(subsetDF[text_column_name].sum())\n",
    "    return embeddings_raw"
   ]
  },
  {
   "cell_type": "markdown",
   "metadata": {},
   "source": [
    "Build different word embedding models based on different data structure of our corpora (pair-built at the first exercise/subj/turn):"
   ]
  },
  {
   "cell_type": "code",
   "execution_count": 232,
   "metadata": {},
   "outputs": [],
   "source": [
    "#build word embedding models based on turn corpora:\n",
    "df_AB_turn['tokenized_sents'] = df_AB_turn['turn_txt'].apply(lambda x: [lucem_illud_2020.word_tokenize(s) for s in lucem_illud_2020.sent_tokenize(x)])\n",
    "df_AB_turn['normalized_sents'] = df_AB_turn['tokenized_sents'].apply(lambda x: [normalizeTokens2(s, lemma=False) for s in x])\n",
    "conW2V_turn = gensim.models.word2vec.Word2Vec(df_AB_turn['normalized_sents'].sum())"
   ]
  },
  {
   "cell_type": "code",
   "execution_count": 230,
   "metadata": {},
   "outputs": [],
   "source": [
    "#build word embedding models based on agent corpora:\n",
    "df_AB['tokenized_sents'] = df_AB['con_txt'].apply(lambda x: [lucem_illud_2020.word_tokenize(s) for s in lucem_illud_2020.sent_tokenize(x)])\n",
    "df_AB['normalized_sents'] = df_AB['tokenized_sents'].apply(lambda x: [normalizeTokens2(s, lemma=False) for s in x])\n",
    "conW2V_AB = gensim.models.word2vec.Word2Vec(df_AB['normalized_sents'].sum())"
   ]
  },
  {
   "cell_type": "markdown",
   "metadata": {},
   "source": [
    "Organize the three embedding models into one dataframe:"
   ]
  },
  {
   "cell_type": "code",
   "execution_count": 233,
   "metadata": {},
   "outputs": [],
   "source": [
    "label_con=['con','con_AB','con_AB_turn']\n",
    "con_df_w2v={'con':conW2V,'con_AB':conW2V_AB,'con_AB_turn':conW2V_turn}"
   ]
  },
  {
   "cell_type": "markdown",
   "metadata": {},
   "source": [
    "Align the three embedding models: "
   ]
  },
  {
   "cell_type": "code",
   "execution_count": 234,
   "metadata": {},
   "outputs": [],
   "source": [
    "cats=label_con\n",
    "embeddings_raw=con_df_w2v\n",
    "\n",
    "embeddings_aligned = {}\n",
    "for catOuter in cats:\n",
    "    embeddings_aligned[catOuter] = [embeddings_raw[catOuter]]\n",
    "    for catInner in cats:\n",
    "        embeddings_aligned[catOuter].append(smart_procrustes_align_gensim(embeddings_aligned[catOuter][-1], embeddings_raw[catInner]))"
   ]
  },
  {
   "cell_type": "code",
   "execution_count": 235,
   "metadata": {},
   "outputs": [],
   "source": [
    "comparedEmbeddings=embeddings_aligned"
   ]
  },
  {
   "cell_type": "code",
   "execution_count": 236,
   "metadata": {},
   "outputs": [
    {
     "data": {
      "text/plain": [
       "dict_keys(['con', 'con_AB', 'con_AB_turn'])"
      ]
     },
     "execution_count": 236,
     "metadata": {},
     "output_type": "execute_result"
    }
   ],
   "source": [
    "comparedEmbeddings.keys()"
   ]
  },
  {
   "cell_type": "markdown",
   "metadata": {},
   "source": [
    "We need to compare them across all permutions so we will define another function to help, we will be using 1 - cosine similarity as that gives a more intitive range of 0-2 with low values meaning little change and high meaning lots of change."
   ]
  },
  {
   "cell_type": "code",
   "execution_count": 193,
   "metadata": {},
   "outputs": [],
   "source": [
    "def getDivergenceDF(word, embeddingsDict):\n",
    "    dists = []\n",
    "    cats = sorted(set(embeddingsDict.keys()))\n",
    "    dists = {}\n",
    "    print(word)\n",
    "    for cat in cats:\n",
    "        dists[cat] = []\n",
    "        for embed in embeddingsDict[cat][1:]:\n",
    "            dists[cat].append(np.abs(1 - sklearn.metrics.pairwise.cosine_similarity(np.expand_dims(embeddingsDict[cat][0][word], axis = 0),\n",
    "                                                                             np.expand_dims(embed[word], axis = 0))[0,0]))\n",
    "    return pandas.DataFrame(dists, index = cats)"
   ]
  },
  {
   "cell_type": "markdown",
   "metadata": {},
   "source": [
    "Lets look at a couple words: \n",
    "\n",
    "we could see that the words in different models are very similar, with at most 0.0000060 divergence score; moreover, the turn word embedding model is extremely similar to the subj/agent one, while the pair one (which has the least document, but largest lenghth of each document) is slightly more different from these two models. "
   ]
  },
  {
   "cell_type": "code",
   "execution_count": 237,
   "metadata": {},
   "outputs": [
    {
     "name": "stdout",
     "output_type": "stream",
     "text": [
      "like\n"
     ]
    },
    {
     "data": {
      "image/png": "[encoded data removed]",
      "text/plain": [
       "<Figure size 720x504 with 2 Axes>"
      ]
     },
     "metadata": {
      "needs_background": "light"
     },
     "output_type": "display_data"
    }
   ],
   "source": [
    "targetWord = 'like'\n",
    "\n",
    "pltDF = getDivergenceDF(targetWord, comparedEmbeddings)\n",
    "fig, ax = plt.subplots(figsize = (10, 7))\n",
    "seaborn.heatmap(pltDF, ax = ax, annot = False) #set annot True for a lot more information\n",
    "ax.set_xlabel(\"Starting year\")\n",
    "ax.set_ylabel(\"Final year\")\n",
    "ax.set_title(\"Yearly linguistic change for: '{}'\".format(targetWord))\n",
    "plt.show()"
   ]
  },
  {
   "cell_type": "code",
   "execution_count": 238,
   "metadata": {},
   "outputs": [
    {
     "name": "stdout",
     "output_type": "stream",
     "text": [
      "i\n"
     ]
    },
    {
     "data": {
      "image/png": "[encoded data removed]",
      "text/plain": [
       "<Figure size 720x504 with 2 Axes>"
      ]
     },
     "metadata": {
      "needs_background": "light"
     },
     "output_type": "display_data"
    }
   ],
   "source": [
    "targetWord = 'i'\n",
    "\n",
    "pltDF = getDivergenceDF(targetWord, comparedEmbeddings)\n",
    "fig, ax = plt.subplots(figsize = (10, 7))\n",
    "seaborn.heatmap(pltDF, ax = ax, annot = False) #set annot True for a lot more information\n",
    "ax.set_xlabel(\"Starting year\")\n",
    "ax.set_ylabel(\"Final year\")\n",
    "ax.set_title(\"Yearly linguistic change for: '{}'\".format(targetWord))\n",
    "plt.show()"
   ]
  },
  {
   "cell_type": "markdown",
   "metadata": {},
   "source": [
    "Then, try to find the most divergent words:"
   ]
  },
  {
   "cell_type": "code",
   "execution_count": 201,
   "metadata": {},
   "outputs": [],
   "source": [
    "def findDiverence(word, embeddingsDict):\n",
    "    cats = sorted(set(embeddingsDict.keys()))\n",
    "    \n",
    "    dists = []\n",
    "    for embed in embeddingsDict[cats[0]][1:]:\n",
    "        dists.append(1 - sklearn.metrics.pairwise.cosine_similarity(np.expand_dims(embeddingsDict[cats[0]][0][word], axis = 0), np.expand_dims(embed[word], axis = 0))[0,0])\n",
    "    return sum(dists)\n",
    "\n",
    "def findMostDivergent(embeddingsDict):\n",
    "    words = []\n",
    "    for embeds in embeddingsDict.values():\n",
    "        for embed in embeds:\n",
    "            words += list(embed.wv.vocab.keys())\n",
    "    words = set(words)\n",
    "    print(\"Found {} words to compare\".format(len(words)))\n",
    "    return sorted([(w, findDiverence(w, embeddingsDict)) for w in words], key = lambda x: x[1], reverse=True)\n",
    "    "
   ]
  },
  {
   "cell_type": "code",
   "execution_count": 202,
   "metadata": {},
   "outputs": [
    {
     "name": "stdout",
     "output_type": "stream",
     "text": [
      "Found 454 words to compare\n"
     ]
    }
   ],
   "source": [
    "wordDivergences = findMostDivergent(comparedEmbeddings)"
   ]
  },
  {
   "cell_type": "markdown",
   "metadata": {},
   "source": [
    "The most divergent words are:\n",
    "\n",
    "It seems that the most divergent words are those appear less frequently in the corpora; while the divergence is relative small of these words between models, with the highest divergent score of 0.02."
   ]
  },
  {
   "cell_type": "code",
   "execution_count": 203,
   "metadata": {},
   "outputs": [
    {
     "data": {
      "text/plain": [
       "[('interesting', 0.019456863403320312),\n",
       " ('cause', 0.009976446628570557),\n",
       " ('last', 0.008586525917053223),\n",
       " ('i-', 0.00857996940612793),\n",
       " ('execution', 0.008251190185546875),\n",
       " ('exactly', 0.008161962032318115),\n",
       " ('helpful', 0.007470607757568359),\n",
       " ('situation', 0.007463216781616211),\n",
       " ('ok', 0.007367491722106934),\n",
       " ('super', 0.007281303405761719),\n",
       " ('ya', 0.005879759788513184),\n",
       " ('hate', 0.00520777702331543),\n",
       " ('abolished', 0.005060970783233643),\n",
       " ('remember', 0.004886806011199951),\n",
       " ('general', 0.004605591297149658),\n",
       " ('says', 0.004595935344696045),\n",
       " ('sorry', 0.0045716166496276855),\n",
       " ('working', 0.004559516906738281),\n",
       " ('sight', 0.004491686820983887),\n",
       " ('topic', 0.004229307174682617)]"
      ]
     },
     "execution_count": 203,
     "metadata": {},
     "output_type": "execute_result"
    }
   ],
   "source": [
    "wordDivergences[:20]"
   ]
  },
  {
   "cell_type": "markdown",
   "metadata": {},
   "source": [
    "And for the most divergent word-'Interesting' among models, the difference mainly lies in the *pair word embedding model* and the *turn model*, which is reasonalbe since that these two models are at the extreme places of all three models interms of document lengths and document numbers."
   ]
  },
  {
   "cell_type": "code",
   "execution_count": 205,
   "metadata": {},
   "outputs": [
    {
     "name": "stdout",
     "output_type": "stream",
     "text": [
      "interesting\n"
     ]
    },
    {
     "data": {
      "image/png": "[encoded data removed]",
      "text/plain": [
       "<Figure size 720x504 with 2 Axes>"
      ]
     },
     "metadata": {
      "needs_background": "light"
     },
     "output_type": "display_data"
    }
   ],
   "source": [
    "targetWord = wordDivergences[0][0]\n",
    "\n",
    "pltDF = getDivergenceDF(targetWord, comparedEmbeddings)\n",
    "fig, ax = plt.subplots(figsize = (10, 7))\n",
    "seaborn.heatmap(pltDF, ax = ax, annot = False) #set annot True for a lot more information\n",
    "ax.set_xlabel(\"Starting year\")\n",
    "ax.set_ylabel(\"Final year\")\n",
    "ax.set_ylabel(\"Final year\")\n",
    "ax.set_title(\"Yearly linguistic change for: '{}'\".format(targetWord))\n",
    "plt.show()"
   ]
  },
  {
   "cell_type": "markdown",
   "metadata": {},
   "source": [
    "And for the least divergent words: all the common words in conversation are quite similar in all three models and nearly identical with divergence score close to zero."
   ]
  },
  {
   "cell_type": "code",
   "execution_count": 204,
   "metadata": {},
   "outputs": [
    {
     "data": {
      "text/plain": [
       "[('uh', 8.279085159301758e-05),\n",
       " ('their', 8.243322372436523e-05),\n",
       " ('so', 8.124113082885742e-05),\n",
       " ('even', 8.016824722290039e-05),\n",
       " ('um', 7.802248001098633e-05),\n",
       " ('for', 7.593631744384766e-05),\n",
       " ('with', 7.277727127075195e-05),\n",
       " ('and', 7.05718994140625e-05),\n",
       " ('because', 6.99758529663086e-05),\n",
       " ('should', 6.878376007080078e-05),\n",
       " ('like', 6.788969039916992e-05),\n",
       " ('people', 6.657838821411133e-05),\n",
       " ('up', 6.085634231567383e-05),\n",
       " ('in', 5.996227264404297e-05),\n",
       " ('if', 5.829334259033203e-05),\n",
       " ('not', 5.811452865600586e-05),\n",
       " ('they', 5.751848220825195e-05),\n",
       " ('or', 5.549192428588867e-05),\n",
       " ('on', 4.965066909790039e-05),\n",
       " ('have', 4.8279762268066406e-05)]"
      ]
     },
     "execution_count": 204,
     "metadata": {},
     "output_type": "execute_result"
    }
   ],
   "source": [
    "wordDivergences[-20:]"
   ]
  },
  {
   "cell_type": "code",
   "execution_count": 206,
   "metadata": {},
   "outputs": [
    {
     "name": "stdout",
     "output_type": "stream",
     "text": [
      "have\n"
     ]
    },
    {
     "data": {
      "image/png": "[encoded data removed]",
      "text/plain": [
       "<Figure size 720x504 with 2 Axes>"
      ]
     },
     "metadata": {
      "needs_background": "light"
     },
     "output_type": "display_data"
    }
   ],
   "source": [
    "targetWord = wordDivergences[-1][0]\n",
    "\n",
    "pltDF = getDivergenceDF(targetWord, comparedEmbeddings)\n",
    "fig, ax = plt.subplots(figsize = (10, 7))\n",
    "seaborn.heatmap(pltDF, ax = ax, annot = False) #set annot True for a lot more information\n",
    "ax.set_xlabel(\"Starting year\")\n",
    "ax.set_ylabel(\"Final year\")\n",
    "ax.set_ylabel(\"Final year\")\n",
    "ax.set_title(\"Yearly linguistic change for: '{}'\".format(targetWord))\n",
    "plt.show()"
   ]
  },
  {
   "cell_type": "code",
   "execution_count": null,
   "metadata": {},
   "outputs": [],
   "source": []
  }
 ],
 "metadata": {
  "kernelspec": {
   "display_name": "Python 3",
   "language": "python",
   "name": "python3"
  },
  "language_info": {
   "codemirror_mode": {
    "name": "ipython",
    "version": 3
   },
   "file_extension": ".py",
   "mimetype": "text/x-python",
   "name": "python",
   "nbconvert_exporter": "python",
   "pygments_lexer": "ipython3",
   "version": "3.7.5"
  }
 },
 "nbformat": 4,
 "nbformat_minor": 2
}
